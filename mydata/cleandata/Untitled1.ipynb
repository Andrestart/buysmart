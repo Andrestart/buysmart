{
 "cells": [
  {
   "cell_type": "code",
   "execution_count": 113,
   "id": "551e70e1",
   "metadata": {},
   "outputs": [],
   "source": [
    "import pandas as pd\n",
    "from datetime import datetime\n",
    "import plotly.express as px\n"
   ]
  },
  {
   "cell_type": "code",
   "execution_count": 126,
   "id": "afb0b9d5",
   "metadata": {},
   "outputs": [
    {
     "data": {
      "text/html": [
       "<div>\n",
       "<style scoped>\n",
       "    .dataframe tbody tr th:only-of-type {\n",
       "        vertical-align: middle;\n",
       "    }\n",
       "\n",
       "    .dataframe tbody tr th {\n",
       "        vertical-align: top;\n",
       "    }\n",
       "\n",
       "    .dataframe thead th {\n",
       "        text-align: right;\n",
       "    }\n",
       "</style>\n",
       "<table border=\"1\" class=\"dataframe\">\n",
       "  <thead>\n",
       "    <tr style=\"text-align: right;\">\n",
       "      <th></th>\n",
       "      <th>Name</th>\n",
       "      <th>Price</th>\n",
       "      <th>Super</th>\n",
       "      <th>Link</th>\n",
       "      <th>product</th>\n",
       "    </tr>\n",
       "  </thead>\n",
       "  <tbody>\n",
       "    <tr>\n",
       "      <th>0</th>\n",
       "      <td>Berenjena negra, al peso, compra mínima 500 g</td>\n",
       "      <td>1.00</td>\n",
       "      <td>eroski</td>\n",
       "      <td>https://supermercado.eroski.es/es/search/resul...</td>\n",
       "      <td>berenjena</td>\n",
       "    </tr>\n",
       "    <tr>\n",
       "      <th>1</th>\n",
       "      <td>Salteado de judía-berenjena-zanahoria EROSKI, ...</td>\n",
       "      <td>2.00</td>\n",
       "      <td>eroski</td>\n",
       "      <td>https://supermercado.eroski.es/es/search/resul...</td>\n",
       "      <td>berenjena</td>\n",
       "    </tr>\n",
       "    <tr>\n",
       "      <th>2</th>\n",
       "      <td>Bio burger vegetal de algas y berenjena AHIMSA...</td>\n",
       "      <td>4.56</td>\n",
       "      <td>eroski</td>\n",
       "      <td>https://supermercado.eroski.es/es/search/resul...</td>\n",
       "      <td>berenjena</td>\n",
       "    </tr>\n",
       "    <tr>\n",
       "      <th>3</th>\n",
       "      <td>Pintalabios Basic Colourstick Nº8 berenjena CA...</td>\n",
       "      <td>12.73</td>\n",
       "      <td>eroski</td>\n",
       "      <td>https://supermercado.eroski.es/es/search/resul...</td>\n",
       "      <td>berenjena</td>\n",
       "    </tr>\n",
       "    <tr>\n",
       "      <th>4</th>\n",
       "      <td>Berenjena 1ª categoría Carrefour Malla 500 g</td>\n",
       "      <td>1.58</td>\n",
       "      <td>carrefour</td>\n",
       "      <td>https://www.carrefour.es/?q=berenjena&amp;page=2</td>\n",
       "      <td>berenjena</td>\n",
       "    </tr>\n",
       "    <tr>\n",
       "      <th>5</th>\n",
       "      <td>Berenjena 2ª categoría Carrefour a granel 500 ...</td>\n",
       "      <td>1.39</td>\n",
       "      <td>carrefour</td>\n",
       "      <td>https://www.carrefour.es/?q=berenjena&amp;page=2</td>\n",
       "      <td>berenjena</td>\n",
       "    </tr>\n",
       "    <tr>\n",
       "      <th>6</th>\n",
       "      <td>Berenjena granel 1 Kg aprox</td>\n",
       "      <td>1.99</td>\n",
       "      <td>carrefour</td>\n",
       "      <td>https://www.carrefour.es/?q=berenjena&amp;page=2</td>\n",
       "      <td>berenjena</td>\n",
       "    </tr>\n",
       "    <tr>\n",
       "      <th>7</th>\n",
       "      <td>Berenjenas de Almagro De Nuestra Tierra sin gl...</td>\n",
       "      <td>5.40</td>\n",
       "      <td>carrefour</td>\n",
       "      <td>https://www.carrefour.es/?q=berenjena&amp;page=2</td>\n",
       "      <td>berenjena</td>\n",
       "    </tr>\n",
       "    <tr>\n",
       "      <th>8</th>\n",
       "      <td>Berenjena aliño suave Antonio La Berenjena sin...</td>\n",
       "      <td>5.40</td>\n",
       "      <td>carrefour</td>\n",
       "      <td>https://www.carrefour.es/?q=berenjena&amp;page=2</td>\n",
       "      <td>berenjena</td>\n",
       "    </tr>\n",
       "    <tr>\n",
       "      <th>9</th>\n",
       "      <td>Crema de berenjenas asadas Mutabal Realfooding...</td>\n",
       "      <td>9.95</td>\n",
       "      <td>carrefour</td>\n",
       "      <td>https://www.carrefour.es/?q=berenjena&amp;page=2</td>\n",
       "      <td>berenjena</td>\n",
       "    </tr>\n",
       "    <tr>\n",
       "      <th>10</th>\n",
       "      <td>Tortilla de berenjena 330 g</td>\n",
       "      <td>8.93</td>\n",
       "      <td>carrefour</td>\n",
       "      <td>https://www.carrefour.es/?q=berenjena&amp;page=2</td>\n",
       "      <td>berenjena</td>\n",
       "    </tr>\n",
       "    <tr>\n",
       "      <th>11</th>\n",
       "      <td>Corazones de berenjenas de almagro De Nuestra ...</td>\n",
       "      <td>6.43</td>\n",
       "      <td>carrefour</td>\n",
       "      <td>https://www.carrefour.es/?q=berenjena&amp;page=2</td>\n",
       "      <td>berenjena</td>\n",
       "    </tr>\n",
       "    <tr>\n",
       "      <th>12</th>\n",
       "      <td>Berenjena 1ª categoría Carrefour Malla 500 g</td>\n",
       "      <td>1.58</td>\n",
       "      <td>carrefour</td>\n",
       "      <td>https://www.carrefour.es/?q=berenjena&amp;page=3</td>\n",
       "      <td>berenjena</td>\n",
       "    </tr>\n",
       "    <tr>\n",
       "      <th>13</th>\n",
       "      <td>Berenjena 2ª categoría Carrefour a granel 500 ...</td>\n",
       "      <td>1.39</td>\n",
       "      <td>carrefour</td>\n",
       "      <td>https://www.carrefour.es/?q=berenjena&amp;page=3</td>\n",
       "      <td>berenjena</td>\n",
       "    </tr>\n",
       "    <tr>\n",
       "      <th>14</th>\n",
       "      <td>Berenjena granel 1 Kg aprox</td>\n",
       "      <td>1.99</td>\n",
       "      <td>carrefour</td>\n",
       "      <td>https://www.carrefour.es/?q=berenjena&amp;page=3</td>\n",
       "      <td>berenjena</td>\n",
       "    </tr>\n",
       "    <tr>\n",
       "      <th>15</th>\n",
       "      <td>Berenjenas de Almagro De Nuestra Tierra sin gl...</td>\n",
       "      <td>5.40</td>\n",
       "      <td>carrefour</td>\n",
       "      <td>https://www.carrefour.es/?q=berenjena&amp;page=3</td>\n",
       "      <td>berenjena</td>\n",
       "    </tr>\n",
       "    <tr>\n",
       "      <th>16</th>\n",
       "      <td>Berenjena aliño suave Antonio La Berenjena sin...</td>\n",
       "      <td>5.40</td>\n",
       "      <td>carrefour</td>\n",
       "      <td>https://www.carrefour.es/?q=berenjena&amp;page=3</td>\n",
       "      <td>berenjena</td>\n",
       "    </tr>\n",
       "    <tr>\n",
       "      <th>17</th>\n",
       "      <td>Crema de berenjenas asadas Mutabal Realfooding...</td>\n",
       "      <td>9.95</td>\n",
       "      <td>carrefour</td>\n",
       "      <td>https://www.carrefour.es/?q=berenjena&amp;page=3</td>\n",
       "      <td>berenjena</td>\n",
       "    </tr>\n",
       "    <tr>\n",
       "      <th>18</th>\n",
       "      <td>Tortilla de berenjena 330 g</td>\n",
       "      <td>8.93</td>\n",
       "      <td>carrefour</td>\n",
       "      <td>https://www.carrefour.es/?q=berenjena&amp;page=3</td>\n",
       "      <td>berenjena</td>\n",
       "    </tr>\n",
       "    <tr>\n",
       "      <th>19</th>\n",
       "      <td>Corazones de berenjenas de almagro De Nuestra ...</td>\n",
       "      <td>6.43</td>\n",
       "      <td>carrefour</td>\n",
       "      <td>https://www.carrefour.es/?q=berenjena&amp;page=3</td>\n",
       "      <td>berenjena</td>\n",
       "    </tr>\n",
       "    <tr>\n",
       "      <th>20</th>\n",
       "      <td>Berenjena unidad (420 gr aprox.)</td>\n",
       "      <td>1.59</td>\n",
       "      <td>dia</td>\n",
       "      <td>https://www.dia.es/compra-online/search?text=b...</td>\n",
       "      <td>berenjena</td>\n",
       "    </tr>\n",
       "    <tr>\n",
       "      <th>21</th>\n",
       "      <td>CALZADO berenjena aliñada LATA 420GR</td>\n",
       "      <td>4.64</td>\n",
       "      <td>dia</td>\n",
       "      <td>https://www.dia.es/compra-online/search?text=b...</td>\n",
       "      <td>berenjena</td>\n",
       "    </tr>\n",
       "    <tr>\n",
       "      <th>22</th>\n",
       "      <td>Calabaza a dados envase 500 gr</td>\n",
       "      <td>3.18</td>\n",
       "      <td>dia</td>\n",
       "      <td>https://www.dia.es/compra-online/search?text=b...</td>\n",
       "      <td>berenjena</td>\n",
       "    </tr>\n",
       "    <tr>\n",
       "      <th>23</th>\n",
       "      <td>Calabaza (1.9 Kg aprox.)</td>\n",
       "      <td>1.25</td>\n",
       "      <td>dia</td>\n",
       "      <td>https://www.dia.es/compra-online/search?text=b...</td>\n",
       "      <td>berenjena</td>\n",
       "    </tr>\n",
       "    <tr>\n",
       "      <th>24</th>\n",
       "      <td>Calabacín unidad (900 gr aprox.)</td>\n",
       "      <td>1.79</td>\n",
       "      <td>dia</td>\n",
       "      <td>https://www.dia.es/compra-online/search?text=b...</td>\n",
       "      <td>berenjena</td>\n",
       "    </tr>\n",
       "  </tbody>\n",
       "</table>\n",
       "</div>"
      ],
      "text/plain": [
       "                                                 Name  Price      Super  \\\n",
       "0       Berenjena negra, al peso, compra mínima 500 g   1.00     eroski   \n",
       "1   Salteado de judía-berenjena-zanahoria EROSKI, ...   2.00     eroski   \n",
       "2   Bio burger vegetal de algas y berenjena AHIMSA...   4.56     eroski   \n",
       "3   Pintalabios Basic Colourstick Nº8 berenjena CA...  12.73     eroski   \n",
       "4        Berenjena 1ª categoría Carrefour Malla 500 g   1.58  carrefour   \n",
       "5   Berenjena 2ª categoría Carrefour a granel 500 ...   1.39  carrefour   \n",
       "6                         Berenjena granel 1 Kg aprox   1.99  carrefour   \n",
       "7   Berenjenas de Almagro De Nuestra Tierra sin gl...   5.40  carrefour   \n",
       "8   Berenjena aliño suave Antonio La Berenjena sin...   5.40  carrefour   \n",
       "9   Crema de berenjenas asadas Mutabal Realfooding...   9.95  carrefour   \n",
       "10                        Tortilla de berenjena 330 g   8.93  carrefour   \n",
       "11  Corazones de berenjenas de almagro De Nuestra ...   6.43  carrefour   \n",
       "12       Berenjena 1ª categoría Carrefour Malla 500 g   1.58  carrefour   \n",
       "13  Berenjena 2ª categoría Carrefour a granel 500 ...   1.39  carrefour   \n",
       "14                        Berenjena granel 1 Kg aprox   1.99  carrefour   \n",
       "15  Berenjenas de Almagro De Nuestra Tierra sin gl...   5.40  carrefour   \n",
       "16  Berenjena aliño suave Antonio La Berenjena sin...   5.40  carrefour   \n",
       "17  Crema de berenjenas asadas Mutabal Realfooding...   9.95  carrefour   \n",
       "18                        Tortilla de berenjena 330 g   8.93  carrefour   \n",
       "19  Corazones de berenjenas de almagro De Nuestra ...   6.43  carrefour   \n",
       "20                   Berenjena unidad (420 gr aprox.)   1.59        dia   \n",
       "21               CALZADO berenjena aliñada LATA 420GR   4.64        dia   \n",
       "22                     Calabaza a dados envase 500 gr   3.18        dia   \n",
       "23                           Calabaza (1.9 Kg aprox.)   1.25        dia   \n",
       "24                   Calabacín unidad (900 gr aprox.)   1.79        dia   \n",
       "\n",
       "                                                 Link    product  \n",
       "0   https://supermercado.eroski.es/es/search/resul...  berenjena  \n",
       "1   https://supermercado.eroski.es/es/search/resul...  berenjena  \n",
       "2   https://supermercado.eroski.es/es/search/resul...  berenjena  \n",
       "3   https://supermercado.eroski.es/es/search/resul...  berenjena  \n",
       "4        https://www.carrefour.es/?q=berenjena&page=2  berenjena  \n",
       "5        https://www.carrefour.es/?q=berenjena&page=2  berenjena  \n",
       "6        https://www.carrefour.es/?q=berenjena&page=2  berenjena  \n",
       "7        https://www.carrefour.es/?q=berenjena&page=2  berenjena  \n",
       "8        https://www.carrefour.es/?q=berenjena&page=2  berenjena  \n",
       "9        https://www.carrefour.es/?q=berenjena&page=2  berenjena  \n",
       "10       https://www.carrefour.es/?q=berenjena&page=2  berenjena  \n",
       "11       https://www.carrefour.es/?q=berenjena&page=2  berenjena  \n",
       "12       https://www.carrefour.es/?q=berenjena&page=3  berenjena  \n",
       "13       https://www.carrefour.es/?q=berenjena&page=3  berenjena  \n",
       "14       https://www.carrefour.es/?q=berenjena&page=3  berenjena  \n",
       "15       https://www.carrefour.es/?q=berenjena&page=3  berenjena  \n",
       "16       https://www.carrefour.es/?q=berenjena&page=3  berenjena  \n",
       "17       https://www.carrefour.es/?q=berenjena&page=3  berenjena  \n",
       "18       https://www.carrefour.es/?q=berenjena&page=3  berenjena  \n",
       "19       https://www.carrefour.es/?q=berenjena&page=3  berenjena  \n",
       "20  https://www.dia.es/compra-online/search?text=b...  berenjena  \n",
       "21  https://www.dia.es/compra-online/search?text=b...  berenjena  \n",
       "22  https://www.dia.es/compra-online/search?text=b...  berenjena  \n",
       "23  https://www.dia.es/compra-online/search?text=b...  berenjena  \n",
       "24  https://www.dia.es/compra-online/search?text=b...  berenjena  "
      ]
     },
     "execution_count": 126,
     "metadata": {},
     "output_type": "execute_result"
    }
   ],
   "source": [
    "e = pd.read_csv(\"stdata/allperproduct.csv\")\n",
    "e"
   ]
  },
  {
   "cell_type": "code",
   "execution_count": 138,
   "id": "5ffc7480",
   "metadata": {},
   "outputs": [
    {
     "data": {
      "application/vnd.plotly.v1+json": {
       "config": {
        "plotlyServerURL": "https://plot.ly"
       },
       "data": [
        {
         "hovertemplate": "Super=%{x}<br>Price=%{y}<extra></extra>",
         "legendgroup": "eroski",
         "marker": {
          "color": "#636efa",
          "symbol": "circle"
         },
         "mode": "markers",
         "name": "eroski",
         "orientation": "v",
         "showlegend": true,
         "type": "scatter",
         "x": [
          "eroski",
          "eroski",
          "eroski",
          "eroski"
         ],
         "xaxis": "x",
         "y": [
          1,
          2,
          4.56,
          12.73
         ],
         "yaxis": "y"
        },
        {
         "hovertemplate": "Super=%{x}<br>Price=%{y}<extra></extra>",
         "legendgroup": "carrefour",
         "marker": {
          "color": "#EF553B",
          "symbol": "circle"
         },
         "mode": "markers",
         "name": "carrefour",
         "orientation": "v",
         "showlegend": true,
         "type": "scatter",
         "x": [
          "carrefour",
          "carrefour",
          "carrefour",
          "carrefour",
          "carrefour",
          "carrefour",
          "carrefour",
          "carrefour",
          "carrefour",
          "carrefour",
          "carrefour",
          "carrefour",
          "carrefour",
          "carrefour",
          "carrefour",
          "carrefour"
         ],
         "xaxis": "x",
         "y": [
          1.58,
          1.39,
          1.99,
          5.4,
          5.4,
          9.95,
          8.93,
          6.43,
          1.58,
          1.39,
          1.99,
          5.4,
          5.4,
          9.95,
          8.93,
          6.43
         ],
         "yaxis": "y"
        },
        {
         "hovertemplate": "Super=%{x}<br>Price=%{y}<extra></extra>",
         "legendgroup": "dia",
         "marker": {
          "color": "#00cc96",
          "symbol": "circle"
         },
         "mode": "markers",
         "name": "dia",
         "orientation": "v",
         "showlegend": true,
         "type": "scatter",
         "x": [
          "dia",
          "dia",
          "dia",
          "dia",
          "dia"
         ],
         "xaxis": "x",
         "y": [
          1.59,
          4.64,
          3.18,
          1.25,
          1.79
         ],
         "yaxis": "y"
        }
       ],
       "layout": {
        "legend": {
         "title": {
          "text": "Super"
         },
         "tracegroupgap": 0
        },
        "template": {
         "data": {
          "bar": [
           {
            "error_x": {
             "color": "#2a3f5f"
            },
            "error_y": {
             "color": "#2a3f5f"
            },
            "marker": {
             "line": {
              "color": "#E5ECF6",
              "width": 0.5
             },
             "pattern": {
              "fillmode": "overlay",
              "size": 10,
              "solidity": 0.2
             }
            },
            "type": "bar"
           }
          ],
          "barpolar": [
           {
            "marker": {
             "line": {
              "color": "#E5ECF6",
              "width": 0.5
             },
             "pattern": {
              "fillmode": "overlay",
              "size": 10,
              "solidity": 0.2
             }
            },
            "type": "barpolar"
           }
          ],
          "carpet": [
           {
            "aaxis": {
             "endlinecolor": "#2a3f5f",
             "gridcolor": "white",
             "linecolor": "white",
             "minorgridcolor": "white",
             "startlinecolor": "#2a3f5f"
            },
            "baxis": {
             "endlinecolor": "#2a3f5f",
             "gridcolor": "white",
             "linecolor": "white",
             "minorgridcolor": "white",
             "startlinecolor": "#2a3f5f"
            },
            "type": "carpet"
           }
          ],
          "choropleth": [
           {
            "colorbar": {
             "outlinewidth": 0,
             "ticks": ""
            },
            "type": "choropleth"
           }
          ],
          "contour": [
           {
            "colorbar": {
             "outlinewidth": 0,
             "ticks": ""
            },
            "colorscale": [
             [
              0,
              "#0d0887"
             ],
             [
              0.1111111111111111,
              "#46039f"
             ],
             [
              0.2222222222222222,
              "#7201a8"
             ],
             [
              0.3333333333333333,
              "#9c179e"
             ],
             [
              0.4444444444444444,
              "#bd3786"
             ],
             [
              0.5555555555555556,
              "#d8576b"
             ],
             [
              0.6666666666666666,
              "#ed7953"
             ],
             [
              0.7777777777777778,
              "#fb9f3a"
             ],
             [
              0.8888888888888888,
              "#fdca26"
             ],
             [
              1,
              "#f0f921"
             ]
            ],
            "type": "contour"
           }
          ],
          "contourcarpet": [
           {
            "colorbar": {
             "outlinewidth": 0,
             "ticks": ""
            },
            "type": "contourcarpet"
           }
          ],
          "heatmap": [
           {
            "colorbar": {
             "outlinewidth": 0,
             "ticks": ""
            },
            "colorscale": [
             [
              0,
              "#0d0887"
             ],
             [
              0.1111111111111111,
              "#46039f"
             ],
             [
              0.2222222222222222,
              "#7201a8"
             ],
             [
              0.3333333333333333,
              "#9c179e"
             ],
             [
              0.4444444444444444,
              "#bd3786"
             ],
             [
              0.5555555555555556,
              "#d8576b"
             ],
             [
              0.6666666666666666,
              "#ed7953"
             ],
             [
              0.7777777777777778,
              "#fb9f3a"
             ],
             [
              0.8888888888888888,
              "#fdca26"
             ],
             [
              1,
              "#f0f921"
             ]
            ],
            "type": "heatmap"
           }
          ],
          "heatmapgl": [
           {
            "colorbar": {
             "outlinewidth": 0,
             "ticks": ""
            },
            "colorscale": [
             [
              0,
              "#0d0887"
             ],
             [
              0.1111111111111111,
              "#46039f"
             ],
             [
              0.2222222222222222,
              "#7201a8"
             ],
             [
              0.3333333333333333,
              "#9c179e"
             ],
             [
              0.4444444444444444,
              "#bd3786"
             ],
             [
              0.5555555555555556,
              "#d8576b"
             ],
             [
              0.6666666666666666,
              "#ed7953"
             ],
             [
              0.7777777777777778,
              "#fb9f3a"
             ],
             [
              0.8888888888888888,
              "#fdca26"
             ],
             [
              1,
              "#f0f921"
             ]
            ],
            "type": "heatmapgl"
           }
          ],
          "histogram": [
           {
            "marker": {
             "pattern": {
              "fillmode": "overlay",
              "size": 10,
              "solidity": 0.2
             }
            },
            "type": "histogram"
           }
          ],
          "histogram2d": [
           {
            "colorbar": {
             "outlinewidth": 0,
             "ticks": ""
            },
            "colorscale": [
             [
              0,
              "#0d0887"
             ],
             [
              0.1111111111111111,
              "#46039f"
             ],
             [
              0.2222222222222222,
              "#7201a8"
             ],
             [
              0.3333333333333333,
              "#9c179e"
             ],
             [
              0.4444444444444444,
              "#bd3786"
             ],
             [
              0.5555555555555556,
              "#d8576b"
             ],
             [
              0.6666666666666666,
              "#ed7953"
             ],
             [
              0.7777777777777778,
              "#fb9f3a"
             ],
             [
              0.8888888888888888,
              "#fdca26"
             ],
             [
              1,
              "#f0f921"
             ]
            ],
            "type": "histogram2d"
           }
          ],
          "histogram2dcontour": [
           {
            "colorbar": {
             "outlinewidth": 0,
             "ticks": ""
            },
            "colorscale": [
             [
              0,
              "#0d0887"
             ],
             [
              0.1111111111111111,
              "#46039f"
             ],
             [
              0.2222222222222222,
              "#7201a8"
             ],
             [
              0.3333333333333333,
              "#9c179e"
             ],
             [
              0.4444444444444444,
              "#bd3786"
             ],
             [
              0.5555555555555556,
              "#d8576b"
             ],
             [
              0.6666666666666666,
              "#ed7953"
             ],
             [
              0.7777777777777778,
              "#fb9f3a"
             ],
             [
              0.8888888888888888,
              "#fdca26"
             ],
             [
              1,
              "#f0f921"
             ]
            ],
            "type": "histogram2dcontour"
           }
          ],
          "mesh3d": [
           {
            "colorbar": {
             "outlinewidth": 0,
             "ticks": ""
            },
            "type": "mesh3d"
           }
          ],
          "parcoords": [
           {
            "line": {
             "colorbar": {
              "outlinewidth": 0,
              "ticks": ""
             }
            },
            "type": "parcoords"
           }
          ],
          "pie": [
           {
            "automargin": true,
            "type": "pie"
           }
          ],
          "scatter": [
           {
            "marker": {
             "colorbar": {
              "outlinewidth": 0,
              "ticks": ""
             }
            },
            "type": "scatter"
           }
          ],
          "scatter3d": [
           {
            "line": {
             "colorbar": {
              "outlinewidth": 0,
              "ticks": ""
             }
            },
            "marker": {
             "colorbar": {
              "outlinewidth": 0,
              "ticks": ""
             }
            },
            "type": "scatter3d"
           }
          ],
          "scattercarpet": [
           {
            "marker": {
             "colorbar": {
              "outlinewidth": 0,
              "ticks": ""
             }
            },
            "type": "scattercarpet"
           }
          ],
          "scattergeo": [
           {
            "marker": {
             "colorbar": {
              "outlinewidth": 0,
              "ticks": ""
             }
            },
            "type": "scattergeo"
           }
          ],
          "scattergl": [
           {
            "marker": {
             "colorbar": {
              "outlinewidth": 0,
              "ticks": ""
             }
            },
            "type": "scattergl"
           }
          ],
          "scattermapbox": [
           {
            "marker": {
             "colorbar": {
              "outlinewidth": 0,
              "ticks": ""
             }
            },
            "type": "scattermapbox"
           }
          ],
          "scatterpolar": [
           {
            "marker": {
             "colorbar": {
              "outlinewidth": 0,
              "ticks": ""
             }
            },
            "type": "scatterpolar"
           }
          ],
          "scatterpolargl": [
           {
            "marker": {
             "colorbar": {
              "outlinewidth": 0,
              "ticks": ""
             }
            },
            "type": "scatterpolargl"
           }
          ],
          "scatterternary": [
           {
            "marker": {
             "colorbar": {
              "outlinewidth": 0,
              "ticks": ""
             }
            },
            "type": "scatterternary"
           }
          ],
          "surface": [
           {
            "colorbar": {
             "outlinewidth": 0,
             "ticks": ""
            },
            "colorscale": [
             [
              0,
              "#0d0887"
             ],
             [
              0.1111111111111111,
              "#46039f"
             ],
             [
              0.2222222222222222,
              "#7201a8"
             ],
             [
              0.3333333333333333,
              "#9c179e"
             ],
             [
              0.4444444444444444,
              "#bd3786"
             ],
             [
              0.5555555555555556,
              "#d8576b"
             ],
             [
              0.6666666666666666,
              "#ed7953"
             ],
             [
              0.7777777777777778,
              "#fb9f3a"
             ],
             [
              0.8888888888888888,
              "#fdca26"
             ],
             [
              1,
              "#f0f921"
             ]
            ],
            "type": "surface"
           }
          ],
          "table": [
           {
            "cells": {
             "fill": {
              "color": "#EBF0F8"
             },
             "line": {
              "color": "white"
             }
            },
            "header": {
             "fill": {
              "color": "#C8D4E3"
             },
             "line": {
              "color": "white"
             }
            },
            "type": "table"
           }
          ]
         },
         "layout": {
          "annotationdefaults": {
           "arrowcolor": "#2a3f5f",
           "arrowhead": 0,
           "arrowwidth": 1
          },
          "autotypenumbers": "strict",
          "coloraxis": {
           "colorbar": {
            "outlinewidth": 0,
            "ticks": ""
           }
          },
          "colorscale": {
           "diverging": [
            [
             0,
             "#8e0152"
            ],
            [
             0.1,
             "#c51b7d"
            ],
            [
             0.2,
             "#de77ae"
            ],
            [
             0.3,
             "#f1b6da"
            ],
            [
             0.4,
             "#fde0ef"
            ],
            [
             0.5,
             "#f7f7f7"
            ],
            [
             0.6,
             "#e6f5d0"
            ],
            [
             0.7,
             "#b8e186"
            ],
            [
             0.8,
             "#7fbc41"
            ],
            [
             0.9,
             "#4d9221"
            ],
            [
             1,
             "#276419"
            ]
           ],
           "sequential": [
            [
             0,
             "#0d0887"
            ],
            [
             0.1111111111111111,
             "#46039f"
            ],
            [
             0.2222222222222222,
             "#7201a8"
            ],
            [
             0.3333333333333333,
             "#9c179e"
            ],
            [
             0.4444444444444444,
             "#bd3786"
            ],
            [
             0.5555555555555556,
             "#d8576b"
            ],
            [
             0.6666666666666666,
             "#ed7953"
            ],
            [
             0.7777777777777778,
             "#fb9f3a"
            ],
            [
             0.8888888888888888,
             "#fdca26"
            ],
            [
             1,
             "#f0f921"
            ]
           ],
           "sequentialminus": [
            [
             0,
             "#0d0887"
            ],
            [
             0.1111111111111111,
             "#46039f"
            ],
            [
             0.2222222222222222,
             "#7201a8"
            ],
            [
             0.3333333333333333,
             "#9c179e"
            ],
            [
             0.4444444444444444,
             "#bd3786"
            ],
            [
             0.5555555555555556,
             "#d8576b"
            ],
            [
             0.6666666666666666,
             "#ed7953"
            ],
            [
             0.7777777777777778,
             "#fb9f3a"
            ],
            [
             0.8888888888888888,
             "#fdca26"
            ],
            [
             1,
             "#f0f921"
            ]
           ]
          },
          "colorway": [
           "#636efa",
           "#EF553B",
           "#00cc96",
           "#ab63fa",
           "#FFA15A",
           "#19d3f3",
           "#FF6692",
           "#B6E880",
           "#FF97FF",
           "#FECB52"
          ],
          "font": {
           "color": "#2a3f5f"
          },
          "geo": {
           "bgcolor": "white",
           "lakecolor": "white",
           "landcolor": "#E5ECF6",
           "showlakes": true,
           "showland": true,
           "subunitcolor": "white"
          },
          "hoverlabel": {
           "align": "left"
          },
          "hovermode": "closest",
          "mapbox": {
           "style": "light"
          },
          "paper_bgcolor": "white",
          "plot_bgcolor": "#E5ECF6",
          "polar": {
           "angularaxis": {
            "gridcolor": "white",
            "linecolor": "white",
            "ticks": ""
           },
           "bgcolor": "#E5ECF6",
           "radialaxis": {
            "gridcolor": "white",
            "linecolor": "white",
            "ticks": ""
           }
          },
          "scene": {
           "xaxis": {
            "backgroundcolor": "#E5ECF6",
            "gridcolor": "white",
            "gridwidth": 2,
            "linecolor": "white",
            "showbackground": true,
            "ticks": "",
            "zerolinecolor": "white"
           },
           "yaxis": {
            "backgroundcolor": "#E5ECF6",
            "gridcolor": "white",
            "gridwidth": 2,
            "linecolor": "white",
            "showbackground": true,
            "ticks": "",
            "zerolinecolor": "white"
           },
           "zaxis": {
            "backgroundcolor": "#E5ECF6",
            "gridcolor": "white",
            "gridwidth": 2,
            "linecolor": "white",
            "showbackground": true,
            "ticks": "",
            "zerolinecolor": "white"
           }
          },
          "shapedefaults": {
           "line": {
            "color": "#2a3f5f"
           }
          },
          "ternary": {
           "aaxis": {
            "gridcolor": "white",
            "linecolor": "white",
            "ticks": ""
           },
           "baxis": {
            "gridcolor": "white",
            "linecolor": "white",
            "ticks": ""
           },
           "bgcolor": "#E5ECF6",
           "caxis": {
            "gridcolor": "white",
            "linecolor": "white",
            "ticks": ""
           }
          },
          "title": {
           "x": 0.05
          },
          "xaxis": {
           "automargin": true,
           "gridcolor": "white",
           "linecolor": "white",
           "ticks": "",
           "title": {
            "standoff": 15
           },
           "zerolinecolor": "white",
           "zerolinewidth": 2
          },
          "yaxis": {
           "automargin": true,
           "gridcolor": "white",
           "linecolor": "white",
           "ticks": "",
           "title": {
            "standoff": 15
           },
           "zerolinecolor": "white",
           "zerolinewidth": 2
          }
         }
        },
        "title": {
         "text": "Product"
        },
        "xaxis": {
         "anchor": "y",
         "categoryarray": [
          "eroski",
          "carrefour",
          "dia"
         ],
         "categoryorder": "array",
         "domain": [
          0,
          1
         ],
         "title": {
          "text": "Super"
         }
        },
        "yaxis": {
         "anchor": "x",
         "domain": [
          0,
          1
         ],
         "title": {
          "text": "Price"
         }
        }
       }
      },
      "text/html": [
       "<div>                            <div id=\"e9e7dfcb-f65b-4bf6-8fdd-5be42fdd77c8\" class=\"plotly-graph-div\" style=\"height:525px; width:100%;\"></div>            <script type=\"text/javascript\">                require([\"plotly\"], function(Plotly) {                    window.PLOTLYENV=window.PLOTLYENV || {};                                    if (document.getElementById(\"e9e7dfcb-f65b-4bf6-8fdd-5be42fdd77c8\")) {                    Plotly.newPlot(                        \"e9e7dfcb-f65b-4bf6-8fdd-5be42fdd77c8\",                        [{\"hovertemplate\":\"Super=%{x}<br>Price=%{y}<extra></extra>\",\"legendgroup\":\"eroski\",\"marker\":{\"color\":\"#636efa\",\"symbol\":\"circle\"},\"mode\":\"markers\",\"name\":\"eroski\",\"orientation\":\"v\",\"showlegend\":true,\"type\":\"scatter\",\"x\":[\"eroski\",\"eroski\",\"eroski\",\"eroski\"],\"xaxis\":\"x\",\"y\":[1.0,2.0,4.56,12.73],\"yaxis\":\"y\"},{\"hovertemplate\":\"Super=%{x}<br>Price=%{y}<extra></extra>\",\"legendgroup\":\"carrefour\",\"marker\":{\"color\":\"#EF553B\",\"symbol\":\"circle\"},\"mode\":\"markers\",\"name\":\"carrefour\",\"orientation\":\"v\",\"showlegend\":true,\"type\":\"scatter\",\"x\":[\"carrefour\",\"carrefour\",\"carrefour\",\"carrefour\",\"carrefour\",\"carrefour\",\"carrefour\",\"carrefour\",\"carrefour\",\"carrefour\",\"carrefour\",\"carrefour\",\"carrefour\",\"carrefour\",\"carrefour\",\"carrefour\"],\"xaxis\":\"x\",\"y\":[1.58,1.39,1.99,5.4,5.4,9.95,8.93,6.43,1.58,1.39,1.99,5.4,5.4,9.95,8.93,6.43],\"yaxis\":\"y\"},{\"hovertemplate\":\"Super=%{x}<br>Price=%{y}<extra></extra>\",\"legendgroup\":\"dia\",\"marker\":{\"color\":\"#00cc96\",\"symbol\":\"circle\"},\"mode\":\"markers\",\"name\":\"dia\",\"orientation\":\"v\",\"showlegend\":true,\"type\":\"scatter\",\"x\":[\"dia\",\"dia\",\"dia\",\"dia\",\"dia\"],\"xaxis\":\"x\",\"y\":[1.59,4.64,3.18,1.25,1.79],\"yaxis\":\"y\"}],                        {\"legend\":{\"title\":{\"text\":\"Super\"},\"tracegroupgap\":0},\"template\":{\"data\":{\"bar\":[{\"error_x\":{\"color\":\"#2a3f5f\"},\"error_y\":{\"color\":\"#2a3f5f\"},\"marker\":{\"line\":{\"color\":\"#E5ECF6\",\"width\":0.5},\"pattern\":{\"fillmode\":\"overlay\",\"size\":10,\"solidity\":0.2}},\"type\":\"bar\"}],\"barpolar\":[{\"marker\":{\"line\":{\"color\":\"#E5ECF6\",\"width\":0.5},\"pattern\":{\"fillmode\":\"overlay\",\"size\":10,\"solidity\":0.2}},\"type\":\"barpolar\"}],\"carpet\":[{\"aaxis\":{\"endlinecolor\":\"#2a3f5f\",\"gridcolor\":\"white\",\"linecolor\":\"white\",\"minorgridcolor\":\"white\",\"startlinecolor\":\"#2a3f5f\"},\"baxis\":{\"endlinecolor\":\"#2a3f5f\",\"gridcolor\":\"white\",\"linecolor\":\"white\",\"minorgridcolor\":\"white\",\"startlinecolor\":\"#2a3f5f\"},\"type\":\"carpet\"}],\"choropleth\":[{\"colorbar\":{\"outlinewidth\":0,\"ticks\":\"\"},\"type\":\"choropleth\"}],\"contour\":[{\"colorbar\":{\"outlinewidth\":0,\"ticks\":\"\"},\"colorscale\":[[0.0,\"#0d0887\"],[0.1111111111111111,\"#46039f\"],[0.2222222222222222,\"#7201a8\"],[0.3333333333333333,\"#9c179e\"],[0.4444444444444444,\"#bd3786\"],[0.5555555555555556,\"#d8576b\"],[0.6666666666666666,\"#ed7953\"],[0.7777777777777778,\"#fb9f3a\"],[0.8888888888888888,\"#fdca26\"],[1.0,\"#f0f921\"]],\"type\":\"contour\"}],\"contourcarpet\":[{\"colorbar\":{\"outlinewidth\":0,\"ticks\":\"\"},\"type\":\"contourcarpet\"}],\"heatmap\":[{\"colorbar\":{\"outlinewidth\":0,\"ticks\":\"\"},\"colorscale\":[[0.0,\"#0d0887\"],[0.1111111111111111,\"#46039f\"],[0.2222222222222222,\"#7201a8\"],[0.3333333333333333,\"#9c179e\"],[0.4444444444444444,\"#bd3786\"],[0.5555555555555556,\"#d8576b\"],[0.6666666666666666,\"#ed7953\"],[0.7777777777777778,\"#fb9f3a\"],[0.8888888888888888,\"#fdca26\"],[1.0,\"#f0f921\"]],\"type\":\"heatmap\"}],\"heatmapgl\":[{\"colorbar\":{\"outlinewidth\":0,\"ticks\":\"\"},\"colorscale\":[[0.0,\"#0d0887\"],[0.1111111111111111,\"#46039f\"],[0.2222222222222222,\"#7201a8\"],[0.3333333333333333,\"#9c179e\"],[0.4444444444444444,\"#bd3786\"],[0.5555555555555556,\"#d8576b\"],[0.6666666666666666,\"#ed7953\"],[0.7777777777777778,\"#fb9f3a\"],[0.8888888888888888,\"#fdca26\"],[1.0,\"#f0f921\"]],\"type\":\"heatmapgl\"}],\"histogram\":[{\"marker\":{\"pattern\":{\"fillmode\":\"overlay\",\"size\":10,\"solidity\":0.2}},\"type\":\"histogram\"}],\"histogram2d\":[{\"colorbar\":{\"outlinewidth\":0,\"ticks\":\"\"},\"colorscale\":[[0.0,\"#0d0887\"],[0.1111111111111111,\"#46039f\"],[0.2222222222222222,\"#7201a8\"],[0.3333333333333333,\"#9c179e\"],[0.4444444444444444,\"#bd3786\"],[0.5555555555555556,\"#d8576b\"],[0.6666666666666666,\"#ed7953\"],[0.7777777777777778,\"#fb9f3a\"],[0.8888888888888888,\"#fdca26\"],[1.0,\"#f0f921\"]],\"type\":\"histogram2d\"}],\"histogram2dcontour\":[{\"colorbar\":{\"outlinewidth\":0,\"ticks\":\"\"},\"colorscale\":[[0.0,\"#0d0887\"],[0.1111111111111111,\"#46039f\"],[0.2222222222222222,\"#7201a8\"],[0.3333333333333333,\"#9c179e\"],[0.4444444444444444,\"#bd3786\"],[0.5555555555555556,\"#d8576b\"],[0.6666666666666666,\"#ed7953\"],[0.7777777777777778,\"#fb9f3a\"],[0.8888888888888888,\"#fdca26\"],[1.0,\"#f0f921\"]],\"type\":\"histogram2dcontour\"}],\"mesh3d\":[{\"colorbar\":{\"outlinewidth\":0,\"ticks\":\"\"},\"type\":\"mesh3d\"}],\"parcoords\":[{\"line\":{\"colorbar\":{\"outlinewidth\":0,\"ticks\":\"\"}},\"type\":\"parcoords\"}],\"pie\":[{\"automargin\":true,\"type\":\"pie\"}],\"scatter\":[{\"marker\":{\"colorbar\":{\"outlinewidth\":0,\"ticks\":\"\"}},\"type\":\"scatter\"}],\"scatter3d\":[{\"line\":{\"colorbar\":{\"outlinewidth\":0,\"ticks\":\"\"}},\"marker\":{\"colorbar\":{\"outlinewidth\":0,\"ticks\":\"\"}},\"type\":\"scatter3d\"}],\"scattercarpet\":[{\"marker\":{\"colorbar\":{\"outlinewidth\":0,\"ticks\":\"\"}},\"type\":\"scattercarpet\"}],\"scattergeo\":[{\"marker\":{\"colorbar\":{\"outlinewidth\":0,\"ticks\":\"\"}},\"type\":\"scattergeo\"}],\"scattergl\":[{\"marker\":{\"colorbar\":{\"outlinewidth\":0,\"ticks\":\"\"}},\"type\":\"scattergl\"}],\"scattermapbox\":[{\"marker\":{\"colorbar\":{\"outlinewidth\":0,\"ticks\":\"\"}},\"type\":\"scattermapbox\"}],\"scatterpolar\":[{\"marker\":{\"colorbar\":{\"outlinewidth\":0,\"ticks\":\"\"}},\"type\":\"scatterpolar\"}],\"scatterpolargl\":[{\"marker\":{\"colorbar\":{\"outlinewidth\":0,\"ticks\":\"\"}},\"type\":\"scatterpolargl\"}],\"scatterternary\":[{\"marker\":{\"colorbar\":{\"outlinewidth\":0,\"ticks\":\"\"}},\"type\":\"scatterternary\"}],\"surface\":[{\"colorbar\":{\"outlinewidth\":0,\"ticks\":\"\"},\"colorscale\":[[0.0,\"#0d0887\"],[0.1111111111111111,\"#46039f\"],[0.2222222222222222,\"#7201a8\"],[0.3333333333333333,\"#9c179e\"],[0.4444444444444444,\"#bd3786\"],[0.5555555555555556,\"#d8576b\"],[0.6666666666666666,\"#ed7953\"],[0.7777777777777778,\"#fb9f3a\"],[0.8888888888888888,\"#fdca26\"],[1.0,\"#f0f921\"]],\"type\":\"surface\"}],\"table\":[{\"cells\":{\"fill\":{\"color\":\"#EBF0F8\"},\"line\":{\"color\":\"white\"}},\"header\":{\"fill\":{\"color\":\"#C8D4E3\"},\"line\":{\"color\":\"white\"}},\"type\":\"table\"}]},\"layout\":{\"annotationdefaults\":{\"arrowcolor\":\"#2a3f5f\",\"arrowhead\":0,\"arrowwidth\":1},\"autotypenumbers\":\"strict\",\"coloraxis\":{\"colorbar\":{\"outlinewidth\":0,\"ticks\":\"\"}},\"colorscale\":{\"diverging\":[[0,\"#8e0152\"],[0.1,\"#c51b7d\"],[0.2,\"#de77ae\"],[0.3,\"#f1b6da\"],[0.4,\"#fde0ef\"],[0.5,\"#f7f7f7\"],[0.6,\"#e6f5d0\"],[0.7,\"#b8e186\"],[0.8,\"#7fbc41\"],[0.9,\"#4d9221\"],[1,\"#276419\"]],\"sequential\":[[0.0,\"#0d0887\"],[0.1111111111111111,\"#46039f\"],[0.2222222222222222,\"#7201a8\"],[0.3333333333333333,\"#9c179e\"],[0.4444444444444444,\"#bd3786\"],[0.5555555555555556,\"#d8576b\"],[0.6666666666666666,\"#ed7953\"],[0.7777777777777778,\"#fb9f3a\"],[0.8888888888888888,\"#fdca26\"],[1.0,\"#f0f921\"]],\"sequentialminus\":[[0.0,\"#0d0887\"],[0.1111111111111111,\"#46039f\"],[0.2222222222222222,\"#7201a8\"],[0.3333333333333333,\"#9c179e\"],[0.4444444444444444,\"#bd3786\"],[0.5555555555555556,\"#d8576b\"],[0.6666666666666666,\"#ed7953\"],[0.7777777777777778,\"#fb9f3a\"],[0.8888888888888888,\"#fdca26\"],[1.0,\"#f0f921\"]]},\"colorway\":[\"#636efa\",\"#EF553B\",\"#00cc96\",\"#ab63fa\",\"#FFA15A\",\"#19d3f3\",\"#FF6692\",\"#B6E880\",\"#FF97FF\",\"#FECB52\"],\"font\":{\"color\":\"#2a3f5f\"},\"geo\":{\"bgcolor\":\"white\",\"lakecolor\":\"white\",\"landcolor\":\"#E5ECF6\",\"showlakes\":true,\"showland\":true,\"subunitcolor\":\"white\"},\"hoverlabel\":{\"align\":\"left\"},\"hovermode\":\"closest\",\"mapbox\":{\"style\":\"light\"},\"paper_bgcolor\":\"white\",\"plot_bgcolor\":\"#E5ECF6\",\"polar\":{\"angularaxis\":{\"gridcolor\":\"white\",\"linecolor\":\"white\",\"ticks\":\"\"},\"bgcolor\":\"#E5ECF6\",\"radialaxis\":{\"gridcolor\":\"white\",\"linecolor\":\"white\",\"ticks\":\"\"}},\"scene\":{\"xaxis\":{\"backgroundcolor\":\"#E5ECF6\",\"gridcolor\":\"white\",\"gridwidth\":2,\"linecolor\":\"white\",\"showbackground\":true,\"ticks\":\"\",\"zerolinecolor\":\"white\"},\"yaxis\":{\"backgroundcolor\":\"#E5ECF6\",\"gridcolor\":\"white\",\"gridwidth\":2,\"linecolor\":\"white\",\"showbackground\":true,\"ticks\":\"\",\"zerolinecolor\":\"white\"},\"zaxis\":{\"backgroundcolor\":\"#E5ECF6\",\"gridcolor\":\"white\",\"gridwidth\":2,\"linecolor\":\"white\",\"showbackground\":true,\"ticks\":\"\",\"zerolinecolor\":\"white\"}},\"shapedefaults\":{\"line\":{\"color\":\"#2a3f5f\"}},\"ternary\":{\"aaxis\":{\"gridcolor\":\"white\",\"linecolor\":\"white\",\"ticks\":\"\"},\"baxis\":{\"gridcolor\":\"white\",\"linecolor\":\"white\",\"ticks\":\"\"},\"bgcolor\":\"#E5ECF6\",\"caxis\":{\"gridcolor\":\"white\",\"linecolor\":\"white\",\"ticks\":\"\"}},\"title\":{\"x\":0.05},\"xaxis\":{\"automargin\":true,\"gridcolor\":\"white\",\"linecolor\":\"white\",\"ticks\":\"\",\"title\":{\"standoff\":15},\"zerolinecolor\":\"white\",\"zerolinewidth\":2},\"yaxis\":{\"automargin\":true,\"gridcolor\":\"white\",\"linecolor\":\"white\",\"ticks\":\"\",\"title\":{\"standoff\":15},\"zerolinecolor\":\"white\",\"zerolinewidth\":2}}},\"title\":{\"text\":\"Product\"},\"xaxis\":{\"anchor\":\"y\",\"categoryarray\":[\"eroski\",\"carrefour\",\"dia\"],\"categoryorder\":\"array\",\"domain\":[0.0,1.0],\"title\":{\"text\":\"Super\"}},\"yaxis\":{\"anchor\":\"x\",\"domain\":[0.0,1.0],\"title\":{\"text\":\"Price\"}}},                        {\"responsive\": true}                    ).then(function(){\n",
       "                            \n",
       "var gd = document.getElementById('e9e7dfcb-f65b-4bf6-8fdd-5be42fdd77c8');\n",
       "var x = new MutationObserver(function (mutations, observer) {{\n",
       "        var display = window.getComputedStyle(gd).display;\n",
       "        if (!display || display === 'none') {{\n",
       "            console.log([gd, 'removed!']);\n",
       "            Plotly.purge(gd);\n",
       "            observer.disconnect();\n",
       "        }}\n",
       "}});\n",
       "\n",
       "// Listen for the removal of the full notebook cells\n",
       "var notebookContainer = gd.closest('#notebook-container');\n",
       "if (notebookContainer) {{\n",
       "    x.observe(notebookContainer, {childList: true});\n",
       "}}\n",
       "\n",
       "// Listen for the clearing of the current output cell\n",
       "var outputEl = gd.closest('.output');\n",
       "if (outputEl) {{\n",
       "    x.observe(outputEl, {childList: true});\n",
       "}}\n",
       "\n",
       "                        })                };                });            </script>        </div>"
      ]
     },
     "metadata": {},
     "output_type": "display_data"
    }
   ],
   "source": [
    "px.scatter(e, x='Super', y='Price', color='Super', title='Product')"
   ]
  },
  {
   "cell_type": "code",
   "execution_count": null,
   "id": "642be71e",
   "metadata": {},
   "outputs": [],
   "source": []
  },
  {
   "cell_type": "code",
   "execution_count": null,
   "id": "4e9378a9",
   "metadata": {},
   "outputs": [],
   "source": []
  },
  {
   "cell_type": "code",
   "execution_count": 117,
   "id": "99831286",
   "metadata": {},
   "outputs": [
    {
     "data": {
      "text/html": [
       "<div>\n",
       "<style scoped>\n",
       "    .dataframe tbody tr th:only-of-type {\n",
       "        vertical-align: middle;\n",
       "    }\n",
       "\n",
       "    .dataframe tbody tr th {\n",
       "        vertical-align: top;\n",
       "    }\n",
       "\n",
       "    .dataframe thead th {\n",
       "        text-align: right;\n",
       "    }\n",
       "</style>\n",
       "<table border=\"1\" class=\"dataframe\">\n",
       "  <thead>\n",
       "    <tr style=\"text-align: right;\">\n",
       "      <th></th>\n",
       "      <th>date</th>\n",
       "      <th>Name</th>\n",
       "      <th>Price</th>\n",
       "      <th>Super</th>\n",
       "    </tr>\n",
       "  </thead>\n",
       "  <tbody>\n",
       "    <tr>\n",
       "      <th>0</th>\n",
       "      <td>2021-12-12</td>\n",
       "      <td>DIA ALMAZARA DEL OLIVAR aceite de orujo de oli...</td>\n",
       "      <td>1.990000</td>\n",
       "      <td>dia</td>\n",
       "    </tr>\n",
       "    <tr>\n",
       "      <th>1</th>\n",
       "      <td>2021-12-19</td>\n",
       "      <td>DIA ALMAZARA DEL OLIVAR aceite de orujo de oli...</td>\n",
       "      <td>1.990539</td>\n",
       "      <td>dia</td>\n",
       "    </tr>\n",
       "    <tr>\n",
       "      <th>2</th>\n",
       "      <td>2021-12-26</td>\n",
       "      <td>DIA ALMAZARA DEL OLIVAR aceite de orujo de oli...</td>\n",
       "      <td>1.991077</td>\n",
       "      <td>dia</td>\n",
       "    </tr>\n",
       "    <tr>\n",
       "      <th>3</th>\n",
       "      <td>2022-01-02</td>\n",
       "      <td>DIA ALMAZARA DEL OLIVAR aceite de orujo de oli...</td>\n",
       "      <td>1.991616</td>\n",
       "      <td>dia</td>\n",
       "    </tr>\n",
       "    <tr>\n",
       "      <th>4</th>\n",
       "      <td>2022-01-09</td>\n",
       "      <td>DIA ALMAZARA DEL OLIVAR aceite de orujo de oli...</td>\n",
       "      <td>1.992155</td>\n",
       "      <td>dia</td>\n",
       "    </tr>\n",
       "    <tr>\n",
       "      <th>5</th>\n",
       "      <td>2022-01-16</td>\n",
       "      <td>DIA ALMAZARA DEL OLIVAR aceite de orujo de oli...</td>\n",
       "      <td>1.992694</td>\n",
       "      <td>dia</td>\n",
       "    </tr>\n",
       "    <tr>\n",
       "      <th>6</th>\n",
       "      <td>2022-01-23</td>\n",
       "      <td>DIA ALMAZARA DEL OLIVAR aceite de orujo de oli...</td>\n",
       "      <td>1.993232</td>\n",
       "      <td>dia</td>\n",
       "    </tr>\n",
       "    <tr>\n",
       "      <th>7</th>\n",
       "      <td>2022-01-30</td>\n",
       "      <td>DIA ALMAZARA DEL OLIVAR aceite de orujo de oli...</td>\n",
       "      <td>1.993771</td>\n",
       "      <td>dia</td>\n",
       "    </tr>\n",
       "    <tr>\n",
       "      <th>8</th>\n",
       "      <td>2022-02-06</td>\n",
       "      <td>DIA ALMAZARA DEL OLIVAR aceite de orujo de oli...</td>\n",
       "      <td>1.994310</td>\n",
       "      <td>dia</td>\n",
       "    </tr>\n",
       "    <tr>\n",
       "      <th>9</th>\n",
       "      <td>2022-02-13</td>\n",
       "      <td>DIA ALMAZARA DEL OLIVAR aceite de orujo de oli...</td>\n",
       "      <td>1.994849</td>\n",
       "      <td>dia</td>\n",
       "    </tr>\n",
       "    <tr>\n",
       "      <th>10</th>\n",
       "      <td>2022-02-20</td>\n",
       "      <td>DIA ALMAZARA DEL OLIVAR aceite de orujo de oli...</td>\n",
       "      <td>1.995387</td>\n",
       "      <td>dia</td>\n",
       "    </tr>\n",
       "    <tr>\n",
       "      <th>11</th>\n",
       "      <td>2022-02-27</td>\n",
       "      <td>DIA ALMAZARA DEL OLIVAR aceite de orujo de oli...</td>\n",
       "      <td>1.995926</td>\n",
       "      <td>dia</td>\n",
       "    </tr>\n",
       "    <tr>\n",
       "      <th>12</th>\n",
       "      <td>2022-03-06</td>\n",
       "      <td>DIA ALMAZARA DEL OLIVAR aceite de orujo de oli...</td>\n",
       "      <td>1.996465</td>\n",
       "      <td>dia</td>\n",
       "    </tr>\n",
       "    <tr>\n",
       "      <th>13</th>\n",
       "      <td>2022-03-13</td>\n",
       "      <td>DIA ALMAZARA DEL OLIVAR aceite de orujo de oli...</td>\n",
       "      <td>1.997003</td>\n",
       "      <td>dia</td>\n",
       "    </tr>\n",
       "    <tr>\n",
       "      <th>14</th>\n",
       "      <td>2022-03-20</td>\n",
       "      <td>DIA ALMAZARA DEL OLIVAR aceite de orujo de oli...</td>\n",
       "      <td>1.997542</td>\n",
       "      <td>dia</td>\n",
       "    </tr>\n",
       "    <tr>\n",
       "      <th>15</th>\n",
       "      <td>2022-03-27</td>\n",
       "      <td>DIA ALMAZARA DEL OLIVAR aceite de orujo de oli...</td>\n",
       "      <td>1.998081</td>\n",
       "      <td>dia</td>\n",
       "    </tr>\n",
       "    <tr>\n",
       "      <th>16</th>\n",
       "      <td>2022-04-03</td>\n",
       "      <td>DIA ALMAZARA DEL OLIVAR aceite de orujo de oli...</td>\n",
       "      <td>1.998620</td>\n",
       "      <td>dia</td>\n",
       "    </tr>\n",
       "    <tr>\n",
       "      <th>17</th>\n",
       "      <td>2022-04-10</td>\n",
       "      <td>DIA ALMAZARA DEL OLIVAR aceite de orujo de oli...</td>\n",
       "      <td>1.999158</td>\n",
       "      <td>dia</td>\n",
       "    </tr>\n",
       "    <tr>\n",
       "      <th>18</th>\n",
       "      <td>2022-04-17</td>\n",
       "      <td>DIA ALMAZARA DEL OLIVAR aceite de orujo de oli...</td>\n",
       "      <td>1.999697</td>\n",
       "      <td>dia</td>\n",
       "    </tr>\n",
       "    <tr>\n",
       "      <th>19</th>\n",
       "      <td>2022-04-24</td>\n",
       "      <td>DIA ALMAZARA DEL OLIVAR aceite de orujo de oli...</td>\n",
       "      <td>2.000236</td>\n",
       "      <td>dia</td>\n",
       "    </tr>\n",
       "    <tr>\n",
       "      <th>20</th>\n",
       "      <td>2022-05-01</td>\n",
       "      <td>DIA ALMAZARA DEL OLIVAR aceite de orujo de oli...</td>\n",
       "      <td>2.000775</td>\n",
       "      <td>dia</td>\n",
       "    </tr>\n",
       "    <tr>\n",
       "      <th>21</th>\n",
       "      <td>2022-05-08</td>\n",
       "      <td>DIA ALMAZARA DEL OLIVAR aceite de orujo de oli...</td>\n",
       "      <td>2.001313</td>\n",
       "      <td>dia</td>\n",
       "    </tr>\n",
       "    <tr>\n",
       "      <th>22</th>\n",
       "      <td>2022-05-15</td>\n",
       "      <td>DIA ALMAZARA DEL OLIVAR aceite de orujo de oli...</td>\n",
       "      <td>2.001852</td>\n",
       "      <td>dia</td>\n",
       "    </tr>\n",
       "    <tr>\n",
       "      <th>23</th>\n",
       "      <td>2022-05-22</td>\n",
       "      <td>DIA ALMAZARA DEL OLIVAR aceite de orujo de oli...</td>\n",
       "      <td>2.002391</td>\n",
       "      <td>dia</td>\n",
       "    </tr>\n",
       "    <tr>\n",
       "      <th>24</th>\n",
       "      <td>2022-05-29</td>\n",
       "      <td>DIA ALMAZARA DEL OLIVAR aceite de orujo de oli...</td>\n",
       "      <td>2.002929</td>\n",
       "      <td>dia</td>\n",
       "    </tr>\n",
       "    <tr>\n",
       "      <th>25</th>\n",
       "      <td>2022-06-05</td>\n",
       "      <td>DIA ALMAZARA DEL OLIVAR aceite de orujo de oli...</td>\n",
       "      <td>2.003468</td>\n",
       "      <td>dia</td>\n",
       "    </tr>\n",
       "    <tr>\n",
       "      <th>26</th>\n",
       "      <td>2022-06-12</td>\n",
       "      <td>DIA ALMAZARA DEL OLIVAR aceite de orujo de oli...</td>\n",
       "      <td>2.004007</td>\n",
       "      <td>dia</td>\n",
       "    </tr>\n",
       "    <tr>\n",
       "      <th>27</th>\n",
       "      <td>2022-06-19</td>\n",
       "      <td>DIA ALMAZARA DEL OLIVAR aceite de orujo de oli...</td>\n",
       "      <td>2.004546</td>\n",
       "      <td>dia</td>\n",
       "    </tr>\n",
       "    <tr>\n",
       "      <th>28</th>\n",
       "      <td>2022-06-26</td>\n",
       "      <td>DIA ALMAZARA DEL OLIVAR aceite de orujo de oli...</td>\n",
       "      <td>2.005084</td>\n",
       "      <td>dia</td>\n",
       "    </tr>\n",
       "    <tr>\n",
       "      <th>29</th>\n",
       "      <td>2022-07-03</td>\n",
       "      <td>DIA ALMAZARA DEL OLIVAR aceite de orujo de oli...</td>\n",
       "      <td>2.005623</td>\n",
       "      <td>dia</td>\n",
       "    </tr>\n",
       "    <tr>\n",
       "      <th>30</th>\n",
       "      <td>2022-07-10</td>\n",
       "      <td>DIA ALMAZARA DEL OLIVAR aceite de orujo de oli...</td>\n",
       "      <td>2.006162</td>\n",
       "      <td>dia</td>\n",
       "    </tr>\n",
       "    <tr>\n",
       "      <th>31</th>\n",
       "      <td>2022-07-17</td>\n",
       "      <td>DIA ALMAZARA DEL OLIVAR aceite de orujo de oli...</td>\n",
       "      <td>2.006700</td>\n",
       "      <td>dia</td>\n",
       "    </tr>\n",
       "    <tr>\n",
       "      <th>32</th>\n",
       "      <td>2022-07-24</td>\n",
       "      <td>DIA ALMAZARA DEL OLIVAR aceite de orujo de oli...</td>\n",
       "      <td>2.007239</td>\n",
       "      <td>dia</td>\n",
       "    </tr>\n",
       "    <tr>\n",
       "      <th>33</th>\n",
       "      <td>2022-07-31</td>\n",
       "      <td>DIA ALMAZARA DEL OLIVAR aceite de orujo de oli...</td>\n",
       "      <td>2.007778</td>\n",
       "      <td>dia</td>\n",
       "    </tr>\n",
       "    <tr>\n",
       "      <th>34</th>\n",
       "      <td>2022-08-07</td>\n",
       "      <td>DIA ALMAZARA DEL OLIVAR aceite de orujo de oli...</td>\n",
       "      <td>2.008317</td>\n",
       "      <td>dia</td>\n",
       "    </tr>\n",
       "    <tr>\n",
       "      <th>35</th>\n",
       "      <td>2022-08-14</td>\n",
       "      <td>DIA ALMAZARA DEL OLIVAR aceite de orujo de oli...</td>\n",
       "      <td>2.008855</td>\n",
       "      <td>dia</td>\n",
       "    </tr>\n",
       "    <tr>\n",
       "      <th>36</th>\n",
       "      <td>2022-08-21</td>\n",
       "      <td>DIA ALMAZARA DEL OLIVAR aceite de orujo de oli...</td>\n",
       "      <td>2.009394</td>\n",
       "      <td>dia</td>\n",
       "    </tr>\n",
       "    <tr>\n",
       "      <th>37</th>\n",
       "      <td>2022-08-28</td>\n",
       "      <td>DIA ALMAZARA DEL OLIVAR aceite de orujo de oli...</td>\n",
       "      <td>2.009933</td>\n",
       "      <td>dia</td>\n",
       "    </tr>\n",
       "    <tr>\n",
       "      <th>38</th>\n",
       "      <td>2022-09-04</td>\n",
       "      <td>DIA ALMAZARA DEL OLIVAR aceite de orujo de oli...</td>\n",
       "      <td>2.010472</td>\n",
       "      <td>dia</td>\n",
       "    </tr>\n",
       "    <tr>\n",
       "      <th>39</th>\n",
       "      <td>2022-09-11</td>\n",
       "      <td>DIA ALMAZARA DEL OLIVAR aceite de orujo de oli...</td>\n",
       "      <td>2.011010</td>\n",
       "      <td>dia</td>\n",
       "    </tr>\n",
       "    <tr>\n",
       "      <th>40</th>\n",
       "      <td>2022-09-18</td>\n",
       "      <td>DIA ALMAZARA DEL OLIVAR aceite de orujo de oli...</td>\n",
       "      <td>2.011549</td>\n",
       "      <td>dia</td>\n",
       "    </tr>\n",
       "  </tbody>\n",
       "</table>\n",
       "</div>"
      ],
      "text/plain": [
       "          date                                               Name     Price  \\\n",
       "0   2021-12-12  DIA ALMAZARA DEL OLIVAR aceite de orujo de oli...  1.990000   \n",
       "1   2021-12-19  DIA ALMAZARA DEL OLIVAR aceite de orujo de oli...  1.990539   \n",
       "2   2021-12-26  DIA ALMAZARA DEL OLIVAR aceite de orujo de oli...  1.991077   \n",
       "3   2022-01-02  DIA ALMAZARA DEL OLIVAR aceite de orujo de oli...  1.991616   \n",
       "4   2022-01-09  DIA ALMAZARA DEL OLIVAR aceite de orujo de oli...  1.992155   \n",
       "5   2022-01-16  DIA ALMAZARA DEL OLIVAR aceite de orujo de oli...  1.992694   \n",
       "6   2022-01-23  DIA ALMAZARA DEL OLIVAR aceite de orujo de oli...  1.993232   \n",
       "7   2022-01-30  DIA ALMAZARA DEL OLIVAR aceite de orujo de oli...  1.993771   \n",
       "8   2022-02-06  DIA ALMAZARA DEL OLIVAR aceite de orujo de oli...  1.994310   \n",
       "9   2022-02-13  DIA ALMAZARA DEL OLIVAR aceite de orujo de oli...  1.994849   \n",
       "10  2022-02-20  DIA ALMAZARA DEL OLIVAR aceite de orujo de oli...  1.995387   \n",
       "11  2022-02-27  DIA ALMAZARA DEL OLIVAR aceite de orujo de oli...  1.995926   \n",
       "12  2022-03-06  DIA ALMAZARA DEL OLIVAR aceite de orujo de oli...  1.996465   \n",
       "13  2022-03-13  DIA ALMAZARA DEL OLIVAR aceite de orujo de oli...  1.997003   \n",
       "14  2022-03-20  DIA ALMAZARA DEL OLIVAR aceite de orujo de oli...  1.997542   \n",
       "15  2022-03-27  DIA ALMAZARA DEL OLIVAR aceite de orujo de oli...  1.998081   \n",
       "16  2022-04-03  DIA ALMAZARA DEL OLIVAR aceite de orujo de oli...  1.998620   \n",
       "17  2022-04-10  DIA ALMAZARA DEL OLIVAR aceite de orujo de oli...  1.999158   \n",
       "18  2022-04-17  DIA ALMAZARA DEL OLIVAR aceite de orujo de oli...  1.999697   \n",
       "19  2022-04-24  DIA ALMAZARA DEL OLIVAR aceite de orujo de oli...  2.000236   \n",
       "20  2022-05-01  DIA ALMAZARA DEL OLIVAR aceite de orujo de oli...  2.000775   \n",
       "21  2022-05-08  DIA ALMAZARA DEL OLIVAR aceite de orujo de oli...  2.001313   \n",
       "22  2022-05-15  DIA ALMAZARA DEL OLIVAR aceite de orujo de oli...  2.001852   \n",
       "23  2022-05-22  DIA ALMAZARA DEL OLIVAR aceite de orujo de oli...  2.002391   \n",
       "24  2022-05-29  DIA ALMAZARA DEL OLIVAR aceite de orujo de oli...  2.002929   \n",
       "25  2022-06-05  DIA ALMAZARA DEL OLIVAR aceite de orujo de oli...  2.003468   \n",
       "26  2022-06-12  DIA ALMAZARA DEL OLIVAR aceite de orujo de oli...  2.004007   \n",
       "27  2022-06-19  DIA ALMAZARA DEL OLIVAR aceite de orujo de oli...  2.004546   \n",
       "28  2022-06-26  DIA ALMAZARA DEL OLIVAR aceite de orujo de oli...  2.005084   \n",
       "29  2022-07-03  DIA ALMAZARA DEL OLIVAR aceite de orujo de oli...  2.005623   \n",
       "30  2022-07-10  DIA ALMAZARA DEL OLIVAR aceite de orujo de oli...  2.006162   \n",
       "31  2022-07-17  DIA ALMAZARA DEL OLIVAR aceite de orujo de oli...  2.006700   \n",
       "32  2022-07-24  DIA ALMAZARA DEL OLIVAR aceite de orujo de oli...  2.007239   \n",
       "33  2022-07-31  DIA ALMAZARA DEL OLIVAR aceite de orujo de oli...  2.007778   \n",
       "34  2022-08-07  DIA ALMAZARA DEL OLIVAR aceite de orujo de oli...  2.008317   \n",
       "35  2022-08-14  DIA ALMAZARA DEL OLIVAR aceite de orujo de oli...  2.008855   \n",
       "36  2022-08-21  DIA ALMAZARA DEL OLIVAR aceite de orujo de oli...  2.009394   \n",
       "37  2022-08-28  DIA ALMAZARA DEL OLIVAR aceite de orujo de oli...  2.009933   \n",
       "38  2022-09-04  DIA ALMAZARA DEL OLIVAR aceite de orujo de oli...  2.010472   \n",
       "39  2022-09-11  DIA ALMAZARA DEL OLIVAR aceite de orujo de oli...  2.011010   \n",
       "40  2022-09-18  DIA ALMAZARA DEL OLIVAR aceite de orujo de oli...  2.011549   \n",
       "\n",
       "   Super  \n",
       "0    dia  \n",
       "1    dia  \n",
       "2    dia  \n",
       "3    dia  \n",
       "4    dia  \n",
       "5    dia  \n",
       "6    dia  \n",
       "7    dia  \n",
       "8    dia  \n",
       "9    dia  \n",
       "10   dia  \n",
       "11   dia  \n",
       "12   dia  \n",
       "13   dia  \n",
       "14   dia  \n",
       "15   dia  \n",
       "16   dia  \n",
       "17   dia  \n",
       "18   dia  \n",
       "19   dia  \n",
       "20   dia  \n",
       "21   dia  \n",
       "22   dia  \n",
       "23   dia  \n",
       "24   dia  \n",
       "25   dia  \n",
       "26   dia  \n",
       "27   dia  \n",
       "28   dia  \n",
       "29   dia  \n",
       "30   dia  \n",
       "31   dia  \n",
       "32   dia  \n",
       "33   dia  \n",
       "34   dia  \n",
       "35   dia  \n",
       "36   dia  \n",
       "37   dia  \n",
       "38   dia  \n",
       "39   dia  \n",
       "40   dia  "
      ]
     },
     "execution_count": 117,
     "metadata": {},
     "output_type": "execute_result"
    }
   ],
   "source": [
    "pred"
   ]
  },
  {
   "cell_type": "code",
   "execution_count": 118,
   "id": "768c077e",
   "metadata": {},
   "outputs": [
    {
     "data": {
      "application/vnd.plotly.v1+json": {
       "config": {
        "plotlyServerURL": "https://plot.ly"
       },
       "data": [
        {
         "alignmentgroup": "True",
         "hovertemplate": "date=%{x}<br>Price=%{y}<extra></extra>",
         "legendgroup": "",
         "marker": {
          "color": "#636efa",
          "pattern": {
           "shape": ""
          }
         },
         "name": "",
         "offsetgroup": "",
         "orientation": "v",
         "showlegend": false,
         "textposition": "auto",
         "type": "bar",
         "x": [
          "2021-12-12",
          "2021-12-19",
          "2021-12-26",
          "2022-01-02",
          "2022-01-09",
          "2022-01-16",
          "2022-01-23",
          "2022-01-30",
          "2022-02-06",
          "2022-02-13",
          "2022-02-20",
          "2022-02-27",
          "2022-03-06",
          "2022-03-13",
          "2022-03-20",
          "2022-03-27",
          "2022-04-03",
          "2022-04-10",
          "2022-04-17",
          "2022-04-24",
          "2022-05-01",
          "2022-05-08",
          "2022-05-15",
          "2022-05-22",
          "2022-05-29",
          "2022-06-05",
          "2022-06-12",
          "2022-06-19",
          "2022-06-26",
          "2022-07-03",
          "2022-07-10",
          "2022-07-17",
          "2022-07-24",
          "2022-07-31",
          "2022-08-07",
          "2022-08-14",
          "2022-08-21",
          "2022-08-28",
          "2022-09-04",
          "2022-09-11",
          "2022-09-18"
         ],
         "xaxis": "x",
         "y": [
          1.99,
          1.9899201385282608,
          1.9898402770565211,
          1.9897604155847823,
          1.989680554113043,
          1.989600692641304,
          1.9895208311695645,
          1.9894409696978257,
          1.9893611082260865,
          1.9892812467543468,
          1.989201385282608,
          1.9891215238108688,
          1.9890416623391292,
          1.9889618008673904,
          1.9888819393956512,
          1.9888020779239115,
          1.9887222164521725,
          1.9886423549804333,
          1.9885624935086943,
          1.9884826320369549,
          1.988402770565216,
          1.9883229090934769,
          1.9882430476217368,
          1.9881631861499984,
          1.988083324678259,
          1.9880034632065195,
          1.9879236017347808,
          1.987843740263041,
          1.9877638787913023,
          1.987684017319563,
          1.9876041558478237,
          1.9875242943760845,
          1.9874444329043448,
          1.9873645714326056,
          1.9872847099608668,
          1.987204848489128,
          1.987124987017388,
          1.987045125545649,
          1.9869652640739104,
          1.986885402602171,
          1.9868055411304315
         ],
         "yaxis": "y"
        }
       ],
       "layout": {
        "barmode": "relative",
        "legend": {
         "tracegroupgap": 0
        },
        "margin": {
         "t": 60
        },
        "template": {
         "data": {
          "bar": [
           {
            "error_x": {
             "color": "#2a3f5f"
            },
            "error_y": {
             "color": "#2a3f5f"
            },
            "marker": {
             "line": {
              "color": "#E5ECF6",
              "width": 0.5
             },
             "pattern": {
              "fillmode": "overlay",
              "size": 10,
              "solidity": 0.2
             }
            },
            "type": "bar"
           }
          ],
          "barpolar": [
           {
            "marker": {
             "line": {
              "color": "#E5ECF6",
              "width": 0.5
             },
             "pattern": {
              "fillmode": "overlay",
              "size": 10,
              "solidity": 0.2
             }
            },
            "type": "barpolar"
           }
          ],
          "carpet": [
           {
            "aaxis": {
             "endlinecolor": "#2a3f5f",
             "gridcolor": "white",
             "linecolor": "white",
             "minorgridcolor": "white",
             "startlinecolor": "#2a3f5f"
            },
            "baxis": {
             "endlinecolor": "#2a3f5f",
             "gridcolor": "white",
             "linecolor": "white",
             "minorgridcolor": "white",
             "startlinecolor": "#2a3f5f"
            },
            "type": "carpet"
           }
          ],
          "choropleth": [
           {
            "colorbar": {
             "outlinewidth": 0,
             "ticks": ""
            },
            "type": "choropleth"
           }
          ],
          "contour": [
           {
            "colorbar": {
             "outlinewidth": 0,
             "ticks": ""
            },
            "colorscale": [
             [
              0,
              "#0d0887"
             ],
             [
              0.1111111111111111,
              "#46039f"
             ],
             [
              0.2222222222222222,
              "#7201a8"
             ],
             [
              0.3333333333333333,
              "#9c179e"
             ],
             [
              0.4444444444444444,
              "#bd3786"
             ],
             [
              0.5555555555555556,
              "#d8576b"
             ],
             [
              0.6666666666666666,
              "#ed7953"
             ],
             [
              0.7777777777777778,
              "#fb9f3a"
             ],
             [
              0.8888888888888888,
              "#fdca26"
             ],
             [
              1,
              "#f0f921"
             ]
            ],
            "type": "contour"
           }
          ],
          "contourcarpet": [
           {
            "colorbar": {
             "outlinewidth": 0,
             "ticks": ""
            },
            "type": "contourcarpet"
           }
          ],
          "heatmap": [
           {
            "colorbar": {
             "outlinewidth": 0,
             "ticks": ""
            },
            "colorscale": [
             [
              0,
              "#0d0887"
             ],
             [
              0.1111111111111111,
              "#46039f"
             ],
             [
              0.2222222222222222,
              "#7201a8"
             ],
             [
              0.3333333333333333,
              "#9c179e"
             ],
             [
              0.4444444444444444,
              "#bd3786"
             ],
             [
              0.5555555555555556,
              "#d8576b"
             ],
             [
              0.6666666666666666,
              "#ed7953"
             ],
             [
              0.7777777777777778,
              "#fb9f3a"
             ],
             [
              0.8888888888888888,
              "#fdca26"
             ],
             [
              1,
              "#f0f921"
             ]
            ],
            "type": "heatmap"
           }
          ],
          "heatmapgl": [
           {
            "colorbar": {
             "outlinewidth": 0,
             "ticks": ""
            },
            "colorscale": [
             [
              0,
              "#0d0887"
             ],
             [
              0.1111111111111111,
              "#46039f"
             ],
             [
              0.2222222222222222,
              "#7201a8"
             ],
             [
              0.3333333333333333,
              "#9c179e"
             ],
             [
              0.4444444444444444,
              "#bd3786"
             ],
             [
              0.5555555555555556,
              "#d8576b"
             ],
             [
              0.6666666666666666,
              "#ed7953"
             ],
             [
              0.7777777777777778,
              "#fb9f3a"
             ],
             [
              0.8888888888888888,
              "#fdca26"
             ],
             [
              1,
              "#f0f921"
             ]
            ],
            "type": "heatmapgl"
           }
          ],
          "histogram": [
           {
            "marker": {
             "pattern": {
              "fillmode": "overlay",
              "size": 10,
              "solidity": 0.2
             }
            },
            "type": "histogram"
           }
          ],
          "histogram2d": [
           {
            "colorbar": {
             "outlinewidth": 0,
             "ticks": ""
            },
            "colorscale": [
             [
              0,
              "#0d0887"
             ],
             [
              0.1111111111111111,
              "#46039f"
             ],
             [
              0.2222222222222222,
              "#7201a8"
             ],
             [
              0.3333333333333333,
              "#9c179e"
             ],
             [
              0.4444444444444444,
              "#bd3786"
             ],
             [
              0.5555555555555556,
              "#d8576b"
             ],
             [
              0.6666666666666666,
              "#ed7953"
             ],
             [
              0.7777777777777778,
              "#fb9f3a"
             ],
             [
              0.8888888888888888,
              "#fdca26"
             ],
             [
              1,
              "#f0f921"
             ]
            ],
            "type": "histogram2d"
           }
          ],
          "histogram2dcontour": [
           {
            "colorbar": {
             "outlinewidth": 0,
             "ticks": ""
            },
            "colorscale": [
             [
              0,
              "#0d0887"
             ],
             [
              0.1111111111111111,
              "#46039f"
             ],
             [
              0.2222222222222222,
              "#7201a8"
             ],
             [
              0.3333333333333333,
              "#9c179e"
             ],
             [
              0.4444444444444444,
              "#bd3786"
             ],
             [
              0.5555555555555556,
              "#d8576b"
             ],
             [
              0.6666666666666666,
              "#ed7953"
             ],
             [
              0.7777777777777778,
              "#fb9f3a"
             ],
             [
              0.8888888888888888,
              "#fdca26"
             ],
             [
              1,
              "#f0f921"
             ]
            ],
            "type": "histogram2dcontour"
           }
          ],
          "mesh3d": [
           {
            "colorbar": {
             "outlinewidth": 0,
             "ticks": ""
            },
            "type": "mesh3d"
           }
          ],
          "parcoords": [
           {
            "line": {
             "colorbar": {
              "outlinewidth": 0,
              "ticks": ""
             }
            },
            "type": "parcoords"
           }
          ],
          "pie": [
           {
            "automargin": true,
            "type": "pie"
           }
          ],
          "scatter": [
           {
            "marker": {
             "colorbar": {
              "outlinewidth": 0,
              "ticks": ""
             }
            },
            "type": "scatter"
           }
          ],
          "scatter3d": [
           {
            "line": {
             "colorbar": {
              "outlinewidth": 0,
              "ticks": ""
             }
            },
            "marker": {
             "colorbar": {
              "outlinewidth": 0,
              "ticks": ""
             }
            },
            "type": "scatter3d"
           }
          ],
          "scattercarpet": [
           {
            "marker": {
             "colorbar": {
              "outlinewidth": 0,
              "ticks": ""
             }
            },
            "type": "scattercarpet"
           }
          ],
          "scattergeo": [
           {
            "marker": {
             "colorbar": {
              "outlinewidth": 0,
              "ticks": ""
             }
            },
            "type": "scattergeo"
           }
          ],
          "scattergl": [
           {
            "marker": {
             "colorbar": {
              "outlinewidth": 0,
              "ticks": ""
             }
            },
            "type": "scattergl"
           }
          ],
          "scattermapbox": [
           {
            "marker": {
             "colorbar": {
              "outlinewidth": 0,
              "ticks": ""
             }
            },
            "type": "scattermapbox"
           }
          ],
          "scatterpolar": [
           {
            "marker": {
             "colorbar": {
              "outlinewidth": 0,
              "ticks": ""
             }
            },
            "type": "scatterpolar"
           }
          ],
          "scatterpolargl": [
           {
            "marker": {
             "colorbar": {
              "outlinewidth": 0,
              "ticks": ""
             }
            },
            "type": "scatterpolargl"
           }
          ],
          "scatterternary": [
           {
            "marker": {
             "colorbar": {
              "outlinewidth": 0,
              "ticks": ""
             }
            },
            "type": "scatterternary"
           }
          ],
          "surface": [
           {
            "colorbar": {
             "outlinewidth": 0,
             "ticks": ""
            },
            "colorscale": [
             [
              0,
              "#0d0887"
             ],
             [
              0.1111111111111111,
              "#46039f"
             ],
             [
              0.2222222222222222,
              "#7201a8"
             ],
             [
              0.3333333333333333,
              "#9c179e"
             ],
             [
              0.4444444444444444,
              "#bd3786"
             ],
             [
              0.5555555555555556,
              "#d8576b"
             ],
             [
              0.6666666666666666,
              "#ed7953"
             ],
             [
              0.7777777777777778,
              "#fb9f3a"
             ],
             [
              0.8888888888888888,
              "#fdca26"
             ],
             [
              1,
              "#f0f921"
             ]
            ],
            "type": "surface"
           }
          ],
          "table": [
           {
            "cells": {
             "fill": {
              "color": "#EBF0F8"
             },
             "line": {
              "color": "white"
             }
            },
            "header": {
             "fill": {
              "color": "#C8D4E3"
             },
             "line": {
              "color": "white"
             }
            },
            "type": "table"
           }
          ]
         },
         "layout": {
          "annotationdefaults": {
           "arrowcolor": "#2a3f5f",
           "arrowhead": 0,
           "arrowwidth": 1
          },
          "autotypenumbers": "strict",
          "coloraxis": {
           "colorbar": {
            "outlinewidth": 0,
            "ticks": ""
           }
          },
          "colorscale": {
           "diverging": [
            [
             0,
             "#8e0152"
            ],
            [
             0.1,
             "#c51b7d"
            ],
            [
             0.2,
             "#de77ae"
            ],
            [
             0.3,
             "#f1b6da"
            ],
            [
             0.4,
             "#fde0ef"
            ],
            [
             0.5,
             "#f7f7f7"
            ],
            [
             0.6,
             "#e6f5d0"
            ],
            [
             0.7,
             "#b8e186"
            ],
            [
             0.8,
             "#7fbc41"
            ],
            [
             0.9,
             "#4d9221"
            ],
            [
             1,
             "#276419"
            ]
           ],
           "sequential": [
            [
             0,
             "#0d0887"
            ],
            [
             0.1111111111111111,
             "#46039f"
            ],
            [
             0.2222222222222222,
             "#7201a8"
            ],
            [
             0.3333333333333333,
             "#9c179e"
            ],
            [
             0.4444444444444444,
             "#bd3786"
            ],
            [
             0.5555555555555556,
             "#d8576b"
            ],
            [
             0.6666666666666666,
             "#ed7953"
            ],
            [
             0.7777777777777778,
             "#fb9f3a"
            ],
            [
             0.8888888888888888,
             "#fdca26"
            ],
            [
             1,
             "#f0f921"
            ]
           ],
           "sequentialminus": [
            [
             0,
             "#0d0887"
            ],
            [
             0.1111111111111111,
             "#46039f"
            ],
            [
             0.2222222222222222,
             "#7201a8"
            ],
            [
             0.3333333333333333,
             "#9c179e"
            ],
            [
             0.4444444444444444,
             "#bd3786"
            ],
            [
             0.5555555555555556,
             "#d8576b"
            ],
            [
             0.6666666666666666,
             "#ed7953"
            ],
            [
             0.7777777777777778,
             "#fb9f3a"
            ],
            [
             0.8888888888888888,
             "#fdca26"
            ],
            [
             1,
             "#f0f921"
            ]
           ]
          },
          "colorway": [
           "#636efa",
           "#EF553B",
           "#00cc96",
           "#ab63fa",
           "#FFA15A",
           "#19d3f3",
           "#FF6692",
           "#B6E880",
           "#FF97FF",
           "#FECB52"
          ],
          "font": {
           "color": "#2a3f5f"
          },
          "geo": {
           "bgcolor": "white",
           "lakecolor": "white",
           "landcolor": "#E5ECF6",
           "showlakes": true,
           "showland": true,
           "subunitcolor": "white"
          },
          "hoverlabel": {
           "align": "left"
          },
          "hovermode": "closest",
          "mapbox": {
           "style": "light"
          },
          "paper_bgcolor": "white",
          "plot_bgcolor": "#E5ECF6",
          "polar": {
           "angularaxis": {
            "gridcolor": "white",
            "linecolor": "white",
            "ticks": ""
           },
           "bgcolor": "#E5ECF6",
           "radialaxis": {
            "gridcolor": "white",
            "linecolor": "white",
            "ticks": ""
           }
          },
          "scene": {
           "xaxis": {
            "backgroundcolor": "#E5ECF6",
            "gridcolor": "white",
            "gridwidth": 2,
            "linecolor": "white",
            "showbackground": true,
            "ticks": "",
            "zerolinecolor": "white"
           },
           "yaxis": {
            "backgroundcolor": "#E5ECF6",
            "gridcolor": "white",
            "gridwidth": 2,
            "linecolor": "white",
            "showbackground": true,
            "ticks": "",
            "zerolinecolor": "white"
           },
           "zaxis": {
            "backgroundcolor": "#E5ECF6",
            "gridcolor": "white",
            "gridwidth": 2,
            "linecolor": "white",
            "showbackground": true,
            "ticks": "",
            "zerolinecolor": "white"
           }
          },
          "shapedefaults": {
           "line": {
            "color": "#2a3f5f"
           }
          },
          "ternary": {
           "aaxis": {
            "gridcolor": "white",
            "linecolor": "white",
            "ticks": ""
           },
           "baxis": {
            "gridcolor": "white",
            "linecolor": "white",
            "ticks": ""
           },
           "bgcolor": "#E5ECF6",
           "caxis": {
            "gridcolor": "white",
            "linecolor": "white",
            "ticks": ""
           }
          },
          "title": {
           "x": 0.05
          },
          "xaxis": {
           "automargin": true,
           "gridcolor": "white",
           "linecolor": "white",
           "ticks": "",
           "title": {
            "standoff": 15
           },
           "zerolinecolor": "white",
           "zerolinewidth": 2
          },
          "yaxis": {
           "automargin": true,
           "gridcolor": "white",
           "linecolor": "white",
           "ticks": "",
           "title": {
            "standoff": 15
           },
           "zerolinecolor": "white",
           "zerolinewidth": 2
          }
         }
        },
        "xaxis": {
         "anchor": "y",
         "domain": [
          0,
          1
         ],
         "title": {
          "text": "date"
         }
        },
        "yaxis": {
         "anchor": "x",
         "domain": [
          0,
          1
         ],
         "range": [
          1.9868055411304315,
          1.99
         ],
         "title": {
          "text": "Price"
         }
        }
       }
      },
      "text/html": [
       "<div>                            <div id=\"5c10730b-9ff6-454c-b17b-befd184a1f1b\" class=\"plotly-graph-div\" style=\"height:525px; width:100%;\"></div>            <script type=\"text/javascript\">                require([\"plotly\"], function(Plotly) {                    window.PLOTLYENV=window.PLOTLYENV || {};                                    if (document.getElementById(\"5c10730b-9ff6-454c-b17b-befd184a1f1b\")) {                    Plotly.newPlot(                        \"5c10730b-9ff6-454c-b17b-befd184a1f1b\",                        [{\"alignmentgroup\":\"True\",\"hovertemplate\":\"date=%{x}<br>Price=%{y}<extra></extra>\",\"legendgroup\":\"\",\"marker\":{\"color\":\"#636efa\",\"pattern\":{\"shape\":\"\"}},\"name\":\"\",\"offsetgroup\":\"\",\"orientation\":\"v\",\"showlegend\":false,\"textposition\":\"auto\",\"type\":\"bar\",\"x\":[\"2021-12-12\",\"2021-12-19\",\"2021-12-26\",\"2022-01-02\",\"2022-01-09\",\"2022-01-16\",\"2022-01-23\",\"2022-01-30\",\"2022-02-06\",\"2022-02-13\",\"2022-02-20\",\"2022-02-27\",\"2022-03-06\",\"2022-03-13\",\"2022-03-20\",\"2022-03-27\",\"2022-04-03\",\"2022-04-10\",\"2022-04-17\",\"2022-04-24\",\"2022-05-01\",\"2022-05-08\",\"2022-05-15\",\"2022-05-22\",\"2022-05-29\",\"2022-06-05\",\"2022-06-12\",\"2022-06-19\",\"2022-06-26\",\"2022-07-03\",\"2022-07-10\",\"2022-07-17\",\"2022-07-24\",\"2022-07-31\",\"2022-08-07\",\"2022-08-14\",\"2022-08-21\",\"2022-08-28\",\"2022-09-04\",\"2022-09-11\",\"2022-09-18\"],\"xaxis\":\"x\",\"y\":[1.99,1.9899201385282608,1.9898402770565211,1.9897604155847823,1.989680554113043,1.989600692641304,1.9895208311695645,1.9894409696978257,1.9893611082260865,1.9892812467543468,1.989201385282608,1.9891215238108688,1.9890416623391292,1.9889618008673904,1.9888819393956512,1.9888020779239115,1.9887222164521725,1.9886423549804333,1.9885624935086943,1.9884826320369549,1.988402770565216,1.9883229090934769,1.9882430476217368,1.9881631861499984,1.988083324678259,1.9880034632065195,1.9879236017347808,1.987843740263041,1.9877638787913023,1.987684017319563,1.9876041558478237,1.9875242943760845,1.9874444329043448,1.9873645714326056,1.9872847099608668,1.987204848489128,1.987124987017388,1.987045125545649,1.9869652640739104,1.986885402602171,1.9868055411304315],\"yaxis\":\"y\"}],                        {\"barmode\":\"relative\",\"legend\":{\"tracegroupgap\":0},\"margin\":{\"t\":60},\"template\":{\"data\":{\"bar\":[{\"error_x\":{\"color\":\"#2a3f5f\"},\"error_y\":{\"color\":\"#2a3f5f\"},\"marker\":{\"line\":{\"color\":\"#E5ECF6\",\"width\":0.5},\"pattern\":{\"fillmode\":\"overlay\",\"size\":10,\"solidity\":0.2}},\"type\":\"bar\"}],\"barpolar\":[{\"marker\":{\"line\":{\"color\":\"#E5ECF6\",\"width\":0.5},\"pattern\":{\"fillmode\":\"overlay\",\"size\":10,\"solidity\":0.2}},\"type\":\"barpolar\"}],\"carpet\":[{\"aaxis\":{\"endlinecolor\":\"#2a3f5f\",\"gridcolor\":\"white\",\"linecolor\":\"white\",\"minorgridcolor\":\"white\",\"startlinecolor\":\"#2a3f5f\"},\"baxis\":{\"endlinecolor\":\"#2a3f5f\",\"gridcolor\":\"white\",\"linecolor\":\"white\",\"minorgridcolor\":\"white\",\"startlinecolor\":\"#2a3f5f\"},\"type\":\"carpet\"}],\"choropleth\":[{\"colorbar\":{\"outlinewidth\":0,\"ticks\":\"\"},\"type\":\"choropleth\"}],\"contour\":[{\"colorbar\":{\"outlinewidth\":0,\"ticks\":\"\"},\"colorscale\":[[0.0,\"#0d0887\"],[0.1111111111111111,\"#46039f\"],[0.2222222222222222,\"#7201a8\"],[0.3333333333333333,\"#9c179e\"],[0.4444444444444444,\"#bd3786\"],[0.5555555555555556,\"#d8576b\"],[0.6666666666666666,\"#ed7953\"],[0.7777777777777778,\"#fb9f3a\"],[0.8888888888888888,\"#fdca26\"],[1.0,\"#f0f921\"]],\"type\":\"contour\"}],\"contourcarpet\":[{\"colorbar\":{\"outlinewidth\":0,\"ticks\":\"\"},\"type\":\"contourcarpet\"}],\"heatmap\":[{\"colorbar\":{\"outlinewidth\":0,\"ticks\":\"\"},\"colorscale\":[[0.0,\"#0d0887\"],[0.1111111111111111,\"#46039f\"],[0.2222222222222222,\"#7201a8\"],[0.3333333333333333,\"#9c179e\"],[0.4444444444444444,\"#bd3786\"],[0.5555555555555556,\"#d8576b\"],[0.6666666666666666,\"#ed7953\"],[0.7777777777777778,\"#fb9f3a\"],[0.8888888888888888,\"#fdca26\"],[1.0,\"#f0f921\"]],\"type\":\"heatmap\"}],\"heatmapgl\":[{\"colorbar\":{\"outlinewidth\":0,\"ticks\":\"\"},\"colorscale\":[[0.0,\"#0d0887\"],[0.1111111111111111,\"#46039f\"],[0.2222222222222222,\"#7201a8\"],[0.3333333333333333,\"#9c179e\"],[0.4444444444444444,\"#bd3786\"],[0.5555555555555556,\"#d8576b\"],[0.6666666666666666,\"#ed7953\"],[0.7777777777777778,\"#fb9f3a\"],[0.8888888888888888,\"#fdca26\"],[1.0,\"#f0f921\"]],\"type\":\"heatmapgl\"}],\"histogram\":[{\"marker\":{\"pattern\":{\"fillmode\":\"overlay\",\"size\":10,\"solidity\":0.2}},\"type\":\"histogram\"}],\"histogram2d\":[{\"colorbar\":{\"outlinewidth\":0,\"ticks\":\"\"},\"colorscale\":[[0.0,\"#0d0887\"],[0.1111111111111111,\"#46039f\"],[0.2222222222222222,\"#7201a8\"],[0.3333333333333333,\"#9c179e\"],[0.4444444444444444,\"#bd3786\"],[0.5555555555555556,\"#d8576b\"],[0.6666666666666666,\"#ed7953\"],[0.7777777777777778,\"#fb9f3a\"],[0.8888888888888888,\"#fdca26\"],[1.0,\"#f0f921\"]],\"type\":\"histogram2d\"}],\"histogram2dcontour\":[{\"colorbar\":{\"outlinewidth\":0,\"ticks\":\"\"},\"colorscale\":[[0.0,\"#0d0887\"],[0.1111111111111111,\"#46039f\"],[0.2222222222222222,\"#7201a8\"],[0.3333333333333333,\"#9c179e\"],[0.4444444444444444,\"#bd3786\"],[0.5555555555555556,\"#d8576b\"],[0.6666666666666666,\"#ed7953\"],[0.7777777777777778,\"#fb9f3a\"],[0.8888888888888888,\"#fdca26\"],[1.0,\"#f0f921\"]],\"type\":\"histogram2dcontour\"}],\"mesh3d\":[{\"colorbar\":{\"outlinewidth\":0,\"ticks\":\"\"},\"type\":\"mesh3d\"}],\"parcoords\":[{\"line\":{\"colorbar\":{\"outlinewidth\":0,\"ticks\":\"\"}},\"type\":\"parcoords\"}],\"pie\":[{\"automargin\":true,\"type\":\"pie\"}],\"scatter\":[{\"marker\":{\"colorbar\":{\"outlinewidth\":0,\"ticks\":\"\"}},\"type\":\"scatter\"}],\"scatter3d\":[{\"line\":{\"colorbar\":{\"outlinewidth\":0,\"ticks\":\"\"}},\"marker\":{\"colorbar\":{\"outlinewidth\":0,\"ticks\":\"\"}},\"type\":\"scatter3d\"}],\"scattercarpet\":[{\"marker\":{\"colorbar\":{\"outlinewidth\":0,\"ticks\":\"\"}},\"type\":\"scattercarpet\"}],\"scattergeo\":[{\"marker\":{\"colorbar\":{\"outlinewidth\":0,\"ticks\":\"\"}},\"type\":\"scattergeo\"}],\"scattergl\":[{\"marker\":{\"colorbar\":{\"outlinewidth\":0,\"ticks\":\"\"}},\"type\":\"scattergl\"}],\"scattermapbox\":[{\"marker\":{\"colorbar\":{\"outlinewidth\":0,\"ticks\":\"\"}},\"type\":\"scattermapbox\"}],\"scatterpolar\":[{\"marker\":{\"colorbar\":{\"outlinewidth\":0,\"ticks\":\"\"}},\"type\":\"scatterpolar\"}],\"scatterpolargl\":[{\"marker\":{\"colorbar\":{\"outlinewidth\":0,\"ticks\":\"\"}},\"type\":\"scatterpolargl\"}],\"scatterternary\":[{\"marker\":{\"colorbar\":{\"outlinewidth\":0,\"ticks\":\"\"}},\"type\":\"scatterternary\"}],\"surface\":[{\"colorbar\":{\"outlinewidth\":0,\"ticks\":\"\"},\"colorscale\":[[0.0,\"#0d0887\"],[0.1111111111111111,\"#46039f\"],[0.2222222222222222,\"#7201a8\"],[0.3333333333333333,\"#9c179e\"],[0.4444444444444444,\"#bd3786\"],[0.5555555555555556,\"#d8576b\"],[0.6666666666666666,\"#ed7953\"],[0.7777777777777778,\"#fb9f3a\"],[0.8888888888888888,\"#fdca26\"],[1.0,\"#f0f921\"]],\"type\":\"surface\"}],\"table\":[{\"cells\":{\"fill\":{\"color\":\"#EBF0F8\"},\"line\":{\"color\":\"white\"}},\"header\":{\"fill\":{\"color\":\"#C8D4E3\"},\"line\":{\"color\":\"white\"}},\"type\":\"table\"}]},\"layout\":{\"annotationdefaults\":{\"arrowcolor\":\"#2a3f5f\",\"arrowhead\":0,\"arrowwidth\":1},\"autotypenumbers\":\"strict\",\"coloraxis\":{\"colorbar\":{\"outlinewidth\":0,\"ticks\":\"\"}},\"colorscale\":{\"diverging\":[[0,\"#8e0152\"],[0.1,\"#c51b7d\"],[0.2,\"#de77ae\"],[0.3,\"#f1b6da\"],[0.4,\"#fde0ef\"],[0.5,\"#f7f7f7\"],[0.6,\"#e6f5d0\"],[0.7,\"#b8e186\"],[0.8,\"#7fbc41\"],[0.9,\"#4d9221\"],[1,\"#276419\"]],\"sequential\":[[0.0,\"#0d0887\"],[0.1111111111111111,\"#46039f\"],[0.2222222222222222,\"#7201a8\"],[0.3333333333333333,\"#9c179e\"],[0.4444444444444444,\"#bd3786\"],[0.5555555555555556,\"#d8576b\"],[0.6666666666666666,\"#ed7953\"],[0.7777777777777778,\"#fb9f3a\"],[0.8888888888888888,\"#fdca26\"],[1.0,\"#f0f921\"]],\"sequentialminus\":[[0.0,\"#0d0887\"],[0.1111111111111111,\"#46039f\"],[0.2222222222222222,\"#7201a8\"],[0.3333333333333333,\"#9c179e\"],[0.4444444444444444,\"#bd3786\"],[0.5555555555555556,\"#d8576b\"],[0.6666666666666666,\"#ed7953\"],[0.7777777777777778,\"#fb9f3a\"],[0.8888888888888888,\"#fdca26\"],[1.0,\"#f0f921\"]]},\"colorway\":[\"#636efa\",\"#EF553B\",\"#00cc96\",\"#ab63fa\",\"#FFA15A\",\"#19d3f3\",\"#FF6692\",\"#B6E880\",\"#FF97FF\",\"#FECB52\"],\"font\":{\"color\":\"#2a3f5f\"},\"geo\":{\"bgcolor\":\"white\",\"lakecolor\":\"white\",\"landcolor\":\"#E5ECF6\",\"showlakes\":true,\"showland\":true,\"subunitcolor\":\"white\"},\"hoverlabel\":{\"align\":\"left\"},\"hovermode\":\"closest\",\"mapbox\":{\"style\":\"light\"},\"paper_bgcolor\":\"white\",\"plot_bgcolor\":\"#E5ECF6\",\"polar\":{\"angularaxis\":{\"gridcolor\":\"white\",\"linecolor\":\"white\",\"ticks\":\"\"},\"bgcolor\":\"#E5ECF6\",\"radialaxis\":{\"gridcolor\":\"white\",\"linecolor\":\"white\",\"ticks\":\"\"}},\"scene\":{\"xaxis\":{\"backgroundcolor\":\"#E5ECF6\",\"gridcolor\":\"white\",\"gridwidth\":2,\"linecolor\":\"white\",\"showbackground\":true,\"ticks\":\"\",\"zerolinecolor\":\"white\"},\"yaxis\":{\"backgroundcolor\":\"#E5ECF6\",\"gridcolor\":\"white\",\"gridwidth\":2,\"linecolor\":\"white\",\"showbackground\":true,\"ticks\":\"\",\"zerolinecolor\":\"white\"},\"zaxis\":{\"backgroundcolor\":\"#E5ECF6\",\"gridcolor\":\"white\",\"gridwidth\":2,\"linecolor\":\"white\",\"showbackground\":true,\"ticks\":\"\",\"zerolinecolor\":\"white\"}},\"shapedefaults\":{\"line\":{\"color\":\"#2a3f5f\"}},\"ternary\":{\"aaxis\":{\"gridcolor\":\"white\",\"linecolor\":\"white\",\"ticks\":\"\"},\"baxis\":{\"gridcolor\":\"white\",\"linecolor\":\"white\",\"ticks\":\"\"},\"bgcolor\":\"#E5ECF6\",\"caxis\":{\"gridcolor\":\"white\",\"linecolor\":\"white\",\"ticks\":\"\"}},\"title\":{\"x\":0.05},\"xaxis\":{\"automargin\":true,\"gridcolor\":\"white\",\"linecolor\":\"white\",\"ticks\":\"\",\"title\":{\"standoff\":15},\"zerolinecolor\":\"white\",\"zerolinewidth\":2},\"yaxis\":{\"automargin\":true,\"gridcolor\":\"white\",\"linecolor\":\"white\",\"ticks\":\"\",\"title\":{\"standoff\":15},\"zerolinecolor\":\"white\",\"zerolinewidth\":2}}},\"xaxis\":{\"anchor\":\"y\",\"domain\":[0.0,1.0],\"title\":{\"text\":\"date\"}},\"yaxis\":{\"anchor\":\"x\",\"domain\":[0.0,1.0],\"range\":[1.9868055411304315,1.99],\"title\":{\"text\":\"Price\"}}},                        {\"responsive\": true}                    ).then(function(){\n",
       "                            \n",
       "var gd = document.getElementById('5c10730b-9ff6-454c-b17b-befd184a1f1b');\n",
       "var x = new MutationObserver(function (mutations, observer) {{\n",
       "        var display = window.getComputedStyle(gd).display;\n",
       "        if (!display || display === 'none') {{\n",
       "            console.log([gd, 'removed!']);\n",
       "            Plotly.purge(gd);\n",
       "            observer.disconnect();\n",
       "        }}\n",
       "}});\n",
       "\n",
       "// Listen for the removal of the full notebook cells\n",
       "var notebookContainer = gd.closest('#notebook-container');\n",
       "if (notebookContainer) {{\n",
       "    x.observe(notebookContainer, {childList: true});\n",
       "}}\n",
       "\n",
       "// Listen for the clearing of the current output cell\n",
       "var outputEl = gd.closest('.output');\n",
       "if (outputEl) {{\n",
       "    x.observe(outputEl, {childList: true});\n",
       "}}\n",
       "\n",
       "                        })                };                });            </script>        </div>"
      ]
     },
     "metadata": {},
     "output_type": "display_data"
    }
   ],
   "source": [
    "pred = pd.read_csv(\"stdata/pred.csv\")\n",
    "fig = px.bar(pred, x='date', y='Price')\n",
    "fig.update_yaxes(range=[min(pred['Price']),max(pred['Price'])]) \n",
    "# fig.update_yaxes(tickangle=45, tickmode='array', tickvals=[1,max(pred.Price)])\n",
    "fig.show()"
   ]
  },
  {
   "cell_type": "code",
   "execution_count": 119,
   "id": "f78f5468",
   "metadata": {},
   "outputs": [
    {
     "ename": "NameError",
     "evalue": "name 'todo' is not defined",
     "output_type": "error",
     "traceback": [
      "\u001b[0;31m---------------------------------------------------------------------------\u001b[0m",
      "\u001b[0;31mNameError\u001b[0m                                 Traceback (most recent call last)",
      "\u001b[0;32m/tmp/ipykernel_491/388257760.py\u001b[0m in \u001b[0;36m<module>\u001b[0;34m\u001b[0m\n\u001b[1;32m     29\u001b[0m \u001b[0;31m################## TODAY  ###########################\u001b[0m\u001b[0;34m\u001b[0m\u001b[0;34m\u001b[0m\u001b[0m\n\u001b[1;32m     30\u001b[0m \u001b[0;31m#####################################################\u001b[0m\u001b[0;34m\u001b[0m\u001b[0;34m\u001b[0m\u001b[0m\n\u001b[0;32m---> 31\u001b[0;31m \u001b[0mtoday\u001b[0m \u001b[0;34m=\u001b[0m \u001b[0mtodo\u001b[0m\u001b[0;34m[\u001b[0m\u001b[0mtodo\u001b[0m\u001b[0;34m[\u001b[0m\u001b[0;34m'product'\u001b[0m\u001b[0;34m]\u001b[0m \u001b[0;34m==\u001b[0m \u001b[0;34m'ajo'\u001b[0m\u001b[0;34m]\u001b[0m\u001b[0;34m\u001b[0m\u001b[0;34m\u001b[0m\u001b[0m\n\u001b[0m\u001b[1;32m     32\u001b[0m \u001b[0;34m\u001b[0m\u001b[0m\n\u001b[1;32m     33\u001b[0m \u001b[0mtoday\u001b[0m \u001b[0;34m=\u001b[0m\u001b[0mpd\u001b[0m\u001b[0;34m.\u001b[0m\u001b[0mDataFrame\u001b[0m\u001b[0;34m(\u001b[0m\u001b[0mtoday\u001b[0m\u001b[0;34m.\u001b[0m\u001b[0miloc\u001b[0m\u001b[0;34m[\u001b[0m\u001b[0;36m0\u001b[0m\u001b[0;34m,\u001b[0m\u001b[0;34m[\u001b[0m\u001b[0;36m4\u001b[0m\u001b[0;34m,\u001b[0m\u001b[0;36m0\u001b[0m\u001b[0;34m,\u001b[0m\u001b[0;36m2\u001b[0m\u001b[0;34m]\u001b[0m\u001b[0;34m]\u001b[0m\u001b[0;34m)\u001b[0m\u001b[0;34m.\u001b[0m\u001b[0mT\u001b[0m\u001b[0;34m\u001b[0m\u001b[0;34m\u001b[0m\u001b[0m\n",
      "\u001b[0;31mNameError\u001b[0m: name 'todo' is not defined"
     ]
    }
   ],
   "source": [
    "now = str(datetime.now())[:10].replace(\":\",\"_\")\n",
    "now = pd.to_datetime(now)\n",
    "now\n",
    "\n",
    "#####################################################\n",
    "############### FORECAST  ###########################\n",
    "#####################################################\n",
    "ajo = pd.read_csv(f\"../per_item/forecasts/ajo.csv\")\n",
    "ajo['date'] = [pd.to_datetime(i) for i in ajo['ds']]\n",
    "ajo.drop('ds',axis=1,inplace=True)\n",
    "\n",
    "#LASTPRICE#\n",
    "tillnow = ajo[ajo['date'] < now]\n",
    "lastprice = tillnow.tail(1)[['date','trend']]\n",
    "\n",
    "###5 PREDICTIONS######\n",
    "pred = ajo[ajo['date'] > now]\n",
    "pred = pd.DataFrame(pred.iloc[0:4,:])[['date','trend']]\n",
    "\n",
    "#JOIN LAST PRICE AND PREDICTIONS\n",
    "joined = pd.concat([lastprice,pred],axis=0)\n",
    "joined['trend'].iloc[0]\n",
    "\n",
    "#INSERT %CHANGE\n",
    "joined['change(%)'] = (joined['trend']-joined['trend'].iloc[0])/joined['trend'].iloc[0]+1\n",
    "\n",
    "\n",
    "#####################################################\n",
    "################## TODAY  ###########################\n",
    "#####################################################\n",
    "today = todo[todo['product'] == 'ajo']\n",
    "\n",
    "today =pd.DataFrame(today.iloc[0,[4,0,2]]).T\n",
    "\n",
    "today\n",
    "\n",
    "fin = pd.concat([ajohoy,joined])\n",
    "\n",
    "fin\n",
    "\n",
    "fin['name'] = fin['name'].iloc[0]\n",
    "fin['supermarket'] = fin['supermarket'].iloc[0]\n",
    "fin['price'] = fin['price'].iloc[0]*fin['change(%)']\n",
    "\n",
    "final = fin.iloc[1:,[0,1,3,2]]\n",
    "final.index = final.date\n",
    "final.drop(['date'],axis=1,inplace=True)\n",
    "\n",
    "final"
   ]
  },
  {
   "cell_type": "code",
   "execution_count": 7,
   "id": "2b142f3d",
   "metadata": {},
   "outputs": [
    {
     "ename": "NameError",
     "evalue": "name 'final' is not defined",
     "output_type": "error",
     "traceback": [
      "\u001b[0;31m---------------------------------------------------------------------------\u001b[0m",
      "\u001b[0;31mNameError\u001b[0m                                 Traceback (most recent call last)",
      "\u001b[0;32m/tmp/ipykernel_491/1875444114.py\u001b[0m in \u001b[0;36m<module>\u001b[0;34m\u001b[0m\n\u001b[0;32m----> 1\u001b[0;31m \u001b[0mfinal\u001b[0m\u001b[0;34m\u001b[0m\u001b[0;34m\u001b[0m\u001b[0m\n\u001b[0m",
      "\u001b[0;31mNameError\u001b[0m: name 'final' is not defined"
     ]
    }
   ],
   "source": [
    "final"
   ]
  },
  {
   "cell_type": "code",
   "execution_count": 75,
   "id": "ae8450f9",
   "metadata": {},
   "outputs": [
    {
     "data": {
      "text/html": [
       "<div>\n",
       "<style scoped>\n",
       "    .dataframe tbody tr th:only-of-type {\n",
       "        vertical-align: middle;\n",
       "    }\n",
       "\n",
       "    .dataframe tbody tr th {\n",
       "        vertical-align: top;\n",
       "    }\n",
       "\n",
       "    .dataframe thead th {\n",
       "        text-align: right;\n",
       "    }\n",
       "</style>\n",
       "<table border=\"1\" class=\"dataframe\">\n",
       "  <thead>\n",
       "    <tr style=\"text-align: right;\">\n",
       "      <th></th>\n",
       "      <th>Name</th>\n",
       "      <th>Price</th>\n",
       "      <th>Super</th>\n",
       "    </tr>\n",
       "    <tr>\n",
       "      <th>date</th>\n",
       "      <th></th>\n",
       "      <th></th>\n",
       "      <th></th>\n",
       "    </tr>\n",
       "  </thead>\n",
       "  <tbody>\n",
       "    <tr>\n",
       "      <th>2021-12-12</th>\n",
       "      <td>Aceite de girasol Carrefour garrafa 5 l.</td>\n",
       "      <td>1.390000</td>\n",
       "      <td>carrefour</td>\n",
       "    </tr>\n",
       "    <tr>\n",
       "      <th>2021-12-19</th>\n",
       "      <td>Aceite de girasol Carrefour garrafa 5 l.</td>\n",
       "      <td>1.389250</td>\n",
       "      <td>carrefour</td>\n",
       "    </tr>\n",
       "    <tr>\n",
       "      <th>2021-12-26</th>\n",
       "      <td>Aceite de girasol Carrefour garrafa 5 l.</td>\n",
       "      <td>1.388501</td>\n",
       "      <td>carrefour</td>\n",
       "    </tr>\n",
       "    <tr>\n",
       "      <th>2022-01-02</th>\n",
       "      <td>Aceite de girasol Carrefour garrafa 5 l.</td>\n",
       "      <td>1.387751</td>\n",
       "      <td>carrefour</td>\n",
       "    </tr>\n",
       "    <tr>\n",
       "      <th>2022-01-09</th>\n",
       "      <td>Aceite de girasol Carrefour garrafa 5 l.</td>\n",
       "      <td>1.387002</td>\n",
       "      <td>carrefour</td>\n",
       "    </tr>\n",
       "  </tbody>\n",
       "</table>\n",
       "</div>"
      ],
      "text/plain": [
       "                                                Name     Price      Super\n",
       "date                                                                     \n",
       "2021-12-12  Aceite de girasol Carrefour garrafa 5 l.  1.390000  carrefour\n",
       "2021-12-19  Aceite de girasol Carrefour garrafa 5 l.  1.389250  carrefour\n",
       "2021-12-26  Aceite de girasol Carrefour garrafa 5 l.  1.388501  carrefour\n",
       "2022-01-02  Aceite de girasol Carrefour garrafa 5 l.  1.387751  carrefour\n",
       "2022-01-09  Aceite de girasol Carrefour garrafa 5 l.  1.387002  carrefour"
      ]
     },
     "execution_count": 75,
     "metadata": {},
     "output_type": "execute_result"
    }
   ],
   "source": [
    "now = str(datetime.now())[:10].replace(\":\",\"_\")\n",
    "now = pd.to_datetime(now)\n",
    "now\n",
    "\n",
    "#####################################################\n",
    "############### FORECAST  ###########################\n",
    "#####################################################\n",
    "ajo = pd.read_csv(f\"../per_item/forecasts/ajo.csv\")\n",
    "ajo['date'] = [pd.to_datetime(i) for i in ajo['ds']]\n",
    "ajo.drop('ds',axis=1,inplace=True)\n",
    "\n",
    "#LASTPRICE#\n",
    "tillnow = ajo[ajo['date'] < now]\n",
    "lastprice = tillnow.tail(1)[['date','trend']]\n",
    "\n",
    "###5 PREDICTIONS######\n",
    "pred = ajo[ajo['date'] > now]\n",
    "pred = pd.DataFrame(pred.iloc[0:4,:])[['date','trend']]\n",
    "\n",
    "#JOIN LAST PRICE AND PREDICTIONS\n",
    "joined = pd.concat([lastprice,pred],axis=0)\n",
    "joined['trend'].iloc[0]\n",
    "\n",
    "#INSERT %CHANGE\n",
    "joined['change(%)'] = (joined['trend']-joined['trend'].iloc[0])/joined['trend'].iloc[0]+1\n",
    "\n",
    "#####################################################\n",
    "################## TODAY  ###########################\n",
    "#####################################################\n",
    "\n",
    "today = pd.read_csv(\"minperproduct.csv\")\n",
    "#JOIN PREDICTION AND TODAY\n",
    "fin = pd.DataFrame(pd.concat([pd.DataFrame(today.iloc[0,:]).T,joined]))\n",
    "\n",
    "#GET THE PRICES PREDICTED USING %CHANGE IN FORECASTS\n",
    "fin['Name'] = fin['Name'].iloc[0]\n",
    "fin['Super'] = fin['Super'].iloc[0]\n",
    "fin['Price'] = fin['Price'].iloc[0]*fin['change(%)']\n",
    "\n",
    "final = fin.iloc[1:,[0,1,2,4]]\n",
    "final.index = final.date\n",
    "final.drop(['date'],axis=1,inplace=True)\n",
    "\n",
    "final"
   ]
  },
  {
   "cell_type": "code",
   "execution_count": 71,
   "id": "dccc374a",
   "metadata": {},
   "outputs": [
    {
     "data": {
      "text/html": [
       "<div>\n",
       "<style scoped>\n",
       "    .dataframe tbody tr th:only-of-type {\n",
       "        vertical-align: middle;\n",
       "    }\n",
       "\n",
       "    .dataframe tbody tr th {\n",
       "        vertical-align: top;\n",
       "    }\n",
       "\n",
       "    .dataframe thead th {\n",
       "        text-align: right;\n",
       "    }\n",
       "</style>\n",
       "<table border=\"1\" class=\"dataframe\">\n",
       "  <thead>\n",
       "    <tr style=\"text-align: right;\">\n",
       "      <th></th>\n",
       "      <th>Name</th>\n",
       "      <th>Price</th>\n",
       "      <th>Super</th>\n",
       "    </tr>\n",
       "    <tr>\n",
       "      <th>date</th>\n",
       "      <th></th>\n",
       "      <th></th>\n",
       "      <th></th>\n",
       "    </tr>\n",
       "  </thead>\n",
       "  <tbody>\n",
       "    <tr>\n",
       "      <th>2021-12-12</th>\n",
       "      <td>Aceite de girasol Carrefour garrafa 5 l.</td>\n",
       "      <td>1.390000</td>\n",
       "      <td>carrefour</td>\n",
       "    </tr>\n",
       "    <tr>\n",
       "      <th>2021-12-19</th>\n",
       "      <td>Aceite de girasol Carrefour garrafa 5 l.</td>\n",
       "      <td>1.389250</td>\n",
       "      <td>carrefour</td>\n",
       "    </tr>\n",
       "    <tr>\n",
       "      <th>2021-12-26</th>\n",
       "      <td>Aceite de girasol Carrefour garrafa 5 l.</td>\n",
       "      <td>1.388501</td>\n",
       "      <td>carrefour</td>\n",
       "    </tr>\n",
       "    <tr>\n",
       "      <th>2022-01-02</th>\n",
       "      <td>Aceite de girasol Carrefour garrafa 5 l.</td>\n",
       "      <td>1.387751</td>\n",
       "      <td>carrefour</td>\n",
       "    </tr>\n",
       "    <tr>\n",
       "      <th>2022-01-09</th>\n",
       "      <td>Aceite de girasol Carrefour garrafa 5 l.</td>\n",
       "      <td>1.387002</td>\n",
       "      <td>carrefour</td>\n",
       "    </tr>\n",
       "  </tbody>\n",
       "</table>\n",
       "</div>"
      ],
      "text/plain": [
       "                                                Name     Price      Super\n",
       "date                                                                     \n",
       "2021-12-12  Aceite de girasol Carrefour garrafa 5 l.  1.390000  carrefour\n",
       "2021-12-19  Aceite de girasol Carrefour garrafa 5 l.  1.389250  carrefour\n",
       "2021-12-26  Aceite de girasol Carrefour garrafa 5 l.  1.388501  carrefour\n",
       "2022-01-02  Aceite de girasol Carrefour garrafa 5 l.  1.387751  carrefour\n",
       "2022-01-09  Aceite de girasol Carrefour garrafa 5 l.  1.387002  carrefour"
      ]
     },
     "execution_count": 71,
     "metadata": {},
     "output_type": "execute_result"
    }
   ],
   "source": [
    "today = pd.read_csv(\"minperproduct.csv\")\n",
    "#JOIN PREDICTION AND TODAY\n",
    "fin = pd.DataFrame(pd.concat([pd.DataFrame(today.iloc[0,:]).T,joined]))\n",
    "\n",
    "#GET THE PRICES PREDICTED USING %CHANGE IN FORECASTS\n",
    "fin['Name'] = fin['Name'].iloc[0]\n",
    "fin['Super'] = fin['Super'].iloc[0]\n",
    "fin['Price'] = fin['Price'].iloc[0]*fin['change(%)']\n",
    "\n",
    "final = fin.iloc[1:,[0,1,2,4]]\n",
    "final.index = final.date\n",
    "final.drop(['date'],axis=1,inplace=True)\n",
    "\n",
    "final\n",
    "# today =pd.DataFrame(today.iloc[0,[4,0,2]]).T\n",
    "\n",
    "# today\n",
    "\n",
    "# fin = pd.concat([ajohoy,joined])\n",
    "\n",
    "# fin\n",
    "\n",
    "# fin['name'] = fin['name'].iloc[0]\n",
    "# fin['supermarket'] = fin['supermarket'].iloc[0]\n",
    "# fin['price'] = fin['price'].iloc[0]*fin['change(%)']\n",
    "\n",
    "# final = fin.iloc[1:,[0,1,3,2]]\n",
    "# final.index = final.date\n",
    "# final.drop(['date'],axis=1,inplace=True)\n",
    "\n",
    "# final"
   ]
  },
  {
   "cell_type": "code",
   "execution_count": 68,
   "id": "13279f86",
   "metadata": {},
   "outputs": [
    {
     "data": {
      "text/html": [
       "<div>\n",
       "<style scoped>\n",
       "    .dataframe tbody tr th:only-of-type {\n",
       "        vertical-align: middle;\n",
       "    }\n",
       "\n",
       "    .dataframe tbody tr th {\n",
       "        vertical-align: top;\n",
       "    }\n",
       "\n",
       "    .dataframe thead th {\n",
       "        text-align: right;\n",
       "    }\n",
       "</style>\n",
       "<table border=\"1\" class=\"dataframe\">\n",
       "  <thead>\n",
       "    <tr style=\"text-align: right;\">\n",
       "      <th></th>\n",
       "      <th>Name</th>\n",
       "      <th>Price</th>\n",
       "      <th>Super</th>\n",
       "      <th>Link</th>\n",
       "      <th>date</th>\n",
       "      <th>trend</th>\n",
       "      <th>change(%)</th>\n",
       "    </tr>\n",
       "  </thead>\n",
       "  <tbody>\n",
       "    <tr>\n",
       "      <th>0</th>\n",
       "      <td>Aceite de girasol Carrefour garrafa 5 l.</td>\n",
       "      <td>1.39</td>\n",
       "      <td>carrefour</td>\n",
       "      <td>https://www.carrefour.es/?q=aceite de girasol&amp;...</td>\n",
       "      <td>NaT</td>\n",
       "      <td>NaN</td>\n",
       "      <td>NaN</td>\n",
       "    </tr>\n",
       "    <tr>\n",
       "      <th>775</th>\n",
       "      <td>NaN</td>\n",
       "      <td>NaN</td>\n",
       "      <td>NaN</td>\n",
       "      <td>NaN</td>\n",
       "      <td>2021-12-12</td>\n",
       "      <td>185.506008</td>\n",
       "      <td>1.000000</td>\n",
       "    </tr>\n",
       "    <tr>\n",
       "      <th>776</th>\n",
       "      <td>NaN</td>\n",
       "      <td>NaN</td>\n",
       "      <td>NaN</td>\n",
       "      <td>NaN</td>\n",
       "      <td>2021-12-19</td>\n",
       "      <td>185.405972</td>\n",
       "      <td>0.999461</td>\n",
       "    </tr>\n",
       "    <tr>\n",
       "      <th>777</th>\n",
       "      <td>NaN</td>\n",
       "      <td>NaN</td>\n",
       "      <td>NaN</td>\n",
       "      <td>NaN</td>\n",
       "      <td>2021-12-26</td>\n",
       "      <td>185.305937</td>\n",
       "      <td>0.998921</td>\n",
       "    </tr>\n",
       "    <tr>\n",
       "      <th>778</th>\n",
       "      <td>NaN</td>\n",
       "      <td>NaN</td>\n",
       "      <td>NaN</td>\n",
       "      <td>NaN</td>\n",
       "      <td>2022-01-02</td>\n",
       "      <td>185.205901</td>\n",
       "      <td>0.998382</td>\n",
       "    </tr>\n",
       "    <tr>\n",
       "      <th>779</th>\n",
       "      <td>NaN</td>\n",
       "      <td>NaN</td>\n",
       "      <td>NaN</td>\n",
       "      <td>NaN</td>\n",
       "      <td>2022-01-09</td>\n",
       "      <td>185.105866</td>\n",
       "      <td>0.997843</td>\n",
       "    </tr>\n",
       "  </tbody>\n",
       "</table>\n",
       "</div>"
      ],
      "text/plain": [
       "                                         Name Price      Super  \\\n",
       "0    Aceite de girasol Carrefour garrafa 5 l.  1.39  carrefour   \n",
       "775                                       NaN   NaN        NaN   \n",
       "776                                       NaN   NaN        NaN   \n",
       "777                                       NaN   NaN        NaN   \n",
       "778                                       NaN   NaN        NaN   \n",
       "779                                       NaN   NaN        NaN   \n",
       "\n",
       "                                                  Link       date       trend  \\\n",
       "0    https://www.carrefour.es/?q=aceite de girasol&...        NaT         NaN   \n",
       "775                                                NaN 2021-12-12  185.506008   \n",
       "776                                                NaN 2021-12-19  185.405972   \n",
       "777                                                NaN 2021-12-26  185.305937   \n",
       "778                                                NaN 2022-01-02  185.205901   \n",
       "779                                                NaN 2022-01-09  185.105866   \n",
       "\n",
       "     change(%)  \n",
       "0          NaN  \n",
       "775   1.000000  \n",
       "776   0.999461  \n",
       "777   0.998921  \n",
       "778   0.998382  \n",
       "779   0.997843  "
      ]
     },
     "execution_count": 68,
     "metadata": {},
     "output_type": "execute_result"
    }
   ],
   "source": [
    "fin"
   ]
  },
  {
   "cell_type": "code",
   "execution_count": 69,
   "id": "bbcfb266",
   "metadata": {},
   "outputs": [
    {
     "data": {
      "text/html": [
       "<div>\n",
       "<style scoped>\n",
       "    .dataframe tbody tr th:only-of-type {\n",
       "        vertical-align: middle;\n",
       "    }\n",
       "\n",
       "    .dataframe tbody tr th {\n",
       "        vertical-align: top;\n",
       "    }\n",
       "\n",
       "    .dataframe thead th {\n",
       "        text-align: right;\n",
       "    }\n",
       "</style>\n",
       "<table border=\"1\" class=\"dataframe\">\n",
       "  <thead>\n",
       "    <tr style=\"text-align: right;\">\n",
       "      <th></th>\n",
       "      <th>Name</th>\n",
       "      <th>Price</th>\n",
       "      <th>Super</th>\n",
       "    </tr>\n",
       "    <tr>\n",
       "      <th>date</th>\n",
       "      <th></th>\n",
       "      <th></th>\n",
       "      <th></th>\n",
       "    </tr>\n",
       "  </thead>\n",
       "  <tbody>\n",
       "    <tr>\n",
       "      <th>2021-12-12</th>\n",
       "      <td>Aceite de girasol Carrefour garrafa 5 l.</td>\n",
       "      <td>1.390000</td>\n",
       "      <td>carrefour</td>\n",
       "    </tr>\n",
       "    <tr>\n",
       "      <th>2021-12-19</th>\n",
       "      <td>Aceite de girasol Carrefour garrafa 5 l.</td>\n",
       "      <td>1.389250</td>\n",
       "      <td>carrefour</td>\n",
       "    </tr>\n",
       "    <tr>\n",
       "      <th>2021-12-26</th>\n",
       "      <td>Aceite de girasol Carrefour garrafa 5 l.</td>\n",
       "      <td>1.388501</td>\n",
       "      <td>carrefour</td>\n",
       "    </tr>\n",
       "    <tr>\n",
       "      <th>2022-01-02</th>\n",
       "      <td>Aceite de girasol Carrefour garrafa 5 l.</td>\n",
       "      <td>1.387751</td>\n",
       "      <td>carrefour</td>\n",
       "    </tr>\n",
       "    <tr>\n",
       "      <th>2022-01-09</th>\n",
       "      <td>Aceite de girasol Carrefour garrafa 5 l.</td>\n",
       "      <td>1.387002</td>\n",
       "      <td>carrefour</td>\n",
       "    </tr>\n",
       "  </tbody>\n",
       "</table>\n",
       "</div>"
      ],
      "text/plain": [
       "                                                Name     Price      Super\n",
       "date                                                                     \n",
       "2021-12-12  Aceite de girasol Carrefour garrafa 5 l.  1.390000  carrefour\n",
       "2021-12-19  Aceite de girasol Carrefour garrafa 5 l.  1.389250  carrefour\n",
       "2021-12-26  Aceite de girasol Carrefour garrafa 5 l.  1.388501  carrefour\n",
       "2022-01-02  Aceite de girasol Carrefour garrafa 5 l.  1.387751  carrefour\n",
       "2022-01-09  Aceite de girasol Carrefour garrafa 5 l.  1.387002  carrefour"
      ]
     },
     "execution_count": 69,
     "metadata": {},
     "output_type": "execute_result"
    }
   ],
   "source": [
    "fin\n",
    "fin['Name'] = fin['Name'].iloc[0]\n",
    "fin['Super'] = fin['Super'].iloc[0]\n",
    "fin['Price'] = fin['Price'].iloc[0]*fin['change(%)']\n",
    "\n",
    "final = fin.iloc[1:,[0,1,2,4]]\n",
    "final.index = final.date\n",
    "final.drop(['date'],axis=1,inplace=True)\n",
    "\n",
    "final"
   ]
  },
  {
   "cell_type": "code",
   "execution_count": 63,
   "id": "1ff2410c",
   "metadata": {},
   "outputs": [
    {
     "data": {
      "text/html": [
       "<div>\n",
       "<style scoped>\n",
       "    .dataframe tbody tr th:only-of-type {\n",
       "        vertical-align: middle;\n",
       "    }\n",
       "\n",
       "    .dataframe tbody tr th {\n",
       "        vertical-align: top;\n",
       "    }\n",
       "\n",
       "    .dataframe thead th {\n",
       "        text-align: right;\n",
       "    }\n",
       "</style>\n",
       "<table border=\"1\" class=\"dataframe\">\n",
       "  <thead>\n",
       "    <tr style=\"text-align: right;\">\n",
       "      <th></th>\n",
       "      <th>Name</th>\n",
       "      <th>Price</th>\n",
       "      <th>Super</th>\n",
       "      <th>Link</th>\n",
       "      <th>date</th>\n",
       "      <th>trend</th>\n",
       "      <th>change(%)</th>\n",
       "    </tr>\n",
       "  </thead>\n",
       "  <tbody>\n",
       "    <tr>\n",
       "      <th>0</th>\n",
       "      <td>Aceite de girasol Carrefour garrafa 5 l.</td>\n",
       "      <td>NaN</td>\n",
       "      <td>carrefour</td>\n",
       "      <td>https://www.carrefour.es/?q=aceite de girasol&amp;...</td>\n",
       "      <td>NaT</td>\n",
       "      <td>NaN</td>\n",
       "      <td>NaN</td>\n",
       "    </tr>\n",
       "    <tr>\n",
       "      <th>775</th>\n",
       "      <td>Aceite de girasol Carrefour garrafa 5 l.</td>\n",
       "      <td>1.390000</td>\n",
       "      <td>carrefour</td>\n",
       "      <td>NaN</td>\n",
       "      <td>2021-12-12</td>\n",
       "      <td>185.506008</td>\n",
       "      <td>1.000000</td>\n",
       "    </tr>\n",
       "    <tr>\n",
       "      <th>776</th>\n",
       "      <td>Aceite de girasol Carrefour garrafa 5 l.</td>\n",
       "      <td>1.389250</td>\n",
       "      <td>carrefour</td>\n",
       "      <td>NaN</td>\n",
       "      <td>2021-12-19</td>\n",
       "      <td>185.405972</td>\n",
       "      <td>0.999461</td>\n",
       "    </tr>\n",
       "    <tr>\n",
       "      <th>777</th>\n",
       "      <td>Aceite de girasol Carrefour garrafa 5 l.</td>\n",
       "      <td>1.388501</td>\n",
       "      <td>carrefour</td>\n",
       "      <td>NaN</td>\n",
       "      <td>2021-12-26</td>\n",
       "      <td>185.305937</td>\n",
       "      <td>0.998921</td>\n",
       "    </tr>\n",
       "    <tr>\n",
       "      <th>778</th>\n",
       "      <td>Aceite de girasol Carrefour garrafa 5 l.</td>\n",
       "      <td>1.387751</td>\n",
       "      <td>carrefour</td>\n",
       "      <td>NaN</td>\n",
       "      <td>2022-01-02</td>\n",
       "      <td>185.205901</td>\n",
       "      <td>0.998382</td>\n",
       "    </tr>\n",
       "    <tr>\n",
       "      <th>779</th>\n",
       "      <td>Aceite de girasol Carrefour garrafa 5 l.</td>\n",
       "      <td>1.387002</td>\n",
       "      <td>carrefour</td>\n",
       "      <td>NaN</td>\n",
       "      <td>2022-01-09</td>\n",
       "      <td>185.105866</td>\n",
       "      <td>0.997843</td>\n",
       "    </tr>\n",
       "  </tbody>\n",
       "</table>\n",
       "</div>"
      ],
      "text/plain": [
       "                                         Name     Price      Super  \\\n",
       "0    Aceite de girasol Carrefour garrafa 5 l.       NaN  carrefour   \n",
       "775  Aceite de girasol Carrefour garrafa 5 l.  1.390000  carrefour   \n",
       "776  Aceite de girasol Carrefour garrafa 5 l.  1.389250  carrefour   \n",
       "777  Aceite de girasol Carrefour garrafa 5 l.  1.388501  carrefour   \n",
       "778  Aceite de girasol Carrefour garrafa 5 l.  1.387751  carrefour   \n",
       "779  Aceite de girasol Carrefour garrafa 5 l.  1.387002  carrefour   \n",
       "\n",
       "                                                  Link       date       trend  \\\n",
       "0    https://www.carrefour.es/?q=aceite de girasol&...        NaT         NaN   \n",
       "775                                                NaN 2021-12-12  185.506008   \n",
       "776                                                NaN 2021-12-19  185.405972   \n",
       "777                                                NaN 2021-12-26  185.305937   \n",
       "778                                                NaN 2022-01-02  185.205901   \n",
       "779                                                NaN 2022-01-09  185.105866   \n",
       "\n",
       "     change(%)  \n",
       "0          NaN  \n",
       "775   1.000000  \n",
       "776   0.999461  \n",
       "777   0.998921  \n",
       "778   0.998382  \n",
       "779   0.997843  "
      ]
     },
     "execution_count": 63,
     "metadata": {},
     "output_type": "execute_result"
    }
   ],
   "source": [
    "fin"
   ]
  },
  {
   "cell_type": "code",
   "execution_count": null,
   "id": "8a85eac5",
   "metadata": {},
   "outputs": [],
   "source": []
  }
 ],
 "metadata": {
  "kernelspec": {
   "display_name": "iron",
   "language": "python",
   "name": "iron"
  },
  "language_info": {
   "codemirror_mode": {
    "name": "ipython",
    "version": 3
   },
   "file_extension": ".py",
   "mimetype": "text/x-python",
   "name": "python",
   "nbconvert_exporter": "python",
   "pygments_lexer": "ipython3",
   "version": "3.9.7"
  },
  "toc": {
   "base_numbering": 1,
   "nav_menu": {},
   "number_sections": true,
   "sideBar": true,
   "skip_h1_title": false,
   "title_cell": "Table of Contents",
   "title_sidebar": "Contents",
   "toc_cell": false,
   "toc_position": {},
   "toc_section_display": true,
   "toc_window_display": false
  }
 },
 "nbformat": 4,
 "nbformat_minor": 5
}
