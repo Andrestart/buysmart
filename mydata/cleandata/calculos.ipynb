{
 "cells": [
  {
   "cell_type": "code",
   "execution_count": 14,
   "id": "19ee1da4",
   "metadata": {},
   "outputs": [],
   "source": [
    "import pandas as pd\n",
    "from datetime import datetime\n",
    "import plotly "
   ]
  },
  {
   "cell_type": "code",
   "execution_count": 116,
   "id": "d3cce201",
   "metadata": {},
   "outputs": [],
   "source": [
    "todo = pd.read_csv(\"../scraps_dia/dia.csv\")"
   ]
  },
  {
   "cell_type": "code",
   "execution_count": 273,
   "id": "a2b9403b",
   "metadata": {},
   "outputs": [],
   "source": [
    "cebolla = pd.read_csv(\"../per_item/for_prophet/prophet_cebolla.csv\")"
   ]
  },
  {
   "cell_type": "code",
   "execution_count": 262,
   "id": "471e5b81",
   "metadata": {},
   "outputs": [],
   "source": [
    "cebolla['ds'] = [pd.to_datetime(i) for i in cebolla['ds']]"
   ]
  },
  {
   "cell_type": "code",
   "execution_count": 15,
   "id": "0119e056",
   "metadata": {},
   "outputs": [
    {
     "data": {
      "text/plain": [
       "Timestamp('2021-12-15 00:00:00')"
      ]
     },
     "execution_count": 15,
     "metadata": {},
     "output_type": "execute_result"
    }
   ],
   "source": [
    "now = str(datetime.now())[:10].replace(\":\",\"_\")\n",
    "now = pd.to_datetime(now)\n",
    "now"
   ]
  },
  {
   "cell_type": "code",
   "execution_count": null,
   "id": "ad0683d8",
   "metadata": {},
   "outputs": [],
   "source": [
    "pd.read_csv(\"../per_item/for_prophet/prophet_cebolla.csv\")"
   ]
  },
  {
   "cell_type": "code",
   "execution_count": null,
   "id": "95190d39",
   "metadata": {},
   "outputs": [],
   "source": []
  },
  {
   "cell_type": "code",
   "execution_count": 16,
   "id": "385a8e91",
   "metadata": {},
   "outputs": [],
   "source": [
    "ajo = pd.read_csv(f\"../per_item/forecasts/ajo.csv\")"
   ]
  },
  {
   "cell_type": "code",
   "execution_count": 71,
   "id": "8cfd3645",
   "metadata": {},
   "outputs": [],
   "source": [
    "ajo['date'] = [pd.to_datetime(i) for i in ajo['ds']]\n",
    "ajo.drop('ds',axis=1,inplace=True)"
   ]
  },
  {
   "cell_type": "code",
   "execution_count": 72,
   "id": "41d785a6",
   "metadata": {},
   "outputs": [],
   "source": [
    "tillnow = ajo[ajo['date'] < now]"
   ]
  },
  {
   "cell_type": "code",
   "execution_count": 73,
   "id": "0fb5cc47",
   "metadata": {},
   "outputs": [],
   "source": [
    "lastprice = tillnow.tail(1)[['date','trend']]"
   ]
  },
  {
   "cell_type": "code",
   "execution_count": 74,
   "id": "0ae90325",
   "metadata": {},
   "outputs": [
    {
     "data": {
      "text/html": [
       "<div>\n",
       "<style scoped>\n",
       "    .dataframe tbody tr th:only-of-type {\n",
       "        vertical-align: middle;\n",
       "    }\n",
       "\n",
       "    .dataframe tbody tr th {\n",
       "        vertical-align: top;\n",
       "    }\n",
       "\n",
       "    .dataframe thead th {\n",
       "        text-align: right;\n",
       "    }\n",
       "</style>\n",
       "<table border=\"1\" class=\"dataframe\">\n",
       "  <thead>\n",
       "    <tr style=\"text-align: right;\">\n",
       "      <th></th>\n",
       "      <th>date</th>\n",
       "      <th>trend</th>\n",
       "    </tr>\n",
       "  </thead>\n",
       "  <tbody>\n",
       "    <tr>\n",
       "      <th>775</th>\n",
       "      <td>2021-12-12</td>\n",
       "      <td>185.506008</td>\n",
       "    </tr>\n",
       "  </tbody>\n",
       "</table>\n",
       "</div>"
      ],
      "text/plain": [
       "          date       trend\n",
       "775 2021-12-12  185.506008"
      ]
     },
     "execution_count": 74,
     "metadata": {},
     "output_type": "execute_result"
    }
   ],
   "source": [
    "lastprice"
   ]
  },
  {
   "cell_type": "code",
   "execution_count": 75,
   "id": "bb627f10",
   "metadata": {},
   "outputs": [],
   "source": [
    "pred = ajo[ajo['date'] > now]"
   ]
  },
  {
   "cell_type": "code",
   "execution_count": 79,
   "id": "c1e4024f",
   "metadata": {},
   "outputs": [],
   "source": [
    "pred = pd.DataFrame(pred.iloc[0:4,:])[['date','trend']]"
   ]
  },
  {
   "cell_type": "code",
   "execution_count": 87,
   "id": "4df6c720",
   "metadata": {},
   "outputs": [
    {
     "data": {
      "text/html": [
       "<div>\n",
       "<style scoped>\n",
       "    .dataframe tbody tr th:only-of-type {\n",
       "        vertical-align: middle;\n",
       "    }\n",
       "\n",
       "    .dataframe tbody tr th {\n",
       "        vertical-align: top;\n",
       "    }\n",
       "\n",
       "    .dataframe thead th {\n",
       "        text-align: right;\n",
       "    }\n",
       "</style>\n",
       "<table border=\"1\" class=\"dataframe\">\n",
       "  <thead>\n",
       "    <tr style=\"text-align: right;\">\n",
       "      <th></th>\n",
       "      <th>date</th>\n",
       "      <th>trend</th>\n",
       "    </tr>\n",
       "  </thead>\n",
       "  <tbody>\n",
       "    <tr>\n",
       "      <th>775</th>\n",
       "      <td>2021-12-12</td>\n",
       "      <td>185.506008</td>\n",
       "    </tr>\n",
       "    <tr>\n",
       "      <th>776</th>\n",
       "      <td>2021-12-19</td>\n",
       "      <td>185.405972</td>\n",
       "    </tr>\n",
       "    <tr>\n",
       "      <th>777</th>\n",
       "      <td>2021-12-26</td>\n",
       "      <td>185.305937</td>\n",
       "    </tr>\n",
       "    <tr>\n",
       "      <th>778</th>\n",
       "      <td>2022-01-02</td>\n",
       "      <td>185.205901</td>\n",
       "    </tr>\n",
       "    <tr>\n",
       "      <th>779</th>\n",
       "      <td>2022-01-09</td>\n",
       "      <td>185.105866</td>\n",
       "    </tr>\n",
       "  </tbody>\n",
       "</table>\n",
       "</div>"
      ],
      "text/plain": [
       "          date       trend\n",
       "775 2021-12-12  185.506008\n",
       "776 2021-12-19  185.405972\n",
       "777 2021-12-26  185.305937\n",
       "778 2022-01-02  185.205901\n",
       "779 2022-01-09  185.105866"
      ]
     },
     "execution_count": 87,
     "metadata": {},
     "output_type": "execute_result"
    }
   ],
   "source": [
    "joined = pd.concat([lastprice,pred],axis=0)\n",
    "joined"
   ]
  },
  {
   "cell_type": "code",
   "execution_count": 90,
   "id": "d95abeab",
   "metadata": {},
   "outputs": [
    {
     "data": {
      "text/plain": [
       "185.5060076303711"
      ]
     },
     "execution_count": 90,
     "metadata": {},
     "output_type": "execute_result"
    }
   ],
   "source": [
    "joined['trend'].iloc[0]"
   ]
  },
  {
   "cell_type": "code",
   "execution_count": 186,
   "id": "b4d7f186",
   "metadata": {},
   "outputs": [],
   "source": [
    "joined['change(%)'] = (joined['trend']-joined['trend'].iloc[0])/joined['trend'].iloc[0]+1"
   ]
  },
  {
   "cell_type": "code",
   "execution_count": 221,
   "id": "8abcf477",
   "metadata": {},
   "outputs": [
    {
     "data": {
      "text/html": [
       "<div>\n",
       "<style scoped>\n",
       "    .dataframe tbody tr th:only-of-type {\n",
       "        vertical-align: middle;\n",
       "    }\n",
       "\n",
       "    .dataframe tbody tr th {\n",
       "        vertical-align: top;\n",
       "    }\n",
       "\n",
       "    .dataframe thead th {\n",
       "        text-align: right;\n",
       "    }\n",
       "</style>\n",
       "<table border=\"1\" class=\"dataframe\">\n",
       "  <thead>\n",
       "    <tr style=\"text-align: right;\">\n",
       "      <th></th>\n",
       "      <th>date</th>\n",
       "      <th>trend</th>\n",
       "      <th>change</th>\n",
       "      <th>change(%)</th>\n",
       "    </tr>\n",
       "  </thead>\n",
       "  <tbody>\n",
       "    <tr>\n",
       "      <th>775</th>\n",
       "      <td>2021-12-12</td>\n",
       "      <td>185.506008</td>\n",
       "      <td>-1.000000</td>\n",
       "      <td>1.000000</td>\n",
       "    </tr>\n",
       "    <tr>\n",
       "      <th>776</th>\n",
       "      <td>2021-12-19</td>\n",
       "      <td>185.405972</td>\n",
       "      <td>-1.053926</td>\n",
       "      <td>0.999461</td>\n",
       "    </tr>\n",
       "    <tr>\n",
       "      <th>777</th>\n",
       "      <td>2021-12-26</td>\n",
       "      <td>185.305937</td>\n",
       "      <td>-1.107851</td>\n",
       "      <td>0.998921</td>\n",
       "    </tr>\n",
       "    <tr>\n",
       "      <th>778</th>\n",
       "      <td>2022-01-02</td>\n",
       "      <td>185.205901</td>\n",
       "      <td>-1.161777</td>\n",
       "      <td>0.998382</td>\n",
       "    </tr>\n",
       "    <tr>\n",
       "      <th>779</th>\n",
       "      <td>2022-01-09</td>\n",
       "      <td>185.105866</td>\n",
       "      <td>-1.215703</td>\n",
       "      <td>0.997843</td>\n",
       "    </tr>\n",
       "  </tbody>\n",
       "</table>\n",
       "</div>"
      ],
      "text/plain": [
       "          date       trend    change  change(%)\n",
       "775 2021-12-12  185.506008 -1.000000   1.000000\n",
       "776 2021-12-19  185.405972 -1.053926   0.999461\n",
       "777 2021-12-26  185.305937 -1.107851   0.998921\n",
       "778 2022-01-02  185.205901 -1.161777   0.998382\n",
       "779 2022-01-09  185.105866 -1.215703   0.997843"
      ]
     },
     "execution_count": 221,
     "metadata": {},
     "output_type": "execute_result"
    }
   ],
   "source": [
    "joined"
   ]
  },
  {
   "cell_type": "code",
   "execution_count": 222,
   "id": "c30697e2",
   "metadata": {},
   "outputs": [],
   "source": [
    "ajohoy = todo[todo['product'] == 'ajo']"
   ]
  },
  {
   "cell_type": "code",
   "execution_count": 223,
   "id": "8247f583",
   "metadata": {},
   "outputs": [],
   "source": [
    "ajohoy =pd.DataFrame(ajohoy.iloc[0,[4,0,2]]).T"
   ]
  },
  {
   "cell_type": "code",
   "execution_count": 224,
   "id": "ab0bac85",
   "metadata": {
    "scrolled": true
   },
   "outputs": [
    {
     "data": {
      "text/html": [
       "<div>\n",
       "<style scoped>\n",
       "    .dataframe tbody tr th:only-of-type {\n",
       "        vertical-align: middle;\n",
       "    }\n",
       "\n",
       "    .dataframe tbody tr th {\n",
       "        vertical-align: top;\n",
       "    }\n",
       "\n",
       "    .dataframe thead th {\n",
       "        text-align: right;\n",
       "    }\n",
       "</style>\n",
       "<table border=\"1\" class=\"dataframe\">\n",
       "  <thead>\n",
       "    <tr style=\"text-align: right;\">\n",
       "      <th></th>\n",
       "      <th>name</th>\n",
       "      <th>price</th>\n",
       "      <th>supermarket</th>\n",
       "    </tr>\n",
       "  </thead>\n",
       "  <tbody>\n",
       "    <tr>\n",
       "      <th>28</th>\n",
       "      <td>Ajo morado malla 250 gr</td>\n",
       "      <td>5.8</td>\n",
       "      <td>dia</td>\n",
       "    </tr>\n",
       "  </tbody>\n",
       "</table>\n",
       "</div>"
      ],
      "text/plain": [
       "                       name price supermarket\n",
       "28  Ajo morado malla 250 gr   5.8         dia"
      ]
     },
     "execution_count": 224,
     "metadata": {},
     "output_type": "execute_result"
    }
   ],
   "source": [
    "ajohoy"
   ]
  },
  {
   "cell_type": "code",
   "execution_count": 254,
   "id": "8beef40d",
   "metadata": {},
   "outputs": [],
   "source": [
    "fin = pd.concat([ajohoy,joined])"
   ]
  },
  {
   "cell_type": "code",
   "execution_count": 256,
   "id": "3cb6df05",
   "metadata": {},
   "outputs": [
    {
     "data": {
      "text/html": [
       "<div>\n",
       "<style scoped>\n",
       "    .dataframe tbody tr th:only-of-type {\n",
       "        vertical-align: middle;\n",
       "    }\n",
       "\n",
       "    .dataframe tbody tr th {\n",
       "        vertical-align: top;\n",
       "    }\n",
       "\n",
       "    .dataframe thead th {\n",
       "        text-align: right;\n",
       "    }\n",
       "</style>\n",
       "<table border=\"1\" class=\"dataframe\">\n",
       "  <thead>\n",
       "    <tr style=\"text-align: right;\">\n",
       "      <th></th>\n",
       "      <th>name</th>\n",
       "      <th>price</th>\n",
       "      <th>supermarket</th>\n",
       "      <th>date</th>\n",
       "      <th>trend</th>\n",
       "      <th>change</th>\n",
       "      <th>change(%)</th>\n",
       "    </tr>\n",
       "  </thead>\n",
       "  <tbody>\n",
       "    <tr>\n",
       "      <th>28</th>\n",
       "      <td>Ajo morado malla 250 gr</td>\n",
       "      <td>5.8</td>\n",
       "      <td>dia</td>\n",
       "      <td>NaT</td>\n",
       "      <td>NaN</td>\n",
       "      <td>NaN</td>\n",
       "      <td>NaN</td>\n",
       "    </tr>\n",
       "    <tr>\n",
       "      <th>775</th>\n",
       "      <td>NaN</td>\n",
       "      <td>5.8</td>\n",
       "      <td>NaN</td>\n",
       "      <td>2021-12-12</td>\n",
       "      <td>185.506008</td>\n",
       "      <td>-1.000000</td>\n",
       "      <td>1.000000</td>\n",
       "    </tr>\n",
       "    <tr>\n",
       "      <th>776</th>\n",
       "      <td>NaN</td>\n",
       "      <td>5.8</td>\n",
       "      <td>NaN</td>\n",
       "      <td>2021-12-19</td>\n",
       "      <td>185.405972</td>\n",
       "      <td>-1.053926</td>\n",
       "      <td>0.999461</td>\n",
       "    </tr>\n",
       "    <tr>\n",
       "      <th>777</th>\n",
       "      <td>NaN</td>\n",
       "      <td>5.8</td>\n",
       "      <td>NaN</td>\n",
       "      <td>2021-12-26</td>\n",
       "      <td>185.305937</td>\n",
       "      <td>-1.107851</td>\n",
       "      <td>0.998921</td>\n",
       "    </tr>\n",
       "    <tr>\n",
       "      <th>778</th>\n",
       "      <td>NaN</td>\n",
       "      <td>5.8</td>\n",
       "      <td>NaN</td>\n",
       "      <td>2022-01-02</td>\n",
       "      <td>185.205901</td>\n",
       "      <td>-1.161777</td>\n",
       "      <td>0.998382</td>\n",
       "    </tr>\n",
       "    <tr>\n",
       "      <th>779</th>\n",
       "      <td>NaN</td>\n",
       "      <td>5.8</td>\n",
       "      <td>NaN</td>\n",
       "      <td>2022-01-09</td>\n",
       "      <td>185.105866</td>\n",
       "      <td>-1.215703</td>\n",
       "      <td>0.997843</td>\n",
       "    </tr>\n",
       "  </tbody>\n",
       "</table>\n",
       "</div>"
      ],
      "text/plain": [
       "                        name  price supermarket       date       trend  \\\n",
       "28   Ajo morado malla 250 gr    5.8         dia        NaT         NaN   \n",
       "775                      NaN    5.8         NaN 2021-12-12  185.506008   \n",
       "776                      NaN    5.8         NaN 2021-12-19  185.405972   \n",
       "777                      NaN    5.8         NaN 2021-12-26  185.305937   \n",
       "778                      NaN    5.8         NaN 2022-01-02  185.205901   \n",
       "779                      NaN    5.8         NaN 2022-01-09  185.105866   \n",
       "\n",
       "       change  change(%)  \n",
       "28        NaN        NaN  \n",
       "775 -1.000000   1.000000  \n",
       "776 -1.053926   0.999461  \n",
       "777 -1.107851   0.998921  \n",
       "778 -1.161777   0.998382  \n",
       "779 -1.215703   0.997843  "
      ]
     },
     "execution_count": 256,
     "metadata": {},
     "output_type": "execute_result"
    }
   ],
   "source": [
    "fin['price'] = fin['price'].iloc[0]\n",
    "fin"
   ]
  },
  {
   "cell_type": "code",
   "execution_count": 257,
   "id": "8fa6e2bc",
   "metadata": {},
   "outputs": [],
   "source": [
    "fin['name'] = fin['name'].iloc[0]\n",
    "fin['supermarket'] = fin['supermarket'].iloc[0]\n",
    "fin['newpprice'] = fin['price']*fin['change(%)']"
   ]
  },
  {
   "cell_type": "code",
   "execution_count": 261,
   "id": "1ac53e61",
   "metadata": {},
   "outputs": [],
   "source": [
    "fin['price'] = fin['newpprice']\n",
    "fin.drop('newpprice',axis=1,inplace=True)"
   ]
  },
  {
   "cell_type": "code",
   "execution_count": 264,
   "id": "9f329bdc",
   "metadata": {},
   "outputs": [],
   "source": [
    "iepa = fin [1:]"
   ]
  },
  {
   "cell_type": "code",
   "execution_count": 228,
   "id": "d02b89ce",
   "metadata": {},
   "outputs": [],
   "source": [
    "final = fin.iloc[1:,[0,1,3,2]]\n",
    "final.index = final.date\n",
    "final.drop(['date'],axis=1,inplace=True)"
   ]
  },
  {
   "cell_type": "code",
   "execution_count": 229,
   "id": "c73ac05b",
   "metadata": {},
   "outputs": [
    {
     "data": {
      "text/html": [
       "<div>\n",
       "<style scoped>\n",
       "    .dataframe tbody tr th:only-of-type {\n",
       "        vertical-align: middle;\n",
       "    }\n",
       "\n",
       "    .dataframe tbody tr th {\n",
       "        vertical-align: top;\n",
       "    }\n",
       "\n",
       "    .dataframe thead th {\n",
       "        text-align: right;\n",
       "    }\n",
       "</style>\n",
       "<table border=\"1\" class=\"dataframe\">\n",
       "  <thead>\n",
       "    <tr style=\"text-align: right;\">\n",
       "      <th></th>\n",
       "      <th>name</th>\n",
       "      <th>price</th>\n",
       "      <th>supermarket</th>\n",
       "    </tr>\n",
       "    <tr>\n",
       "      <th>date</th>\n",
       "      <th></th>\n",
       "      <th></th>\n",
       "      <th></th>\n",
       "    </tr>\n",
       "  </thead>\n",
       "  <tbody>\n",
       "    <tr>\n",
       "      <th>2021-12-12</th>\n",
       "      <td>Ajo morado malla 250 gr</td>\n",
       "      <td>5.800000</td>\n",
       "      <td>dia</td>\n",
       "    </tr>\n",
       "    <tr>\n",
       "      <th>2021-12-19</th>\n",
       "      <td>Ajo morado malla 250 gr</td>\n",
       "      <td>5.796872</td>\n",
       "      <td>dia</td>\n",
       "    </tr>\n",
       "    <tr>\n",
       "      <th>2021-12-26</th>\n",
       "      <td>Ajo morado malla 250 gr</td>\n",
       "      <td>5.793745</td>\n",
       "      <td>dia</td>\n",
       "    </tr>\n",
       "    <tr>\n",
       "      <th>2022-01-02</th>\n",
       "      <td>Ajo morado malla 250 gr</td>\n",
       "      <td>5.790617</td>\n",
       "      <td>dia</td>\n",
       "    </tr>\n",
       "    <tr>\n",
       "      <th>2022-01-09</th>\n",
       "      <td>Ajo morado malla 250 gr</td>\n",
       "      <td>5.787489</td>\n",
       "      <td>dia</td>\n",
       "    </tr>\n",
       "  </tbody>\n",
       "</table>\n",
       "</div>"
      ],
      "text/plain": [
       "                               name     price supermarket\n",
       "date                                                     \n",
       "2021-12-12  Ajo morado malla 250 gr  5.800000         dia\n",
       "2021-12-19  Ajo morado malla 250 gr  5.796872         dia\n",
       "2021-12-26  Ajo morado malla 250 gr  5.793745         dia\n",
       "2022-01-02  Ajo morado malla 250 gr  5.790617         dia\n",
       "2022-01-09  Ajo morado malla 250 gr  5.787489         dia"
      ]
     },
     "execution_count": 229,
     "metadata": {},
     "output_type": "execute_result"
    }
   ],
   "source": [
    "final"
   ]
  },
  {
   "cell_type": "code",
   "execution_count": 233,
   "id": "55adb752",
   "metadata": {},
   "outputs": [],
   "source": [
    "import plotly.express as px"
   ]
  },
  {
   "cell_type": "code",
   "execution_count": 269,
   "id": "51389039",
   "metadata": {},
   "outputs": [],
   "source": [
    "e = pd.read_csv(\"stdata/pred.csv\")"
   ]
  },
  {
   "cell_type": "code",
   "execution_count": 270,
   "id": "1e557b17",
   "metadata": {},
   "outputs": [
    {
     "data": {
      "application/vnd.plotly.v1+json": {
       "config": {
        "plotlyServerURL": "https://plot.ly"
       },
       "data": [
        {
         "hovertemplate": "date=%{x}<br>price=%{y}<extra></extra>",
         "legendgroup": "",
         "line": {
          "color": "#636efa",
          "dash": "solid"
         },
         "marker": {
          "symbol": "circle"
         },
         "mode": "lines",
         "name": "",
         "orientation": "v",
         "showlegend": false,
         "type": "scatter",
         "x": [
          "2021-12-12T00:00:00",
          "2021-12-19T00:00:00",
          "2021-12-26T00:00:00",
          "2022-01-02T00:00:00",
          "2022-01-09T00:00:00"
         ],
         "xaxis": "x",
         "y": [
          5.8,
          5.796872307318515,
          5.793744614637031,
          5.7906169219555474,
          5.787489229274064
         ],
         "yaxis": "y"
        }
       ],
       "layout": {
        "legend": {
         "tracegroupgap": 0
        },
        "margin": {
         "t": 60
        },
        "template": {
         "data": {
          "bar": [
           {
            "error_x": {
             "color": "#2a3f5f"
            },
            "error_y": {
             "color": "#2a3f5f"
            },
            "marker": {
             "line": {
              "color": "#E5ECF6",
              "width": 0.5
             },
             "pattern": {
              "fillmode": "overlay",
              "size": 10,
              "solidity": 0.2
             }
            },
            "type": "bar"
           }
          ],
          "barpolar": [
           {
            "marker": {
             "line": {
              "color": "#E5ECF6",
              "width": 0.5
             },
             "pattern": {
              "fillmode": "overlay",
              "size": 10,
              "solidity": 0.2
             }
            },
            "type": "barpolar"
           }
          ],
          "carpet": [
           {
            "aaxis": {
             "endlinecolor": "#2a3f5f",
             "gridcolor": "white",
             "linecolor": "white",
             "minorgridcolor": "white",
             "startlinecolor": "#2a3f5f"
            },
            "baxis": {
             "endlinecolor": "#2a3f5f",
             "gridcolor": "white",
             "linecolor": "white",
             "minorgridcolor": "white",
             "startlinecolor": "#2a3f5f"
            },
            "type": "carpet"
           }
          ],
          "choropleth": [
           {
            "colorbar": {
             "outlinewidth": 0,
             "ticks": ""
            },
            "type": "choropleth"
           }
          ],
          "contour": [
           {
            "colorbar": {
             "outlinewidth": 0,
             "ticks": ""
            },
            "colorscale": [
             [
              0,
              "#0d0887"
             ],
             [
              0.1111111111111111,
              "#46039f"
             ],
             [
              0.2222222222222222,
              "#7201a8"
             ],
             [
              0.3333333333333333,
              "#9c179e"
             ],
             [
              0.4444444444444444,
              "#bd3786"
             ],
             [
              0.5555555555555556,
              "#d8576b"
             ],
             [
              0.6666666666666666,
              "#ed7953"
             ],
             [
              0.7777777777777778,
              "#fb9f3a"
             ],
             [
              0.8888888888888888,
              "#fdca26"
             ],
             [
              1,
              "#f0f921"
             ]
            ],
            "type": "contour"
           }
          ],
          "contourcarpet": [
           {
            "colorbar": {
             "outlinewidth": 0,
             "ticks": ""
            },
            "type": "contourcarpet"
           }
          ],
          "heatmap": [
           {
            "colorbar": {
             "outlinewidth": 0,
             "ticks": ""
            },
            "colorscale": [
             [
              0,
              "#0d0887"
             ],
             [
              0.1111111111111111,
              "#46039f"
             ],
             [
              0.2222222222222222,
              "#7201a8"
             ],
             [
              0.3333333333333333,
              "#9c179e"
             ],
             [
              0.4444444444444444,
              "#bd3786"
             ],
             [
              0.5555555555555556,
              "#d8576b"
             ],
             [
              0.6666666666666666,
              "#ed7953"
             ],
             [
              0.7777777777777778,
              "#fb9f3a"
             ],
             [
              0.8888888888888888,
              "#fdca26"
             ],
             [
              1,
              "#f0f921"
             ]
            ],
            "type": "heatmap"
           }
          ],
          "heatmapgl": [
           {
            "colorbar": {
             "outlinewidth": 0,
             "ticks": ""
            },
            "colorscale": [
             [
              0,
              "#0d0887"
             ],
             [
              0.1111111111111111,
              "#46039f"
             ],
             [
              0.2222222222222222,
              "#7201a8"
             ],
             [
              0.3333333333333333,
              "#9c179e"
             ],
             [
              0.4444444444444444,
              "#bd3786"
             ],
             [
              0.5555555555555556,
              "#d8576b"
             ],
             [
              0.6666666666666666,
              "#ed7953"
             ],
             [
              0.7777777777777778,
              "#fb9f3a"
             ],
             [
              0.8888888888888888,
              "#fdca26"
             ],
             [
              1,
              "#f0f921"
             ]
            ],
            "type": "heatmapgl"
           }
          ],
          "histogram": [
           {
            "marker": {
             "pattern": {
              "fillmode": "overlay",
              "size": 10,
              "solidity": 0.2
             }
            },
            "type": "histogram"
           }
          ],
          "histogram2d": [
           {
            "colorbar": {
             "outlinewidth": 0,
             "ticks": ""
            },
            "colorscale": [
             [
              0,
              "#0d0887"
             ],
             [
              0.1111111111111111,
              "#46039f"
             ],
             [
              0.2222222222222222,
              "#7201a8"
             ],
             [
              0.3333333333333333,
              "#9c179e"
             ],
             [
              0.4444444444444444,
              "#bd3786"
             ],
             [
              0.5555555555555556,
              "#d8576b"
             ],
             [
              0.6666666666666666,
              "#ed7953"
             ],
             [
              0.7777777777777778,
              "#fb9f3a"
             ],
             [
              0.8888888888888888,
              "#fdca26"
             ],
             [
              1,
              "#f0f921"
             ]
            ],
            "type": "histogram2d"
           }
          ],
          "histogram2dcontour": [
           {
            "colorbar": {
             "outlinewidth": 0,
             "ticks": ""
            },
            "colorscale": [
             [
              0,
              "#0d0887"
             ],
             [
              0.1111111111111111,
              "#46039f"
             ],
             [
              0.2222222222222222,
              "#7201a8"
             ],
             [
              0.3333333333333333,
              "#9c179e"
             ],
             [
              0.4444444444444444,
              "#bd3786"
             ],
             [
              0.5555555555555556,
              "#d8576b"
             ],
             [
              0.6666666666666666,
              "#ed7953"
             ],
             [
              0.7777777777777778,
              "#fb9f3a"
             ],
             [
              0.8888888888888888,
              "#fdca26"
             ],
             [
              1,
              "#f0f921"
             ]
            ],
            "type": "histogram2dcontour"
           }
          ],
          "mesh3d": [
           {
            "colorbar": {
             "outlinewidth": 0,
             "ticks": ""
            },
            "type": "mesh3d"
           }
          ],
          "parcoords": [
           {
            "line": {
             "colorbar": {
              "outlinewidth": 0,
              "ticks": ""
             }
            },
            "type": "parcoords"
           }
          ],
          "pie": [
           {
            "automargin": true,
            "type": "pie"
           }
          ],
          "scatter": [
           {
            "marker": {
             "colorbar": {
              "outlinewidth": 0,
              "ticks": ""
             }
            },
            "type": "scatter"
           }
          ],
          "scatter3d": [
           {
            "line": {
             "colorbar": {
              "outlinewidth": 0,
              "ticks": ""
             }
            },
            "marker": {
             "colorbar": {
              "outlinewidth": 0,
              "ticks": ""
             }
            },
            "type": "scatter3d"
           }
          ],
          "scattercarpet": [
           {
            "marker": {
             "colorbar": {
              "outlinewidth": 0,
              "ticks": ""
             }
            },
            "type": "scattercarpet"
           }
          ],
          "scattergeo": [
           {
            "marker": {
             "colorbar": {
              "outlinewidth": 0,
              "ticks": ""
             }
            },
            "type": "scattergeo"
           }
          ],
          "scattergl": [
           {
            "marker": {
             "colorbar": {
              "outlinewidth": 0,
              "ticks": ""
             }
            },
            "type": "scattergl"
           }
          ],
          "scattermapbox": [
           {
            "marker": {
             "colorbar": {
              "outlinewidth": 0,
              "ticks": ""
             }
            },
            "type": "scattermapbox"
           }
          ],
          "scatterpolar": [
           {
            "marker": {
             "colorbar": {
              "outlinewidth": 0,
              "ticks": ""
             }
            },
            "type": "scatterpolar"
           }
          ],
          "scatterpolargl": [
           {
            "marker": {
             "colorbar": {
              "outlinewidth": 0,
              "ticks": ""
             }
            },
            "type": "scatterpolargl"
           }
          ],
          "scatterternary": [
           {
            "marker": {
             "colorbar": {
              "outlinewidth": 0,
              "ticks": ""
             }
            },
            "type": "scatterternary"
           }
          ],
          "surface": [
           {
            "colorbar": {
             "outlinewidth": 0,
             "ticks": ""
            },
            "colorscale": [
             [
              0,
              "#0d0887"
             ],
             [
              0.1111111111111111,
              "#46039f"
             ],
             [
              0.2222222222222222,
              "#7201a8"
             ],
             [
              0.3333333333333333,
              "#9c179e"
             ],
             [
              0.4444444444444444,
              "#bd3786"
             ],
             [
              0.5555555555555556,
              "#d8576b"
             ],
             [
              0.6666666666666666,
              "#ed7953"
             ],
             [
              0.7777777777777778,
              "#fb9f3a"
             ],
             [
              0.8888888888888888,
              "#fdca26"
             ],
             [
              1,
              "#f0f921"
             ]
            ],
            "type": "surface"
           }
          ],
          "table": [
           {
            "cells": {
             "fill": {
              "color": "#EBF0F8"
             },
             "line": {
              "color": "white"
             }
            },
            "header": {
             "fill": {
              "color": "#C8D4E3"
             },
             "line": {
              "color": "white"
             }
            },
            "type": "table"
           }
          ]
         },
         "layout": {
          "annotationdefaults": {
           "arrowcolor": "#2a3f5f",
           "arrowhead": 0,
           "arrowwidth": 1
          },
          "autotypenumbers": "strict",
          "coloraxis": {
           "colorbar": {
            "outlinewidth": 0,
            "ticks": ""
           }
          },
          "colorscale": {
           "diverging": [
            [
             0,
             "#8e0152"
            ],
            [
             0.1,
             "#c51b7d"
            ],
            [
             0.2,
             "#de77ae"
            ],
            [
             0.3,
             "#f1b6da"
            ],
            [
             0.4,
             "#fde0ef"
            ],
            [
             0.5,
             "#f7f7f7"
            ],
            [
             0.6,
             "#e6f5d0"
            ],
            [
             0.7,
             "#b8e186"
            ],
            [
             0.8,
             "#7fbc41"
            ],
            [
             0.9,
             "#4d9221"
            ],
            [
             1,
             "#276419"
            ]
           ],
           "sequential": [
            [
             0,
             "#0d0887"
            ],
            [
             0.1111111111111111,
             "#46039f"
            ],
            [
             0.2222222222222222,
             "#7201a8"
            ],
            [
             0.3333333333333333,
             "#9c179e"
            ],
            [
             0.4444444444444444,
             "#bd3786"
            ],
            [
             0.5555555555555556,
             "#d8576b"
            ],
            [
             0.6666666666666666,
             "#ed7953"
            ],
            [
             0.7777777777777778,
             "#fb9f3a"
            ],
            [
             0.8888888888888888,
             "#fdca26"
            ],
            [
             1,
             "#f0f921"
            ]
           ],
           "sequentialminus": [
            [
             0,
             "#0d0887"
            ],
            [
             0.1111111111111111,
             "#46039f"
            ],
            [
             0.2222222222222222,
             "#7201a8"
            ],
            [
             0.3333333333333333,
             "#9c179e"
            ],
            [
             0.4444444444444444,
             "#bd3786"
            ],
            [
             0.5555555555555556,
             "#d8576b"
            ],
            [
             0.6666666666666666,
             "#ed7953"
            ],
            [
             0.7777777777777778,
             "#fb9f3a"
            ],
            [
             0.8888888888888888,
             "#fdca26"
            ],
            [
             1,
             "#f0f921"
            ]
           ]
          },
          "colorway": [
           "#636efa",
           "#EF553B",
           "#00cc96",
           "#ab63fa",
           "#FFA15A",
           "#19d3f3",
           "#FF6692",
           "#B6E880",
           "#FF97FF",
           "#FECB52"
          ],
          "font": {
           "color": "#2a3f5f"
          },
          "geo": {
           "bgcolor": "white",
           "lakecolor": "white",
           "landcolor": "#E5ECF6",
           "showlakes": true,
           "showland": true,
           "subunitcolor": "white"
          },
          "hoverlabel": {
           "align": "left"
          },
          "hovermode": "closest",
          "mapbox": {
           "style": "light"
          },
          "paper_bgcolor": "white",
          "plot_bgcolor": "#E5ECF6",
          "polar": {
           "angularaxis": {
            "gridcolor": "white",
            "linecolor": "white",
            "ticks": ""
           },
           "bgcolor": "#E5ECF6",
           "radialaxis": {
            "gridcolor": "white",
            "linecolor": "white",
            "ticks": ""
           }
          },
          "scene": {
           "xaxis": {
            "backgroundcolor": "#E5ECF6",
            "gridcolor": "white",
            "gridwidth": 2,
            "linecolor": "white",
            "showbackground": true,
            "ticks": "",
            "zerolinecolor": "white"
           },
           "yaxis": {
            "backgroundcolor": "#E5ECF6",
            "gridcolor": "white",
            "gridwidth": 2,
            "linecolor": "white",
            "showbackground": true,
            "ticks": "",
            "zerolinecolor": "white"
           },
           "zaxis": {
            "backgroundcolor": "#E5ECF6",
            "gridcolor": "white",
            "gridwidth": 2,
            "linecolor": "white",
            "showbackground": true,
            "ticks": "",
            "zerolinecolor": "white"
           }
          },
          "shapedefaults": {
           "line": {
            "color": "#2a3f5f"
           }
          },
          "ternary": {
           "aaxis": {
            "gridcolor": "white",
            "linecolor": "white",
            "ticks": ""
           },
           "baxis": {
            "gridcolor": "white",
            "linecolor": "white",
            "ticks": ""
           },
           "bgcolor": "#E5ECF6",
           "caxis": {
            "gridcolor": "white",
            "linecolor": "white",
            "ticks": ""
           }
          },
          "title": {
           "x": 0.05
          },
          "xaxis": {
           "automargin": true,
           "gridcolor": "white",
           "linecolor": "white",
           "ticks": "",
           "title": {
            "standoff": 15
           },
           "zerolinecolor": "white",
           "zerolinewidth": 2
          },
          "yaxis": {
           "automargin": true,
           "gridcolor": "white",
           "linecolor": "white",
           "ticks": "",
           "title": {
            "standoff": 15
           },
           "zerolinecolor": "white",
           "zerolinewidth": 2
          }
         }
        },
        "xaxis": {
         "anchor": "y",
         "domain": [
          0,
          1
         ],
         "title": {
          "text": "date"
         }
        },
        "yaxis": {
         "anchor": "x",
         "domain": [
          0,
          1
         ],
         "title": {
          "text": "price"
         }
        }
       }
      },
      "text/html": [
       "<div>                            <div id=\"ba5ff4fc-f877-47f5-9b01-93a47440bbc4\" class=\"plotly-graph-div\" style=\"height:525px; width:100%;\"></div>            <script type=\"text/javascript\">                require([\"plotly\"], function(Plotly) {                    window.PLOTLYENV=window.PLOTLYENV || {};                                    if (document.getElementById(\"ba5ff4fc-f877-47f5-9b01-93a47440bbc4\")) {                    Plotly.newPlot(                        \"ba5ff4fc-f877-47f5-9b01-93a47440bbc4\",                        [{\"hovertemplate\":\"date=%{x}<br>price=%{y}<extra></extra>\",\"legendgroup\":\"\",\"line\":{\"color\":\"#636efa\",\"dash\":\"solid\"},\"marker\":{\"symbol\":\"circle\"},\"mode\":\"lines\",\"name\":\"\",\"orientation\":\"v\",\"showlegend\":false,\"type\":\"scatter\",\"x\":[\"2021-12-12T00:00:00\",\"2021-12-19T00:00:00\",\"2021-12-26T00:00:00\",\"2022-01-02T00:00:00\",\"2022-01-09T00:00:00\"],\"xaxis\":\"x\",\"y\":[5.8,5.796872307318515,5.793744614637031,5.7906169219555474,5.787489229274064],\"yaxis\":\"y\"}],                        {\"legend\":{\"tracegroupgap\":0},\"margin\":{\"t\":60},\"template\":{\"data\":{\"bar\":[{\"error_x\":{\"color\":\"#2a3f5f\"},\"error_y\":{\"color\":\"#2a3f5f\"},\"marker\":{\"line\":{\"color\":\"#E5ECF6\",\"width\":0.5},\"pattern\":{\"fillmode\":\"overlay\",\"size\":10,\"solidity\":0.2}},\"type\":\"bar\"}],\"barpolar\":[{\"marker\":{\"line\":{\"color\":\"#E5ECF6\",\"width\":0.5},\"pattern\":{\"fillmode\":\"overlay\",\"size\":10,\"solidity\":0.2}},\"type\":\"barpolar\"}],\"carpet\":[{\"aaxis\":{\"endlinecolor\":\"#2a3f5f\",\"gridcolor\":\"white\",\"linecolor\":\"white\",\"minorgridcolor\":\"white\",\"startlinecolor\":\"#2a3f5f\"},\"baxis\":{\"endlinecolor\":\"#2a3f5f\",\"gridcolor\":\"white\",\"linecolor\":\"white\",\"minorgridcolor\":\"white\",\"startlinecolor\":\"#2a3f5f\"},\"type\":\"carpet\"}],\"choropleth\":[{\"colorbar\":{\"outlinewidth\":0,\"ticks\":\"\"},\"type\":\"choropleth\"}],\"contour\":[{\"colorbar\":{\"outlinewidth\":0,\"ticks\":\"\"},\"colorscale\":[[0.0,\"#0d0887\"],[0.1111111111111111,\"#46039f\"],[0.2222222222222222,\"#7201a8\"],[0.3333333333333333,\"#9c179e\"],[0.4444444444444444,\"#bd3786\"],[0.5555555555555556,\"#d8576b\"],[0.6666666666666666,\"#ed7953\"],[0.7777777777777778,\"#fb9f3a\"],[0.8888888888888888,\"#fdca26\"],[1.0,\"#f0f921\"]],\"type\":\"contour\"}],\"contourcarpet\":[{\"colorbar\":{\"outlinewidth\":0,\"ticks\":\"\"},\"type\":\"contourcarpet\"}],\"heatmap\":[{\"colorbar\":{\"outlinewidth\":0,\"ticks\":\"\"},\"colorscale\":[[0.0,\"#0d0887\"],[0.1111111111111111,\"#46039f\"],[0.2222222222222222,\"#7201a8\"],[0.3333333333333333,\"#9c179e\"],[0.4444444444444444,\"#bd3786\"],[0.5555555555555556,\"#d8576b\"],[0.6666666666666666,\"#ed7953\"],[0.7777777777777778,\"#fb9f3a\"],[0.8888888888888888,\"#fdca26\"],[1.0,\"#f0f921\"]],\"type\":\"heatmap\"}],\"heatmapgl\":[{\"colorbar\":{\"outlinewidth\":0,\"ticks\":\"\"},\"colorscale\":[[0.0,\"#0d0887\"],[0.1111111111111111,\"#46039f\"],[0.2222222222222222,\"#7201a8\"],[0.3333333333333333,\"#9c179e\"],[0.4444444444444444,\"#bd3786\"],[0.5555555555555556,\"#d8576b\"],[0.6666666666666666,\"#ed7953\"],[0.7777777777777778,\"#fb9f3a\"],[0.8888888888888888,\"#fdca26\"],[1.0,\"#f0f921\"]],\"type\":\"heatmapgl\"}],\"histogram\":[{\"marker\":{\"pattern\":{\"fillmode\":\"overlay\",\"size\":10,\"solidity\":0.2}},\"type\":\"histogram\"}],\"histogram2d\":[{\"colorbar\":{\"outlinewidth\":0,\"ticks\":\"\"},\"colorscale\":[[0.0,\"#0d0887\"],[0.1111111111111111,\"#46039f\"],[0.2222222222222222,\"#7201a8\"],[0.3333333333333333,\"#9c179e\"],[0.4444444444444444,\"#bd3786\"],[0.5555555555555556,\"#d8576b\"],[0.6666666666666666,\"#ed7953\"],[0.7777777777777778,\"#fb9f3a\"],[0.8888888888888888,\"#fdca26\"],[1.0,\"#f0f921\"]],\"type\":\"histogram2d\"}],\"histogram2dcontour\":[{\"colorbar\":{\"outlinewidth\":0,\"ticks\":\"\"},\"colorscale\":[[0.0,\"#0d0887\"],[0.1111111111111111,\"#46039f\"],[0.2222222222222222,\"#7201a8\"],[0.3333333333333333,\"#9c179e\"],[0.4444444444444444,\"#bd3786\"],[0.5555555555555556,\"#d8576b\"],[0.6666666666666666,\"#ed7953\"],[0.7777777777777778,\"#fb9f3a\"],[0.8888888888888888,\"#fdca26\"],[1.0,\"#f0f921\"]],\"type\":\"histogram2dcontour\"}],\"mesh3d\":[{\"colorbar\":{\"outlinewidth\":0,\"ticks\":\"\"},\"type\":\"mesh3d\"}],\"parcoords\":[{\"line\":{\"colorbar\":{\"outlinewidth\":0,\"ticks\":\"\"}},\"type\":\"parcoords\"}],\"pie\":[{\"automargin\":true,\"type\":\"pie\"}],\"scatter\":[{\"marker\":{\"colorbar\":{\"outlinewidth\":0,\"ticks\":\"\"}},\"type\":\"scatter\"}],\"scatter3d\":[{\"line\":{\"colorbar\":{\"outlinewidth\":0,\"ticks\":\"\"}},\"marker\":{\"colorbar\":{\"outlinewidth\":0,\"ticks\":\"\"}},\"type\":\"scatter3d\"}],\"scattercarpet\":[{\"marker\":{\"colorbar\":{\"outlinewidth\":0,\"ticks\":\"\"}},\"type\":\"scattercarpet\"}],\"scattergeo\":[{\"marker\":{\"colorbar\":{\"outlinewidth\":0,\"ticks\":\"\"}},\"type\":\"scattergeo\"}],\"scattergl\":[{\"marker\":{\"colorbar\":{\"outlinewidth\":0,\"ticks\":\"\"}},\"type\":\"scattergl\"}],\"scattermapbox\":[{\"marker\":{\"colorbar\":{\"outlinewidth\":0,\"ticks\":\"\"}},\"type\":\"scattermapbox\"}],\"scatterpolar\":[{\"marker\":{\"colorbar\":{\"outlinewidth\":0,\"ticks\":\"\"}},\"type\":\"scatterpolar\"}],\"scatterpolargl\":[{\"marker\":{\"colorbar\":{\"outlinewidth\":0,\"ticks\":\"\"}},\"type\":\"scatterpolargl\"}],\"scatterternary\":[{\"marker\":{\"colorbar\":{\"outlinewidth\":0,\"ticks\":\"\"}},\"type\":\"scatterternary\"}],\"surface\":[{\"colorbar\":{\"outlinewidth\":0,\"ticks\":\"\"},\"colorscale\":[[0.0,\"#0d0887\"],[0.1111111111111111,\"#46039f\"],[0.2222222222222222,\"#7201a8\"],[0.3333333333333333,\"#9c179e\"],[0.4444444444444444,\"#bd3786\"],[0.5555555555555556,\"#d8576b\"],[0.6666666666666666,\"#ed7953\"],[0.7777777777777778,\"#fb9f3a\"],[0.8888888888888888,\"#fdca26\"],[1.0,\"#f0f921\"]],\"type\":\"surface\"}],\"table\":[{\"cells\":{\"fill\":{\"color\":\"#EBF0F8\"},\"line\":{\"color\":\"white\"}},\"header\":{\"fill\":{\"color\":\"#C8D4E3\"},\"line\":{\"color\":\"white\"}},\"type\":\"table\"}]},\"layout\":{\"annotationdefaults\":{\"arrowcolor\":\"#2a3f5f\",\"arrowhead\":0,\"arrowwidth\":1},\"autotypenumbers\":\"strict\",\"coloraxis\":{\"colorbar\":{\"outlinewidth\":0,\"ticks\":\"\"}},\"colorscale\":{\"diverging\":[[0,\"#8e0152\"],[0.1,\"#c51b7d\"],[0.2,\"#de77ae\"],[0.3,\"#f1b6da\"],[0.4,\"#fde0ef\"],[0.5,\"#f7f7f7\"],[0.6,\"#e6f5d0\"],[0.7,\"#b8e186\"],[0.8,\"#7fbc41\"],[0.9,\"#4d9221\"],[1,\"#276419\"]],\"sequential\":[[0.0,\"#0d0887\"],[0.1111111111111111,\"#46039f\"],[0.2222222222222222,\"#7201a8\"],[0.3333333333333333,\"#9c179e\"],[0.4444444444444444,\"#bd3786\"],[0.5555555555555556,\"#d8576b\"],[0.6666666666666666,\"#ed7953\"],[0.7777777777777778,\"#fb9f3a\"],[0.8888888888888888,\"#fdca26\"],[1.0,\"#f0f921\"]],\"sequentialminus\":[[0.0,\"#0d0887\"],[0.1111111111111111,\"#46039f\"],[0.2222222222222222,\"#7201a8\"],[0.3333333333333333,\"#9c179e\"],[0.4444444444444444,\"#bd3786\"],[0.5555555555555556,\"#d8576b\"],[0.6666666666666666,\"#ed7953\"],[0.7777777777777778,\"#fb9f3a\"],[0.8888888888888888,\"#fdca26\"],[1.0,\"#f0f921\"]]},\"colorway\":[\"#636efa\",\"#EF553B\",\"#00cc96\",\"#ab63fa\",\"#FFA15A\",\"#19d3f3\",\"#FF6692\",\"#B6E880\",\"#FF97FF\",\"#FECB52\"],\"font\":{\"color\":\"#2a3f5f\"},\"geo\":{\"bgcolor\":\"white\",\"lakecolor\":\"white\",\"landcolor\":\"#E5ECF6\",\"showlakes\":true,\"showland\":true,\"subunitcolor\":\"white\"},\"hoverlabel\":{\"align\":\"left\"},\"hovermode\":\"closest\",\"mapbox\":{\"style\":\"light\"},\"paper_bgcolor\":\"white\",\"plot_bgcolor\":\"#E5ECF6\",\"polar\":{\"angularaxis\":{\"gridcolor\":\"white\",\"linecolor\":\"white\",\"ticks\":\"\"},\"bgcolor\":\"#E5ECF6\",\"radialaxis\":{\"gridcolor\":\"white\",\"linecolor\":\"white\",\"ticks\":\"\"}},\"scene\":{\"xaxis\":{\"backgroundcolor\":\"#E5ECF6\",\"gridcolor\":\"white\",\"gridwidth\":2,\"linecolor\":\"white\",\"showbackground\":true,\"ticks\":\"\",\"zerolinecolor\":\"white\"},\"yaxis\":{\"backgroundcolor\":\"#E5ECF6\",\"gridcolor\":\"white\",\"gridwidth\":2,\"linecolor\":\"white\",\"showbackground\":true,\"ticks\":\"\",\"zerolinecolor\":\"white\"},\"zaxis\":{\"backgroundcolor\":\"#E5ECF6\",\"gridcolor\":\"white\",\"gridwidth\":2,\"linecolor\":\"white\",\"showbackground\":true,\"ticks\":\"\",\"zerolinecolor\":\"white\"}},\"shapedefaults\":{\"line\":{\"color\":\"#2a3f5f\"}},\"ternary\":{\"aaxis\":{\"gridcolor\":\"white\",\"linecolor\":\"white\",\"ticks\":\"\"},\"baxis\":{\"gridcolor\":\"white\",\"linecolor\":\"white\",\"ticks\":\"\"},\"bgcolor\":\"#E5ECF6\",\"caxis\":{\"gridcolor\":\"white\",\"linecolor\":\"white\",\"ticks\":\"\"}},\"title\":{\"x\":0.05},\"xaxis\":{\"automargin\":true,\"gridcolor\":\"white\",\"linecolor\":\"white\",\"ticks\":\"\",\"title\":{\"standoff\":15},\"zerolinecolor\":\"white\",\"zerolinewidth\":2},\"yaxis\":{\"automargin\":true,\"gridcolor\":\"white\",\"linecolor\":\"white\",\"ticks\":\"\",\"title\":{\"standoff\":15},\"zerolinecolor\":\"white\",\"zerolinewidth\":2}}},\"xaxis\":{\"anchor\":\"y\",\"domain\":[0.0,1.0],\"title\":{\"text\":\"date\"}},\"yaxis\":{\"anchor\":\"x\",\"domain\":[0.0,1.0],\"title\":{\"text\":\"price\"}}},                        {\"responsive\": true}                    ).then(function(){\n",
       "                            \n",
       "var gd = document.getElementById('ba5ff4fc-f877-47f5-9b01-93a47440bbc4');\n",
       "var x = new MutationObserver(function (mutations, observer) {{\n",
       "        var display = window.getComputedStyle(gd).display;\n",
       "        if (!display || display === 'none') {{\n",
       "            console.log([gd, 'removed!']);\n",
       "            Plotly.purge(gd);\n",
       "            observer.disconnect();\n",
       "        }}\n",
       "}});\n",
       "\n",
       "// Listen for the removal of the full notebook cells\n",
       "var notebookContainer = gd.closest('#notebook-container');\n",
       "if (notebookContainer) {{\n",
       "    x.observe(notebookContainer, {childList: true});\n",
       "}}\n",
       "\n",
       "// Listen for the clearing of the current output cell\n",
       "var outputEl = gd.closest('.output');\n",
       "if (outputEl) {{\n",
       "    x.observe(outputEl, {childList: true});\n",
       "}}\n",
       "\n",
       "                        })                };                });            </script>        </div>"
      ]
     },
     "metadata": {},
     "output_type": "display_data"
    }
   ],
   "source": [
    "fig = px.line(iepa, x='date', y='price')\n",
    "fig.show()"
   ]
  },
  {
   "cell_type": "code",
   "execution_count": null,
   "id": "5f69500f",
   "metadata": {},
   "outputs": [],
   "source": []
  },
  {
   "cell_type": "code",
   "execution_count": 167,
   "id": "a1ca0dcc",
   "metadata": {},
   "outputs": [
    {
     "data": {
      "text/plain": [
       "1.99"
      ]
     },
     "execution_count": 167,
     "metadata": {},
     "output_type": "execute_result"
    }
   ],
   "source": [
    "nombre = p.price.values[0]\n",
    "nombre"
   ]
  },
  {
   "cell_type": "code",
   "execution_count": 147,
   "id": "6c7df2ca",
   "metadata": {},
   "outputs": [
    {
     "name": "stderr",
     "output_type": "stream",
     "text": [
      "/tmp/ipykernel_453/406138583.py:1: FutureWarning: In a future version of pandas all arguments of concat except for the argument 'objs' will be keyword-only\n",
      "  pd.concat(p,joined)\n"
     ]
    },
    {
     "ename": "TypeError",
     "evalue": "first argument must be an iterable of pandas objects, you passed an object of type \"DataFrame\"",
     "output_type": "error",
     "traceback": [
      "\u001b[0;31m---------------------------------------------------------------------------\u001b[0m",
      "\u001b[0;31mTypeError\u001b[0m                                 Traceback (most recent call last)",
      "\u001b[0;32m/tmp/ipykernel_453/406138583.py\u001b[0m in \u001b[0;36m<module>\u001b[0;34m\u001b[0m\n\u001b[0;32m----> 1\u001b[0;31m \u001b[0mpd\u001b[0m\u001b[0;34m.\u001b[0m\u001b[0mconcat\u001b[0m\u001b[0;34m(\u001b[0m\u001b[0mp\u001b[0m\u001b[0;34m,\u001b[0m\u001b[0mjoined\u001b[0m\u001b[0;34m)\u001b[0m\u001b[0;34m\u001b[0m\u001b[0;34m\u001b[0m\u001b[0m\n\u001b[0m",
      "\u001b[0;32m~/anaconda3/envs/iron/lib/python3.9/site-packages/pandas/util/_decorators.py\u001b[0m in \u001b[0;36mwrapper\u001b[0;34m(*args, **kwargs)\u001b[0m\n\u001b[1;32m    309\u001b[0m                     \u001b[0mstacklevel\u001b[0m\u001b[0;34m=\u001b[0m\u001b[0mstacklevel\u001b[0m\u001b[0;34m,\u001b[0m\u001b[0;34m\u001b[0m\u001b[0;34m\u001b[0m\u001b[0m\n\u001b[1;32m    310\u001b[0m                 )\n\u001b[0;32m--> 311\u001b[0;31m             \u001b[0;32mreturn\u001b[0m \u001b[0mfunc\u001b[0m\u001b[0;34m(\u001b[0m\u001b[0;34m*\u001b[0m\u001b[0margs\u001b[0m\u001b[0;34m,\u001b[0m \u001b[0;34m**\u001b[0m\u001b[0mkwargs\u001b[0m\u001b[0;34m)\u001b[0m\u001b[0;34m\u001b[0m\u001b[0;34m\u001b[0m\u001b[0m\n\u001b[0m\u001b[1;32m    312\u001b[0m \u001b[0;34m\u001b[0m\u001b[0m\n\u001b[1;32m    313\u001b[0m         \u001b[0;32mreturn\u001b[0m \u001b[0mwrapper\u001b[0m\u001b[0;34m\u001b[0m\u001b[0;34m\u001b[0m\u001b[0m\n",
      "\u001b[0;32m~/anaconda3/envs/iron/lib/python3.9/site-packages/pandas/core/reshape/concat.py\u001b[0m in \u001b[0;36mconcat\u001b[0;34m(objs, axis, join, ignore_index, keys, levels, names, verify_integrity, sort, copy)\u001b[0m\n\u001b[1;32m    292\u001b[0m     \u001b[0mValueError\u001b[0m\u001b[0;34m:\u001b[0m \u001b[0mIndexes\u001b[0m \u001b[0mhave\u001b[0m \u001b[0moverlapping\u001b[0m \u001b[0mvalues\u001b[0m\u001b[0;34m:\u001b[0m \u001b[0;34m[\u001b[0m\u001b[0;34m'a'\u001b[0m\u001b[0;34m]\u001b[0m\u001b[0;34m\u001b[0m\u001b[0;34m\u001b[0m\u001b[0m\n\u001b[1;32m    293\u001b[0m     \"\"\"\n\u001b[0;32m--> 294\u001b[0;31m     op = _Concatenator(\n\u001b[0m\u001b[1;32m    295\u001b[0m         \u001b[0mobjs\u001b[0m\u001b[0;34m,\u001b[0m\u001b[0;34m\u001b[0m\u001b[0;34m\u001b[0m\u001b[0m\n\u001b[1;32m    296\u001b[0m         \u001b[0maxis\u001b[0m\u001b[0;34m=\u001b[0m\u001b[0maxis\u001b[0m\u001b[0;34m,\u001b[0m\u001b[0;34m\u001b[0m\u001b[0;34m\u001b[0m\u001b[0m\n",
      "\u001b[0;32m~/anaconda3/envs/iron/lib/python3.9/site-packages/pandas/core/reshape/concat.py\u001b[0m in \u001b[0;36m__init__\u001b[0;34m(self, objs, axis, join, keys, levels, names, ignore_index, verify_integrity, copy, sort)\u001b[0m\n\u001b[1;32m    327\u001b[0m     ):\n\u001b[1;32m    328\u001b[0m         \u001b[0;32mif\u001b[0m \u001b[0misinstance\u001b[0m\u001b[0;34m(\u001b[0m\u001b[0mobjs\u001b[0m\u001b[0;34m,\u001b[0m \u001b[0;34m(\u001b[0m\u001b[0mABCSeries\u001b[0m\u001b[0;34m,\u001b[0m \u001b[0mABCDataFrame\u001b[0m\u001b[0;34m,\u001b[0m \u001b[0mstr\u001b[0m\u001b[0;34m)\u001b[0m\u001b[0;34m)\u001b[0m\u001b[0;34m:\u001b[0m\u001b[0;34m\u001b[0m\u001b[0;34m\u001b[0m\u001b[0m\n\u001b[0;32m--> 329\u001b[0;31m             raise TypeError(\n\u001b[0m\u001b[1;32m    330\u001b[0m                 \u001b[0;34m\"first argument must be an iterable of pandas \"\u001b[0m\u001b[0;34m\u001b[0m\u001b[0;34m\u001b[0m\u001b[0m\n\u001b[1;32m    331\u001b[0m                 \u001b[0;34mf'objects, you passed an object of type \"{type(objs).__name__}\"'\u001b[0m\u001b[0;34m\u001b[0m\u001b[0;34m\u001b[0m\u001b[0m\n",
      "\u001b[0;31mTypeError\u001b[0m: first argument must be an iterable of pandas objects, you passed an object of type \"DataFrame\""
     ]
    }
   ],
   "source": [
    "pd.concat(p,joined)"
   ]
  },
  {
   "cell_type": "code",
   "execution_count": null,
   "id": "88b85b7a",
   "metadata": {},
   "outputs": [],
   "source": []
  },
  {
   "cell_type": "code",
   "execution_count": null,
   "id": "6b6c7520",
   "metadata": {},
   "outputs": [],
   "source": []
  },
  {
   "cell_type": "code",
   "execution_count": 145,
   "id": "354858e2",
   "metadata": {},
   "outputs": [],
   "source": [
    "for i, row in ace.iterrows():\n",
    "     any(e in ace[ace.name == 'aceite de oliva'] for e in prohibido['aceite de oliva'])\n",
    "    "
   ]
  },
  {
   "cell_type": "code",
   "execution_count": 141,
   "id": "6223fd05",
   "metadata": {},
   "outputs": [
    {
     "data": {
      "text/plain": [
       "False"
      ]
     },
     "execution_count": 141,
     "metadata": {},
     "output_type": "execute_result"
    }
   ],
   "source": [
    "e"
   ]
  },
  {
   "cell_type": "code",
   "execution_count": 223,
   "id": "cb952ddb",
   "metadata": {},
   "outputs": [
    {
     "data": {
      "text/html": [
       "<div>\n",
       "<style scoped>\n",
       "    .dataframe tbody tr th:only-of-type {\n",
       "        vertical-align: middle;\n",
       "    }\n",
       "\n",
       "    .dataframe tbody tr th {\n",
       "        vertical-align: top;\n",
       "    }\n",
       "\n",
       "    .dataframe thead th {\n",
       "        text-align: right;\n",
       "    }\n",
       "</style>\n",
       "<table border=\"1\" class=\"dataframe\">\n",
       "  <thead>\n",
       "    <tr style=\"text-align: right;\">\n",
       "      <th></th>\n",
       "      <th>price</th>\n",
       "      <th>product</th>\n",
       "      <th>supermarket</th>\n",
       "      <th>link</th>\n",
       "      <th>name</th>\n",
       "      <th>antes</th>\n",
       "      <th>bien</th>\n",
       "    </tr>\n",
       "  </thead>\n",
       "  <tbody>\n",
       "    <tr>\n",
       "      <th>14</th>\n",
       "      <td>1.99</td>\n",
       "      <td>aceite de oliva</td>\n",
       "      <td>dia</td>\n",
       "      <td>https://www.dia.es/compra-online/search?text=a...</td>\n",
       "      <td>DIA ALMAZARA DEL OLIVAR aceite de orujo de oli...</td>\n",
       "      <td>['Click here to get it'](</td>\n",
       "      <td>['Click here to get it'](https://www.dia.es/co...</td>\n",
       "    </tr>\n",
       "    <tr>\n",
       "      <th>15</th>\n",
       "      <td>3.69</td>\n",
       "      <td>aceite de oliva</td>\n",
       "      <td>dia</td>\n",
       "      <td>https://www.dia.es/compra-online/search?text=a...</td>\n",
       "      <td>DIA ALMAZARA DEL OLIVAR aceite de oliva virgen...</td>\n",
       "      <td>['Click here to get it'](</td>\n",
       "      <td>['Click here to get it'](https://www.dia.es/co...</td>\n",
       "    </tr>\n",
       "    <tr>\n",
       "      <th>16</th>\n",
       "      <td>3.53</td>\n",
       "      <td>aceite de oliva</td>\n",
       "      <td>dia</td>\n",
       "      <td>https://www.dia.es/compra-online/search?text=a...</td>\n",
       "      <td>DIA ALMAZARA DEL OLIVAR aceite de oliva virgen...</td>\n",
       "      <td>['Click here to get it'](</td>\n",
       "      <td>['Click here to get it'](https://www.dia.es/co...</td>\n",
       "    </tr>\n",
       "    <tr>\n",
       "      <th>17</th>\n",
       "      <td>4.92</td>\n",
       "      <td>aceite de oliva</td>\n",
       "      <td>dia</td>\n",
       "      <td>https://www.dia.es/compra-online/search?text=a...</td>\n",
       "      <td>DIA ALMAZARA DEL OLIVAR aceite de oliva virgen...</td>\n",
       "      <td>['Click here to get it'](</td>\n",
       "      <td>['Click here to get it'](https://www.dia.es/co...</td>\n",
       "    </tr>\n",
       "    <tr>\n",
       "      <th>18</th>\n",
       "      <td>3.80</td>\n",
       "      <td>aceite de oliva</td>\n",
       "      <td>dia</td>\n",
       "      <td>https://www.dia.es/compra-online/search?text=a...</td>\n",
       "      <td>DIA ALMAZARA DEL OLIVAR aceite de oliva virgen...</td>\n",
       "      <td>['Click here to get it'](</td>\n",
       "      <td>['Click here to get it'](https://www.dia.es/co...</td>\n",
       "    </tr>\n",
       "    <tr>\n",
       "      <th>19</th>\n",
       "      <td>3.95</td>\n",
       "      <td>aceite de oliva</td>\n",
       "      <td>dia</td>\n",
       "      <td>https://www.dia.es/compra-online/search?text=a...</td>\n",
       "      <td>DIA ALMAZARA DEL OLIVAR aceite de oliva virgen...</td>\n",
       "      <td>['Click here to get it'](</td>\n",
       "      <td>['Click here to get it'](https://www.dia.es/co...</td>\n",
       "    </tr>\n",
       "    <tr>\n",
       "      <th>20</th>\n",
       "      <td>3.86</td>\n",
       "      <td>aceite de oliva</td>\n",
       "      <td>dia</td>\n",
       "      <td>https://www.dia.es/compra-online/search?text=a...</td>\n",
       "      <td>DIA ALMAZARA DEL OLIVAR aceite de oliva virgen...</td>\n",
       "      <td>['Click here to get it'](</td>\n",
       "      <td>['Click here to get it'](https://www.dia.es/co...</td>\n",
       "    </tr>\n",
       "    <tr>\n",
       "      <th>21</th>\n",
       "      <td>9.98</td>\n",
       "      <td>aceite de oliva</td>\n",
       "      <td>dia</td>\n",
       "      <td>https://www.dia.es/compra-online/search?text=a...</td>\n",
       "      <td>DIA ALMAZARA DEL OLIVAR aceite de oliva virgen...</td>\n",
       "      <td>['Click here to get it'](</td>\n",
       "      <td>['Click here to get it'](https://www.dia.es/co...</td>\n",
       "    </tr>\n",
       "    <tr>\n",
       "      <th>22</th>\n",
       "      <td>6.90</td>\n",
       "      <td>aceite de oliva</td>\n",
       "      <td>dia</td>\n",
       "      <td>https://www.dia.es/compra-online/search?text=a...</td>\n",
       "      <td>DIA ALMAZARA DEL OLIVAR aceite de oliva virgen...</td>\n",
       "      <td>['Click here to get it'](</td>\n",
       "      <td>['Click here to get it'](https://www.dia.es/co...</td>\n",
       "    </tr>\n",
       "    <tr>\n",
       "      <th>23</th>\n",
       "      <td>6.90</td>\n",
       "      <td>aceite de oliva</td>\n",
       "      <td>dia</td>\n",
       "      <td>https://www.dia.es/compra-online/search?text=a...</td>\n",
       "      <td>DIA ALMAZARA DEL OLIVAR aceite de oliva virgen...</td>\n",
       "      <td>['Click here to get it'](</td>\n",
       "      <td>['Click here to get it'](https://www.dia.es/co...</td>\n",
       "    </tr>\n",
       "    <tr>\n",
       "      <th>24</th>\n",
       "      <td>6.09</td>\n",
       "      <td>aceite de oliva</td>\n",
       "      <td>dia</td>\n",
       "      <td>https://www.dia.es/compra-online/search?text=a...</td>\n",
       "      <td>HOJIBLANCA aceite de oliva virgen extra botell...</td>\n",
       "      <td>['Click here to get it'](</td>\n",
       "      <td>['Click here to get it'](https://www.dia.es/co...</td>\n",
       "    </tr>\n",
       "    <tr>\n",
       "      <th>25</th>\n",
       "      <td>7.19</td>\n",
       "      <td>aceite de oliva</td>\n",
       "      <td>dia</td>\n",
       "      <td>https://www.dia.es/compra-online/search?text=a...</td>\n",
       "      <td>CARBONELL aceite de oliva extra virgen botella...</td>\n",
       "      <td>['Click here to get it'](</td>\n",
       "      <td>['Click here to get it'](https://www.dia.es/co...</td>\n",
       "    </tr>\n",
       "    <tr>\n",
       "      <th>26</th>\n",
       "      <td>5.95</td>\n",
       "      <td>aceite de oliva</td>\n",
       "      <td>dia</td>\n",
       "      <td>https://www.dia.es/compra-online/search?text=a...</td>\n",
       "      <td>CARBONELL aceite de oliva virgen extra botella...</td>\n",
       "      <td>['Click here to get it'](</td>\n",
       "      <td>['Click here to get it'](https://www.dia.es/co...</td>\n",
       "    </tr>\n",
       "    <tr>\n",
       "      <th>27</th>\n",
       "      <td>13.75</td>\n",
       "      <td>aceite de oliva</td>\n",
       "      <td>dia</td>\n",
       "      <td>https://www.dia.es/compra-online/search?text=a...</td>\n",
       "      <td>CARBONELL aceite de oliva virgen extra spray 2...</td>\n",
       "      <td>['Click here to get it'](</td>\n",
       "      <td>['Click here to get it'](https://www.dia.es/co...</td>\n",
       "    </tr>\n",
       "  </tbody>\n",
       "</table>\n",
       "</div>"
      ],
      "text/plain": [
       "    price          product supermarket  \\\n",
       "14   1.99  aceite de oliva         dia   \n",
       "15   3.69  aceite de oliva         dia   \n",
       "16   3.53  aceite de oliva         dia   \n",
       "17   4.92  aceite de oliva         dia   \n",
       "18   3.80  aceite de oliva         dia   \n",
       "19   3.95  aceite de oliva         dia   \n",
       "20   3.86  aceite de oliva         dia   \n",
       "21   9.98  aceite de oliva         dia   \n",
       "22   6.90  aceite de oliva         dia   \n",
       "23   6.90  aceite de oliva         dia   \n",
       "24   6.09  aceite de oliva         dia   \n",
       "25   7.19  aceite de oliva         dia   \n",
       "26   5.95  aceite de oliva         dia   \n",
       "27  13.75  aceite de oliva         dia   \n",
       "\n",
       "                                                 link  \\\n",
       "14  https://www.dia.es/compra-online/search?text=a...   \n",
       "15  https://www.dia.es/compra-online/search?text=a...   \n",
       "16  https://www.dia.es/compra-online/search?text=a...   \n",
       "17  https://www.dia.es/compra-online/search?text=a...   \n",
       "18  https://www.dia.es/compra-online/search?text=a...   \n",
       "19  https://www.dia.es/compra-online/search?text=a...   \n",
       "20  https://www.dia.es/compra-online/search?text=a...   \n",
       "21  https://www.dia.es/compra-online/search?text=a...   \n",
       "22  https://www.dia.es/compra-online/search?text=a...   \n",
       "23  https://www.dia.es/compra-online/search?text=a...   \n",
       "24  https://www.dia.es/compra-online/search?text=a...   \n",
       "25  https://www.dia.es/compra-online/search?text=a...   \n",
       "26  https://www.dia.es/compra-online/search?text=a...   \n",
       "27  https://www.dia.es/compra-online/search?text=a...   \n",
       "\n",
       "                                                 name  \\\n",
       "14  DIA ALMAZARA DEL OLIVAR aceite de orujo de oli...   \n",
       "15  DIA ALMAZARA DEL OLIVAR aceite de oliva virgen...   \n",
       "16  DIA ALMAZARA DEL OLIVAR aceite de oliva virgen...   \n",
       "17  DIA ALMAZARA DEL OLIVAR aceite de oliva virgen...   \n",
       "18  DIA ALMAZARA DEL OLIVAR aceite de oliva virgen...   \n",
       "19  DIA ALMAZARA DEL OLIVAR aceite de oliva virgen...   \n",
       "20  DIA ALMAZARA DEL OLIVAR aceite de oliva virgen...   \n",
       "21  DIA ALMAZARA DEL OLIVAR aceite de oliva virgen...   \n",
       "22  DIA ALMAZARA DEL OLIVAR aceite de oliva virgen...   \n",
       "23  DIA ALMAZARA DEL OLIVAR aceite de oliva virgen...   \n",
       "24  HOJIBLANCA aceite de oliva virgen extra botell...   \n",
       "25  CARBONELL aceite de oliva extra virgen botella...   \n",
       "26  CARBONELL aceite de oliva virgen extra botella...   \n",
       "27  CARBONELL aceite de oliva virgen extra spray 2...   \n",
       "\n",
       "                        antes  \\\n",
       "14  ['Click here to get it'](   \n",
       "15  ['Click here to get it'](   \n",
       "16  ['Click here to get it'](   \n",
       "17  ['Click here to get it'](   \n",
       "18  ['Click here to get it'](   \n",
       "19  ['Click here to get it'](   \n",
       "20  ['Click here to get it'](   \n",
       "21  ['Click here to get it'](   \n",
       "22  ['Click here to get it'](   \n",
       "23  ['Click here to get it'](   \n",
       "24  ['Click here to get it'](   \n",
       "25  ['Click here to get it'](   \n",
       "26  ['Click here to get it'](   \n",
       "27  ['Click here to get it'](   \n",
       "\n",
       "                                                 bien  \n",
       "14  ['Click here to get it'](https://www.dia.es/co...  \n",
       "15  ['Click here to get it'](https://www.dia.es/co...  \n",
       "16  ['Click here to get it'](https://www.dia.es/co...  \n",
       "17  ['Click here to get it'](https://www.dia.es/co...  \n",
       "18  ['Click here to get it'](https://www.dia.es/co...  \n",
       "19  ['Click here to get it'](https://www.dia.es/co...  \n",
       "20  ['Click here to get it'](https://www.dia.es/co...  \n",
       "21  ['Click here to get it'](https://www.dia.es/co...  \n",
       "22  ['Click here to get it'](https://www.dia.es/co...  \n",
       "23  ['Click here to get it'](https://www.dia.es/co...  \n",
       "24  ['Click here to get it'](https://www.dia.es/co...  \n",
       "25  ['Click here to get it'](https://www.dia.es/co...  \n",
       "26  ['Click here to get it'](https://www.dia.es/co...  \n",
       "27  ['Click here to get it'](https://www.dia.es/co...  "
      ]
     },
     "execution_count": 223,
     "metadata": {},
     "output_type": "execute_result"
    }
   ],
   "source": [
    "ace"
   ]
  },
  {
   "cell_type": "code",
   "execution_count": 127,
   "id": "831f921e",
   "metadata": {},
   "outputs": [
    {
     "data": {
      "text/plain": [
       "False"
      ]
     },
     "execution_count": 127,
     "metadata": {},
     "output_type": "execute_result"
    }
   ],
   "source": [
    "any(e in todo[todo.name == 'aceite de oliva'] for e in prohibido['aceite de oliva'])"
   ]
  },
  {
   "cell_type": "code",
   "execution_count": 163,
   "id": "0b9a5e5a",
   "metadata": {},
   "outputs": [
    {
     "data": {
      "text/html": [
       "<div>\n",
       "<style scoped>\n",
       "    .dataframe tbody tr th:only-of-type {\n",
       "        vertical-align: middle;\n",
       "    }\n",
       "\n",
       "    .dataframe tbody tr th {\n",
       "        vertical-align: top;\n",
       "    }\n",
       "\n",
       "    .dataframe thead th {\n",
       "        text-align: right;\n",
       "    }\n",
       "</style>\n",
       "<table border=\"1\" class=\"dataframe\">\n",
       "  <thead>\n",
       "    <tr style=\"text-align: right;\">\n",
       "      <th></th>\n",
       "      <th>price</th>\n",
       "      <th>product</th>\n",
       "      <th>supermarket</th>\n",
       "      <th>link</th>\n",
       "      <th>name</th>\n",
       "      <th>antes</th>\n",
       "      <th>bien</th>\n",
       "    </tr>\n",
       "  </thead>\n",
       "  <tbody>\n",
       "    <tr>\n",
       "      <th>0</th>\n",
       "      <td>1.55</td>\n",
       "      <td>aceite de girasol</td>\n",
       "      <td>dia</td>\n",
       "      <td>https://www.dia.es/compra-online/search?text=a...</td>\n",
       "      <td>DIASOL aceite refinado de girasol botella 1 lt</td>\n",
       "      <td>['Click here to get it'](</td>\n",
       "      <td>['Click here to get it'](https://www.dia.es/co...</td>\n",
       "    </tr>\n",
       "    <tr>\n",
       "      <th>1</th>\n",
       "      <td>1.92</td>\n",
       "      <td>aceite de girasol</td>\n",
       "      <td>dia</td>\n",
       "      <td>https://www.dia.es/compra-online/search?text=a...</td>\n",
       "      <td>KOIPE Sol aceite girasol botella 1 lt</td>\n",
       "      <td>['Click here to get it'](</td>\n",
       "      <td>['Click here to get it'](https://www.dia.es/co...</td>\n",
       "    </tr>\n",
       "    <tr>\n",
       "      <th>2</th>\n",
       "      <td>1.47</td>\n",
       "      <td>aceite de girasol</td>\n",
       "      <td>dia</td>\n",
       "      <td>https://www.dia.es/compra-online/search?text=a...</td>\n",
       "      <td>DIASOL aceite refinado de girasol garrafa 5 lt</td>\n",
       "      <td>['Click here to get it'](</td>\n",
       "      <td>['Click here to get it'](https://www.dia.es/co...</td>\n",
       "    </tr>\n",
       "    <tr>\n",
       "      <th>3</th>\n",
       "      <td>2.09</td>\n",
       "      <td>aceite de girasol</td>\n",
       "      <td>dia</td>\n",
       "      <td>https://www.dia.es/compra-online/search?text=a...</td>\n",
       "      <td>KOIPE Fritos aceite de girasol botella 1 lt</td>\n",
       "      <td>['Click here to get it'](</td>\n",
       "      <td>['Click here to get it'](https://www.dia.es/co...</td>\n",
       "    </tr>\n",
       "    <tr>\n",
       "      <th>4</th>\n",
       "      <td>1.79</td>\n",
       "      <td>aceite de girasol</td>\n",
       "      <td>dia</td>\n",
       "      <td>https://www.dia.es/compra-online/search?text=a...</td>\n",
       "      <td>DIASOL aceite refinado de girasol especial par...</td>\n",
       "      <td>['Click here to get it'](</td>\n",
       "      <td>['Click here to get it'](https://www.dia.es/co...</td>\n",
       "    </tr>\n",
       "  </tbody>\n",
       "</table>\n",
       "</div>"
      ],
      "text/plain": [
       "   price            product supermarket  \\\n",
       "0   1.55  aceite de girasol         dia   \n",
       "1   1.92  aceite de girasol         dia   \n",
       "2   1.47  aceite de girasol         dia   \n",
       "3   2.09  aceite de girasol         dia   \n",
       "4   1.79  aceite de girasol         dia   \n",
       "\n",
       "                                                link  \\\n",
       "0  https://www.dia.es/compra-online/search?text=a...   \n",
       "1  https://www.dia.es/compra-online/search?text=a...   \n",
       "2  https://www.dia.es/compra-online/search?text=a...   \n",
       "3  https://www.dia.es/compra-online/search?text=a...   \n",
       "4  https://www.dia.es/compra-online/search?text=a...   \n",
       "\n",
       "                                                name  \\\n",
       "0     DIASOL aceite refinado de girasol botella 1 lt   \n",
       "1              KOIPE Sol aceite girasol botella 1 lt   \n",
       "2     DIASOL aceite refinado de girasol garrafa 5 lt   \n",
       "3        KOIPE Fritos aceite de girasol botella 1 lt   \n",
       "4  DIASOL aceite refinado de girasol especial par...   \n",
       "\n",
       "                       antes  \\\n",
       "0  ['Click here to get it'](   \n",
       "1  ['Click here to get it'](   \n",
       "2  ['Click here to get it'](   \n",
       "3  ['Click here to get it'](   \n",
       "4  ['Click here to get it'](   \n",
       "\n",
       "                                                bien  \n",
       "0  ['Click here to get it'](https://www.dia.es/co...  \n",
       "1  ['Click here to get it'](https://www.dia.es/co...  \n",
       "2  ['Click here to get it'](https://www.dia.es/co...  \n",
       "3  ['Click here to get it'](https://www.dia.es/co...  \n",
       "4  ['Click here to get it'](https://www.dia.es/co...  "
      ]
     },
     "execution_count": 163,
     "metadata": {},
     "output_type": "execute_result"
    }
   ],
   "source": [
    "nuevo_df = todo[todo[]]"
   ]
  },
  {
   "cell_type": "code",
   "execution_count": 81,
   "id": "805c2863",
   "metadata": {},
   "outputs": [
    {
     "data": {
      "text/plain": [
       "['atún',\n",
       " 'melva',\n",
       " 'anchoas',\n",
       " 'caballa',\n",
       " 'mayonesa',\n",
       " 'sardinillas',\n",
       " 'sardinas',\n",
       " 'paté',\n",
       " 'patatas',\n",
       " 'caballa',\n",
       " 'salsa',\n",
       " 'chipirones',\n",
       " 'caballa',\n",
       " 'melva',\n",
       " 'tomates',\n",
       " 'anchoa',\n",
       " 'potón',\n",
       " 'chipirones']"
      ]
     },
     "execution_count": 81,
     "metadata": {},
     "output_type": "execute_result"
    }
   ],
   "source": [
    "prohibido['aceite de girasol']"
   ]
  },
  {
   "cell_type": "code",
   "execution_count": 148,
   "id": "4bb7bb99",
   "metadata": {},
   "outputs": [],
   "source": [
    "frase = 'hola como va eso'"
   ]
  },
  {
   "cell_type": "code",
   "execution_count": 149,
   "id": "77cc72b4",
   "metadata": {},
   "outputs": [],
   "source": [
    "cosas = [\"hola\",\"que\"]"
   ]
  },
  {
   "cell_type": "code",
   "execution_count": 150,
   "id": "06d96868",
   "metadata": {},
   "outputs": [
    {
     "name": "stdout",
     "output_type": "stream",
     "text": [
      "hola\n"
     ]
    }
   ],
   "source": [
    "for c in cosas:\n",
    "    if c in frase:\n",
    "        print('hola')"
   ]
  },
  {
   "cell_type": "code",
   "execution_count": 221,
   "id": "29c162d9",
   "metadata": {},
   "outputs": [
    {
     "data": {
      "text/html": [
       "<div>\n",
       "<style scoped>\n",
       "    .dataframe tbody tr th:only-of-type {\n",
       "        vertical-align: middle;\n",
       "    }\n",
       "\n",
       "    .dataframe tbody tr th {\n",
       "        vertical-align: top;\n",
       "    }\n",
       "\n",
       "    .dataframe thead th {\n",
       "        text-align: right;\n",
       "    }\n",
       "</style>\n",
       "<table border=\"1\" class=\"dataframe\">\n",
       "  <thead>\n",
       "    <tr style=\"text-align: right;\">\n",
       "      <th></th>\n",
       "      <th>price</th>\n",
       "      <th>product</th>\n",
       "      <th>supermarket</th>\n",
       "      <th>link</th>\n",
       "      <th>name</th>\n",
       "      <th>antes</th>\n",
       "      <th>bien</th>\n",
       "    </tr>\n",
       "  </thead>\n",
       "  <tbody>\n",
       "    <tr>\n",
       "      <th>0</th>\n",
       "      <td>1.55</td>\n",
       "      <td>aceite de girasol</td>\n",
       "      <td>dia</td>\n",
       "      <td>https://www.dia.es/compra-online/search?text=a...</td>\n",
       "      <td>DIASOL aceite refinado de girasol botella 1 lt</td>\n",
       "      <td>['Click here to get it'](</td>\n",
       "      <td>['Click here to get it'](https://www.dia.es/co...</td>\n",
       "    </tr>\n",
       "    <tr>\n",
       "      <th>1</th>\n",
       "      <td>1.92</td>\n",
       "      <td>aceite de girasol</td>\n",
       "      <td>dia</td>\n",
       "      <td>https://www.dia.es/compra-online/search?text=a...</td>\n",
       "      <td>KOIPE Sol aceite girasol botella 1 lt</td>\n",
       "      <td>['Click here to get it'](</td>\n",
       "      <td>['Click here to get it'](https://www.dia.es/co...</td>\n",
       "    </tr>\n",
       "    <tr>\n",
       "      <th>2</th>\n",
       "      <td>1.47</td>\n",
       "      <td>aceite de girasol</td>\n",
       "      <td>dia</td>\n",
       "      <td>https://www.dia.es/compra-online/search?text=a...</td>\n",
       "      <td>DIASOL aceite refinado de girasol garrafa 5 lt</td>\n",
       "      <td>['Click here to get it'](</td>\n",
       "      <td>['Click here to get it'](https://www.dia.es/co...</td>\n",
       "    </tr>\n",
       "    <tr>\n",
       "      <th>3</th>\n",
       "      <td>2.09</td>\n",
       "      <td>aceite de girasol</td>\n",
       "      <td>dia</td>\n",
       "      <td>https://www.dia.es/compra-online/search?text=a...</td>\n",
       "      <td>KOIPE Fritos aceite de girasol botella 1 lt</td>\n",
       "      <td>['Click here to get it'](</td>\n",
       "      <td>['Click here to get it'](https://www.dia.es/co...</td>\n",
       "    </tr>\n",
       "    <tr>\n",
       "      <th>4</th>\n",
       "      <td>1.79</td>\n",
       "      <td>aceite de girasol</td>\n",
       "      <td>dia</td>\n",
       "      <td>https://www.dia.es/compra-online/search?text=a...</td>\n",
       "      <td>DIASOL aceite refinado de girasol especial par...</td>\n",
       "      <td>['Click here to get it'](</td>\n",
       "      <td>['Click here to get it'](https://www.dia.es/co...</td>\n",
       "    </tr>\n",
       "    <tr>\n",
       "      <th>...</th>\n",
       "      <td>...</td>\n",
       "      <td>...</td>\n",
       "      <td>...</td>\n",
       "      <td>...</td>\n",
       "      <td>...</td>\n",
       "      <td>...</td>\n",
       "      <td>...</td>\n",
       "    </tr>\n",
       "    <tr>\n",
       "      <th>604</th>\n",
       "      <td>41.25</td>\n",
       "      <td>zanahoria</td>\n",
       "      <td>dia</td>\n",
       "      <td>https://www.dia.es/compra-online/search?text=z...</td>\n",
       "      <td>HERO snacks de zanahoria y maíz bolsa 40 gr</td>\n",
       "      <td>['Click here to get it'](</td>\n",
       "      <td>['Click here to get it'](https://www.dia.es/co...</td>\n",
       "    </tr>\n",
       "    <tr>\n",
       "      <th>605</th>\n",
       "      <td>0.73</td>\n",
       "      <td>zanahoria</td>\n",
       "      <td>dia</td>\n",
       "      <td>https://www.dia.es/compra-online/search?text=z...</td>\n",
       "      <td>DIA refresco sin gas de naranja y zanahoria bo...</td>\n",
       "      <td>['Click here to get it'](</td>\n",
       "      <td>['Click here to get it'](https://www.dia.es/co...</td>\n",
       "    </tr>\n",
       "    <tr>\n",
       "      <th>606</th>\n",
       "      <td>5.62</td>\n",
       "      <td>zanahoria</td>\n",
       "      <td>dia</td>\n",
       "      <td>https://www.dia.es/compra-online/search?text=z...</td>\n",
       "      <td>DIA guisantes con zanahorias pack 3 latas 130 gr</td>\n",
       "      <td>['Click here to get it'](</td>\n",
       "      <td>['Click here to get it'](https://www.dia.es/co...</td>\n",
       "    </tr>\n",
       "    <tr>\n",
       "      <th>607</th>\n",
       "      <td>1.89</td>\n",
       "      <td>zanahoria</td>\n",
       "      <td>dia</td>\n",
       "      <td>https://www.dia.es/compra-online/search?text=z...</td>\n",
       "      <td>DIA VEGECAMPO brócoli, coliflor y zanahoria bo...</td>\n",
       "      <td>['Click here to get it'](</td>\n",
       "      <td>['Click here to get it'](https://www.dia.es/co...</td>\n",
       "    </tr>\n",
       "    <tr>\n",
       "      <th>608</th>\n",
       "      <td>8.14</td>\n",
       "      <td>zanahoria</td>\n",
       "      <td>dia</td>\n",
       "      <td>https://www.dia.es/compra-online/search?text=z...</td>\n",
       "      <td>SELECCIÓN DE DIA hamburguesas de pollo y zanah...</td>\n",
       "      <td>['Click here to get it'](</td>\n",
       "      <td>['Click here to get it'](https://www.dia.es/co...</td>\n",
       "    </tr>\n",
       "  </tbody>\n",
       "</table>\n",
       "<p>609 rows × 7 columns</p>\n",
       "</div>"
      ],
      "text/plain": [
       "     price            product supermarket  \\\n",
       "0     1.55  aceite de girasol         dia   \n",
       "1     1.92  aceite de girasol         dia   \n",
       "2     1.47  aceite de girasol         dia   \n",
       "3     2.09  aceite de girasol         dia   \n",
       "4     1.79  aceite de girasol         dia   \n",
       "..     ...                ...         ...   \n",
       "604  41.25          zanahoria         dia   \n",
       "605   0.73          zanahoria         dia   \n",
       "606   5.62          zanahoria         dia   \n",
       "607   1.89          zanahoria         dia   \n",
       "608   8.14          zanahoria         dia   \n",
       "\n",
       "                                                  link  \\\n",
       "0    https://www.dia.es/compra-online/search?text=a...   \n",
       "1    https://www.dia.es/compra-online/search?text=a...   \n",
       "2    https://www.dia.es/compra-online/search?text=a...   \n",
       "3    https://www.dia.es/compra-online/search?text=a...   \n",
       "4    https://www.dia.es/compra-online/search?text=a...   \n",
       "..                                                 ...   \n",
       "604  https://www.dia.es/compra-online/search?text=z...   \n",
       "605  https://www.dia.es/compra-online/search?text=z...   \n",
       "606  https://www.dia.es/compra-online/search?text=z...   \n",
       "607  https://www.dia.es/compra-online/search?text=z...   \n",
       "608  https://www.dia.es/compra-online/search?text=z...   \n",
       "\n",
       "                                                  name  \\\n",
       "0       DIASOL aceite refinado de girasol botella 1 lt   \n",
       "1                KOIPE Sol aceite girasol botella 1 lt   \n",
       "2       DIASOL aceite refinado de girasol garrafa 5 lt   \n",
       "3          KOIPE Fritos aceite de girasol botella 1 lt   \n",
       "4    DIASOL aceite refinado de girasol especial par...   \n",
       "..                                                 ...   \n",
       "604        HERO snacks de zanahoria y maíz bolsa 40 gr   \n",
       "605  DIA refresco sin gas de naranja y zanahoria bo...   \n",
       "606   DIA guisantes con zanahorias pack 3 latas 130 gr   \n",
       "607  DIA VEGECAMPO brócoli, coliflor y zanahoria bo...   \n",
       "608  SELECCIÓN DE DIA hamburguesas de pollo y zanah...   \n",
       "\n",
       "                         antes  \\\n",
       "0    ['Click here to get it'](   \n",
       "1    ['Click here to get it'](   \n",
       "2    ['Click here to get it'](   \n",
       "3    ['Click here to get it'](   \n",
       "4    ['Click here to get it'](   \n",
       "..                         ...   \n",
       "604  ['Click here to get it'](   \n",
       "605  ['Click here to get it'](   \n",
       "606  ['Click here to get it'](   \n",
       "607  ['Click here to get it'](   \n",
       "608  ['Click here to get it'](   \n",
       "\n",
       "                                                  bien  \n",
       "0    ['Click here to get it'](https://www.dia.es/co...  \n",
       "1    ['Click here to get it'](https://www.dia.es/co...  \n",
       "2    ['Click here to get it'](https://www.dia.es/co...  \n",
       "3    ['Click here to get it'](https://www.dia.es/co...  \n",
       "4    ['Click here to get it'](https://www.dia.es/co...  \n",
       "..                                                 ...  \n",
       "604  ['Click here to get it'](https://www.dia.es/co...  \n",
       "605  ['Click here to get it'](https://www.dia.es/co...  \n",
       "606  ['Click here to get it'](https://www.dia.es/co...  \n",
       "607  ['Click here to get it'](https://www.dia.es/co...  \n",
       "608  ['Click here to get it'](https://www.dia.es/co...  \n",
       "\n",
       "[609 rows x 7 columns]"
      ]
     },
     "execution_count": 221,
     "metadata": {},
     "output_type": "execute_result"
    }
   ],
   "source": [
    "todo"
   ]
  },
  {
   "cell_type": "code",
   "execution_count": 46,
   "id": "dd3dedad",
   "metadata": {},
   "outputs": [],
   "source": [
    "todo['antes'] = \"['Click here to get it'](\"\n",
    "todo['bien'] = todo['antes']+todo['link']+')'"
   ]
  },
  {
   "cell_type": "code",
   "execution_count": 52,
   "id": "4f5bae4b",
   "metadata": {},
   "outputs": [
    {
     "data": {
      "text/plain": [
       "\"['Click here to get it'](https://www.dia.es/compra-online/search?text=aceite de girasol&x=0&y=0)\""
      ]
     },
     "execution_count": 52,
     "metadata": {},
     "output_type": "execute_result"
    }
   ],
   "source": [
    "todo.bien[0]"
   ]
  },
  {
   "cell_type": "code",
   "execution_count": 85,
   "id": "58090baa",
   "metadata": {},
   "outputs": [],
   "source": [
    "if any(e in 'aceite de girasol es  un buen alimento' for e in prohibido['aceite de girasol']):\n",
    "    print('yes')"
   ]
  },
  {
   "cell_type": "code",
   "execution_count": null,
   "id": "d8e27bc4",
   "metadata": {},
   "outputs": [],
   "source": [
    "email_contains_service = any(email_service in user_email for email_service in email_services)"
   ]
  },
  {
   "cell_type": "code",
   "execution_count": 161,
   "id": "0b6480d7",
   "metadata": {},
   "outputs": [],
   "source": [
    "osa = any(e in 'aceite de atún girasol es  un buen alimento' for e in prohibido['aceite de girasol'])"
   ]
  },
  {
   "cell_type": "code",
   "execution_count": 162,
   "id": "1117c595",
   "metadata": {},
   "outputs": [
    {
     "data": {
      "text/plain": [
       "True"
      ]
     },
     "execution_count": 162,
     "metadata": {},
     "output_type": "execute_result"
    }
   ],
   "source": [
    "osa"
   ]
  },
  {
   "cell_type": "code",
   "execution_count": 90,
   "id": "c4e16094",
   "metadata": {},
   "outputs": [],
   "source": [
    "ie = todo[(todo['product'] == 'aceite de girasol')]"
   ]
  },
  {
   "cell_type": "code",
   "execution_count": 112,
   "id": "0ce15e9b",
   "metadata": {},
   "outputs": [
    {
     "ename": "AttributeError",
     "evalue": "'Series' object has no attribute 'notin'",
     "output_type": "error",
     "traceback": [
      "\u001b[0;31m---------------------------------------------------------------------------\u001b[0m",
      "\u001b[0;31mAttributeError\u001b[0m                            Traceback (most recent call last)",
      "\u001b[0;32m/tmp/ipykernel_469/143938173.py\u001b[0m in \u001b[0;36m<module>\u001b[0;34m\u001b[0m\n\u001b[0;32m----> 1\u001b[0;31m \u001b[0mie\u001b[0m\u001b[0;34m[\u001b[0m\u001b[0;34m[\u001b[0m\u001b[0mie\u001b[0m\u001b[0;34m[\u001b[0m\u001b[0;34m'name'\u001b[0m\u001b[0;34m]\u001b[0m\u001b[0;34m.\u001b[0m\u001b[0mnotin\u001b[0m \u001b[0;34m(\u001b[0m\u001b[0mprohibido\u001b[0m\u001b[0;34m[\u001b[0m\u001b[0;34m'aceite de girasol'\u001b[0m\u001b[0;34m]\u001b[0m\u001b[0;34m)\u001b[0m\u001b[0;34m]\u001b[0m\u001b[0;34m]\u001b[0m\u001b[0;34m\u001b[0m\u001b[0;34m\u001b[0m\u001b[0m\n\u001b[0m",
      "\u001b[0;32m~/anaconda3/envs/iron/lib/python3.9/site-packages/pandas/core/generic.py\u001b[0m in \u001b[0;36m__getattr__\u001b[0;34m(self, name)\u001b[0m\n\u001b[1;32m   5485\u001b[0m         ):\n\u001b[1;32m   5486\u001b[0m             \u001b[0;32mreturn\u001b[0m \u001b[0mself\u001b[0m\u001b[0;34m[\u001b[0m\u001b[0mname\u001b[0m\u001b[0;34m]\u001b[0m\u001b[0;34m\u001b[0m\u001b[0;34m\u001b[0m\u001b[0m\n\u001b[0;32m-> 5487\u001b[0;31m         \u001b[0;32mreturn\u001b[0m \u001b[0mobject\u001b[0m\u001b[0;34m.\u001b[0m\u001b[0m__getattribute__\u001b[0m\u001b[0;34m(\u001b[0m\u001b[0mself\u001b[0m\u001b[0;34m,\u001b[0m \u001b[0mname\u001b[0m\u001b[0;34m)\u001b[0m\u001b[0;34m\u001b[0m\u001b[0;34m\u001b[0m\u001b[0m\n\u001b[0m\u001b[1;32m   5488\u001b[0m \u001b[0;34m\u001b[0m\u001b[0m\n\u001b[1;32m   5489\u001b[0m     \u001b[0;32mdef\u001b[0m \u001b[0m__setattr__\u001b[0m\u001b[0;34m(\u001b[0m\u001b[0mself\u001b[0m\u001b[0;34m,\u001b[0m \u001b[0mname\u001b[0m\u001b[0;34m:\u001b[0m \u001b[0mstr\u001b[0m\u001b[0;34m,\u001b[0m \u001b[0mvalue\u001b[0m\u001b[0;34m)\u001b[0m \u001b[0;34m->\u001b[0m \u001b[0;32mNone\u001b[0m\u001b[0;34m:\u001b[0m\u001b[0;34m\u001b[0m\u001b[0;34m\u001b[0m\u001b[0m\n",
      "\u001b[0;31mAttributeError\u001b[0m: 'Series' object has no attribute 'notin'"
     ]
    }
   ],
   "source": [
    "ie[[ie['name'].notin (prohibido['aceite de girasol'])]]"
   ]
  },
  {
   "cell_type": "code",
   "execution_count": 165,
   "id": "6f610632",
   "metadata": {},
   "outputs": [
    {
     "data": {
      "text/html": [
       "<div>\n",
       "<style scoped>\n",
       "    .dataframe tbody tr th:only-of-type {\n",
       "        vertical-align: middle;\n",
       "    }\n",
       "\n",
       "    .dataframe tbody tr th {\n",
       "        vertical-align: top;\n",
       "    }\n",
       "\n",
       "    .dataframe thead th {\n",
       "        text-align: right;\n",
       "    }\n",
       "</style>\n",
       "<table border=\"1\" class=\"dataframe\">\n",
       "  <thead>\n",
       "    <tr style=\"text-align: right;\">\n",
       "      <th></th>\n",
       "      <th>price</th>\n",
       "      <th>product</th>\n",
       "      <th>supermarket</th>\n",
       "      <th>link</th>\n",
       "      <th>name</th>\n",
       "      <th>antes</th>\n",
       "      <th>bien</th>\n",
       "    </tr>\n",
       "  </thead>\n",
       "  <tbody>\n",
       "  </tbody>\n",
       "</table>\n",
       "</div>"
      ],
      "text/plain": [
       "Empty DataFrame\n",
       "Columns: [price, product, supermarket, link, name, antes, bien]\n",
       "Index: []"
      ]
     },
     "execution_count": 165,
     "metadata": {},
     "output_type": "execute_result"
    }
   ],
   "source": [
    "todo[((todo['product'] == 'aceite de girasol') & (any(e in todo['name'] for e in prohibido['aceite de girasol'])))]"
   ]
  },
  {
   "cell_type": "code",
   "execution_count": 205,
   "id": "5c3552bc",
   "metadata": {},
   "outputs": [],
   "source": [
    "def filtrar_1 (nombre_prod):\n",
    "    algun_true = []\n",
    "    df = todo[todo['product'] == f'{nombre_prod}']\n",
    "    for i,row in df.iterrows():\n",
    "        if any(e in row['name'] for e in prohibido[f'{nombre_prod}']):\n",
    "            df.drop(i, inplace=True)\n",
    "    return df    "
   ]
  },
  {
   "cell_type": "code",
   "execution_count": 220,
   "id": "378b34de",
   "metadata": {},
   "outputs": [
    {
     "data": {
      "text/html": [
       "<div>\n",
       "<style scoped>\n",
       "    .dataframe tbody tr th:only-of-type {\n",
       "        vertical-align: middle;\n",
       "    }\n",
       "\n",
       "    .dataframe tbody tr th {\n",
       "        vertical-align: top;\n",
       "    }\n",
       "\n",
       "    .dataframe thead th {\n",
       "        text-align: right;\n",
       "    }\n",
       "</style>\n",
       "<table border=\"1\" class=\"dataframe\">\n",
       "  <thead>\n",
       "    <tr style=\"text-align: right;\">\n",
       "      <th></th>\n",
       "      <th>Name</th>\n",
       "      <th>Super</th>\n",
       "      <th>Price</th>\n",
       "      <th>Link</th>\n",
       "      <th>product</th>\n",
       "    </tr>\n",
       "  </thead>\n",
       "  <tbody>\n",
       "    <tr>\n",
       "      <th>0</th>\n",
       "      <td>KOIPE Sol aceite girasol botella 1 lt</td>\n",
       "      <td>dia</td>\n",
       "      <td>1.92</td>\n",
       "      <td>https://www.dia.es/compra-online/search?text=a...</td>\n",
       "      <td>aceite de girasol</td>\n",
       "    </tr>\n",
       "    <tr>\n",
       "      <th>1</th>\n",
       "      <td>KOIPE Fritos aceite de girasol botella 1 lt</td>\n",
       "      <td>dia</td>\n",
       "      <td>2.09</td>\n",
       "      <td>https://www.dia.es/compra-online/search?text=a...</td>\n",
       "      <td>aceite de girasol</td>\n",
       "    </tr>\n",
       "    <tr>\n",
       "      <th>2</th>\n",
       "      <td>DIASOL aceite refinado de girasol botella 1 lt</td>\n",
       "      <td>dia</td>\n",
       "      <td>1.55</td>\n",
       "      <td>https://www.dia.es/compra-online/search?text=a...</td>\n",
       "      <td>aceite de girasol</td>\n",
       "    </tr>\n",
       "    <tr>\n",
       "      <th>3</th>\n",
       "      <td>DIASOL aceite refinado de girasol garrafa 5 lt</td>\n",
       "      <td>dia</td>\n",
       "      <td>1.47</td>\n",
       "      <td>https://www.dia.es/compra-online/search?text=a...</td>\n",
       "      <td>aceite de girasol</td>\n",
       "    </tr>\n",
       "    <tr>\n",
       "      <th>4</th>\n",
       "      <td>DIASOL aceite refinado de girasol especial par...</td>\n",
       "      <td>dia</td>\n",
       "      <td>1.79</td>\n",
       "      <td>https://www.dia.es/compra-online/search?text=a...</td>\n",
       "      <td>aceite de girasol</td>\n",
       "    </tr>\n",
       "    <tr>\n",
       "      <th>...</th>\n",
       "      <td>...</td>\n",
       "      <td>...</td>\n",
       "      <td>...</td>\n",
       "      <td>...</td>\n",
       "      <td>...</td>\n",
       "    </tr>\n",
       "    <tr>\n",
       "      <th>71</th>\n",
       "      <td>Aceite de girasol BORGESOL, botella 1 litro</td>\n",
       "      <td>eroski</td>\n",
       "      <td>1.59</td>\n",
       "      <td>https://supermercado.eroski.es/es/search/resul...</td>\n",
       "      <td>aceite de girasol</td>\n",
       "    </tr>\n",
       "    <tr>\n",
       "      <th>72</th>\n",
       "      <td>Atún claro en aceite de girasol EROSKI, pack 6...</td>\n",
       "      <td>eroski</td>\n",
       "      <td>3.56</td>\n",
       "      <td>https://supermercado.eroski.es/es/search/resul...</td>\n",
       "      <td>aceite de girasol</td>\n",
       "    </tr>\n",
       "    <tr>\n",
       "      <th>73</th>\n",
       "      <td>Sardina en aceite de girasol EROSKI basic, lat...</td>\n",
       "      <td>eroski</td>\n",
       "      <td>7.38</td>\n",
       "      <td>https://supermercado.eroski.es/es/search/resul...</td>\n",
       "      <td>aceite de girasol</td>\n",
       "    </tr>\n",
       "    <tr>\n",
       "      <th>74</th>\n",
       "      <td>Atún en aceite de girasol EROSKI BASIC, lata 9...</td>\n",
       "      <td>eroski</td>\n",
       "      <td>4.33</td>\n",
       "      <td>https://supermercado.eroski.es/es/search/resul...</td>\n",
       "      <td>aceite de girasol</td>\n",
       "    </tr>\n",
       "    <tr>\n",
       "      <th>75</th>\n",
       "      <td>Atún en aceite de girasol ISABEL, pack 3x70 g</td>\n",
       "      <td>eroski</td>\n",
       "      <td>5.89</td>\n",
       "      <td>https://supermercado.eroski.es/es/search/resul...</td>\n",
       "      <td>aceite de girasol</td>\n",
       "    </tr>\n",
       "  </tbody>\n",
       "</table>\n",
       "<p>76 rows × 5 columns</p>\n",
       "</div>"
      ],
      "text/plain": [
       "                                                 Name   Super  Price  \\\n",
       "0               KOIPE Sol aceite girasol botella 1 lt     dia   1.92   \n",
       "1         KOIPE Fritos aceite de girasol botella 1 lt     dia   2.09   \n",
       "2      DIASOL aceite refinado de girasol botella 1 lt     dia   1.55   \n",
       "3      DIASOL aceite refinado de girasol garrafa 5 lt     dia   1.47   \n",
       "4   DIASOL aceite refinado de girasol especial par...     dia   1.79   \n",
       "..                                                ...     ...    ...   \n",
       "71        Aceite de girasol BORGESOL, botella 1 litro  eroski   1.59   \n",
       "72  Atún claro en aceite de girasol EROSKI, pack 6...  eroski   3.56   \n",
       "73  Sardina en aceite de girasol EROSKI basic, lat...  eroski   7.38   \n",
       "74  Atún en aceite de girasol EROSKI BASIC, lata 9...  eroski   4.33   \n",
       "75      Atún en aceite de girasol ISABEL, pack 3x70 g  eroski   5.89   \n",
       "\n",
       "                                                 Link            product  \n",
       "0   https://www.dia.es/compra-online/search?text=a...  aceite de girasol  \n",
       "1   https://www.dia.es/compra-online/search?text=a...  aceite de girasol  \n",
       "2   https://www.dia.es/compra-online/search?text=a...  aceite de girasol  \n",
       "3   https://www.dia.es/compra-online/search?text=a...  aceite de girasol  \n",
       "4   https://www.dia.es/compra-online/search?text=a...  aceite de girasol  \n",
       "..                                                ...                ...  \n",
       "71  https://supermercado.eroski.es/es/search/resul...  aceite de girasol  \n",
       "72  https://supermercado.eroski.es/es/search/resul...  aceite de girasol  \n",
       "73  https://supermercado.eroski.es/es/search/resul...  aceite de girasol  \n",
       "74  https://supermercado.eroski.es/es/search/resul...  aceite de girasol  \n",
       "75  https://supermercado.eroski.es/es/search/resul...  aceite de girasol  \n",
       "\n",
       "[76 rows x 5 columns]"
      ]
     },
     "execution_count": 220,
     "metadata": {},
     "output_type": "execute_result"
    }
   ],
   "source": [
    "allperproduct = pd.read_csv('allperproduct.csv')\n",
    "allperproduct"
   ]
  },
  {
   "cell_type": "code",
   "execution_count": 215,
   "id": "fdc041af",
   "metadata": {},
   "outputs": [],
   "source": [
    "def filter (prod):\n",
    "    df = allperproduct[allperproduct['product'] == f'{prod}']\n",
    "    for i,row in df.iterrows():\n",
    "        if any(e in row['Name'].lower() for e in prohibido[f'{prod}']):\n",
    "            df.drop(i, inplace=True)\n",
    "    return df    "
   ]
  },
  {
   "cell_type": "code",
   "execution_count": 218,
   "id": "bf4b1a08",
   "metadata": {},
   "outputs": [
    {
     "data": {
      "text/html": [
       "<div>\n",
       "<style scoped>\n",
       "    .dataframe tbody tr th:only-of-type {\n",
       "        vertical-align: middle;\n",
       "    }\n",
       "\n",
       "    .dataframe tbody tr th {\n",
       "        vertical-align: top;\n",
       "    }\n",
       "\n",
       "    .dataframe thead th {\n",
       "        text-align: right;\n",
       "    }\n",
       "</style>\n",
       "<table border=\"1\" class=\"dataframe\">\n",
       "  <thead>\n",
       "    <tr style=\"text-align: right;\">\n",
       "      <th></th>\n",
       "      <th>Name</th>\n",
       "      <th>Super</th>\n",
       "      <th>Price</th>\n",
       "      <th>Link</th>\n",
       "      <th>product</th>\n",
       "    </tr>\n",
       "  </thead>\n",
       "  <tbody>\n",
       "    <tr>\n",
       "      <th>0</th>\n",
       "      <td>KOIPE Sol aceite girasol botella 1 lt</td>\n",
       "      <td>dia</td>\n",
       "      <td>1.92</td>\n",
       "      <td>https://www.dia.es/compra-online/search?text=a...</td>\n",
       "      <td>aceite de girasol</td>\n",
       "    </tr>\n",
       "    <tr>\n",
       "      <th>1</th>\n",
       "      <td>KOIPE Fritos aceite de girasol botella 1 lt</td>\n",
       "      <td>dia</td>\n",
       "      <td>2.09</td>\n",
       "      <td>https://www.dia.es/compra-online/search?text=a...</td>\n",
       "      <td>aceite de girasol</td>\n",
       "    </tr>\n",
       "    <tr>\n",
       "      <th>2</th>\n",
       "      <td>DIASOL aceite refinado de girasol botella 1 lt</td>\n",
       "      <td>dia</td>\n",
       "      <td>1.55</td>\n",
       "      <td>https://www.dia.es/compra-online/search?text=a...</td>\n",
       "      <td>aceite de girasol</td>\n",
       "    </tr>\n",
       "    <tr>\n",
       "      <th>3</th>\n",
       "      <td>DIASOL aceite refinado de girasol garrafa 5 lt</td>\n",
       "      <td>dia</td>\n",
       "      <td>1.47</td>\n",
       "      <td>https://www.dia.es/compra-online/search?text=a...</td>\n",
       "      <td>aceite de girasol</td>\n",
       "    </tr>\n",
       "    <tr>\n",
       "      <th>4</th>\n",
       "      <td>DIASOL aceite refinado de girasol especial par...</td>\n",
       "      <td>dia</td>\n",
       "      <td>1.79</td>\n",
       "      <td>https://www.dia.es/compra-online/search?text=a...</td>\n",
       "      <td>aceite de girasol</td>\n",
       "    </tr>\n",
       "    <tr>\n",
       "      <th>14</th>\n",
       "      <td>Aceite de girasol Carrefour 1 l.</td>\n",
       "      <td>carrefour</td>\n",
       "      <td>1.45</td>\n",
       "      <td>https://www.carrefour.es/?q=aceite de girasol&amp;...</td>\n",
       "      <td>aceite de girasol</td>\n",
       "    </tr>\n",
       "    <tr>\n",
       "      <th>15</th>\n",
       "      <td>Aceite de girasol Carrefour garrafa 5 l.</td>\n",
       "      <td>carrefour</td>\n",
       "      <td>1.39</td>\n",
       "      <td>https://www.carrefour.es/?q=aceite de girasol&amp;...</td>\n",
       "      <td>aceite de girasol</td>\n",
       "    </tr>\n",
       "    <tr>\n",
       "      <th>16</th>\n",
       "      <td>Aceite de girasol Coosol 1 l.</td>\n",
       "      <td>carrefour</td>\n",
       "      <td>1.83</td>\n",
       "      <td>https://www.carrefour.es/?q=aceite de girasol&amp;...</td>\n",
       "      <td>aceite de girasol</td>\n",
       "    </tr>\n",
       "    <tr>\n",
       "      <th>17</th>\n",
       "      <td>Aceite de girasol Koipesol 1 l.</td>\n",
       "      <td>carrefour</td>\n",
       "      <td>1.92</td>\n",
       "      <td>https://www.carrefour.es/?q=aceite de girasol&amp;...</td>\n",
       "      <td>aceite de girasol</td>\n",
       "    </tr>\n",
       "    <tr>\n",
       "      <th>18</th>\n",
       "      <td>Aceite de girasol fritos Koipe 1 l.</td>\n",
       "      <td>carrefour</td>\n",
       "      <td>2.09</td>\n",
       "      <td>https://www.carrefour.es/?q=aceite de girasol&amp;...</td>\n",
       "      <td>aceite de girasol</td>\n",
       "    </tr>\n",
       "    <tr>\n",
       "      <th>19</th>\n",
       "      <td>Aceite de girasol Koipesol garrafa 5 l.</td>\n",
       "      <td>carrefour</td>\n",
       "      <td>1.72</td>\n",
       "      <td>https://www.carrefour.es/?q=aceite de girasol&amp;...</td>\n",
       "      <td>aceite de girasol</td>\n",
       "    </tr>\n",
       "    <tr>\n",
       "      <th>20</th>\n",
       "      <td>Aceite de girasol Carrefour 1 l.</td>\n",
       "      <td>carrefour</td>\n",
       "      <td>1.75</td>\n",
       "      <td>https://www.carrefour.es/?q=aceite de girasol&amp;...</td>\n",
       "      <td>aceite de girasol</td>\n",
       "    </tr>\n",
       "    <tr>\n",
       "      <th>21</th>\n",
       "      <td>Aceite de girasol Carrefour garrafa 5 l.</td>\n",
       "      <td>carrefour</td>\n",
       "      <td>1.63</td>\n",
       "      <td>https://www.carrefour.es/?q=aceite de girasol&amp;...</td>\n",
       "      <td>aceite de girasol</td>\n",
       "    </tr>\n",
       "    <tr>\n",
       "      <th>23</th>\n",
       "      <td>Aceite refinado de girasol Koipe spray 150 ml.</td>\n",
       "      <td>carrefour</td>\n",
       "      <td>11.27</td>\n",
       "      <td>https://www.carrefour.es/?q=aceite de girasol&amp;...</td>\n",
       "      <td>aceite de girasol</td>\n",
       "    </tr>\n",
       "    <tr>\n",
       "      <th>24</th>\n",
       "      <td>Aceite de girasol Capicua garrafa 5 l.</td>\n",
       "      <td>carrefour</td>\n",
       "      <td>2.06</td>\n",
       "      <td>https://www.carrefour.es/?q=aceite de girasol&amp;...</td>\n",
       "      <td>aceite de girasol</td>\n",
       "    </tr>\n",
       "    <tr>\n",
       "      <th>25</th>\n",
       "      <td>Aceite de girasol Fontasol 5 l.</td>\n",
       "      <td>carrefour</td>\n",
       "      <td>1.68</td>\n",
       "      <td>https://www.carrefour.es/?q=aceite de girasol&amp;...</td>\n",
       "      <td>aceite de girasol</td>\n",
       "    </tr>\n",
       "    <tr>\n",
       "      <th>26</th>\n",
       "      <td>Aceite de girasol Fontasol 1 l.</td>\n",
       "      <td>carrefour</td>\n",
       "      <td>2.09</td>\n",
       "      <td>https://www.carrefour.es/?q=aceite de girasol&amp;...</td>\n",
       "      <td>aceite de girasol</td>\n",
       "    </tr>\n",
       "    <tr>\n",
       "      <th>62</th>\n",
       "      <td>Aceite de girasol LANISOL, botella 1 litro</td>\n",
       "      <td>eroski</td>\n",
       "      <td>1.45</td>\n",
       "      <td>https://supermercado.eroski.es/es/search/resul...</td>\n",
       "      <td>aceite de girasol</td>\n",
       "    </tr>\n",
       "    <tr>\n",
       "      <th>63</th>\n",
       "      <td>Aceite de girasol KOIPESOL, botella 1 litro</td>\n",
       "      <td>eroski</td>\n",
       "      <td>1.79</td>\n",
       "      <td>https://supermercado.eroski.es/es/search/resul...</td>\n",
       "      <td>aceite de girasol</td>\n",
       "    </tr>\n",
       "    <tr>\n",
       "      <th>64</th>\n",
       "      <td>Aceite de girasol EROSKI, botella 1 litro</td>\n",
       "      <td>eroski</td>\n",
       "      <td>1.54</td>\n",
       "      <td>https://supermercado.eroski.es/es/search/resul...</td>\n",
       "      <td>aceite de girasol</td>\n",
       "    </tr>\n",
       "    <tr>\n",
       "      <th>65</th>\n",
       "      <td>Aceite de girasol EROSKI, garrafa 5 litros</td>\n",
       "      <td>eroski</td>\n",
       "      <td>6.99</td>\n",
       "      <td>https://supermercado.eroski.es/es/search/resul...</td>\n",
       "      <td>aceite de girasol</td>\n",
       "    </tr>\n",
       "    <tr>\n",
       "      <th>66</th>\n",
       "      <td>Aceite de girasol URZANTE, botella 1 litro</td>\n",
       "      <td>eroski</td>\n",
       "      <td>1.40</td>\n",
       "      <td>https://supermercado.eroski.es/es/search/resul...</td>\n",
       "      <td>aceite de girasol</td>\n",
       "    </tr>\n",
       "    <tr>\n",
       "      <th>67</th>\n",
       "      <td>Aceite girasol tradicional COOSOL, botella 1 l...</td>\n",
       "      <td>eroski</td>\n",
       "      <td>1.45</td>\n",
       "      <td>https://supermercado.eroski.es/es/search/resul...</td>\n",
       "      <td>aceite de girasol</td>\n",
       "    </tr>\n",
       "    <tr>\n",
       "      <th>68</th>\n",
       "      <td>Aceite de girasol KOIPESOL, garrafa 3 litros</td>\n",
       "      <td>eroski</td>\n",
       "      <td>5.69</td>\n",
       "      <td>https://supermercado.eroski.es/es/search/resul...</td>\n",
       "      <td>aceite de girasol</td>\n",
       "    </tr>\n",
       "    <tr>\n",
       "      <th>69</th>\n",
       "      <td>Aceite de girasol especial para freir COOSOL, ...</td>\n",
       "      <td>eroski</td>\n",
       "      <td>1.90</td>\n",
       "      <td>https://supermercado.eroski.es/es/search/resul...</td>\n",
       "      <td>aceite de girasol</td>\n",
       "    </tr>\n",
       "    <tr>\n",
       "      <th>70</th>\n",
       "      <td>Aceite de girasol KOIPESOL, garrafa 5 litros</td>\n",
       "      <td>eroski</td>\n",
       "      <td>7.95</td>\n",
       "      <td>https://supermercado.eroski.es/es/search/resul...</td>\n",
       "      <td>aceite de girasol</td>\n",
       "    </tr>\n",
       "    <tr>\n",
       "      <th>71</th>\n",
       "      <td>Aceite de girasol BORGESOL, botella 1 litro</td>\n",
       "      <td>eroski</td>\n",
       "      <td>1.59</td>\n",
       "      <td>https://supermercado.eroski.es/es/search/resul...</td>\n",
       "      <td>aceite de girasol</td>\n",
       "    </tr>\n",
       "  </tbody>\n",
       "</table>\n",
       "</div>"
      ],
      "text/plain": [
       "                                                 Name      Super  Price  \\\n",
       "0               KOIPE Sol aceite girasol botella 1 lt        dia   1.92   \n",
       "1         KOIPE Fritos aceite de girasol botella 1 lt        dia   2.09   \n",
       "2      DIASOL aceite refinado de girasol botella 1 lt        dia   1.55   \n",
       "3      DIASOL aceite refinado de girasol garrafa 5 lt        dia   1.47   \n",
       "4   DIASOL aceite refinado de girasol especial par...        dia   1.79   \n",
       "14                   Aceite de girasol Carrefour 1 l.  carrefour   1.45   \n",
       "15           Aceite de girasol Carrefour garrafa 5 l.  carrefour   1.39   \n",
       "16                      Aceite de girasol Coosol 1 l.  carrefour   1.83   \n",
       "17                    Aceite de girasol Koipesol 1 l.  carrefour   1.92   \n",
       "18                Aceite de girasol fritos Koipe 1 l.  carrefour   2.09   \n",
       "19            Aceite de girasol Koipesol garrafa 5 l.  carrefour   1.72   \n",
       "20                   Aceite de girasol Carrefour 1 l.  carrefour   1.75   \n",
       "21           Aceite de girasol Carrefour garrafa 5 l.  carrefour   1.63   \n",
       "23     Aceite refinado de girasol Koipe spray 150 ml.  carrefour  11.27   \n",
       "24             Aceite de girasol Capicua garrafa 5 l.  carrefour   2.06   \n",
       "25                    Aceite de girasol Fontasol 5 l.  carrefour   1.68   \n",
       "26                    Aceite de girasol Fontasol 1 l.  carrefour   2.09   \n",
       "62         Aceite de girasol LANISOL, botella 1 litro     eroski   1.45   \n",
       "63        Aceite de girasol KOIPESOL, botella 1 litro     eroski   1.79   \n",
       "64          Aceite de girasol EROSKI, botella 1 litro     eroski   1.54   \n",
       "65         Aceite de girasol EROSKI, garrafa 5 litros     eroski   6.99   \n",
       "66         Aceite de girasol URZANTE, botella 1 litro     eroski   1.40   \n",
       "67  Aceite girasol tradicional COOSOL, botella 1 l...     eroski   1.45   \n",
       "68       Aceite de girasol KOIPESOL, garrafa 3 litros     eroski   5.69   \n",
       "69  Aceite de girasol especial para freir COOSOL, ...     eroski   1.90   \n",
       "70       Aceite de girasol KOIPESOL, garrafa 5 litros     eroski   7.95   \n",
       "71        Aceite de girasol BORGESOL, botella 1 litro     eroski   1.59   \n",
       "\n",
       "                                                 Link            product  \n",
       "0   https://www.dia.es/compra-online/search?text=a...  aceite de girasol  \n",
       "1   https://www.dia.es/compra-online/search?text=a...  aceite de girasol  \n",
       "2   https://www.dia.es/compra-online/search?text=a...  aceite de girasol  \n",
       "3   https://www.dia.es/compra-online/search?text=a...  aceite de girasol  \n",
       "4   https://www.dia.es/compra-online/search?text=a...  aceite de girasol  \n",
       "14  https://www.carrefour.es/?q=aceite de girasol&...  aceite de girasol  \n",
       "15  https://www.carrefour.es/?q=aceite de girasol&...  aceite de girasol  \n",
       "16  https://www.carrefour.es/?q=aceite de girasol&...  aceite de girasol  \n",
       "17  https://www.carrefour.es/?q=aceite de girasol&...  aceite de girasol  \n",
       "18  https://www.carrefour.es/?q=aceite de girasol&...  aceite de girasol  \n",
       "19  https://www.carrefour.es/?q=aceite de girasol&...  aceite de girasol  \n",
       "20  https://www.carrefour.es/?q=aceite de girasol&...  aceite de girasol  \n",
       "21  https://www.carrefour.es/?q=aceite de girasol&...  aceite de girasol  \n",
       "23  https://www.carrefour.es/?q=aceite de girasol&...  aceite de girasol  \n",
       "24  https://www.carrefour.es/?q=aceite de girasol&...  aceite de girasol  \n",
       "25  https://www.carrefour.es/?q=aceite de girasol&...  aceite de girasol  \n",
       "26  https://www.carrefour.es/?q=aceite de girasol&...  aceite de girasol  \n",
       "62  https://supermercado.eroski.es/es/search/resul...  aceite de girasol  \n",
       "63  https://supermercado.eroski.es/es/search/resul...  aceite de girasol  \n",
       "64  https://supermercado.eroski.es/es/search/resul...  aceite de girasol  \n",
       "65  https://supermercado.eroski.es/es/search/resul...  aceite de girasol  \n",
       "66  https://supermercado.eroski.es/es/search/resul...  aceite de girasol  \n",
       "67  https://supermercado.eroski.es/es/search/resul...  aceite de girasol  \n",
       "68  https://supermercado.eroski.es/es/search/resul...  aceite de girasol  \n",
       "69  https://supermercado.eroski.es/es/search/resul...  aceite de girasol  \n",
       "70  https://supermercado.eroski.es/es/search/resul...  aceite de girasol  \n",
       "71  https://supermercado.eroski.es/es/search/resul...  aceite de girasol  "
      ]
     },
     "execution_count": 218,
     "metadata": {},
     "output_type": "execute_result"
    }
   ],
   "source": [
    "o = filter('aceite de girasol')\n",
    "o"
   ]
  },
  {
   "cell_type": "code",
   "execution_count": 177,
   "id": "17edd36c",
   "metadata": {},
   "outputs": [
    {
     "data": {
      "text/html": [
       "<div>\n",
       "<style scoped>\n",
       "    .dataframe tbody tr th:only-of-type {\n",
       "        vertical-align: middle;\n",
       "    }\n",
       "\n",
       "    .dataframe tbody tr th {\n",
       "        vertical-align: top;\n",
       "    }\n",
       "\n",
       "    .dataframe thead th {\n",
       "        text-align: right;\n",
       "    }\n",
       "</style>\n",
       "<table border=\"1\" class=\"dataframe\">\n",
       "  <thead>\n",
       "    <tr style=\"text-align: right;\">\n",
       "      <th></th>\n",
       "      <th>price</th>\n",
       "      <th>product</th>\n",
       "      <th>supermarket</th>\n",
       "      <th>link</th>\n",
       "      <th>name</th>\n",
       "      <th>antes</th>\n",
       "      <th>bien</th>\n",
       "    </tr>\n",
       "  </thead>\n",
       "  <tbody>\n",
       "    <tr>\n",
       "      <th>0</th>\n",
       "      <td>1.55</td>\n",
       "      <td>aceite de girasol</td>\n",
       "      <td>dia</td>\n",
       "      <td>https://www.dia.es/compra-online/search?text=a...</td>\n",
       "      <td>DIASOL aceite refinado de girasol botella 1 lt</td>\n",
       "      <td>['Click here to get it'](</td>\n",
       "      <td>['Click here to get it'](https://www.dia.es/co...</td>\n",
       "    </tr>\n",
       "    <tr>\n",
       "      <th>1</th>\n",
       "      <td>1.92</td>\n",
       "      <td>aceite de girasol</td>\n",
       "      <td>dia</td>\n",
       "      <td>https://www.dia.es/compra-online/search?text=a...</td>\n",
       "      <td>KOIPE Sol aceite girasol botella 1 lt</td>\n",
       "      <td>['Click here to get it'](</td>\n",
       "      <td>['Click here to get it'](https://www.dia.es/co...</td>\n",
       "    </tr>\n",
       "    <tr>\n",
       "      <th>2</th>\n",
       "      <td>1.47</td>\n",
       "      <td>aceite de girasol</td>\n",
       "      <td>dia</td>\n",
       "      <td>https://www.dia.es/compra-online/search?text=a...</td>\n",
       "      <td>DIASOL aceite refinado de girasol garrafa 5 lt</td>\n",
       "      <td>['Click here to get it'](</td>\n",
       "      <td>['Click here to get it'](https://www.dia.es/co...</td>\n",
       "    </tr>\n",
       "    <tr>\n",
       "      <th>3</th>\n",
       "      <td>2.09</td>\n",
       "      <td>aceite de girasol</td>\n",
       "      <td>dia</td>\n",
       "      <td>https://www.dia.es/compra-online/search?text=a...</td>\n",
       "      <td>KOIPE Fritos aceite de girasol botella 1 lt</td>\n",
       "      <td>['Click here to get it'](</td>\n",
       "      <td>['Click here to get it'](https://www.dia.es/co...</td>\n",
       "    </tr>\n",
       "    <tr>\n",
       "      <th>4</th>\n",
       "      <td>1.79</td>\n",
       "      <td>aceite de girasol</td>\n",
       "      <td>dia</td>\n",
       "      <td>https://www.dia.es/compra-online/search?text=a...</td>\n",
       "      <td>DIASOL aceite refinado de girasol especial par...</td>\n",
       "      <td>['Click here to get it'](</td>\n",
       "      <td>['Click here to get it'](https://www.dia.es/co...</td>\n",
       "    </tr>\n",
       "    <tr>\n",
       "      <th>5</th>\n",
       "      <td>14.96</td>\n",
       "      <td>aceite de girasol</td>\n",
       "      <td>dia</td>\n",
       "      <td>https://www.dia.es/compra-online/search?text=a...</td>\n",
       "      <td>ISABEL atún en aceite de girasol lata 260 gr</td>\n",
       "      <td>['Click here to get it'](</td>\n",
       "      <td>['Click here to get it'](https://www.dia.es/co...</td>\n",
       "    </tr>\n",
       "    <tr>\n",
       "      <th>6</th>\n",
       "      <td>25.29</td>\n",
       "      <td>aceite de girasol</td>\n",
       "      <td>dia</td>\n",
       "      <td>https://www.dia.es/compra-online/search?text=a...</td>\n",
       "      <td>UBAGO melva en aceite de girasol lata 85 gr</td>\n",
       "      <td>['Click here to get it'](</td>\n",
       "      <td>['Click here to get it'](https://www.dia.es/co...</td>\n",
       "    </tr>\n",
       "    <tr>\n",
       "      <th>7</th>\n",
       "      <td>11.37</td>\n",
       "      <td>aceite de girasol</td>\n",
       "      <td>dia</td>\n",
       "      <td>https://www.dia.es/compra-online/search?text=a...</td>\n",
       "      <td>ISABEL atún en aceite de girasol lata 650 gr</td>\n",
       "      <td>['Click here to get it'](</td>\n",
       "      <td>['Click here to get it'](https://www.dia.es/co...</td>\n",
       "    </tr>\n",
       "    <tr>\n",
       "      <th>8</th>\n",
       "      <td>26.73</td>\n",
       "      <td>aceite de girasol</td>\n",
       "      <td>dia</td>\n",
       "      <td>https://www.dia.es/compra-online/search?text=a...</td>\n",
       "      <td>CAPRIMAR anchoas en aceite de girasol frasco 5...</td>\n",
       "      <td>['Click here to get it'](</td>\n",
       "      <td>['Click here to get it'](https://www.dia.es/co...</td>\n",
       "    </tr>\n",
       "    <tr>\n",
       "      <th>9</th>\n",
       "      <td>19.08</td>\n",
       "      <td>aceite de girasol</td>\n",
       "      <td>dia</td>\n",
       "      <td>https://www.dia.es/compra-online/search?text=a...</td>\n",
       "      <td>UBAGO filetes de caballa del sur en aceite de ...</td>\n",
       "      <td>['Click here to get it'](</td>\n",
       "      <td>['Click here to get it'](https://www.dia.es/co...</td>\n",
       "    </tr>\n",
       "    <tr>\n",
       "      <th>10</th>\n",
       "      <td>14.68</td>\n",
       "      <td>aceite de girasol</td>\n",
       "      <td>dia</td>\n",
       "      <td>https://www.dia.es/compra-online/search?text=a...</td>\n",
       "      <td>ISABEL atún en aceite girasol pack 3 latas de ...</td>\n",
       "      <td>['Click here to get it'](</td>\n",
       "      <td>['Click here to get it'](https://www.dia.es/co...</td>\n",
       "    </tr>\n",
       "    <tr>\n",
       "      <th>11</th>\n",
       "      <td>8.15</td>\n",
       "      <td>aceite de girasol</td>\n",
       "      <td>dia</td>\n",
       "      <td>https://www.dia.es/compra-online/search?text=a...</td>\n",
       "      <td>DIA MARI MARINERA atún en aceite de girasol la...</td>\n",
       "      <td>['Click here to get it'](</td>\n",
       "      <td>['Click here to get it'](https://www.dia.es/co...</td>\n",
       "    </tr>\n",
       "    <tr>\n",
       "      <th>12</th>\n",
       "      <td>18.53</td>\n",
       "      <td>aceite de girasol</td>\n",
       "      <td>dia</td>\n",
       "      <td>https://www.dia.es/compra-online/search?text=a...</td>\n",
       "      <td>CALVO atún claro en aceite de girasol pack 3 l...</td>\n",
       "      <td>['Click here to get it'](</td>\n",
       "      <td>['Click here to get it'](https://www.dia.es/co...</td>\n",
       "    </tr>\n",
       "    <tr>\n",
       "      <th>13</th>\n",
       "      <td>10.83</td>\n",
       "      <td>aceite de girasol</td>\n",
       "      <td>dia</td>\n",
       "      <td>https://www.dia.es/compra-online/search?text=a...</td>\n",
       "      <td>DIA MARI MARINERA filete de caballa en aceite ...</td>\n",
       "      <td>['Click here to get it'](</td>\n",
       "      <td>['Click here to get it'](https://www.dia.es/co...</td>\n",
       "    </tr>\n",
       "  </tbody>\n",
       "</table>\n",
       "</div>"
      ],
      "text/plain": [
       "    price            product supermarket  \\\n",
       "0    1.55  aceite de girasol         dia   \n",
       "1    1.92  aceite de girasol         dia   \n",
       "2    1.47  aceite de girasol         dia   \n",
       "3    2.09  aceite de girasol         dia   \n",
       "4    1.79  aceite de girasol         dia   \n",
       "5   14.96  aceite de girasol         dia   \n",
       "6   25.29  aceite de girasol         dia   \n",
       "7   11.37  aceite de girasol         dia   \n",
       "8   26.73  aceite de girasol         dia   \n",
       "9   19.08  aceite de girasol         dia   \n",
       "10  14.68  aceite de girasol         dia   \n",
       "11   8.15  aceite de girasol         dia   \n",
       "12  18.53  aceite de girasol         dia   \n",
       "13  10.83  aceite de girasol         dia   \n",
       "\n",
       "                                                 link  \\\n",
       "0   https://www.dia.es/compra-online/search?text=a...   \n",
       "1   https://www.dia.es/compra-online/search?text=a...   \n",
       "2   https://www.dia.es/compra-online/search?text=a...   \n",
       "3   https://www.dia.es/compra-online/search?text=a...   \n",
       "4   https://www.dia.es/compra-online/search?text=a...   \n",
       "5   https://www.dia.es/compra-online/search?text=a...   \n",
       "6   https://www.dia.es/compra-online/search?text=a...   \n",
       "7   https://www.dia.es/compra-online/search?text=a...   \n",
       "8   https://www.dia.es/compra-online/search?text=a...   \n",
       "9   https://www.dia.es/compra-online/search?text=a...   \n",
       "10  https://www.dia.es/compra-online/search?text=a...   \n",
       "11  https://www.dia.es/compra-online/search?text=a...   \n",
       "12  https://www.dia.es/compra-online/search?text=a...   \n",
       "13  https://www.dia.es/compra-online/search?text=a...   \n",
       "\n",
       "                                                 name  \\\n",
       "0      DIASOL aceite refinado de girasol botella 1 lt   \n",
       "1               KOIPE Sol aceite girasol botella 1 lt   \n",
       "2      DIASOL aceite refinado de girasol garrafa 5 lt   \n",
       "3         KOIPE Fritos aceite de girasol botella 1 lt   \n",
       "4   DIASOL aceite refinado de girasol especial par...   \n",
       "5        ISABEL atún en aceite de girasol lata 260 gr   \n",
       "6         UBAGO melva en aceite de girasol lata 85 gr   \n",
       "7        ISABEL atún en aceite de girasol lata 650 gr   \n",
       "8   CAPRIMAR anchoas en aceite de girasol frasco 5...   \n",
       "9   UBAGO filetes de caballa del sur en aceite de ...   \n",
       "10  ISABEL atún en aceite girasol pack 3 latas de ...   \n",
       "11  DIA MARI MARINERA atún en aceite de girasol la...   \n",
       "12  CALVO atún claro en aceite de girasol pack 3 l...   \n",
       "13  DIA MARI MARINERA filete de caballa en aceite ...   \n",
       "\n",
       "                        antes  \\\n",
       "0   ['Click here to get it'](   \n",
       "1   ['Click here to get it'](   \n",
       "2   ['Click here to get it'](   \n",
       "3   ['Click here to get it'](   \n",
       "4   ['Click here to get it'](   \n",
       "5   ['Click here to get it'](   \n",
       "6   ['Click here to get it'](   \n",
       "7   ['Click here to get it'](   \n",
       "8   ['Click here to get it'](   \n",
       "9   ['Click here to get it'](   \n",
       "10  ['Click here to get it'](   \n",
       "11  ['Click here to get it'](   \n",
       "12  ['Click here to get it'](   \n",
       "13  ['Click here to get it'](   \n",
       "\n",
       "                                                 bien  \n",
       "0   ['Click here to get it'](https://www.dia.es/co...  \n",
       "1   ['Click here to get it'](https://www.dia.es/co...  \n",
       "2   ['Click here to get it'](https://www.dia.es/co...  \n",
       "3   ['Click here to get it'](https://www.dia.es/co...  \n",
       "4   ['Click here to get it'](https://www.dia.es/co...  \n",
       "5   ['Click here to get it'](https://www.dia.es/co...  \n",
       "6   ['Click here to get it'](https://www.dia.es/co...  \n",
       "7   ['Click here to get it'](https://www.dia.es/co...  \n",
       "8   ['Click here to get it'](https://www.dia.es/co...  \n",
       "9   ['Click here to get it'](https://www.dia.es/co...  \n",
       "10  ['Click here to get it'](https://www.dia.es/co...  \n",
       "11  ['Click here to get it'](https://www.dia.es/co...  \n",
       "12  ['Click here to get it'](https://www.dia.es/co...  \n",
       "13  ['Click here to get it'](https://www.dia.es/co...  "
      ]
     },
     "execution_count": 177,
     "metadata": {},
     "output_type": "execute_result"
    }
   ],
   "source": [
    "todo[((todo['product'] == 'aceite de girasol'))]"
   ]
  },
  {
   "cell_type": "code",
   "execution_count": 176,
   "id": "026ac76f",
   "metadata": {},
   "outputs": [
    {
     "name": "stderr",
     "output_type": "stream",
     "text": [
      "/home/andrestart/anaconda3/envs/iron/lib/python3.9/site-packages/pandas/core/frame.py:4906: SettingWithCopyWarning: \n",
      "A value is trying to be set on a copy of a slice from a DataFrame\n",
      "\n",
      "See the caveats in the documentation: https://pandas.pydata.org/pandas-docs/stable/user_guide/indexing.html#returning-a-view-versus-a-copy\n",
      "  return super().drop(\n"
     ]
    },
    {
     "data": {
      "text/html": [
       "<div>\n",
       "<style scoped>\n",
       "    .dataframe tbody tr th:only-of-type {\n",
       "        vertical-align: middle;\n",
       "    }\n",
       "\n",
       "    .dataframe tbody tr th {\n",
       "        vertical-align: top;\n",
       "    }\n",
       "\n",
       "    .dataframe thead th {\n",
       "        text-align: right;\n",
       "    }\n",
       "</style>\n",
       "<table border=\"1\" class=\"dataframe\">\n",
       "  <thead>\n",
       "    <tr style=\"text-align: right;\">\n",
       "      <th></th>\n",
       "      <th>price</th>\n",
       "      <th>product</th>\n",
       "      <th>supermarket</th>\n",
       "      <th>link</th>\n",
       "      <th>name</th>\n",
       "      <th>antes</th>\n",
       "      <th>bien</th>\n",
       "    </tr>\n",
       "  </thead>\n",
       "  <tbody>\n",
       "    <tr>\n",
       "      <th>0</th>\n",
       "      <td>1.55</td>\n",
       "      <td>aceite de girasol</td>\n",
       "      <td>dia</td>\n",
       "      <td>https://www.dia.es/compra-online/search?text=a...</td>\n",
       "      <td>DIASOL aceite refinado de girasol botella 1 lt</td>\n",
       "      <td>['Click here to get it'](</td>\n",
       "      <td>['Click here to get it'](https://www.dia.es/co...</td>\n",
       "    </tr>\n",
       "    <tr>\n",
       "      <th>1</th>\n",
       "      <td>1.92</td>\n",
       "      <td>aceite de girasol</td>\n",
       "      <td>dia</td>\n",
       "      <td>https://www.dia.es/compra-online/search?text=a...</td>\n",
       "      <td>KOIPE Sol aceite girasol botella 1 lt</td>\n",
       "      <td>['Click here to get it'](</td>\n",
       "      <td>['Click here to get it'](https://www.dia.es/co...</td>\n",
       "    </tr>\n",
       "    <tr>\n",
       "      <th>2</th>\n",
       "      <td>1.47</td>\n",
       "      <td>aceite de girasol</td>\n",
       "      <td>dia</td>\n",
       "      <td>https://www.dia.es/compra-online/search?text=a...</td>\n",
       "      <td>DIASOL aceite refinado de girasol garrafa 5 lt</td>\n",
       "      <td>['Click here to get it'](</td>\n",
       "      <td>['Click here to get it'](https://www.dia.es/co...</td>\n",
       "    </tr>\n",
       "    <tr>\n",
       "      <th>3</th>\n",
       "      <td>2.09</td>\n",
       "      <td>aceite de girasol</td>\n",
       "      <td>dia</td>\n",
       "      <td>https://www.dia.es/compra-online/search?text=a...</td>\n",
       "      <td>KOIPE Fritos aceite de girasol botella 1 lt</td>\n",
       "      <td>['Click here to get it'](</td>\n",
       "      <td>['Click here to get it'](https://www.dia.es/co...</td>\n",
       "    </tr>\n",
       "    <tr>\n",
       "      <th>4</th>\n",
       "      <td>1.79</td>\n",
       "      <td>aceite de girasol</td>\n",
       "      <td>dia</td>\n",
       "      <td>https://www.dia.es/compra-online/search?text=a...</td>\n",
       "      <td>DIASOL aceite refinado de girasol especial par...</td>\n",
       "      <td>['Click here to get it'](</td>\n",
       "      <td>['Click here to get it'](https://www.dia.es/co...</td>\n",
       "    </tr>\n",
       "  </tbody>\n",
       "</table>\n",
       "</div>"
      ],
      "text/plain": [
       "   price            product supermarket  \\\n",
       "0   1.55  aceite de girasol         dia   \n",
       "1   1.92  aceite de girasol         dia   \n",
       "2   1.47  aceite de girasol         dia   \n",
       "3   2.09  aceite de girasol         dia   \n",
       "4   1.79  aceite de girasol         dia   \n",
       "\n",
       "                                                link  \\\n",
       "0  https://www.dia.es/compra-online/search?text=a...   \n",
       "1  https://www.dia.es/compra-online/search?text=a...   \n",
       "2  https://www.dia.es/compra-online/search?text=a...   \n",
       "3  https://www.dia.es/compra-online/search?text=a...   \n",
       "4  https://www.dia.es/compra-online/search?text=a...   \n",
       "\n",
       "                                                name  \\\n",
       "0     DIASOL aceite refinado de girasol botella 1 lt   \n",
       "1              KOIPE Sol aceite girasol botella 1 lt   \n",
       "2     DIASOL aceite refinado de girasol garrafa 5 lt   \n",
       "3        KOIPE Fritos aceite de girasol botella 1 lt   \n",
       "4  DIASOL aceite refinado de girasol especial par...   \n",
       "\n",
       "                       antes  \\\n",
       "0  ['Click here to get it'](   \n",
       "1  ['Click here to get it'](   \n",
       "2  ['Click here to get it'](   \n",
       "3  ['Click here to get it'](   \n",
       "4  ['Click here to get it'](   \n",
       "\n",
       "                                                bien  \n",
       "0  ['Click here to get it'](https://www.dia.es/co...  \n",
       "1  ['Click here to get it'](https://www.dia.es/co...  \n",
       "2  ['Click here to get it'](https://www.dia.es/co...  \n",
       "3  ['Click here to get it'](https://www.dia.es/co...  \n",
       "4  ['Click here to get it'](https://www.dia.es/co...  "
      ]
     },
     "execution_count": 176,
     "metadata": {},
     "output_type": "execute_result"
    }
   ],
   "source": [
    "filtrar_1('aceite de girasol')"
   ]
  },
  {
   "cell_type": "code",
   "execution_count": null,
   "id": "ccf286cd",
   "metadata": {},
   "outputs": [],
   "source": []
  },
  {
   "cell_type": "code",
   "execution_count": 174,
   "id": "77be7ed0",
   "metadata": {},
   "outputs": [
    {
     "data": {
      "text/html": [
       "<div>\n",
       "<style scoped>\n",
       "    .dataframe tbody tr th:only-of-type {\n",
       "        vertical-align: middle;\n",
       "    }\n",
       "\n",
       "    .dataframe tbody tr th {\n",
       "        vertical-align: top;\n",
       "    }\n",
       "\n",
       "    .dataframe thead th {\n",
       "        text-align: right;\n",
       "    }\n",
       "</style>\n",
       "<table border=\"1\" class=\"dataframe\">\n",
       "  <thead>\n",
       "    <tr style=\"text-align: right;\">\n",
       "      <th></th>\n",
       "      <th>price</th>\n",
       "      <th>product</th>\n",
       "      <th>supermarket</th>\n",
       "      <th>link</th>\n",
       "      <th>name</th>\n",
       "      <th>antes</th>\n",
       "      <th>bien</th>\n",
       "    </tr>\n",
       "  </thead>\n",
       "  <tbody>\n",
       "    <tr>\n",
       "      <th>0</th>\n",
       "      <td>NaN</td>\n",
       "      <td>NaN</td>\n",
       "      <td>NaN</td>\n",
       "      <td>NaN</td>\n",
       "      <td>NaN</td>\n",
       "      <td>NaN</td>\n",
       "      <td>NaN</td>\n",
       "    </tr>\n",
       "    <tr>\n",
       "      <th>1</th>\n",
       "      <td>NaN</td>\n",
       "      <td>NaN</td>\n",
       "      <td>NaN</td>\n",
       "      <td>NaN</td>\n",
       "      <td>NaN</td>\n",
       "      <td>NaN</td>\n",
       "      <td>NaN</td>\n",
       "    </tr>\n",
       "    <tr>\n",
       "      <th>2</th>\n",
       "      <td>NaN</td>\n",
       "      <td>NaN</td>\n",
       "      <td>NaN</td>\n",
       "      <td>NaN</td>\n",
       "      <td>NaN</td>\n",
       "      <td>NaN</td>\n",
       "      <td>NaN</td>\n",
       "    </tr>\n",
       "    <tr>\n",
       "      <th>3</th>\n",
       "      <td>NaN</td>\n",
       "      <td>NaN</td>\n",
       "      <td>NaN</td>\n",
       "      <td>NaN</td>\n",
       "      <td>NaN</td>\n",
       "      <td>NaN</td>\n",
       "      <td>NaN</td>\n",
       "    </tr>\n",
       "    <tr>\n",
       "      <th>4</th>\n",
       "      <td>NaN</td>\n",
       "      <td>NaN</td>\n",
       "      <td>NaN</td>\n",
       "      <td>NaN</td>\n",
       "      <td>NaN</td>\n",
       "      <td>NaN</td>\n",
       "      <td>NaN</td>\n",
       "    </tr>\n",
       "    <tr>\n",
       "      <th>...</th>\n",
       "      <td>...</td>\n",
       "      <td>...</td>\n",
       "      <td>...</td>\n",
       "      <td>...</td>\n",
       "      <td>...</td>\n",
       "      <td>...</td>\n",
       "      <td>...</td>\n",
       "    </tr>\n",
       "    <tr>\n",
       "      <th>604</th>\n",
       "      <td>NaN</td>\n",
       "      <td>NaN</td>\n",
       "      <td>NaN</td>\n",
       "      <td>NaN</td>\n",
       "      <td>NaN</td>\n",
       "      <td>NaN</td>\n",
       "      <td>NaN</td>\n",
       "    </tr>\n",
       "    <tr>\n",
       "      <th>605</th>\n",
       "      <td>NaN</td>\n",
       "      <td>NaN</td>\n",
       "      <td>NaN</td>\n",
       "      <td>NaN</td>\n",
       "      <td>NaN</td>\n",
       "      <td>NaN</td>\n",
       "      <td>NaN</td>\n",
       "    </tr>\n",
       "    <tr>\n",
       "      <th>606</th>\n",
       "      <td>NaN</td>\n",
       "      <td>NaN</td>\n",
       "      <td>NaN</td>\n",
       "      <td>NaN</td>\n",
       "      <td>NaN</td>\n",
       "      <td>NaN</td>\n",
       "      <td>NaN</td>\n",
       "    </tr>\n",
       "    <tr>\n",
       "      <th>607</th>\n",
       "      <td>NaN</td>\n",
       "      <td>NaN</td>\n",
       "      <td>NaN</td>\n",
       "      <td>NaN</td>\n",
       "      <td>NaN</td>\n",
       "      <td>NaN</td>\n",
       "      <td>NaN</td>\n",
       "    </tr>\n",
       "    <tr>\n",
       "      <th>608</th>\n",
       "      <td>NaN</td>\n",
       "      <td>NaN</td>\n",
       "      <td>NaN</td>\n",
       "      <td>NaN</td>\n",
       "      <td>NaN</td>\n",
       "      <td>NaN</td>\n",
       "      <td>NaN</td>\n",
       "    </tr>\n",
       "  </tbody>\n",
       "</table>\n",
       "<p>609 rows × 7 columns</p>\n",
       "</div>"
      ],
      "text/plain": [
       "     price product supermarket link name antes bien\n",
       "0      NaN     NaN         NaN  NaN  NaN   NaN  NaN\n",
       "1      NaN     NaN         NaN  NaN  NaN   NaN  NaN\n",
       "2      NaN     NaN         NaN  NaN  NaN   NaN  NaN\n",
       "3      NaN     NaN         NaN  NaN  NaN   NaN  NaN\n",
       "4      NaN     NaN         NaN  NaN  NaN   NaN  NaN\n",
       "..     ...     ...         ...  ...  ...   ...  ...\n",
       "604    NaN     NaN         NaN  NaN  NaN   NaN  NaN\n",
       "605    NaN     NaN         NaN  NaN  NaN   NaN  NaN\n",
       "606    NaN     NaN         NaN  NaN  NaN   NaN  NaN\n",
       "607    NaN     NaN         NaN  NaN  NaN   NaN  NaN\n",
       "608    NaN     NaN         NaN  NaN  NaN   NaN  NaN\n",
       "\n",
       "[609 rows x 7 columns]"
      ]
     },
     "execution_count": 174,
     "metadata": {},
     "output_type": "execute_result"
    }
   ],
   "source": [
    "todo.where(((todo['product'] == 'aceite de girasol') & (any(e in todo['name'] for e in prohibido['aceite de girasol']))))"
   ]
  },
  {
   "cell_type": "code",
   "execution_count": 45,
   "id": "f046255d",
   "metadata": {},
   "outputs": [
    {
     "ename": "TypeError",
     "evalue": "unsupported operand type(s) for &: 'str' and 'list'",
     "output_type": "error",
     "traceback": [
      "\u001b[0;31m---------------------------------------------------------------------------\u001b[0m",
      "\u001b[0;31mTypeError\u001b[0m                                 Traceback (most recent call last)",
      "\u001b[0;32m/tmp/ipykernel_469/3266794903.py\u001b[0m in \u001b[0;36m<module>\u001b[0;34m\u001b[0m\n\u001b[0;32m----> 1\u001b[0;31m \u001b[0mtodo\u001b[0m\u001b[0;34m[\u001b[0m\u001b[0;34m(\u001b[0m\u001b[0mtodo\u001b[0m\u001b[0;34m[\u001b[0m\u001b[0;34m'product'\u001b[0m\u001b[0;34m]\u001b[0m \u001b[0;34m==\u001b[0m \u001b[0;34m'aceite de girasol'\u001b[0m \u001b[0;34m&\u001b[0m \u001b[0mprohibido\u001b[0m\u001b[0;34m[\u001b[0m\u001b[0;34m'aceite de girasol'\u001b[0m\u001b[0;34m]\u001b[0m \u001b[0;32mnot\u001b[0m \u001b[0;32min\u001b[0m \u001b[0mtodo\u001b[0m\u001b[0;34m[\u001b[0m\u001b[0;34m'name'\u001b[0m\u001b[0;34m]\u001b[0m\u001b[0;34m)\u001b[0m\u001b[0;34m]\u001b[0m\u001b[0;34m\u001b[0m\u001b[0;34m\u001b[0m\u001b[0m\n\u001b[0m",
      "\u001b[0;31mTypeError\u001b[0m: unsupported operand type(s) for &: 'str' and 'list'"
     ]
    }
   ],
   "source": [
    "todo[(todo['product'] == 'aceite de girasol' & prohibido['aceite de girasol'] not in todo['name'])]"
   ]
  },
  {
   "cell_type": "code",
   "execution_count": 217,
   "id": "e4e70fe3",
   "metadata": {},
   "outputs": [],
   "source": [
    "prohibido = {'aceite de girasol':['Atún','atún','melva','anchoas','caballa','mayonesa','sardinillas','sardinas','sardina','paté','patatas','caballa','salsa','chipirones','caballa','melva','tomates','anchoa','potón','chipirones'],\n",
    "'aceite de oliva':[],\n",
    "'ajo':['polvo','perejil','panecillo','pan', 'salsa','tiras','ojos','papel'],\n",
    "'albaricoque':['mermelada','yogur','barritas','facial','bebida'],\n",
    "'arroz':[],\n",
    "'azucar':[],\n",
    "'berenjena':['calabacín', 'calabaza'],\n",
    "'calabacin':['crema','hamburguesas','hamburguesa', 'berenjena', 'calabaza'], \n",
    "'cebada':[],\n",
    "'cebolla':['sopa','molida','frasco', 'tortilla', 'morcilla', 'sofrito', 'tomate'],\n",
    "'cerdo':['cortezas', 'pate', 'paté', 'cepillo'],\n",
    "'cereza':['bombón','bombones','caramelo','frutos secos'],\n",
    "'champiñon':['redondo'],\n",
    "'ciruela':['mermelada','sabor','té','toque','bífidus','redondo'],\n",
    "'coliflor':['brócoli', 'repollo','lombarda'],\n",
    "'cordero':['perros','gatos'],\n",
    "'esparrago':[''],\n",
    "'fresa':['yogur','batido','sirope','yogolino','mermelada','sabor','gelatina','postre','pastillas','caramelos', 'champú','golosinas'],\n",
    "'harina de trigo':['pan','corteza','maizena','pipas','palitos','cerveza','tostas','tortillas'],\n",
    "'judia':[],\n",
    "'leche entera':[],\n",
    "'leche entera organica':[],\n",
    "'lechuga':['endivia'],\n",
    "'limon':['refresco','fanta','schweppes','zero',],\n",
    "'maiz':['palomitas','tortitas','harina'],\n",
    "'malta':['leche','crema','perros'],\n",
    "'mandarina':['zumo'],\n",
    "'mantequilla':['palomitas','croissant','magdalenas','galletas','aperitivo'],\n",
    "'manzana':['sidra','zumo','puré','refresco'],\n",
    "'melocoton':['néctar','mermelada','yogur'],\n",
    "'melon':['toallitas','aroma','bebuda','pelo'],\n",
    "'naranja':['kas','lata','fanta','refresco'],\n",
    "'nectarina':[],\n",
    "'pepino':['jabón'],\n",
    "'pera':[],\n",
    "'pimiento':[],\n",
    "'pipas de girasol':[],\n",
    "'puerro':[],\n",
    "'queso edam':[],\n",
    "'queso emmental':[],\n",
    "'sandia':[],\n",
    "'suero de leche':[],\n",
    "'ternera':[],\n",
    "'tomate':[],\n",
    "'uva':[],\n",
    "'vino':[],\n",
    "'zanahoria':[]}"
   ]
  },
  {
   "cell_type": "code",
   "execution_count": null,
   "id": "2b50e24e",
   "metadata": {},
   "outputs": [],
   "source": [
    "    dia = pd.DataFrame(list(c.engine.execute(f\"\"\"SELECT  `namescrap` as `Name`, `price` as `Price`, `supermarket` as `Super`, `link` as `Link` FROM `dia`  WHERE `product_idproduct` = {idprod}\"\"\")))\n",
    "    dia.columns = ['Name', 'Price', 'Super', 'Link']\n",
    "\n",
    "    eroski = pd.DataFrame(list(c.engine.execute(f\"\"\"SELECT  `namescrap` as `Name`,  `price` as `Price`, `supermarket` as `Super`, `link` as `Link` FROM `eroski` WHERE `product_idproduct` = {idprod}\"\"\")))    \n",
    "    eroski.columns = ['Name', 'Price', 'Super', 'Link']\n",
    "    \n",
    "    carrefour = pd.DataFrame(list(c.engine.execute(f\"\"\"SELECT  `namescrap` as `Name`,  `price` as `Price`, `supermarket` as `Super`, `link` as `Link` WHERE `product_idproduct` = {idprod}\"\"\")))\n",
    "    carrefour.columns = ['Name', 'Price', 'Super', 'Link']"
   ]
  }
 ],
 "metadata": {
  "kernelspec": {
   "display_name": "iron",
   "language": "python",
   "name": "iron"
  },
  "language_info": {
   "codemirror_mode": {
    "name": "ipython",
    "version": 3
   },
   "file_extension": ".py",
   "mimetype": "text/x-python",
   "name": "python",
   "nbconvert_exporter": "python",
   "pygments_lexer": "ipython3",
   "version": "3.9.7"
  },
  "toc": {
   "base_numbering": 1,
   "nav_menu": {},
   "number_sections": true,
   "sideBar": true,
   "skip_h1_title": false,
   "title_cell": "Table of Contents",
   "title_sidebar": "Contents",
   "toc_cell": false,
   "toc_position": {},
   "toc_section_display": true,
   "toc_window_display": false
  }
 },
 "nbformat": 4,
 "nbformat_minor": 5
}
