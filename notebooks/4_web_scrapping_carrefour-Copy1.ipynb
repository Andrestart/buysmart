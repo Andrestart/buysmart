{
 "cells": [
  {
   "cell_type": "code",
   "execution_count": 9,
   "id": "fc068165",
   "metadata": {},
   "outputs": [],
   "source": [
    "from selenium import webdriver\n",
    "from selenium.webdriver.chrome.options import Options\n",
    "from selenium.webdriver.common.keys import Keys\n",
    "import time\n",
    "import pandas as pd\n",
    "from selenium.webdriver.support.ui import Select\n",
    "from webdriver_manager.chrome import ChromeDriverManager\n",
    "import time\n",
    "import requests\n",
    "from bs4 import BeautifulSoup"
   ]
  },
  {
   "cell_type": "code",
   "execution_count": 2,
   "id": "5a7eb145",
   "metadata": {},
   "outputs": [],
   "source": [
    "foods = ['mantequilla',\n",
    " 'uva de mesa',\n",
    " 'coliflor',\n",
    " 'queso emmental',\n",
    " 'maíz',\n",
    " 'mandarina común',\n",
    " 'harina de pipas de girasol',\n",
    " 'sandía',\n",
    " 'salsa de soja',\n",
    " 'arroz',\n",
    " 'harina de soja',\n",
    " 'pepino',\n",
    " 'naranja',\n",
    " 'ternera',\n",
    " 'calabacín',\n",
    " 'harina de trigo',\n",
    " 'fresa',\n",
    " 'vino',\n",
    " 'lechuga',\n",
    " 'pimiento',\n",
    " 'melocotón',\n",
    " 'albaricoque',\n",
    " 'aceite de oliva virgen (hasta 2%)',\n",
    " 'leche entera en polvo',\n",
    " 'aceite de orujo de oliva crudo de 5 a 10%',\n",
    " 'pera',\n",
    " 'colza',\n",
    " 'manzana',\n",
    " 'puerro',\n",
    " 'ajo',\n",
    " 'tomate',\n",
    " 'aceite de orujo de oliva refinado (hasta 3%)',\n",
    " 'leche entera',\n",
    " 'harina de trigo candeal',\n",
    " 'cerdo',\n",
    " 'azúcar',\n",
    " 'leche entera orgánica',\n",
    " 'leche semidesnatada en polvo',\n",
    " 'melón',\n",
    " 'queso edam',\n",
    " 'malta',\n",
    " 'champiñón',\n",
    " 'judías',\n",
    " 'nectarina',\n",
    " 'zanahoria',\n",
    " 'pipas de girasol',\n",
    " 'cereza',\n",
    " 'aceite de oliva refinado (hasta 3%)',\n",
    " 'cebada',\n",
    " 'suero de leche',\n",
    " 'limón',\n",
    " 'aceite de orujo de oliva (hasta 1%)',\n",
    " 'aceite de oliva virgen extra (hasta 0.8%)',\n",
    " 'berenjena',\n",
    " 'ciruela',\n",
    " 'mandarina satsuma',\n",
    " 'cebolla',\n",
    " 'aceite de oliva virgen lampante',\n",
    " 'col',\n",
    " 'cabra y oveja',\n",
    " 'aceite de girasol',\n",
    " 'clementina',\n",
    " 'espárrago']"
   ]
  },
  {
   "cell_type": "code",
   "execution_count": 30,
   "id": "227cfa00",
   "metadata": {},
   "outputs": [],
   "source": [
    "url = \"https://www.carrefour.es/?q=cebolla\"\n",
    "html = requests.get(url)\n",
    "soup = BeautifulSoup(html.content,\"html.parser\")\n",
    "tags = soup.find_all(\"div\", {\"class\": \"product-card__detail\"})"
   ]
  },
  {
   "cell_type": "code",
   "execution_count": 3,
   "id": "468b7d72",
   "metadata": {},
   "outputs": [],
   "source": [
    "opciones=Options()\n",
    "\n",
    "opciones.add_experimental_option('excludeSwitches', ['enable-automation'])\n",
    "opciones.add_experimental_option('useAutomationExtension', False)\n",
    "opciones.headless=False \n",
    "opciones.add_argument('--start-maximized')\n",
    "opciones.add_argument('--incognito')     "
   ]
  },
  {
   "cell_type": "code",
   "execution_count": 16,
   "id": "810a5b40",
   "metadata": {},
   "outputs": [
    {
     "name": "stderr",
     "output_type": "stream",
     "text": [
      "/tmp/ipykernel_363/3074270537.py:2: DeprecationWarning: executable_path has been deprecated, please pass in a Service object\n",
      "  driver = webdriver.Chrome(driver, options=opciones)\n",
      "/tmp/ipykernel_363/3074270537.py:6: DeprecationWarning: find_element_by_* commands are deprecated. Please use find_element() instead\n",
      "  driver.find_element_by_css_selector('body > div.cc_overlay_lock > div > div > div:nth-child(4) > button.cc_b_ok.auxOKButton.cookie-button').click()\n",
      "/tmp/ipykernel_363/3074270537.py:8: DeprecationWarning: find_element_by_* commands are deprecated. Please use find_element() instead\n",
      "  driver.find_element_by_css_selector('#search').send_keys('cebolla')\n",
      "/tmp/ipykernel_363/3074270537.py:10: DeprecationWarning: find_element_by_* commands are deprecated. Please use find_element() instead\n",
      "  driver.find_element_by_css_selector('#search').send_keys(Keys.RETURN)\n",
      "/tmp/ipykernel_363/3074270537.py:12: DeprecationWarning: find_element_by_* commands are deprecated. Please use find_element() instead\n",
      "  driver.find_element_by_css_selector('#checkbox').click()\n"
     ]
    },
    {
     "ename": "NoSuchElementException",
     "evalue": "Message: no such element: Unable to locate element: {\"method\":\"css selector\",\"selector\":\"#checkbox\"}\n  (Session info: chrome=96.0.4664.93)\nStacktrace:\nBacktrace:\n\tOrdinal0 [0x00A26903+2517251]\n\tOrdinal0 [0x009BF8E1+2095329]\n\tOrdinal0 [0x008C2848+1058888]\n\tOrdinal0 [0x008ED448+1233992]\n\tOrdinal0 [0x008ED63B+1234491]\n\tOrdinal0 [0x00917812+1406994]\n\tOrdinal0 [0x0090650A+1336586]\n\tOrdinal0 [0x00915BBF+1399743]\n\tOrdinal0 [0x0090639B+1336219]\n\tOrdinal0 [0x008E27A7+1189799]\n\tOrdinal0 [0x008E3609+1193481]\n\tGetHandleVerifier [0x00BB5904+1577972]\n\tGetHandleVerifier [0x00C60B97+2279047]\n\tGetHandleVerifier [0x00AB6D09+534521]\n\tGetHandleVerifier [0x00AB5DB9+530601]\n\tOrdinal0 [0x009C4FF9+2117625]\n\tOrdinal0 [0x009C98A8+2136232]\n\tOrdinal0 [0x009C99E2+2136546]\n\tOrdinal0 [0x009D3541+2176321]\n\tBaseThreadInitThunk [0x7659FA29+25]\n\tRtlGetAppContainerNamedObjectPath [0x77B77A9E+286]\n\tRtlGetAppContainerNamedObjectPath [0x77B77A6E+238]\n",
     "output_type": "error",
     "traceback": [
      "\u001b[0;31m---------------------------------------------------------------------------\u001b[0m",
      "\u001b[0;31mNoSuchElementException\u001b[0m                    Traceback (most recent call last)",
      "\u001b[0;32m/tmp/ipykernel_363/3074270537.py\u001b[0m in \u001b[0;36m<module>\u001b[0;34m\u001b[0m\n\u001b[1;32m     10\u001b[0m \u001b[0mdriver\u001b[0m\u001b[0;34m.\u001b[0m\u001b[0mfind_element_by_css_selector\u001b[0m\u001b[0;34m(\u001b[0m\u001b[0;34m'#search'\u001b[0m\u001b[0;34m)\u001b[0m\u001b[0;34m.\u001b[0m\u001b[0msend_keys\u001b[0m\u001b[0;34m(\u001b[0m\u001b[0mKeys\u001b[0m\u001b[0;34m.\u001b[0m\u001b[0mRETURN\u001b[0m\u001b[0;34m)\u001b[0m\u001b[0;34m\u001b[0m\u001b[0;34m\u001b[0m\u001b[0m\n\u001b[1;32m     11\u001b[0m \u001b[0mdriver\u001b[0m\u001b[0;34m.\u001b[0m\u001b[0mimplicitly_wait\u001b[0m\u001b[0;34m(\u001b[0m\u001b[0;36m4\u001b[0m\u001b[0;34m)\u001b[0m\u001b[0;34m\u001b[0m\u001b[0;34m\u001b[0m\u001b[0m\n\u001b[0;32m---> 12\u001b[0;31m \u001b[0mdriver\u001b[0m\u001b[0;34m.\u001b[0m\u001b[0mfind_element_by_css_selector\u001b[0m\u001b[0;34m(\u001b[0m\u001b[0;34m'#checkbox'\u001b[0m\u001b[0;34m)\u001b[0m\u001b[0;34m.\u001b[0m\u001b[0mclick\u001b[0m\u001b[0;34m(\u001b[0m\u001b[0;34m)\u001b[0m\u001b[0;34m\u001b[0m\u001b[0;34m\u001b[0m\u001b[0m\n\u001b[0m\u001b[1;32m     13\u001b[0m \u001b[0;34m\u001b[0m\u001b[0m\n\u001b[1;32m     14\u001b[0m \u001b[0;31m# driver.find_element_by_css_selector('#search-input').sendKeys('cebolla')\u001b[0m\u001b[0;34m\u001b[0m\u001b[0;34m\u001b[0m\u001b[0m\n",
      "\u001b[0;32m~/anaconda3/envs/iron/lib/python3.9/site-packages/selenium/webdriver/remote/webdriver.py\u001b[0m in \u001b[0;36mfind_element_by_css_selector\u001b[0;34m(self, css_selector)\u001b[0m\n\u001b[1;32m    800\u001b[0m             \u001b[0mstacklevel\u001b[0m\u001b[0;34m=\u001b[0m\u001b[0;36m2\u001b[0m\u001b[0;34m,\u001b[0m\u001b[0;34m\u001b[0m\u001b[0;34m\u001b[0m\u001b[0m\n\u001b[1;32m    801\u001b[0m         )\n\u001b[0;32m--> 802\u001b[0;31m         \u001b[0;32mreturn\u001b[0m \u001b[0mself\u001b[0m\u001b[0;34m.\u001b[0m\u001b[0mfind_element\u001b[0m\u001b[0;34m(\u001b[0m\u001b[0mby\u001b[0m\u001b[0;34m=\u001b[0m\u001b[0mBy\u001b[0m\u001b[0;34m.\u001b[0m\u001b[0mCSS_SELECTOR\u001b[0m\u001b[0;34m,\u001b[0m \u001b[0mvalue\u001b[0m\u001b[0;34m=\u001b[0m\u001b[0mcss_selector\u001b[0m\u001b[0;34m)\u001b[0m\u001b[0;34m\u001b[0m\u001b[0;34m\u001b[0m\u001b[0m\n\u001b[0m\u001b[1;32m    803\u001b[0m \u001b[0;34m\u001b[0m\u001b[0m\n\u001b[1;32m    804\u001b[0m     \u001b[0;32mdef\u001b[0m \u001b[0mfind_elements_by_css_selector\u001b[0m\u001b[0;34m(\u001b[0m\u001b[0mself\u001b[0m\u001b[0;34m,\u001b[0m \u001b[0mcss_selector\u001b[0m\u001b[0;34m)\u001b[0m \u001b[0;34m->\u001b[0m \u001b[0mWebElement\u001b[0m\u001b[0;34m:\u001b[0m\u001b[0;34m\u001b[0m\u001b[0;34m\u001b[0m\u001b[0m\n",
      "\u001b[0;32m~/anaconda3/envs/iron/lib/python3.9/site-packages/selenium/webdriver/remote/webdriver.py\u001b[0m in \u001b[0;36mfind_element\u001b[0;34m(self, by, value)\u001b[0m\n\u001b[1;32m   1236\u001b[0m             \u001b[0mvalue\u001b[0m \u001b[0;34m=\u001b[0m \u001b[0;34m'[name=\"%s\"]'\u001b[0m \u001b[0;34m%\u001b[0m \u001b[0mvalue\u001b[0m\u001b[0;34m\u001b[0m\u001b[0;34m\u001b[0m\u001b[0m\n\u001b[1;32m   1237\u001b[0m \u001b[0;34m\u001b[0m\u001b[0m\n\u001b[0;32m-> 1238\u001b[0;31m         return self.execute(Command.FIND_ELEMENT, {\n\u001b[0m\u001b[1;32m   1239\u001b[0m             \u001b[0;34m'using'\u001b[0m\u001b[0;34m:\u001b[0m \u001b[0mby\u001b[0m\u001b[0;34m,\u001b[0m\u001b[0;34m\u001b[0m\u001b[0;34m\u001b[0m\u001b[0m\n\u001b[1;32m   1240\u001b[0m             'value': value})['value']\n",
      "\u001b[0;32m~/anaconda3/envs/iron/lib/python3.9/site-packages/selenium/webdriver/remote/webdriver.py\u001b[0m in \u001b[0;36mexecute\u001b[0;34m(self, driver_command, params)\u001b[0m\n\u001b[1;32m    416\u001b[0m         \u001b[0mresponse\u001b[0m \u001b[0;34m=\u001b[0m \u001b[0mself\u001b[0m\u001b[0;34m.\u001b[0m\u001b[0mcommand_executor\u001b[0m\u001b[0;34m.\u001b[0m\u001b[0mexecute\u001b[0m\u001b[0;34m(\u001b[0m\u001b[0mdriver_command\u001b[0m\u001b[0;34m,\u001b[0m \u001b[0mparams\u001b[0m\u001b[0;34m)\u001b[0m\u001b[0;34m\u001b[0m\u001b[0;34m\u001b[0m\u001b[0m\n\u001b[1;32m    417\u001b[0m         \u001b[0;32mif\u001b[0m \u001b[0mresponse\u001b[0m\u001b[0;34m:\u001b[0m\u001b[0;34m\u001b[0m\u001b[0;34m\u001b[0m\u001b[0m\n\u001b[0;32m--> 418\u001b[0;31m             \u001b[0mself\u001b[0m\u001b[0;34m.\u001b[0m\u001b[0merror_handler\u001b[0m\u001b[0;34m.\u001b[0m\u001b[0mcheck_response\u001b[0m\u001b[0;34m(\u001b[0m\u001b[0mresponse\u001b[0m\u001b[0;34m)\u001b[0m\u001b[0;34m\u001b[0m\u001b[0;34m\u001b[0m\u001b[0m\n\u001b[0m\u001b[1;32m    419\u001b[0m             response['value'] = self._unwrap_value(\n\u001b[1;32m    420\u001b[0m                 response.get('value', None))\n",
      "\u001b[0;32m~/anaconda3/envs/iron/lib/python3.9/site-packages/selenium/webdriver/remote/errorhandler.py\u001b[0m in \u001b[0;36mcheck_response\u001b[0;34m(self, response)\u001b[0m\n\u001b[1;32m    241\u001b[0m                 \u001b[0malert_text\u001b[0m \u001b[0;34m=\u001b[0m \u001b[0mvalue\u001b[0m\u001b[0;34m[\u001b[0m\u001b[0;34m'alert'\u001b[0m\u001b[0;34m]\u001b[0m\u001b[0;34m.\u001b[0m\u001b[0mget\u001b[0m\u001b[0;34m(\u001b[0m\u001b[0;34m'text'\u001b[0m\u001b[0;34m)\u001b[0m\u001b[0;34m\u001b[0m\u001b[0;34m\u001b[0m\u001b[0m\n\u001b[1;32m    242\u001b[0m             \u001b[0;32mraise\u001b[0m \u001b[0mexception_class\u001b[0m\u001b[0;34m(\u001b[0m\u001b[0mmessage\u001b[0m\u001b[0;34m,\u001b[0m \u001b[0mscreen\u001b[0m\u001b[0;34m,\u001b[0m \u001b[0mstacktrace\u001b[0m\u001b[0;34m,\u001b[0m \u001b[0malert_text\u001b[0m\u001b[0;34m)\u001b[0m  \u001b[0;31m# type: ignore[call-arg]  # mypy is not smart enough here\u001b[0m\u001b[0;34m\u001b[0m\u001b[0;34m\u001b[0m\u001b[0m\n\u001b[0;32m--> 243\u001b[0;31m         \u001b[0;32mraise\u001b[0m \u001b[0mexception_class\u001b[0m\u001b[0;34m(\u001b[0m\u001b[0mmessage\u001b[0m\u001b[0;34m,\u001b[0m \u001b[0mscreen\u001b[0m\u001b[0;34m,\u001b[0m \u001b[0mstacktrace\u001b[0m\u001b[0;34m)\u001b[0m\u001b[0;34m\u001b[0m\u001b[0;34m\u001b[0m\u001b[0m\n\u001b[0m\u001b[1;32m    244\u001b[0m \u001b[0;34m\u001b[0m\u001b[0m\n\u001b[1;32m    245\u001b[0m     \u001b[0;32mdef\u001b[0m \u001b[0m_value_or_default\u001b[0m\u001b[0;34m(\u001b[0m\u001b[0mself\u001b[0m\u001b[0;34m,\u001b[0m \u001b[0mobj\u001b[0m\u001b[0;34m:\u001b[0m \u001b[0mMapping\u001b[0m\u001b[0;34m[\u001b[0m\u001b[0m_KT\u001b[0m\u001b[0;34m,\u001b[0m \u001b[0m_VT\u001b[0m\u001b[0;34m]\u001b[0m\u001b[0;34m,\u001b[0m \u001b[0mkey\u001b[0m\u001b[0;34m:\u001b[0m \u001b[0m_KT\u001b[0m\u001b[0;34m,\u001b[0m \u001b[0mdefault\u001b[0m\u001b[0;34m:\u001b[0m \u001b[0m_VT\u001b[0m\u001b[0;34m)\u001b[0m \u001b[0;34m->\u001b[0m \u001b[0m_VT\u001b[0m\u001b[0;34m:\u001b[0m\u001b[0;34m\u001b[0m\u001b[0;34m\u001b[0m\u001b[0m\n",
      "\u001b[0;31mNoSuchElementException\u001b[0m: Message: no such element: Unable to locate element: {\"method\":\"css selector\",\"selector\":\"#checkbox\"}\n  (Session info: chrome=96.0.4664.93)\nStacktrace:\nBacktrace:\n\tOrdinal0 [0x00A26903+2517251]\n\tOrdinal0 [0x009BF8E1+2095329]\n\tOrdinal0 [0x008C2848+1058888]\n\tOrdinal0 [0x008ED448+1233992]\n\tOrdinal0 [0x008ED63B+1234491]\n\tOrdinal0 [0x00917812+1406994]\n\tOrdinal0 [0x0090650A+1336586]\n\tOrdinal0 [0x00915BBF+1399743]\n\tOrdinal0 [0x0090639B+1336219]\n\tOrdinal0 [0x008E27A7+1189799]\n\tOrdinal0 [0x008E3609+1193481]\n\tGetHandleVerifier [0x00BB5904+1577972]\n\tGetHandleVerifier [0x00C60B97+2279047]\n\tGetHandleVerifier [0x00AB6D09+534521]\n\tGetHandleVerifier [0x00AB5DB9+530601]\n\tOrdinal0 [0x009C4FF9+2117625]\n\tOrdinal0 [0x009C98A8+2136232]\n\tOrdinal0 [0x009C99E2+2136546]\n\tOrdinal0 [0x009D3541+2176321]\n\tBaseThreadInitThunk [0x7659FA29+25]\n\tRtlGetAppContainerNamedObjectPath [0x77B77A9E+286]\n\tRtlGetAppContainerNamedObjectPath [0x77B77A6E+238]\n"
     ]
    }
   ],
   "source": [
    "driver = \"../driver/chromedriver.exe\"\n",
    "driver = webdriver.Chrome(driver, options=opciones)\n",
    "url = ('https://www.alcampo.es/compra-online/')\n",
    "driver.get(url)\n",
    "time.sleep(2)\n",
    "driver.find_element_by_css_selector('body > div.cc_overlay_lock > div > div > div:nth-child(4) > button.cc_b_ok.auxOKButton.cookie-button').click()\n",
    "time.sleep(1)\n",
    "driver.find_element_by_css_selector('#search').send_keys('cebolla')\n",
    "time.sleep(2)\n",
    "driver.find_element_by_css_selector('#search').send_keys(Keys.RETURN)\n",
    "driver.implicitly_wait(4)\n",
    "driver.find_element_by_css_selector('#checkbox').click()\n",
    "\n",
    "# driver.find_element_by_css_selector('#search-input').sendKeys('cebolla')\n",
    "\n",
    "\n",
    "time.sleep(10)\n",
    "\n",
    "\n",
    "\n",
    "\n",
    "# url = \"https://www.carrefour.es/?q=cebolla\"\n",
    "# html = requests.get(url)\n",
    "# soup = BeautifulSoup(html.content,\"html.parser\")\n",
    "# tags = soup.find_all(\"div\", {\"class\": \"product-card__detail\"})"
   ]
  },
  {
   "cell_type": "code",
   "execution_count": 21,
   "id": "6e963513",
   "metadata": {},
   "outputs": [],
   "source": [
    "url = \"https://www.alcampo.es/compra-online/search/?department=&text=cebolla\"\n",
    "html = requests.get(url)\n",
    "soup = BeautifulSoup(html.content,\"html.parser\")\n",
    "tags = soup.find_all(\"span\", {\"class\": \"pesoVariable pesoVariableGrid\"})"
   ]
  },
  {
   "cell_type": "code",
   "execution_count": 25,
   "id": "79d883ab",
   "metadata": {},
   "outputs": [],
   "source": [
    "url = \"https://www.carrefour.es/?q=cebolla\"\n",
    "html = requests.get(url)\n",
    "soup = BeautifulSoup(html.content,\"html.parser\")\n",
    "tags = soup.find_all(\"span\", {\"class\": \"pesoVariable pesoVariableGrid\"})"
   ]
  },
  {
   "cell_type": "code",
   "execution_count": 26,
   "id": "f34888aa",
   "metadata": {},
   "outputs": [
    {
     "data": {
      "text/plain": [
       "[]"
      ]
     },
     "execution_count": 26,
     "metadata": {},
     "output_type": "execute_result"
    }
   ],
   "source": [
    "tags"
   ]
  },
  {
   "cell_type": "code",
   "execution_count": 54,
   "id": "f9fa6d46",
   "metadata": {},
   "outputs": [],
   "source": [
    "# for food in foods:\n",
    "# url = f\"https://www.carrefour.es/?q={food}\"\n"
   ]
  },
  {
   "cell_type": "code",
   "execution_count": null,
   "id": "3bc7c185",
   "metadata": {},
   "outputs": [],
   "source": []
  },
  {
   "cell_type": "code",
   "execution_count": null,
   "id": "0a0f919b",
   "metadata": {},
   "outputs": [],
   "source": []
  },
  {
   "cell_type": "code",
   "execution_count": 3,
   "id": "e569d3bf",
   "metadata": {},
   "outputs": [],
   "source": [
    "opciones=Options()\n",
    "\n",
    "opciones.add_experimental_option('excludeSwitches', ['enable-automation'])\n",
    "opciones.add_experimental_option('useAutomationExtension', False)\n",
    "opciones.headless=False \n",
    "opciones.add_argument('--start-maximized')\n",
    "opciones.add_argument('--incognito')     "
   ]
  },
  {
   "cell_type": "code",
   "execution_count": 11,
   "id": "c032aed1",
   "metadata": {},
   "outputs": [
    {
     "name": "stderr",
     "output_type": "stream",
     "text": [
      "/tmp/ipykernel_285/3237544445.py:2: DeprecationWarning: executable_path has been deprecated, please pass in a Service object\n",
      "  driver = webdriver.Chrome(driver, options=opciones)\n",
      "/tmp/ipykernel_285/3237544445.py:7: DeprecationWarning: find_element_by_* commands are deprecated. Please use find_element() instead\n",
      "  driver.find_element_by_css_selector('#onetrust-accept-btn-handler').click()\n",
      "/tmp/ipykernel_285/3237544445.py:10: DeprecationWarning: find_element_by_* commands are deprecated. Please use find_element() instead\n",
      "  driver.find_element_by_css_selector('div.hst-container-item:nth-child(3) > div:nth-child(1) > div:nth-child(1) > ul:nth-child(2) > li:nth-child(1) > div:nth-child(1) > div:nth-child(1) > a:nth-child(1) > div:nth-child(1) > img:nth-child(2)').click()\n",
      "/tmp/ipykernel_285/3237544445.py:13: DeprecationWarning: find_element_by_* commands are deprecated. Please use find_element() instead\n",
      "  driver.find_element_by_css_selector('#app > div > main > div > div > div > div > div > div:nth-child(2) > div > div > div:nth-child(1) > div > a > div.cta-banner__banner > div > img').click()\n",
      "/tmp/ipykernel_285/3237544445.py:18: DeprecationWarning: find_element_by_* commands are deprecated. Please use find_element() instead\n",
      "  prec.append(driver.find_element_by_css_selector(f'#app > div > main > div.plp-food-view__main > div.plp-food-view__container > div.plp-food-view__list > div.plp-food-view__results-list-container > div.plp > div > div > ul > li:nth-child({i}) > div > div > div.product-card__detail > div.product-card__prices-container > div.product-card__prices > span').text)\n",
      "/tmp/ipykernel_285/3237544445.py:20: DeprecationWarning: find_element_by_* commands are deprecated. Please use find_element() instead\n",
      "  prec.append(driver.find_element_by_css_selector(f'#app > div > main > div.plp-food-view__main > div.plp-food-view__container > div.plp-food-view__list > div.plp-food-view__results-list-container > div.plp > div > div > ul > li:nth-child(2) > div > div > div.product-card__detail > div.product-card__prices-container > div.product-card__prices > span.product-card__price--current').text)\n"
     ]
    }
   ],
   "source": [
    "driver = \"../driver/chromedriver.exe\"\n",
    "driver = webdriver.Chrome(driver, options=opciones)\n",
    "url = \"https://www.carrefour.es/\"\n",
    "driver.get(url)\n",
    "driver.implicitly_wait(4)\n",
    "#aceptar cookies\n",
    "driver.find_element_by_css_selector('#onetrust-accept-btn-handler').click()\n",
    "\n",
    "time.sleep(1)\n",
    "driver.find_element_by_css_selector('div.hst-container-item:nth-child(3) > div:nth-child(1) > div:nth-child(1) > ul:nth-child(2) > li:nth-child(1) > div:nth-child(1) > div:nth-child(1) > a:nth-child(1) > div:nth-child(1) > img:nth-child(2)').click()\n",
    "driver.implicitly_wait(2)\n",
    "# click en ofertas\n",
    "driver.find_element_by_css_selector('#app > div > main > div > div > div > div > div > div:nth-child(2) > div > div > div:nth-child(1) > div > a > div.cta-banner__banner > div > img').click()\n",
    "\n",
    "for i in range(1,25):\n",
    "    prec = []\n",
    "    try:\n",
    "        prec.append(driver.find_element_by_css_selector(f'#app > div > main > div.plp-food-view__main > div.plp-food-view__container > div.plp-food-view__list > div.plp-food-view__results-list-container > div.plp > div > div > ul > li:nth-child({i}) > div > div > div.product-card__detail > div.product-card__prices-container > div.product-card__prices > span').text)\n",
    "    except:\n",
    "        prec.append(driver.find_element_by_css_selector(f'#app > div > main > div.plp-food-view__main > div.plp-food-view__container > div.plp-food-view__list > div.plp-food-view__results-list-container > div.plp > div > div > ul > li:nth-child(2) > div > div > div.product-card__detail > div.product-card__prices-container > div.product-card__prices > span.product-card__price--current').text)"
   ]
  },
  {
   "cell_type": "code",
   "execution_count": 12,
   "id": "6f643489",
   "metadata": {},
   "outputs": [
    {
     "data": {
      "text/plain": [
       "['3,99 €']"
      ]
     },
     "execution_count": 12,
     "metadata": {},
     "output_type": "execute_result"
    }
   ],
   "source": [
    "prec"
   ]
  }
 ],
 "metadata": {
  "kernelspec": {
   "display_name": "iron",
   "language": "python",
   "name": "iron"
  },
  "language_info": {
   "codemirror_mode": {
    "name": "ipython",
    "version": 3
   },
   "file_extension": ".py",
   "mimetype": "text/x-python",
   "name": "python",
   "nbconvert_exporter": "python",
   "pygments_lexer": "ipython3",
   "version": "3.9.7"
  },
  "toc": {
   "base_numbering": 1,
   "nav_menu": {},
   "number_sections": true,
   "sideBar": true,
   "skip_h1_title": false,
   "title_cell": "Table of Contents",
   "title_sidebar": "Contents",
   "toc_cell": false,
   "toc_position": {},
   "toc_section_display": true,
   "toc_window_display": false
  }
 },
 "nbformat": 4,
 "nbformat_minor": 5
}
