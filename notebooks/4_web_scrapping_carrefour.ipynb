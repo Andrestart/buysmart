{
 "cells": [
  {
   "cell_type": "code",
   "execution_count": 25,
   "id": "c8b1aea5",
   "metadata": {},
   "outputs": [],
   "source": [
    "from selenium import webdriver\n",
    "from selenium.webdriver.chrome.options import Options\n",
    "import time\n",
    "import pandas as pd\n",
    "from selenium.webdriver.support.ui import Select\n",
    "from webdriver_manager.chrome import ChromeDriverManager\n",
    "import time\n",
    "import requests\n",
    "from bs4 import BeautifulSoup\n",
    "import os\n",
    "from datetime import datetime\n",
    "import numpy as np"
   ]
  },
  {
   "cell_type": "code",
   "execution_count": 26,
   "id": "fe6aa735",
   "metadata": {},
   "outputs": [],
   "source": [
    "opciones=Options()\n",
    "\n",
    "opciones.add_experimental_option('excludeSwitches', ['enable-automation'])\n",
    "opciones.add_experimental_option('useAutomationExtension', False)\n",
    "opciones.headless=False \n",
    "opciones.add_argument('--start-maximized')\n",
    "opciones.add_argument('--incognito')     "
   ]
  },
  {
   "cell_type": "code",
   "execution_count": 27,
   "id": "e071d176",
   "metadata": {},
   "outputs": [],
   "source": [
    "data = pd.read_csv(\"../mydata/cleandata/data.csv\")\n",
    "data.index=data.date\n",
    "data.drop('date',axis=1,inplace=True)\n",
    "foods = sorted(list(set(data['product'])))"
   ]
  },
  {
   "cell_type": "code",
   "execution_count": 28,
   "id": "1afc2c34",
   "metadata": {},
   "outputs": [
    {
     "name": "stderr",
     "output_type": "stream",
     "text": [
      "/tmp/ipykernel_643/3252668423.py:2: DeprecationWarning: executable_path has been deprecated, please pass in a Service object\n",
      "  driver = webdriver.Chrome(driver, options=opciones)\n",
      "/tmp/ipykernel_643/3252668423.py:17: DeprecationWarning: find_element_by_* commands are deprecated. Please use find_element() instead\n",
      "  driver.find_element_by_css_selector('#onetrust-accept-btn-handler').click()\n",
      "/tmp/ipykernel_643/3252668423.py:23: DeprecationWarning: find_element_by_* commands are deprecated. Please use find_element() instead\n",
      "  prices.append(driver.find_element_by_css_selector(f'#ebx-grid > article:nth-child({o}) > div > span').text.split(\"€\")[0])\n",
      "/tmp/ipykernel_643/3252668423.py:28: DeprecationWarning: find_element_by_* commands are deprecated. Please use find_element() instead\n",
      "  names.append(driver.find_element_by_css_selector(f'#ebx-grid > article:nth-child({o}) > div > a.ebx-result-link.ebx-result__title-link.track-click > h1').text)\n"
     ]
    }
   ],
   "source": [
    "driver = \"../driver/chromedriver.exe\"\n",
    "driver = webdriver.Chrome(driver, options=opciones)\n",
    "supermarket = \"carrefour\"\n",
    "prices = []\n",
    "prod = []\n",
    "sup = []\n",
    "links = []\n",
    "names = []\n",
    "newprice = []\n",
    "frame = {}\n",
    "for f in foods:\n",
    "    for i in range(2,4):\n",
    "        url = f\"https://www.carrefour.es/?q={f}&page={i}\"\n",
    "        driver.get(url)\n",
    "        time.sleep(0.3)\n",
    "        try: #cookies\n",
    "            driver.find_element_by_css_selector('#onetrust-accept-btn-handler').click()\n",
    "            time.sleep(0.7)\n",
    "        except:\n",
    "            pass\n",
    "        try:\n",
    "            for o in range(1,50): #price, scroll, product, supermarket, link and name\n",
    "                    prices.append(driver.find_element_by_css_selector(f'#ebx-grid > article:nth-child({o}) > div > span').text.split(\"€\")[0])\n",
    "                    driver.execute_script(\"window.scrollTo(0, window.scrollY + 300)\")\n",
    "                    prod.append(f)\n",
    "                    sup.append('carrefour')\n",
    "                    links.append(url)\n",
    "                    names.append(driver.find_element_by_css_selector(f'#ebx-grid > article:nth-child({o}) > div > a.ebx-result-link.ebx-result__title-link.track-click > h1').text)\n",
    "        except:\n",
    "            pass\n",
    "\n",
    "frame['price'] = prices\n",
    "frame['product'] = prod\n",
    "frame['supermarket'] = sup\n",
    "frame['link'] = links\n",
    "frame['name'] = names\n",
    "\n",
    "scrap = pd.DataFrame(frame)\n",
    "for i, row in scrap.iterrows():\n",
    "    if row['price'] == '':\n",
    "        newprice.append(np.nan)\n",
    "    else:\n",
    "        newprice.append(row['price'])\n",
    "scrap['price'] = newprice\n",
    "scrap.dropna(how='any',inplace=True)\n",
    "scrap['price'] = [float((i.replace(\",\",\".\").replace(\"€\",\"\").strip())) for i in scrap['price']]\n",
    "scrap['name'] = [(i.replace(\"%\",\"por ciento\").strip()) for i in scrap['name']]\n",
    "\n",
    "\n",
    "if not os.path.exists(f\"../mydata/scraps_{supermarket}\"):\n",
    "    os.makedirs(f\"../mydata/scraps_{supermarket}\")\n",
    "now = str(datetime.now())[:19].replace(\":\",\"_\")\n",
    "scrap.to_csv(f'../mydata/scraps_{supermarket}/{now}.csv', index=False)\n",
    "scrap.to_csv(f'../mydata/scraps_{supermarket}/scrap.csv', index=False)"
   ]
  },
  {
   "cell_type": "code",
   "execution_count": 22,
   "id": "17fcfb00",
   "metadata": {},
   "outputs": [
    {
     "data": {
      "text/plain": [
       "price          0\n",
       "product        0\n",
       "supermarket    0\n",
       "link           0\n",
       "name           0\n",
       "dtype: int64"
      ]
     },
     "execution_count": 22,
     "metadata": {},
     "output_type": "execute_result"
    }
   ],
   "source": [
    "scrap.isna().sum()"
   ]
  }
 ],
 "metadata": {
  "kernelspec": {
   "display_name": "iron",
   "language": "python",
   "name": "iron"
  },
  "language_info": {
   "codemirror_mode": {
    "name": "ipython",
    "version": 3
   },
   "file_extension": ".py",
   "mimetype": "text/x-python",
   "name": "python",
   "nbconvert_exporter": "python",
   "pygments_lexer": "ipython3",
   "version": "3.9.7"
  },
  "toc": {
   "base_numbering": 1,
   "nav_menu": {},
   "number_sections": true,
   "sideBar": true,
   "skip_h1_title": false,
   "title_cell": "Table of Contents",
   "title_sidebar": "Contents",
   "toc_cell": false,
   "toc_position": {},
   "toc_section_display": true,
   "toc_window_display": false
  }
 },
 "nbformat": 4,
 "nbformat_minor": 5
}
