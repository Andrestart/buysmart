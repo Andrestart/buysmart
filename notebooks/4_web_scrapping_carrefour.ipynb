{
 "cells": [
  {
   "cell_type": "code",
   "execution_count": 55,
   "id": "c8b1aea5",
   "metadata": {},
   "outputs": [],
   "source": [
    "from selenium import webdriver\n",
    "from selenium.webdriver.chrome.options import Options\n",
    "import time\n",
    "import pandas as pd\n",
    "from selenium.webdriver.support.ui import Select\n",
    "from webdriver_manager.chrome import ChromeDriverManager\n",
    "import time\n",
    "import requests\n",
    "from bs4 import BeautifulSoup\n",
    "import os\n",
    "from datetime import datetime"
   ]
  },
  {
   "cell_type": "code",
   "execution_count": 8,
   "id": "fe6aa735",
   "metadata": {},
   "outputs": [],
   "source": [
    "opciones=Options()\n",
    "\n",
    "opciones.add_experimental_option('excludeSwitches', ['enable-automation'])\n",
    "opciones.add_experimental_option('useAutomationExtension', False)\n",
    "opciones.headless=False \n",
    "opciones.add_argument('--start-maximized')\n",
    "opciones.add_argument('--incognito')     "
   ]
  },
  {
   "cell_type": "code",
   "execution_count": 3,
   "id": "e071d176",
   "metadata": {},
   "outputs": [],
   "source": [
    "data = pd.read_csv(\"../mydata/data.csv\")\n",
    "data.index=data.date\n",
    "data.drop('date',axis=1,inplace=True)"
   ]
  },
  {
   "cell_type": "code",
   "execution_count": 9,
   "id": "6d971522",
   "metadata": {},
   "outputs": [],
   "source": [
    "e=['ajo','albaricoque']"
   ]
  },
  {
   "cell_type": "code",
   "execution_count": 56,
   "id": "07ae838d",
   "metadata": {},
   "outputs": [
    {
     "name": "stderr",
     "output_type": "stream",
     "text": [
      "/tmp/ipykernel_429/2705862167.py:2: DeprecationWarning: executable_path has been deprecated, please pass in a Service object\n",
      "  driver = webdriver.Chrome(driver, options=opciones)\n",
      "/tmp/ipykernel_429/2705862167.py:16: DeprecationWarning: find_element_by_* commands are deprecated. Please use find_element() instead\n",
      "  driver.find_element_by_css_selector('#onetrust-accept-btn-handler').click()\n",
      "/tmp/ipykernel_429/2705862167.py:22: DeprecationWarning: find_element_by_* commands are deprecated. Please use find_element() instead\n",
      "  prices.append(driver.find_element_by_css_selector(f'#ebx-grid > article:nth-child({o}) > div > span').text.split(\"€\")[0])\n",
      "/tmp/ipykernel_429/2705862167.py:27: DeprecationWarning: find_element_by_* commands are deprecated. Please use find_element() instead\n",
      "  names.append(driver.find_element_by_css_selector(f'#ebx-grid > article:nth-child({o}) > div > a.ebx-result-link.ebx-result__title-link.track-click > h1').text)\n"
     ]
    }
   ],
   "source": [
    "driver = \"../driver/chromedriver.exe\"\n",
    "driver = webdriver.Chrome(driver, options=opciones)\n",
    "supermarket = \"carrefour\"\n",
    "prices = []\n",
    "prod = []\n",
    "sup = []\n",
    "links = []\n",
    "names = []\n",
    "frame = {}\n",
    "for f in e:\n",
    "    for i in range(2,4):\n",
    "        url = f\"https://www.carrefour.es/?q={f}&page={i}\"\n",
    "        driver.get(url)\n",
    "        time.sleep(0.3)\n",
    "        try:\n",
    "            driver.find_element_by_css_selector('#onetrust-accept-btn-handler').click()\n",
    "            time.sleep(0.7)\n",
    "        except:\n",
    "            pass\n",
    "        try:\n",
    "            for o in range(1,50):\n",
    "                    prices.append(driver.find_element_by_css_selector(f'#ebx-grid > article:nth-child({o}) > div > span').text.split(\"€\")[0])\n",
    "                    driver.execute_script(\"window.scrollTo(0, window.scrollY + 300)\")\n",
    "                    prod.append(f)\n",
    "                    sup.append('carrefour')\n",
    "                    links.append(url)\n",
    "                    names.append(driver.find_element_by_css_selector(f'#ebx-grid > article:nth-child({o}) > div > a.ebx-result-link.ebx-result__title-link.track-click > h1').text)\n",
    "        except:\n",
    "            pass\n",
    "\n",
    "frame['prices'] = prices\n",
    "frame['product'] = prod\n",
    "frame['supermarket'] = sup\n",
    "frame['links'] = links\n",
    "frame['names'] = names\n",
    "\n",
    "scrap = pd.DataFrame(frame)\n",
    "scrap.dropna(how='any',inplace=True)\n",
    "if not os.path.exists(f\"../mydata/scraps_{supermarket}\"):\n",
    "    os.makedirs(f\"../mydata/scraps_{supermarket}\")\n",
    "    now = str(datetime.now())[:19].replace(\":\",\"_\")\n",
    "    scrap.to_csv(f'../mydata/scraps_{supermarket}/{now}.csv')"
   ]
  }
 ],
 "metadata": {
  "kernelspec": {
   "display_name": "iron",
   "language": "python",
   "name": "iron"
  },
  "language_info": {
   "codemirror_mode": {
    "name": "ipython",
    "version": 3
   },
   "file_extension": ".py",
   "mimetype": "text/x-python",
   "name": "python",
   "nbconvert_exporter": "python",
   "pygments_lexer": "ipython3",
   "version": "3.9.7"
  },
  "toc": {
   "base_numbering": 1,
   "nav_menu": {},
   "number_sections": true,
   "sideBar": true,
   "skip_h1_title": false,
   "title_cell": "Table of Contents",
   "title_sidebar": "Contents",
   "toc_cell": false,
   "toc_position": {},
   "toc_section_display": true,
   "toc_window_display": false
  }
 },
 "nbformat": 4,
 "nbformat_minor": 5
}
