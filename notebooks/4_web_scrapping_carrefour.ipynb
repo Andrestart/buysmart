{
 "cells": [
  {
   "cell_type": "code",
   "execution_count": 48,
   "id": "c8b1aea5",
   "metadata": {},
   "outputs": [],
   "source": [
    "from selenium import webdriver\n",
    "from selenium.webdriver.chrome.options import Options\n",
    "import time\n",
    "import pandas as pd\n",
    "from selenium.webdriver.support.ui import Select\n",
    "from webdriver_manager.chrome import ChromeDriverManager\n",
    "import time\n",
    "import requests\n",
    "from bs4 import BeautifulSoup"
   ]
  },
  {
   "cell_type": "code",
   "execution_count": 151,
   "id": "4dc9a096",
   "metadata": {},
   "outputs": [],
   "source": [
    "foods = ['mantequilla',\n",
    " 'uva de mesa',\n",
    " 'coliflor',\n",
    " 'queso emmental',\n",
    " 'maíz',\n",
    " 'mandarina común',\n",
    " 'harina de pipas de girasol',\n",
    " 'sandía',\n",
    " 'salsa de soja',\n",
    " 'arroz',\n",
    " 'harina de soja',\n",
    " 'pepino',\n",
    " 'naranja',\n",
    " 'ternera',\n",
    " 'calabacín',\n",
    " 'harina de trigo',\n",
    " 'fresa',\n",
    " 'vino',\n",
    " 'lechuga',\n",
    " 'pimiento',\n",
    " 'melocotón',\n",
    " 'albaricoque',\n",
    " 'aceite de oliva virgen (hasta 2%)',\n",
    " 'leche entera en polvo',\n",
    " 'aceite de orujo de oliva crudo de 5 a 10%',\n",
    " 'pera',\n",
    " 'colza',\n",
    " 'manzana',\n",
    " 'puerro',\n",
    " 'ajo',\n",
    " 'tomate',\n",
    " 'aceite de orujo de oliva refinado (hasta 3%)',\n",
    " 'leche entera',\n",
    " 'harina de trigo candeal',\n",
    " 'cerdo',\n",
    " 'azúcar',\n",
    " 'leche entera orgánica',\n",
    " 'leche semidesnatada en polvo',\n",
    " 'melón',\n",
    " 'queso edam',\n",
    " 'malta',\n",
    " 'champiñón',\n",
    " 'judías',\n",
    " 'nectarina',\n",
    " 'zanahoria',\n",
    " 'pipas de girasol',\n",
    " 'cereza',\n",
    " 'aceite de oliva refinado (hasta 3%)',\n",
    " 'cebada',\n",
    " 'suero de leche',\n",
    " 'limón',\n",
    " 'aceite de orujo de oliva (hasta 1%)',\n",
    " 'aceite de oliva virgen extra (hasta 0.8%)',\n",
    " 'berenjena',\n",
    " 'ciruela',\n",
    " 'mandarina satsuma',\n",
    " 'cebolla',\n",
    " 'aceite de oliva virgen lampante',\n",
    " 'col',\n",
    " 'cabra y oveja',\n",
    " 'aceite de girasol',\n",
    " 'clementina',\n",
    " 'espárrago']"
   ]
  },
  {
   "cell_type": "code",
   "execution_count": 153,
   "id": "6b9e9571",
   "metadata": {},
   "outputs": [],
   "source": [
    "foods = sorted(foods)"
   ]
  },
  {
   "cell_type": "code",
   "execution_count": 52,
   "id": "fe6aa735",
   "metadata": {},
   "outputs": [],
   "source": [
    "opciones=Options()\n",
    "\n",
    "opciones.add_experimental_option('excludeSwitches', ['enable-automation'])\n",
    "opciones.add_experimental_option('useAutomationExtension', False)\n",
    "opciones.headless=False \n",
    "opciones.add_argument('--start-maximized')\n",
    "opciones.add_argument('--incognito')     "
   ]
  },
  {
   "cell_type": "code",
   "execution_count": 169,
   "id": "d745843b",
   "metadata": {},
   "outputs": [],
   "source": [
    "e = foods[0:10]"
   ]
  },
  {
   "cell_type": "code",
   "execution_count": 280,
   "id": "6d971522",
   "metadata": {},
   "outputs": [],
   "source": [
    "e=['ajo','albaricoque']"
   ]
  },
  {
   "cell_type": "code",
   "execution_count": 305,
   "id": "60e28d1c",
   "metadata": {},
   "outputs": [
    {
     "name": "stderr",
     "output_type": "stream",
     "text": [
      "/tmp/ipykernel_285/2581359107.py:2: DeprecationWarning: executable_path has been deprecated, please pass in a Service object\n",
      "  driver = webdriver.Chrome(driver, options=opciones)\n",
      "/tmp/ipykernel_285/2581359107.py:11: DeprecationWarning: find_element_by_* commands are deprecated. Please use find_element() instead\n",
      "  driver.find_element_by_css_selector('#onetrust-accept-btn-handler').click()\n",
      "/tmp/ipykernel_285/2581359107.py:23: DeprecationWarning: find_element_by_* commands are deprecated. Please use find_element() instead\n",
      "  food.append(driver.find_element_by_css_selector(f'#ebx-grid > article:nth-child({o}) > div > span').text.split(\"€\")[0])\n"
     ]
    }
   ],
   "source": [
    "driver = \"../driver/chromedriver.exe\"\n",
    "driver = webdriver.Chrome(driver, options=opciones)\n",
    "prices = []\n",
    "prod = []\n",
    "cosas = {}\n",
    "for f in e:\n",
    "    url = (f'https://www.carrefour.es/?q={f}')\n",
    "    driver.get(url)\n",
    "    time.sleep(1)\n",
    "    try:\n",
    "        driver.find_element_by_css_selector('#onetrust-accept-btn-handler').click()\n",
    "        time.sleep(0.7)\n",
    "    except:\n",
    "        pass\n",
    "    for i in range(2,4):\n",
    "        try:\n",
    "            url2 = f\"https://www.carrefour.es/?q={f}&page={i}\"\n",
    "            food=[]\n",
    "            time.sleep(0.7)\n",
    "            driver.get(url2)\n",
    "            for o in range(1,50):\n",
    "                try:\n",
    "                    food.append(driver.find_element_by_css_selector(f'#ebx-grid > article:nth-child({o}) > div > span').text.split(\"€\")[0])\n",
    "                    driver.execute_script(\"window.scrollTo(0, window.scrollY + 300)\")\n",
    "                except:\n",
    "                    pass\n",
    "            for precio in food:\n",
    "                prices.append(precio)\n",
    "                prod.append(f)\n",
    "        except:\n",
    "            pass\n",
    "cosas['prices'] = prices\n",
    "cosas['product'] = prod\n",
    "\n"
   ]
  },
  {
   "cell_type": "code",
   "execution_count": 306,
   "id": "6ff5a2c9",
   "metadata": {},
   "outputs": [],
   "source": [
    " cositas = pd.DataFrame(cosas)"
   ]
  },
  {
   "cell_type": "code",
   "execution_count": 329,
   "id": "094b79ea",
   "metadata": {},
   "outputs": [
    {
     "data": {
      "text/html": [
       "<div>\n",
       "<style scoped>\n",
       "    .dataframe tbody tr th:only-of-type {\n",
       "        vertical-align: middle;\n",
       "    }\n",
       "\n",
       "    .dataframe tbody tr th {\n",
       "        vertical-align: top;\n",
       "    }\n",
       "\n",
       "    .dataframe thead th {\n",
       "        text-align: right;\n",
       "    }\n",
       "</style>\n",
       "<table border=\"1\" class=\"dataframe\">\n",
       "  <thead>\n",
       "    <tr style=\"text-align: right;\">\n",
       "      <th></th>\n",
       "      <th>prices</th>\n",
       "      <th>product</th>\n",
       "    </tr>\n",
       "  </thead>\n",
       "  <tbody>\n",
       "    <tr>\n",
       "      <th>0</th>\n",
       "      <td></td>\n",
       "      <td>ajo</td>\n",
       "    </tr>\n",
       "    <tr>\n",
       "      <th>46</th>\n",
       "      <td>2,38</td>\n",
       "      <td>albaricoque</td>\n",
       "    </tr>\n",
       "    <tr>\n",
       "      <th>28</th>\n",
       "      <td>3,38</td>\n",
       "      <td>ajo</td>\n",
       "    </tr>\n",
       "    <tr>\n",
       "      <th>42</th>\n",
       "      <td>25,56</td>\n",
       "      <td>ajo</td>\n",
       "    </tr>\n",
       "    <tr>\n",
       "      <th>33</th>\n",
       "      <td>36,50</td>\n",
       "      <td>ajo</td>\n",
       "    </tr>\n",
       "  </tbody>\n",
       "</table>\n",
       "</div>"
      ],
      "text/plain": [
       "    prices      product\n",
       "0                   ajo\n",
       "46   2,38   albaricoque\n",
       "28   3,38           ajo\n",
       "42  25,56           ajo\n",
       "33  36,50           ajo"
      ]
     },
     "execution_count": 329,
     "metadata": {},
     "output_type": "execute_result"
    }
   ],
   "source": [
    "cositas.sample(5)"
   ]
  },
  {
   "cell_type": "code",
   "execution_count": 203,
   "id": "69878e00",
   "metadata": {},
   "outputs": [
    {
     "name": "stderr",
     "output_type": "stream",
     "text": [
      "/tmp/ipykernel_285/2056417397.py:2: DeprecationWarning: executable_path has been deprecated, please pass in a Service object\n",
      "  driver = webdriver.Chrome(driver, options=opciones)\n",
      "/tmp/ipykernel_285/2056417397.py:9: DeprecationWarning: find_element_by_* commands are deprecated. Please use find_element() instead\n",
      "  driver.find_element_by_css_selector('#onetrust-accept-btn-handler').click()\n",
      "/tmp/ipykernel_285/2056417397.py:21: DeprecationWarning: find_element_by_* commands are deprecated. Please use find_element() instead\n",
      "  food.append(driver.find_element_by_css_selector(f'#ebx-grid > article:nth-child({o}) > div > span').text.split(\"€\")[0])\n"
     ]
    }
   ],
   "source": [
    "driver = \"../driver/chromedriver.exe\"\n",
    "driver = webdriver.Chrome(driver, options=opciones)\n",
    "prices = []\n",
    "for f in e:\n",
    "    url = (f'https://www.carrefour.es/?q={f}')\n",
    "    driver.get(url)\n",
    "    time.sleep(2)\n",
    "    try:\n",
    "        driver.find_element_by_css_selector('#onetrust-accept-btn-handler').click()\n",
    "    except:\n",
    "        pass\n",
    "    time.sleep(0.7)\n",
    "    for i in range(2,4):\n",
    "        try:\n",
    "            url2 = f\"https://www.carrefour.es/?q={f}&page={i}\"\n",
    "            food=[]\n",
    "            time.sleep(1)\n",
    "            driver.get(url2)\n",
    "            for o in range(1,50):\n",
    "                try:\n",
    "                    food.append(driver.find_element_by_css_selector(f'#ebx-grid > article:nth-child({o}) > div > span').text.split(\"€\")[0])\n",
    "                    driver.execute_script(\"window.scrollTo(0, window.scrollY + 300)\")\n",
    "                except:\n",
    "                    pass\n",
    "        except:\n",
    "            pass\n",
    "    try:\n",
    "        prices = [float(i.replace(\",\",\".\")) for i in food]\n",
    "    except:\n",
    "        prices.append(i for i in food)\n",
    "    time.sleep(10)\n",
    "\n",
    "\n",
    "\n"
   ]
  },
  {
   "cell_type": "code",
   "execution_count": 3,
   "id": "7711679c",
   "metadata": {},
   "outputs": [],
   "source": [
    "opciones=Options()\n",
    "\n",
    "opciones.add_experimental_option('excludeSwitches', ['enable-automation'])\n",
    "opciones.add_experimental_option('useAutomationExtension', False)\n",
    "opciones.headless=False \n",
    "opciones.add_argument('--start-maximized')\n",
    "opciones.add_argument('--incognito')     "
   ]
  },
  {
   "cell_type": "code",
   "execution_count": 11,
   "id": "7fc5477f",
   "metadata": {},
   "outputs": [
    {
     "name": "stderr",
     "output_type": "stream",
     "text": [
      "/tmp/ipykernel_285/3237544445.py:2: DeprecationWarning: executable_path has been deprecated, please pass in a Service object\n",
      "  driver = webdriver.Chrome(driver, options=opciones)\n",
      "/tmp/ipykernel_285/3237544445.py:7: DeprecationWarning: find_element_by_* commands are deprecated. Please use find_element() instead\n",
      "  driver.find_element_by_css_selector('#onetrust-accept-btn-handler').click()\n",
      "/tmp/ipykernel_285/3237544445.py:10: DeprecationWarning: find_element_by_* commands are deprecated. Please use find_element() instead\n",
      "  driver.find_element_by_css_selector('div.hst-container-item:nth-child(3) > div:nth-child(1) > div:nth-child(1) > ul:nth-child(2) > li:nth-child(1) > div:nth-child(1) > div:nth-child(1) > a:nth-child(1) > div:nth-child(1) > img:nth-child(2)').click()\n",
      "/tmp/ipykernel_285/3237544445.py:13: DeprecationWarning: find_element_by_* commands are deprecated. Please use find_element() instead\n",
      "  driver.find_element_by_css_selector('#app > div > main > div > div > div > div > div > div:nth-child(2) > div > div > div:nth-child(1) > div > a > div.cta-banner__banner > div > img').click()\n",
      "/tmp/ipykernel_285/3237544445.py:18: DeprecationWarning: find_element_by_* commands are deprecated. Please use find_element() instead\n",
      "  prec.append(driver.find_element_by_css_selector(f'#app > div > main > div.plp-food-view__main > div.plp-food-view__container > div.plp-food-view__list > div.plp-food-view__results-list-container > div.plp > div > div > ul > li:nth-child({i}) > div > div > div.product-card__detail > div.product-card__prices-container > div.product-card__prices > span').text)\n",
      "/tmp/ipykernel_285/3237544445.py:20: DeprecationWarning: find_element_by_* commands are deprecated. Please use find_element() instead\n",
      "  prec.append(driver.find_element_by_css_selector(f'#app > div > main > div.plp-food-view__main > div.plp-food-view__container > div.plp-food-view__list > div.plp-food-view__results-list-container > div.plp > div > div > ul > li:nth-child(2) > div > div > div.product-card__detail > div.product-card__prices-container > div.product-card__prices > span.product-card__price--current').text)\n"
     ]
    }
   ],
   "source": [
    "driver = \"../driver/chromedriver.exe\"\n",
    "driver = webdriver.Chrome(driver, options=opciones)\n",
    "url = \"https://www.carrefour.es/\"\n",
    "driver.get(url)\n",
    "driver.implicitly_wait(4)\n",
    "#aceptar cookies\n",
    "driver.find_element_by_css_selector('#onetrust-accept-btn-handler').click()\n",
    "\n",
    "time.sleep(1)\n",
    "driver.find_element_by_css_selector('div.hst-container-item:nth-child(3) > div:nth-child(1) > div:nth-child(1) > ul:nth-child(2) > li:nth-child(1) > div:nth-child(1) > div:nth-child(1) > a:nth-child(1) > div:nth-child(1) > img:nth-child(2)').click()\n",
    "driver.implicitly_wait(2)\n",
    "# click en ofertas\n",
    "driver.find_element_by_css_selector('#app > div > main > div > div > div > div > div > div:nth-child(2) > div > div > div:nth-child(1) > div > a > div.cta-banner__banner > div > img').click()\n",
    "\n",
    "for i in range(1,25):\n",
    "    prec = []\n",
    "    try:\n",
    "        prec.append(driver.find_element_by_css_selector(f'#app > div > main > div.plp-food-view__main > div.plp-food-view__container > div.plp-food-view__list > div.plp-food-view__results-list-container > div.plp > div > div > ul > li:nth-child({i}) > div > div > div.product-card__detail > div.product-card__prices-container > div.product-card__prices > span').text)\n",
    "    except:\n",
    "        prec.append(driver.find_element_by_css_selector(f'#app > div > main > div.plp-food-view__main > div.plp-food-view__container > div.plp-food-view__list > div.plp-food-view__results-list-container > div.plp > div > div > ul > li:nth-child(2) > div > div > div.product-card__detail > div.product-card__prices-container > div.product-card__prices > span.product-card__price--current').text)"
   ]
  }
 ],
 "metadata": {
  "kernelspec": {
   "display_name": "iron",
   "language": "python",
   "name": "iron"
  },
  "language_info": {
   "codemirror_mode": {
    "name": "ipython",
    "version": 3
   },
   "file_extension": ".py",
   "mimetype": "text/x-python",
   "name": "python",
   "nbconvert_exporter": "python",
   "pygments_lexer": "ipython3",
   "version": "3.9.7"
  },
  "toc": {
   "base_numbering": 1,
   "nav_menu": {},
   "number_sections": true,
   "sideBar": true,
   "skip_h1_title": false,
   "title_cell": "Table of Contents",
   "title_sidebar": "Contents",
   "toc_cell": false,
   "toc_position": {},
   "toc_section_display": true,
   "toc_window_display": false
  }
 },
 "nbformat": 4,
 "nbformat_minor": 5
}
