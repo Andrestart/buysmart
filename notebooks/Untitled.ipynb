{
 "cells": [
  {
   "cell_type": "code",
   "execution_count": 3,
   "id": "4709e5ab",
   "metadata": {},
   "outputs": [],
   "source": [
    "import pandas as  pd\n",
    "import plotly.express as px\n",
    "import numpy as np\n",
    "# El mantra de las visualizaciones\n",
    "from matplotlib import pyplot as plt\n",
    "from statsmodels.graphics.tsaplots import plot_acf, plot_pacf\n",
    "%matplotlib inline\n",
    "%config Inlinebackend.figure_format = 'retina'\n",
    "\n",
    "import seaborn as sns\n",
    "sns.set_context('poster')\n",
    "sns.set(rc={'figure.figsize': (16., 9.)})\n",
    "sns.set_style('whitegrid')\n",
    "import plotly.express as px\n",
    "import plotly.graph_objects as go"
   ]
  },
  {
   "cell_type": "code",
   "execution_count": 6,
   "id": "06af2eff",
   "metadata": {},
   "outputs": [],
   "source": [
    "scrap = pd.read_csv(f'../mydata/scraps_carrefour/scrap.csv')"
   ]
  },
  {
   "cell_type": "code",
   "execution_count": 7,
   "id": "73b745de",
   "metadata": {},
   "outputs": [
    {
     "data": {
      "text/html": [
       "<div>\n",
       "<style scoped>\n",
       "    .dataframe tbody tr th:only-of-type {\n",
       "        vertical-align: middle;\n",
       "    }\n",
       "\n",
       "    .dataframe tbody tr th {\n",
       "        vertical-align: top;\n",
       "    }\n",
       "\n",
       "    .dataframe thead th {\n",
       "        text-align: right;\n",
       "    }\n",
       "</style>\n",
       "<table border=\"1\" class=\"dataframe\">\n",
       "  <thead>\n",
       "    <tr style=\"text-align: right;\">\n",
       "      <th></th>\n",
       "      <th>price</th>\n",
       "      <th>product</th>\n",
       "      <th>supermarket</th>\n",
       "      <th>link</th>\n",
       "      <th>name</th>\n",
       "    </tr>\n",
       "  </thead>\n",
       "  <tbody>\n",
       "  </tbody>\n",
       "</table>\n",
       "</div>"
      ],
      "text/plain": [
       "Empty DataFrame\n",
       "Columns: [price, product, supermarket, link, name]\n",
       "Index: []"
      ]
     },
     "execution_count": 7,
     "metadata": {},
     "output_type": "execute_result"
    }
   ],
   "source": [
    "scrap"
   ]
  },
  {
   "cell_type": "code",
   "execution_count": null,
   "id": "e2351522",
   "metadata": {},
   "outputs": [],
   "source": []
  },
  {
   "cell_type": "code",
   "execution_count": 2,
   "id": "75c52893",
   "metadata": {},
   "outputs": [],
   "source": [
    "ie = pd.ExcelFile(\"weekly.xlsx\")"
   ]
  },
  {
   "cell_type": "code",
   "execution_count": 3,
   "id": "400ffd3b",
   "metadata": {},
   "outputs": [],
   "source": [
    "ofour = ie.parse('2004')"
   ]
  },
  {
   "cell_type": "code",
   "execution_count": 4,
   "id": "1de70305",
   "metadata": {},
   "outputs": [],
   "source": [
    "ofour.columns = [i.replace(\" \", \"_\") for i  in  ofour.columns]"
   ]
  },
  {
   "cell_type": "code",
   "execution_count": 5,
   "id": "62a591fd",
   "metadata": {},
   "outputs": [],
   "source": [
    "ofour.columns = [i.lower() for i in  ofour.columns]"
   ]
  },
  {
   "cell_type": "code",
   "execution_count": 6,
   "id": "136accad",
   "metadata": {},
   "outputs": [],
   "source": [
    "ofour.drop(['unnamed:_0', 'unnamed:_1', 'unnamed:_3'], axis=1,inplace=True)"
   ]
  },
  {
   "cell_type": "code",
   "execution_count": 7,
   "id": "1ea3ec19",
   "metadata": {},
   "outputs": [],
   "source": [
    "ofour = ofour.iloc[87:122, :]"
   ]
  },
  {
   "cell_type": "code",
   "execution_count": 8,
   "id": "3e22a23d",
   "metadata": {},
   "outputs": [
    {
     "data": {
      "text/html": [
       "<div>\n",
       "<style scoped>\n",
       "    .dataframe tbody tr th:only-of-type {\n",
       "        vertical-align: middle;\n",
       "    }\n",
       "\n",
       "    .dataframe tbody tr th {\n",
       "        vertical-align: top;\n",
       "    }\n",
       "\n",
       "    .dataframe thead th {\n",
       "        text-align: right;\n",
       "    }\n",
       "</style>\n",
       "<table border=\"1\" class=\"dataframe\">\n",
       "  <thead>\n",
       "    <tr style=\"text-align: right;\">\n",
       "      <th></th>\n",
       "      <th>unnamed:_2</th>\n",
       "      <th>unnamed:_4</th>\n",
       "      <th>unnamed:_5</th>\n",
       "      <th>unnamed:_6</th>\n",
       "      <th>unnamed:_7</th>\n",
       "      <th>unnamed:_8</th>\n",
       "      <th>unnamed:_9</th>\n",
       "      <th>unnamed:_10</th>\n",
       "      <th>unnamed:_11</th>\n",
       "      <th>unnamed:_12</th>\n",
       "      <th>...</th>\n",
       "      <th>unnamed:_47</th>\n",
       "      <th>unnamed:_48</th>\n",
       "      <th>unnamed:_49</th>\n",
       "      <th>unnamed:_50</th>\n",
       "      <th>unnamed:_51</th>\n",
       "      <th>unnamed:_52</th>\n",
       "      <th>unnamed:_53</th>\n",
       "      <th>unnamed:_54</th>\n",
       "      <th>unnamed:_55</th>\n",
       "      <th>unnamed:_56</th>\n",
       "    </tr>\n",
       "  </thead>\n",
       "  <tbody>\n",
       "    <tr>\n",
       "      <th>87</th>\n",
       "      <td>productos</td>\n",
       "      <td>S 1</td>\n",
       "      <td>S 2</td>\n",
       "      <td>S 3</td>\n",
       "      <td>S 4</td>\n",
       "      <td>S 5</td>\n",
       "      <td>S 6</td>\n",
       "      <td>S 7</td>\n",
       "      <td>S 8</td>\n",
       "      <td>S 9</td>\n",
       "      <td>...</td>\n",
       "      <td>S 44</td>\n",
       "      <td>S 45</td>\n",
       "      <td>S 46</td>\n",
       "      <td>S 47</td>\n",
       "      <td>S 48</td>\n",
       "      <td>S 49</td>\n",
       "      <td>S 50</td>\n",
       "      <td>S 51</td>\n",
       "      <td>S 52</td>\n",
       "      <td>S 53</td>\n",
       "    </tr>\n",
       "    <tr>\n",
       "      <th>88</th>\n",
       "      <td>Ternera de 1ª A</td>\n",
       "      <td>10.49</td>\n",
       "      <td>10.48</td>\n",
       "      <td>10.48</td>\n",
       "      <td>10.48</td>\n",
       "      <td>10.56</td>\n",
       "      <td>10.56</td>\n",
       "      <td>10.56</td>\n",
       "      <td>10.56</td>\n",
       "      <td>10.56</td>\n",
       "      <td>...</td>\n",
       "      <td>10.8</td>\n",
       "      <td>10.8</td>\n",
       "      <td>10.8</td>\n",
       "      <td>10.8</td>\n",
       "      <td>10.82</td>\n",
       "      <td>10.83</td>\n",
       "      <td>10.96</td>\n",
       "      <td>10.96</td>\n",
       "      <td>10.96</td>\n",
       "      <td>10.96</td>\n",
       "    </tr>\n",
       "    <tr>\n",
       "      <th>89</th>\n",
       "      <td>Cordero Pascual 1ª</td>\n",
       "      <td>9.22</td>\n",
       "      <td>9.1</td>\n",
       "      <td>9.15</td>\n",
       "      <td>8.97</td>\n",
       "      <td>8.66</td>\n",
       "      <td>8.06</td>\n",
       "      <td>8.63</td>\n",
       "      <td>8.64</td>\n",
       "      <td>8.56</td>\n",
       "      <td>...</td>\n",
       "      <td>9.19</td>\n",
       "      <td>9.23</td>\n",
       "      <td>9.31</td>\n",
       "      <td>9.32</td>\n",
       "      <td>9.29</td>\n",
       "      <td>9.38</td>\n",
       "      <td>9.46</td>\n",
       "      <td>9.47</td>\n",
       "      <td>9.48</td>\n",
       "      <td>9.48</td>\n",
       "    </tr>\n",
       "    <tr>\n",
       "      <th>90</th>\n",
       "      <td>Cerdo 1ª</td>\n",
       "      <td>5.21</td>\n",
       "      <td>5.18</td>\n",
       "      <td>5.19</td>\n",
       "      <td>5.2</td>\n",
       "      <td>5.23</td>\n",
       "      <td>5.21</td>\n",
       "      <td>5.19</td>\n",
       "      <td>5.18</td>\n",
       "      <td>5.17</td>\n",
       "      <td>...</td>\n",
       "      <td>5.45</td>\n",
       "      <td>5.45</td>\n",
       "      <td>5.45</td>\n",
       "      <td>5.44</td>\n",
       "      <td>5.42</td>\n",
       "      <td>5.42</td>\n",
       "      <td>5.44</td>\n",
       "      <td>5.44</td>\n",
       "      <td>5.45</td>\n",
       "      <td>5.45</td>\n",
       "    </tr>\n",
       "    <tr>\n",
       "      <th>91</th>\n",
       "      <td>Pollo fresco</td>\n",
       "      <td>2.28</td>\n",
       "      <td>2.22</td>\n",
       "      <td>2.16</td>\n",
       "      <td>2.18</td>\n",
       "      <td>2.18</td>\n",
       "      <td>2.19</td>\n",
       "      <td>2.19</td>\n",
       "      <td>2.17</td>\n",
       "      <td>2.12</td>\n",
       "      <td>...</td>\n",
       "      <td>2.57</td>\n",
       "      <td>2.57</td>\n",
       "      <td>2.58</td>\n",
       "      <td>2.59</td>\n",
       "      <td>2.58</td>\n",
       "      <td>2.57</td>\n",
       "      <td>2.57</td>\n",
       "      <td>2.58</td>\n",
       "      <td>2.58</td>\n",
       "      <td>2.59</td>\n",
       "    </tr>\n",
       "  </tbody>\n",
       "</table>\n",
       "<p>5 rows × 54 columns</p>\n",
       "</div>"
      ],
      "text/plain": [
       "            unnamed:_2 unnamed:_4 unnamed:_5 unnamed:_6 unnamed:_7 unnamed:_8  \\\n",
       "87           productos        S 1        S 2        S 3        S 4        S 5   \n",
       "88     Ternera de 1ª A      10.49      10.48      10.48      10.48      10.56   \n",
       "89  Cordero Pascual 1ª       9.22        9.1       9.15       8.97       8.66   \n",
       "90            Cerdo 1ª       5.21       5.18       5.19        5.2       5.23   \n",
       "91        Pollo fresco       2.28       2.22       2.16       2.18       2.18   \n",
       "\n",
       "   unnamed:_9 unnamed:_10 unnamed:_11 unnamed:_12  ... unnamed:_47  \\\n",
       "87        S 6         S 7         S 8         S 9  ...        S 44   \n",
       "88      10.56       10.56       10.56       10.56  ...        10.8   \n",
       "89       8.06        8.63        8.64        8.56  ...        9.19   \n",
       "90       5.21        5.19        5.18        5.17  ...        5.45   \n",
       "91       2.19        2.19        2.17        2.12  ...        2.57   \n",
       "\n",
       "   unnamed:_48 unnamed:_49 unnamed:_50 unnamed:_51 unnamed:_52 unnamed:_53  \\\n",
       "87        S 45        S 46        S 47        S 48        S 49        S 50   \n",
       "88        10.8        10.8        10.8       10.82       10.83       10.96   \n",
       "89        9.23        9.31        9.32        9.29        9.38        9.46   \n",
       "90        5.45        5.45        5.44        5.42        5.42        5.44   \n",
       "91        2.57        2.58        2.59        2.58        2.57        2.57   \n",
       "\n",
       "   unnamed:_54 unnamed:_55 unnamed:_56  \n",
       "87        S 51        S 52        S 53  \n",
       "88       10.96       10.96       10.96  \n",
       "89        9.47        9.48        9.48  \n",
       "90        5.44        5.45        5.45  \n",
       "91        2.58        2.58        2.59  \n",
       "\n",
       "[5 rows x 54 columns]"
      ]
     },
     "execution_count": 8,
     "metadata": {},
     "output_type": "execute_result"
    }
   ],
   "source": [
    "ofour.head()"
   ]
  },
  {
   "cell_type": "code",
   "execution_count": 9,
   "id": "40accb18",
   "metadata": {},
   "outputs": [],
   "source": [
    "ofour = ofour.T"
   ]
  },
  {
   "cell_type": "code",
   "execution_count": 10,
   "id": "1ec28b41",
   "metadata": {},
   "outputs": [],
   "source": [
    "ofour.index = ofour.iloc[:,0]"
   ]
  },
  {
   "cell_type": "code",
   "execution_count": 11,
   "id": "d000ec69",
   "metadata": {},
   "outputs": [],
   "source": [
    "ofour.columns = ofour.iloc[0,:]"
   ]
  },
  {
   "cell_type": "code",
   "execution_count": 12,
   "id": "dd88f6c9",
   "metadata": {},
   "outputs": [],
   "source": [
    "ofour.columns = [i.lower().split()[0] for i in ofour.columns]"
   ]
  },
  {
   "cell_type": "code",
   "execution_count": 13,
   "id": "836f71c9",
   "metadata": {},
   "outputs": [
    {
     "data": {
      "text/html": [
       "<div>\n",
       "<style scoped>\n",
       "    .dataframe tbody tr th:only-of-type {\n",
       "        vertical-align: middle;\n",
       "    }\n",
       "\n",
       "    .dataframe tbody tr th {\n",
       "        vertical-align: top;\n",
       "    }\n",
       "\n",
       "    .dataframe thead th {\n",
       "        text-align: right;\n",
       "    }\n",
       "</style>\n",
       "<table border=\"1\" class=\"dataframe\">\n",
       "  <thead>\n",
       "    <tr style=\"text-align: right;\">\n",
       "      <th></th>\n",
       "      <th>productos</th>\n",
       "      <th>ternera</th>\n",
       "      <th>cordero</th>\n",
       "      <th>cerdo</th>\n",
       "      <th>pollo</th>\n",
       "      <th>conejo</th>\n",
       "      <th>merluza</th>\n",
       "      <th>pescadilla</th>\n",
       "      <th>sardinas</th>\n",
       "      <th>anchoa</th>\n",
       "      <th>...</th>\n",
       "      <th>lechuga</th>\n",
       "      <th>pimiento</th>\n",
       "      <th>tomate</th>\n",
       "      <th>zanahoria</th>\n",
       "      <th>limón</th>\n",
       "      <th>manzana</th>\n",
       "      <th>clementina</th>\n",
       "      <th>naranja</th>\n",
       "      <th>pera</th>\n",
       "      <th>plátano</th>\n",
       "    </tr>\n",
       "    <tr>\n",
       "      <th>87</th>\n",
       "      <th></th>\n",
       "      <th></th>\n",
       "      <th></th>\n",
       "      <th></th>\n",
       "      <th></th>\n",
       "      <th></th>\n",
       "      <th></th>\n",
       "      <th></th>\n",
       "      <th></th>\n",
       "      <th></th>\n",
       "      <th></th>\n",
       "      <th></th>\n",
       "      <th></th>\n",
       "      <th></th>\n",
       "      <th></th>\n",
       "      <th></th>\n",
       "      <th></th>\n",
       "      <th></th>\n",
       "      <th></th>\n",
       "      <th></th>\n",
       "      <th></th>\n",
       "    </tr>\n",
       "  </thead>\n",
       "  <tbody>\n",
       "    <tr>\n",
       "      <th>productos</th>\n",
       "      <td>productos</td>\n",
       "      <td>Ternera de 1ª A</td>\n",
       "      <td>Cordero Pascual 1ª</td>\n",
       "      <td>Cerdo 1ª</td>\n",
       "      <td>Pollo fresco</td>\n",
       "      <td>Conejo de granja</td>\n",
       "      <td>Merluza 2,5 a 5 kg. G.S.</td>\n",
       "      <td>Pescadilla 1,5 kg</td>\n",
       "      <td>Sardinas</td>\n",
       "      <td>Anchoa o boquerón</td>\n",
       "      <td>...</td>\n",
       "      <td>Lechuga Romana</td>\n",
       "      <td>Pimiento verde tipo italiano</td>\n",
       "      <td>Tomate redondo liso</td>\n",
       "      <td>Zanahoria</td>\n",
       "      <td>Limón</td>\n",
       "      <td>Manzana golden</td>\n",
       "      <td>Clementina</td>\n",
       "      <td>Naranja Navel</td>\n",
       "      <td>Pera de agua o blanquilla</td>\n",
       "      <td>Plátano</td>\n",
       "    </tr>\n",
       "    <tr>\n",
       "      <th>S 1</th>\n",
       "      <td>S 1</td>\n",
       "      <td>10.49</td>\n",
       "      <td>9.22</td>\n",
       "      <td>5.21</td>\n",
       "      <td>2.28</td>\n",
       "      <td>NaN</td>\n",
       "      <td>19.07</td>\n",
       "      <td>10.77</td>\n",
       "      <td>3.24</td>\n",
       "      <td>5.95</td>\n",
       "      <td>...</td>\n",
       "      <td>0.81</td>\n",
       "      <td>1.99</td>\n",
       "      <td>1.88</td>\n",
       "      <td>0.97</td>\n",
       "      <td>1.28</td>\n",
       "      <td>1.41</td>\n",
       "      <td>NaN</td>\n",
       "      <td>1.29</td>\n",
       "      <td>1.55</td>\n",
       "      <td>NaN</td>\n",
       "    </tr>\n",
       "    <tr>\n",
       "      <th>S 2</th>\n",
       "      <td>S 2</td>\n",
       "      <td>10.48</td>\n",
       "      <td>9.1</td>\n",
       "      <td>5.18</td>\n",
       "      <td>2.22</td>\n",
       "      <td>NaN</td>\n",
       "      <td>18.25</td>\n",
       "      <td>10.5</td>\n",
       "      <td>3.23</td>\n",
       "      <td>5.87</td>\n",
       "      <td>...</td>\n",
       "      <td>0.82</td>\n",
       "      <td>2.02</td>\n",
       "      <td>1.77</td>\n",
       "      <td>1.09</td>\n",
       "      <td>1.24</td>\n",
       "      <td>1.42</td>\n",
       "      <td>NaN</td>\n",
       "      <td>1.28</td>\n",
       "      <td>1.53</td>\n",
       "      <td>NaN</td>\n",
       "    </tr>\n",
       "    <tr>\n",
       "      <th>S 3</th>\n",
       "      <td>S 3</td>\n",
       "      <td>10.48</td>\n",
       "      <td>9.15</td>\n",
       "      <td>5.19</td>\n",
       "      <td>2.16</td>\n",
       "      <td>NaN</td>\n",
       "      <td>18.71</td>\n",
       "      <td>10.76</td>\n",
       "      <td>3.16</td>\n",
       "      <td>5.84</td>\n",
       "      <td>...</td>\n",
       "      <td>0.85</td>\n",
       "      <td>2.05</td>\n",
       "      <td>1.72</td>\n",
       "      <td>1.07</td>\n",
       "      <td>1.19</td>\n",
       "      <td>1.44</td>\n",
       "      <td>NaN</td>\n",
       "      <td>1.24</td>\n",
       "      <td>1.51</td>\n",
       "      <td>NaN</td>\n",
       "    </tr>\n",
       "    <tr>\n",
       "      <th>S 4</th>\n",
       "      <td>S 4</td>\n",
       "      <td>10.48</td>\n",
       "      <td>8.97</td>\n",
       "      <td>5.2</td>\n",
       "      <td>2.18</td>\n",
       "      <td>NaN</td>\n",
       "      <td>18.45</td>\n",
       "      <td>10.91</td>\n",
       "      <td>3.3</td>\n",
       "      <td>5.79</td>\n",
       "      <td>...</td>\n",
       "      <td>0.85</td>\n",
       "      <td>2.02</td>\n",
       "      <td>1.69</td>\n",
       "      <td>1.02</td>\n",
       "      <td>1.2</td>\n",
       "      <td>1.44</td>\n",
       "      <td>NaN</td>\n",
       "      <td>1.24</td>\n",
       "      <td>1.52</td>\n",
       "      <td>NaN</td>\n",
       "    </tr>\n",
       "  </tbody>\n",
       "</table>\n",
       "<p>5 rows × 34 columns</p>\n",
       "</div>"
      ],
      "text/plain": [
       "           productos          ternera             cordero     cerdo  \\\n",
       "87                                                                    \n",
       "productos  productos  Ternera de 1ª A  Cordero Pascual 1ª  Cerdo 1ª   \n",
       "S 1              S 1            10.49                9.22      5.21   \n",
       "S 2              S 2            10.48                 9.1      5.18   \n",
       "S 3              S 3            10.48                9.15      5.19   \n",
       "S 4              S 4            10.48                8.97       5.2   \n",
       "\n",
       "                  pollo            conejo                   merluza  \\\n",
       "87                                                                    \n",
       "productos  Pollo fresco  Conejo de granja  Merluza 2,5 a 5 kg. G.S.   \n",
       "S 1                2.28               NaN                     19.07   \n",
       "S 2                2.22               NaN                     18.25   \n",
       "S 3                2.16               NaN                     18.71   \n",
       "S 4                2.18               NaN                     18.45   \n",
       "\n",
       "                  pescadilla  sardinas             anchoa  ...  \\\n",
       "87                                                         ...   \n",
       "productos  Pescadilla 1,5 kg  Sardinas  Anchoa o boquerón  ...   \n",
       "S 1                    10.77      3.24               5.95  ...   \n",
       "S 2                     10.5      3.23               5.87  ...   \n",
       "S 3                    10.76      3.16               5.84  ...   \n",
       "S 4                    10.91       3.3               5.79  ...   \n",
       "\n",
       "                  lechuga                      pimiento                tomate  \\\n",
       "87                                                                              \n",
       "productos  Lechuga Romana  Pimiento verde tipo italiano  Tomate redondo liso    \n",
       "S 1                  0.81                          1.99                  1.88   \n",
       "S 2                  0.82                          2.02                  1.77   \n",
       "S 3                  0.85                          2.05                  1.72   \n",
       "S 4                  0.85                          2.02                  1.69   \n",
       "\n",
       "           zanahoria  limón          manzana  clementina        naranja  \\\n",
       "87                                                                        \n",
       "productos  Zanahoria  Limón  Manzana golden   Clementina  Naranja Navel   \n",
       "S 1             0.97   1.28             1.41         NaN           1.29   \n",
       "S 2             1.09   1.24             1.42         NaN           1.28   \n",
       "S 3             1.07   1.19             1.44         NaN           1.24   \n",
       "S 4             1.02    1.2             1.44         NaN           1.24   \n",
       "\n",
       "                                pera  plátano  \n",
       "87                                             \n",
       "productos  Pera de agua o blanquilla  Plátano  \n",
       "S 1                             1.55      NaN  \n",
       "S 2                             1.53      NaN  \n",
       "S 3                             1.51      NaN  \n",
       "S 4                             1.52      NaN  \n",
       "\n",
       "[5 rows x 34 columns]"
      ]
     },
     "execution_count": 13,
     "metadata": {},
     "output_type": "execute_result"
    }
   ],
   "source": [
    "ofour.head()"
   ]
  },
  {
   "cell_type": "code",
   "execution_count": 14,
   "id": "8a9f929b",
   "metadata": {},
   "outputs": [],
   "source": [
    "ofour = ofour.iloc[1:,1:]"
   ]
  },
  {
   "cell_type": "code",
   "execution_count": 127,
   "id": "1e20ad1c",
   "metadata": {},
   "outputs": [],
   "source": [
    "ofour['week'] = range(0,53)"
   ]
  },
  {
   "cell_type": "code",
   "execution_count": 77,
   "id": "cc4143ca",
   "metadata": {},
   "outputs": [],
   "source": [
    "ofour['year'] = 2004"
   ]
  },
  {
   "cell_type": "code",
   "execution_count": 128,
   "id": "1c0c3227",
   "metadata": {},
   "outputs": [],
   "source": [
    "ofour.index = pd.to_datetime(ofour.week.astype(str)+ofour.year.astype(str).add('-2') ,format='%W%Y-%w')"
   ]
  },
  {
   "cell_type": "code",
   "execution_count": 134,
   "id": "2b082f53",
   "metadata": {
    "scrolled": true
   },
   "outputs": [
    {
     "data": {
      "text/plain": [
       "ternera         0\n",
       "cordero         0\n",
       "cerdo           0\n",
       "pollo           0\n",
       "conejo         53\n",
       "merluza         0\n",
       "pescadilla      0\n",
       "sardinas        0\n",
       "anchoa          0\n",
       "gallos          0\n",
       "jurel           0\n",
       "bacaladilla     0\n",
       "caballa        53\n",
       "trucha          0\n",
       "salmón          0\n",
       "chirla          0\n",
       "mejillón        0\n",
       "huevos          0\n",
       "patata          0\n",
       "acelga          0\n",
       "calabacín      53\n",
       "cebolla         0\n",
       "judía           0\n",
       "lechuga         0\n",
       "pimiento        0\n",
       "tomate          0\n",
       "zanahoria       0\n",
       "limón           0\n",
       "manzana         0\n",
       "clementina     42\n",
       "naranja        12\n",
       "pera            0\n",
       "plátano        53\n",
       "year            0\n",
       "week            0\n",
       "weeki           0\n",
       "dtype: int64"
      ]
     },
     "execution_count": 134,
     "metadata": {},
     "output_type": "execute_result"
    }
   ],
   "source": [
    "ofour.isna().sum()"
   ]
  },
  {
   "cell_type": "code",
   "execution_count": 132,
   "id": "4b84f545",
   "metadata": {
    "scrolled": false
   },
   "outputs": [
    {
     "data": {
      "application/vnd.plotly.v1+json": {
       "config": {
        "plotlyServerURL": "https://plot.ly"
       },
       "data": [
        {
         "hovertemplate": "variable=gallos<br>index=%{x}<br>value=%{y}<extra></extra>",
         "legendgroup": "gallos",
         "line": {
          "color": "#636efa",
          "dash": "solid"
         },
         "marker": {
          "symbol": "circle"
         },
         "mode": "lines",
         "name": "gallos",
         "orientation": "v",
         "showlegend": true,
         "type": "scatter",
         "x": [
          "2004-01-01T00:00:00",
          "2004-01-06T00:00:00",
          "2004-01-13T00:00:00",
          "2004-01-20T00:00:00",
          "2004-01-27T00:00:00",
          "2004-02-03T00:00:00",
          "2004-02-10T00:00:00",
          "2004-02-17T00:00:00",
          "2004-02-24T00:00:00",
          "2004-03-02T00:00:00",
          "2004-03-09T00:00:00",
          "2004-03-16T00:00:00",
          "2004-03-23T00:00:00",
          "2004-03-30T00:00:00",
          "2004-04-06T00:00:00",
          "2004-04-13T00:00:00",
          "2004-04-20T00:00:00",
          "2004-04-27T00:00:00",
          "2004-05-04T00:00:00",
          "2004-05-11T00:00:00",
          "2004-05-18T00:00:00",
          "2004-05-25T00:00:00",
          "2004-06-01T00:00:00",
          "2004-06-08T00:00:00",
          "2004-06-15T00:00:00",
          "2004-06-22T00:00:00",
          "2004-06-29T00:00:00",
          "2004-07-06T00:00:00",
          "2004-07-13T00:00:00",
          "2004-07-20T00:00:00",
          "2004-07-27T00:00:00",
          "2004-08-03T00:00:00",
          "2004-08-10T00:00:00",
          "2004-08-17T00:00:00",
          "2004-08-24T00:00:00",
          "2004-08-31T00:00:00",
          "2004-09-07T00:00:00",
          "2004-09-14T00:00:00",
          "2004-09-21T00:00:00",
          "2004-09-28T00:00:00",
          "2004-10-05T00:00:00",
          "2004-10-12T00:00:00",
          "2004-10-19T00:00:00",
          "2004-10-26T00:00:00",
          "2004-11-02T00:00:00",
          "2004-11-09T00:00:00",
          "2004-11-16T00:00:00",
          "2004-11-23T00:00:00",
          "2004-11-30T00:00:00",
          "2004-12-07T00:00:00",
          "2004-12-14T00:00:00",
          "2004-12-21T00:00:00",
          "2004-12-28T00:00:00"
         ],
         "xaxis": "x",
         "y": [
          11.15,
          11.75,
          12.36,
          12.59,
          11.95,
          11.83,
          12.15,
          12.41,
          11.48,
          11.73,
          11.58,
          12.08,
          12.45,
          12.63,
          12.15,
          11.72,
          11.8,
          11.88,
          11.88,
          11.93,
          11.76,
          11.4,
          11.11,
          10.93,
          10.95,
          10.87,
          10.85,
          11.13,
          11.12,
          11.46,
          11.3,
          11.01,
          10.89,
          10.59,
          10.47,
          10.95,
          11.23,
          11.39,
          11.5,
          11.73,
          12.11,
          11.89,
          12.19,
          12.87,
          12.96,
          13.08,
          12.81,
          12.6,
          12.64,
          12.38,
          12.36,
          12.8,
          12.77
         ],
         "yaxis": "y"
        }
       ],
       "layout": {
        "legend": {
         "title": {
          "text": "variable"
         },
         "tracegroupgap": 0
        },
        "margin": {
         "t": 60
        },
        "template": {
         "data": {
          "bar": [
           {
            "error_x": {
             "color": "#2a3f5f"
            },
            "error_y": {
             "color": "#2a3f5f"
            },
            "marker": {
             "line": {
              "color": "#E5ECF6",
              "width": 0.5
             },
             "pattern": {
              "fillmode": "overlay",
              "size": 10,
              "solidity": 0.2
             }
            },
            "type": "bar"
           }
          ],
          "barpolar": [
           {
            "marker": {
             "line": {
              "color": "#E5ECF6",
              "width": 0.5
             },
             "pattern": {
              "fillmode": "overlay",
              "size": 10,
              "solidity": 0.2
             }
            },
            "type": "barpolar"
           }
          ],
          "carpet": [
           {
            "aaxis": {
             "endlinecolor": "#2a3f5f",
             "gridcolor": "white",
             "linecolor": "white",
             "minorgridcolor": "white",
             "startlinecolor": "#2a3f5f"
            },
            "baxis": {
             "endlinecolor": "#2a3f5f",
             "gridcolor": "white",
             "linecolor": "white",
             "minorgridcolor": "white",
             "startlinecolor": "#2a3f5f"
            },
            "type": "carpet"
           }
          ],
          "choropleth": [
           {
            "colorbar": {
             "outlinewidth": 0,
             "ticks": ""
            },
            "type": "choropleth"
           }
          ],
          "contour": [
           {
            "colorbar": {
             "outlinewidth": 0,
             "ticks": ""
            },
            "colorscale": [
             [
              0,
              "#0d0887"
             ],
             [
              0.1111111111111111,
              "#46039f"
             ],
             [
              0.2222222222222222,
              "#7201a8"
             ],
             [
              0.3333333333333333,
              "#9c179e"
             ],
             [
              0.4444444444444444,
              "#bd3786"
             ],
             [
              0.5555555555555556,
              "#d8576b"
             ],
             [
              0.6666666666666666,
              "#ed7953"
             ],
             [
              0.7777777777777778,
              "#fb9f3a"
             ],
             [
              0.8888888888888888,
              "#fdca26"
             ],
             [
              1,
              "#f0f921"
             ]
            ],
            "type": "contour"
           }
          ],
          "contourcarpet": [
           {
            "colorbar": {
             "outlinewidth": 0,
             "ticks": ""
            },
            "type": "contourcarpet"
           }
          ],
          "heatmap": [
           {
            "colorbar": {
             "outlinewidth": 0,
             "ticks": ""
            },
            "colorscale": [
             [
              0,
              "#0d0887"
             ],
             [
              0.1111111111111111,
              "#46039f"
             ],
             [
              0.2222222222222222,
              "#7201a8"
             ],
             [
              0.3333333333333333,
              "#9c179e"
             ],
             [
              0.4444444444444444,
              "#bd3786"
             ],
             [
              0.5555555555555556,
              "#d8576b"
             ],
             [
              0.6666666666666666,
              "#ed7953"
             ],
             [
              0.7777777777777778,
              "#fb9f3a"
             ],
             [
              0.8888888888888888,
              "#fdca26"
             ],
             [
              1,
              "#f0f921"
             ]
            ],
            "type": "heatmap"
           }
          ],
          "heatmapgl": [
           {
            "colorbar": {
             "outlinewidth": 0,
             "ticks": ""
            },
            "colorscale": [
             [
              0,
              "#0d0887"
             ],
             [
              0.1111111111111111,
              "#46039f"
             ],
             [
              0.2222222222222222,
              "#7201a8"
             ],
             [
              0.3333333333333333,
              "#9c179e"
             ],
             [
              0.4444444444444444,
              "#bd3786"
             ],
             [
              0.5555555555555556,
              "#d8576b"
             ],
             [
              0.6666666666666666,
              "#ed7953"
             ],
             [
              0.7777777777777778,
              "#fb9f3a"
             ],
             [
              0.8888888888888888,
              "#fdca26"
             ],
             [
              1,
              "#f0f921"
             ]
            ],
            "type": "heatmapgl"
           }
          ],
          "histogram": [
           {
            "marker": {
             "pattern": {
              "fillmode": "overlay",
              "size": 10,
              "solidity": 0.2
             }
            },
            "type": "histogram"
           }
          ],
          "histogram2d": [
           {
            "colorbar": {
             "outlinewidth": 0,
             "ticks": ""
            },
            "colorscale": [
             [
              0,
              "#0d0887"
             ],
             [
              0.1111111111111111,
              "#46039f"
             ],
             [
              0.2222222222222222,
              "#7201a8"
             ],
             [
              0.3333333333333333,
              "#9c179e"
             ],
             [
              0.4444444444444444,
              "#bd3786"
             ],
             [
              0.5555555555555556,
              "#d8576b"
             ],
             [
              0.6666666666666666,
              "#ed7953"
             ],
             [
              0.7777777777777778,
              "#fb9f3a"
             ],
             [
              0.8888888888888888,
              "#fdca26"
             ],
             [
              1,
              "#f0f921"
             ]
            ],
            "type": "histogram2d"
           }
          ],
          "histogram2dcontour": [
           {
            "colorbar": {
             "outlinewidth": 0,
             "ticks": ""
            },
            "colorscale": [
             [
              0,
              "#0d0887"
             ],
             [
              0.1111111111111111,
              "#46039f"
             ],
             [
              0.2222222222222222,
              "#7201a8"
             ],
             [
              0.3333333333333333,
              "#9c179e"
             ],
             [
              0.4444444444444444,
              "#bd3786"
             ],
             [
              0.5555555555555556,
              "#d8576b"
             ],
             [
              0.6666666666666666,
              "#ed7953"
             ],
             [
              0.7777777777777778,
              "#fb9f3a"
             ],
             [
              0.8888888888888888,
              "#fdca26"
             ],
             [
              1,
              "#f0f921"
             ]
            ],
            "type": "histogram2dcontour"
           }
          ],
          "mesh3d": [
           {
            "colorbar": {
             "outlinewidth": 0,
             "ticks": ""
            },
            "type": "mesh3d"
           }
          ],
          "parcoords": [
           {
            "line": {
             "colorbar": {
              "outlinewidth": 0,
              "ticks": ""
             }
            },
            "type": "parcoords"
           }
          ],
          "pie": [
           {
            "automargin": true,
            "type": "pie"
           }
          ],
          "scatter": [
           {
            "marker": {
             "colorbar": {
              "outlinewidth": 0,
              "ticks": ""
             }
            },
            "type": "scatter"
           }
          ],
          "scatter3d": [
           {
            "line": {
             "colorbar": {
              "outlinewidth": 0,
              "ticks": ""
             }
            },
            "marker": {
             "colorbar": {
              "outlinewidth": 0,
              "ticks": ""
             }
            },
            "type": "scatter3d"
           }
          ],
          "scattercarpet": [
           {
            "marker": {
             "colorbar": {
              "outlinewidth": 0,
              "ticks": ""
             }
            },
            "type": "scattercarpet"
           }
          ],
          "scattergeo": [
           {
            "marker": {
             "colorbar": {
              "outlinewidth": 0,
              "ticks": ""
             }
            },
            "type": "scattergeo"
           }
          ],
          "scattergl": [
           {
            "marker": {
             "colorbar": {
              "outlinewidth": 0,
              "ticks": ""
             }
            },
            "type": "scattergl"
           }
          ],
          "scattermapbox": [
           {
            "marker": {
             "colorbar": {
              "outlinewidth": 0,
              "ticks": ""
             }
            },
            "type": "scattermapbox"
           }
          ],
          "scatterpolar": [
           {
            "marker": {
             "colorbar": {
              "outlinewidth": 0,
              "ticks": ""
             }
            },
            "type": "scatterpolar"
           }
          ],
          "scatterpolargl": [
           {
            "marker": {
             "colorbar": {
              "outlinewidth": 0,
              "ticks": ""
             }
            },
            "type": "scatterpolargl"
           }
          ],
          "scatterternary": [
           {
            "marker": {
             "colorbar": {
              "outlinewidth": 0,
              "ticks": ""
             }
            },
            "type": "scatterternary"
           }
          ],
          "surface": [
           {
            "colorbar": {
             "outlinewidth": 0,
             "ticks": ""
            },
            "colorscale": [
             [
              0,
              "#0d0887"
             ],
             [
              0.1111111111111111,
              "#46039f"
             ],
             [
              0.2222222222222222,
              "#7201a8"
             ],
             [
              0.3333333333333333,
              "#9c179e"
             ],
             [
              0.4444444444444444,
              "#bd3786"
             ],
             [
              0.5555555555555556,
              "#d8576b"
             ],
             [
              0.6666666666666666,
              "#ed7953"
             ],
             [
              0.7777777777777778,
              "#fb9f3a"
             ],
             [
              0.8888888888888888,
              "#fdca26"
             ],
             [
              1,
              "#f0f921"
             ]
            ],
            "type": "surface"
           }
          ],
          "table": [
           {
            "cells": {
             "fill": {
              "color": "#EBF0F8"
             },
             "line": {
              "color": "white"
             }
            },
            "header": {
             "fill": {
              "color": "#C8D4E3"
             },
             "line": {
              "color": "white"
             }
            },
            "type": "table"
           }
          ]
         },
         "layout": {
          "annotationdefaults": {
           "arrowcolor": "#2a3f5f",
           "arrowhead": 0,
           "arrowwidth": 1
          },
          "autotypenumbers": "strict",
          "coloraxis": {
           "colorbar": {
            "outlinewidth": 0,
            "ticks": ""
           }
          },
          "colorscale": {
           "diverging": [
            [
             0,
             "#8e0152"
            ],
            [
             0.1,
             "#c51b7d"
            ],
            [
             0.2,
             "#de77ae"
            ],
            [
             0.3,
             "#f1b6da"
            ],
            [
             0.4,
             "#fde0ef"
            ],
            [
             0.5,
             "#f7f7f7"
            ],
            [
             0.6,
             "#e6f5d0"
            ],
            [
             0.7,
             "#b8e186"
            ],
            [
             0.8,
             "#7fbc41"
            ],
            [
             0.9,
             "#4d9221"
            ],
            [
             1,
             "#276419"
            ]
           ],
           "sequential": [
            [
             0,
             "#0d0887"
            ],
            [
             0.1111111111111111,
             "#46039f"
            ],
            [
             0.2222222222222222,
             "#7201a8"
            ],
            [
             0.3333333333333333,
             "#9c179e"
            ],
            [
             0.4444444444444444,
             "#bd3786"
            ],
            [
             0.5555555555555556,
             "#d8576b"
            ],
            [
             0.6666666666666666,
             "#ed7953"
            ],
            [
             0.7777777777777778,
             "#fb9f3a"
            ],
            [
             0.8888888888888888,
             "#fdca26"
            ],
            [
             1,
             "#f0f921"
            ]
           ],
           "sequentialminus": [
            [
             0,
             "#0d0887"
            ],
            [
             0.1111111111111111,
             "#46039f"
            ],
            [
             0.2222222222222222,
             "#7201a8"
            ],
            [
             0.3333333333333333,
             "#9c179e"
            ],
            [
             0.4444444444444444,
             "#bd3786"
            ],
            [
             0.5555555555555556,
             "#d8576b"
            ],
            [
             0.6666666666666666,
             "#ed7953"
            ],
            [
             0.7777777777777778,
             "#fb9f3a"
            ],
            [
             0.8888888888888888,
             "#fdca26"
            ],
            [
             1,
             "#f0f921"
            ]
           ]
          },
          "colorway": [
           "#636efa",
           "#EF553B",
           "#00cc96",
           "#ab63fa",
           "#FFA15A",
           "#19d3f3",
           "#FF6692",
           "#B6E880",
           "#FF97FF",
           "#FECB52"
          ],
          "font": {
           "color": "#2a3f5f"
          },
          "geo": {
           "bgcolor": "white",
           "lakecolor": "white",
           "landcolor": "#E5ECF6",
           "showlakes": true,
           "showland": true,
           "subunitcolor": "white"
          },
          "hoverlabel": {
           "align": "left"
          },
          "hovermode": "closest",
          "mapbox": {
           "style": "light"
          },
          "paper_bgcolor": "white",
          "plot_bgcolor": "#E5ECF6",
          "polar": {
           "angularaxis": {
            "gridcolor": "white",
            "linecolor": "white",
            "ticks": ""
           },
           "bgcolor": "#E5ECF6",
           "radialaxis": {
            "gridcolor": "white",
            "linecolor": "white",
            "ticks": ""
           }
          },
          "scene": {
           "xaxis": {
            "backgroundcolor": "#E5ECF6",
            "gridcolor": "white",
            "gridwidth": 2,
            "linecolor": "white",
            "showbackground": true,
            "ticks": "",
            "zerolinecolor": "white"
           },
           "yaxis": {
            "backgroundcolor": "#E5ECF6",
            "gridcolor": "white",
            "gridwidth": 2,
            "linecolor": "white",
            "showbackground": true,
            "ticks": "",
            "zerolinecolor": "white"
           },
           "zaxis": {
            "backgroundcolor": "#E5ECF6",
            "gridcolor": "white",
            "gridwidth": 2,
            "linecolor": "white",
            "showbackground": true,
            "ticks": "",
            "zerolinecolor": "white"
           }
          },
          "shapedefaults": {
           "line": {
            "color": "#2a3f5f"
           }
          },
          "ternary": {
           "aaxis": {
            "gridcolor": "white",
            "linecolor": "white",
            "ticks": ""
           },
           "baxis": {
            "gridcolor": "white",
            "linecolor": "white",
            "ticks": ""
           },
           "bgcolor": "#E5ECF6",
           "caxis": {
            "gridcolor": "white",
            "linecolor": "white",
            "ticks": ""
           }
          },
          "title": {
           "x": 0.05
          },
          "xaxis": {
           "automargin": true,
           "gridcolor": "white",
           "linecolor": "white",
           "ticks": "",
           "title": {
            "standoff": 15
           },
           "zerolinecolor": "white",
           "zerolinewidth": 2
          },
          "yaxis": {
           "automargin": true,
           "gridcolor": "white",
           "linecolor": "white",
           "ticks": "",
           "title": {
            "standoff": 15
           },
           "zerolinecolor": "white",
           "zerolinewidth": 2
          }
         }
        },
        "xaxis": {
         "anchor": "y",
         "domain": [
          0,
          1
         ],
         "title": {
          "text": "index"
         }
        },
        "yaxis": {
         "anchor": "x",
         "domain": [
          0,
          1
         ],
         "title": {
          "text": "value"
         }
        }
       }
      },
      "text/html": [
       "<div>                            <div id=\"9ede3e0a-e55a-45a6-8fa0-9f4f30210d21\" class=\"plotly-graph-div\" style=\"height:525px; width:100%;\"></div>            <script type=\"text/javascript\">                require([\"plotly\"], function(Plotly) {                    window.PLOTLYENV=window.PLOTLYENV || {};                                    if (document.getElementById(\"9ede3e0a-e55a-45a6-8fa0-9f4f30210d21\")) {                    Plotly.newPlot(                        \"9ede3e0a-e55a-45a6-8fa0-9f4f30210d21\",                        [{\"hovertemplate\":\"variable=gallos<br>index=%{x}<br>value=%{y}<extra></extra>\",\"legendgroup\":\"gallos\",\"line\":{\"color\":\"#636efa\",\"dash\":\"solid\"},\"marker\":{\"symbol\":\"circle\"},\"mode\":\"lines\",\"name\":\"gallos\",\"orientation\":\"v\",\"showlegend\":true,\"type\":\"scatter\",\"x\":[\"2004-01-01T00:00:00\",\"2004-01-06T00:00:00\",\"2004-01-13T00:00:00\",\"2004-01-20T00:00:00\",\"2004-01-27T00:00:00\",\"2004-02-03T00:00:00\",\"2004-02-10T00:00:00\",\"2004-02-17T00:00:00\",\"2004-02-24T00:00:00\",\"2004-03-02T00:00:00\",\"2004-03-09T00:00:00\",\"2004-03-16T00:00:00\",\"2004-03-23T00:00:00\",\"2004-03-30T00:00:00\",\"2004-04-06T00:00:00\",\"2004-04-13T00:00:00\",\"2004-04-20T00:00:00\",\"2004-04-27T00:00:00\",\"2004-05-04T00:00:00\",\"2004-05-11T00:00:00\",\"2004-05-18T00:00:00\",\"2004-05-25T00:00:00\",\"2004-06-01T00:00:00\",\"2004-06-08T00:00:00\",\"2004-06-15T00:00:00\",\"2004-06-22T00:00:00\",\"2004-06-29T00:00:00\",\"2004-07-06T00:00:00\",\"2004-07-13T00:00:00\",\"2004-07-20T00:00:00\",\"2004-07-27T00:00:00\",\"2004-08-03T00:00:00\",\"2004-08-10T00:00:00\",\"2004-08-17T00:00:00\",\"2004-08-24T00:00:00\",\"2004-08-31T00:00:00\",\"2004-09-07T00:00:00\",\"2004-09-14T00:00:00\",\"2004-09-21T00:00:00\",\"2004-09-28T00:00:00\",\"2004-10-05T00:00:00\",\"2004-10-12T00:00:00\",\"2004-10-19T00:00:00\",\"2004-10-26T00:00:00\",\"2004-11-02T00:00:00\",\"2004-11-09T00:00:00\",\"2004-11-16T00:00:00\",\"2004-11-23T00:00:00\",\"2004-11-30T00:00:00\",\"2004-12-07T00:00:00\",\"2004-12-14T00:00:00\",\"2004-12-21T00:00:00\",\"2004-12-28T00:00:00\"],\"xaxis\":\"x\",\"y\":[11.15,11.75,12.36,12.59,11.95,11.83,12.15,12.41,11.48,11.73,11.58,12.08,12.45,12.63,12.15,11.72,11.8,11.88,11.88,11.93,11.76,11.4,11.11,10.93,10.95,10.87,10.85,11.13,11.12,11.46,11.3,11.01,10.89,10.59,10.47,10.95,11.23,11.39,11.5,11.73,12.11,11.89,12.19,12.87,12.96,13.08,12.81,12.6,12.64,12.38,12.36,12.8,12.77],\"yaxis\":\"y\"}],                        {\"legend\":{\"title\":{\"text\":\"variable\"},\"tracegroupgap\":0},\"margin\":{\"t\":60},\"template\":{\"data\":{\"bar\":[{\"error_x\":{\"color\":\"#2a3f5f\"},\"error_y\":{\"color\":\"#2a3f5f\"},\"marker\":{\"line\":{\"color\":\"#E5ECF6\",\"width\":0.5},\"pattern\":{\"fillmode\":\"overlay\",\"size\":10,\"solidity\":0.2}},\"type\":\"bar\"}],\"barpolar\":[{\"marker\":{\"line\":{\"color\":\"#E5ECF6\",\"width\":0.5},\"pattern\":{\"fillmode\":\"overlay\",\"size\":10,\"solidity\":0.2}},\"type\":\"barpolar\"}],\"carpet\":[{\"aaxis\":{\"endlinecolor\":\"#2a3f5f\",\"gridcolor\":\"white\",\"linecolor\":\"white\",\"minorgridcolor\":\"white\",\"startlinecolor\":\"#2a3f5f\"},\"baxis\":{\"endlinecolor\":\"#2a3f5f\",\"gridcolor\":\"white\",\"linecolor\":\"white\",\"minorgridcolor\":\"white\",\"startlinecolor\":\"#2a3f5f\"},\"type\":\"carpet\"}],\"choropleth\":[{\"colorbar\":{\"outlinewidth\":0,\"ticks\":\"\"},\"type\":\"choropleth\"}],\"contour\":[{\"colorbar\":{\"outlinewidth\":0,\"ticks\":\"\"},\"colorscale\":[[0.0,\"#0d0887\"],[0.1111111111111111,\"#46039f\"],[0.2222222222222222,\"#7201a8\"],[0.3333333333333333,\"#9c179e\"],[0.4444444444444444,\"#bd3786\"],[0.5555555555555556,\"#d8576b\"],[0.6666666666666666,\"#ed7953\"],[0.7777777777777778,\"#fb9f3a\"],[0.8888888888888888,\"#fdca26\"],[1.0,\"#f0f921\"]],\"type\":\"contour\"}],\"contourcarpet\":[{\"colorbar\":{\"outlinewidth\":0,\"ticks\":\"\"},\"type\":\"contourcarpet\"}],\"heatmap\":[{\"colorbar\":{\"outlinewidth\":0,\"ticks\":\"\"},\"colorscale\":[[0.0,\"#0d0887\"],[0.1111111111111111,\"#46039f\"],[0.2222222222222222,\"#7201a8\"],[0.3333333333333333,\"#9c179e\"],[0.4444444444444444,\"#bd3786\"],[0.5555555555555556,\"#d8576b\"],[0.6666666666666666,\"#ed7953\"],[0.7777777777777778,\"#fb9f3a\"],[0.8888888888888888,\"#fdca26\"],[1.0,\"#f0f921\"]],\"type\":\"heatmap\"}],\"heatmapgl\":[{\"colorbar\":{\"outlinewidth\":0,\"ticks\":\"\"},\"colorscale\":[[0.0,\"#0d0887\"],[0.1111111111111111,\"#46039f\"],[0.2222222222222222,\"#7201a8\"],[0.3333333333333333,\"#9c179e\"],[0.4444444444444444,\"#bd3786\"],[0.5555555555555556,\"#d8576b\"],[0.6666666666666666,\"#ed7953\"],[0.7777777777777778,\"#fb9f3a\"],[0.8888888888888888,\"#fdca26\"],[1.0,\"#f0f921\"]],\"type\":\"heatmapgl\"}],\"histogram\":[{\"marker\":{\"pattern\":{\"fillmode\":\"overlay\",\"size\":10,\"solidity\":0.2}},\"type\":\"histogram\"}],\"histogram2d\":[{\"colorbar\":{\"outlinewidth\":0,\"ticks\":\"\"},\"colorscale\":[[0.0,\"#0d0887\"],[0.1111111111111111,\"#46039f\"],[0.2222222222222222,\"#7201a8\"],[0.3333333333333333,\"#9c179e\"],[0.4444444444444444,\"#bd3786\"],[0.5555555555555556,\"#d8576b\"],[0.6666666666666666,\"#ed7953\"],[0.7777777777777778,\"#fb9f3a\"],[0.8888888888888888,\"#fdca26\"],[1.0,\"#f0f921\"]],\"type\":\"histogram2d\"}],\"histogram2dcontour\":[{\"colorbar\":{\"outlinewidth\":0,\"ticks\":\"\"},\"colorscale\":[[0.0,\"#0d0887\"],[0.1111111111111111,\"#46039f\"],[0.2222222222222222,\"#7201a8\"],[0.3333333333333333,\"#9c179e\"],[0.4444444444444444,\"#bd3786\"],[0.5555555555555556,\"#d8576b\"],[0.6666666666666666,\"#ed7953\"],[0.7777777777777778,\"#fb9f3a\"],[0.8888888888888888,\"#fdca26\"],[1.0,\"#f0f921\"]],\"type\":\"histogram2dcontour\"}],\"mesh3d\":[{\"colorbar\":{\"outlinewidth\":0,\"ticks\":\"\"},\"type\":\"mesh3d\"}],\"parcoords\":[{\"line\":{\"colorbar\":{\"outlinewidth\":0,\"ticks\":\"\"}},\"type\":\"parcoords\"}],\"pie\":[{\"automargin\":true,\"type\":\"pie\"}],\"scatter\":[{\"marker\":{\"colorbar\":{\"outlinewidth\":0,\"ticks\":\"\"}},\"type\":\"scatter\"}],\"scatter3d\":[{\"line\":{\"colorbar\":{\"outlinewidth\":0,\"ticks\":\"\"}},\"marker\":{\"colorbar\":{\"outlinewidth\":0,\"ticks\":\"\"}},\"type\":\"scatter3d\"}],\"scattercarpet\":[{\"marker\":{\"colorbar\":{\"outlinewidth\":0,\"ticks\":\"\"}},\"type\":\"scattercarpet\"}],\"scattergeo\":[{\"marker\":{\"colorbar\":{\"outlinewidth\":0,\"ticks\":\"\"}},\"type\":\"scattergeo\"}],\"scattergl\":[{\"marker\":{\"colorbar\":{\"outlinewidth\":0,\"ticks\":\"\"}},\"type\":\"scattergl\"}],\"scattermapbox\":[{\"marker\":{\"colorbar\":{\"outlinewidth\":0,\"ticks\":\"\"}},\"type\":\"scattermapbox\"}],\"scatterpolar\":[{\"marker\":{\"colorbar\":{\"outlinewidth\":0,\"ticks\":\"\"}},\"type\":\"scatterpolar\"}],\"scatterpolargl\":[{\"marker\":{\"colorbar\":{\"outlinewidth\":0,\"ticks\":\"\"}},\"type\":\"scatterpolargl\"}],\"scatterternary\":[{\"marker\":{\"colorbar\":{\"outlinewidth\":0,\"ticks\":\"\"}},\"type\":\"scatterternary\"}],\"surface\":[{\"colorbar\":{\"outlinewidth\":0,\"ticks\":\"\"},\"colorscale\":[[0.0,\"#0d0887\"],[0.1111111111111111,\"#46039f\"],[0.2222222222222222,\"#7201a8\"],[0.3333333333333333,\"#9c179e\"],[0.4444444444444444,\"#bd3786\"],[0.5555555555555556,\"#d8576b\"],[0.6666666666666666,\"#ed7953\"],[0.7777777777777778,\"#fb9f3a\"],[0.8888888888888888,\"#fdca26\"],[1.0,\"#f0f921\"]],\"type\":\"surface\"}],\"table\":[{\"cells\":{\"fill\":{\"color\":\"#EBF0F8\"},\"line\":{\"color\":\"white\"}},\"header\":{\"fill\":{\"color\":\"#C8D4E3\"},\"line\":{\"color\":\"white\"}},\"type\":\"table\"}]},\"layout\":{\"annotationdefaults\":{\"arrowcolor\":\"#2a3f5f\",\"arrowhead\":0,\"arrowwidth\":1},\"autotypenumbers\":\"strict\",\"coloraxis\":{\"colorbar\":{\"outlinewidth\":0,\"ticks\":\"\"}},\"colorscale\":{\"diverging\":[[0,\"#8e0152\"],[0.1,\"#c51b7d\"],[0.2,\"#de77ae\"],[0.3,\"#f1b6da\"],[0.4,\"#fde0ef\"],[0.5,\"#f7f7f7\"],[0.6,\"#e6f5d0\"],[0.7,\"#b8e186\"],[0.8,\"#7fbc41\"],[0.9,\"#4d9221\"],[1,\"#276419\"]],\"sequential\":[[0.0,\"#0d0887\"],[0.1111111111111111,\"#46039f\"],[0.2222222222222222,\"#7201a8\"],[0.3333333333333333,\"#9c179e\"],[0.4444444444444444,\"#bd3786\"],[0.5555555555555556,\"#d8576b\"],[0.6666666666666666,\"#ed7953\"],[0.7777777777777778,\"#fb9f3a\"],[0.8888888888888888,\"#fdca26\"],[1.0,\"#f0f921\"]],\"sequentialminus\":[[0.0,\"#0d0887\"],[0.1111111111111111,\"#46039f\"],[0.2222222222222222,\"#7201a8\"],[0.3333333333333333,\"#9c179e\"],[0.4444444444444444,\"#bd3786\"],[0.5555555555555556,\"#d8576b\"],[0.6666666666666666,\"#ed7953\"],[0.7777777777777778,\"#fb9f3a\"],[0.8888888888888888,\"#fdca26\"],[1.0,\"#f0f921\"]]},\"colorway\":[\"#636efa\",\"#EF553B\",\"#00cc96\",\"#ab63fa\",\"#FFA15A\",\"#19d3f3\",\"#FF6692\",\"#B6E880\",\"#FF97FF\",\"#FECB52\"],\"font\":{\"color\":\"#2a3f5f\"},\"geo\":{\"bgcolor\":\"white\",\"lakecolor\":\"white\",\"landcolor\":\"#E5ECF6\",\"showlakes\":true,\"showland\":true,\"subunitcolor\":\"white\"},\"hoverlabel\":{\"align\":\"left\"},\"hovermode\":\"closest\",\"mapbox\":{\"style\":\"light\"},\"paper_bgcolor\":\"white\",\"plot_bgcolor\":\"#E5ECF6\",\"polar\":{\"angularaxis\":{\"gridcolor\":\"white\",\"linecolor\":\"white\",\"ticks\":\"\"},\"bgcolor\":\"#E5ECF6\",\"radialaxis\":{\"gridcolor\":\"white\",\"linecolor\":\"white\",\"ticks\":\"\"}},\"scene\":{\"xaxis\":{\"backgroundcolor\":\"#E5ECF6\",\"gridcolor\":\"white\",\"gridwidth\":2,\"linecolor\":\"white\",\"showbackground\":true,\"ticks\":\"\",\"zerolinecolor\":\"white\"},\"yaxis\":{\"backgroundcolor\":\"#E5ECF6\",\"gridcolor\":\"white\",\"gridwidth\":2,\"linecolor\":\"white\",\"showbackground\":true,\"ticks\":\"\",\"zerolinecolor\":\"white\"},\"zaxis\":{\"backgroundcolor\":\"#E5ECF6\",\"gridcolor\":\"white\",\"gridwidth\":2,\"linecolor\":\"white\",\"showbackground\":true,\"ticks\":\"\",\"zerolinecolor\":\"white\"}},\"shapedefaults\":{\"line\":{\"color\":\"#2a3f5f\"}},\"ternary\":{\"aaxis\":{\"gridcolor\":\"white\",\"linecolor\":\"white\",\"ticks\":\"\"},\"baxis\":{\"gridcolor\":\"white\",\"linecolor\":\"white\",\"ticks\":\"\"},\"bgcolor\":\"#E5ECF6\",\"caxis\":{\"gridcolor\":\"white\",\"linecolor\":\"white\",\"ticks\":\"\"}},\"title\":{\"x\":0.05},\"xaxis\":{\"automargin\":true,\"gridcolor\":\"white\",\"linecolor\":\"white\",\"ticks\":\"\",\"title\":{\"standoff\":15},\"zerolinecolor\":\"white\",\"zerolinewidth\":2},\"yaxis\":{\"automargin\":true,\"gridcolor\":\"white\",\"linecolor\":\"white\",\"ticks\":\"\",\"title\":{\"standoff\":15},\"zerolinecolor\":\"white\",\"zerolinewidth\":2}}},\"xaxis\":{\"anchor\":\"y\",\"domain\":[0.0,1.0],\"title\":{\"text\":\"index\"}},\"yaxis\":{\"anchor\":\"x\",\"domain\":[0.0,1.0],\"title\":{\"text\":\"value\"}}},                        {\"responsive\": true}                    ).then(function(){\n",
       "                            \n",
       "var gd = document.getElementById('9ede3e0a-e55a-45a6-8fa0-9f4f30210d21');\n",
       "var x = new MutationObserver(function (mutations, observer) {{\n",
       "        var display = window.getComputedStyle(gd).display;\n",
       "        if (!display || display === 'none') {{\n",
       "            console.log([gd, 'removed!']);\n",
       "            Plotly.purge(gd);\n",
       "            observer.disconnect();\n",
       "        }}\n",
       "}});\n",
       "\n",
       "// Listen for the removal of the full notebook cells\n",
       "var notebookContainer = gd.closest('#notebook-container');\n",
       "if (notebookContainer) {{\n",
       "    x.observe(notebookContainer, {childList: true});\n",
       "}}\n",
       "\n",
       "// Listen for the clearing of the current output cell\n",
       "var outputEl = gd.closest('.output');\n",
       "if (outputEl) {{\n",
       "    x.observe(outputEl, {childList: true});\n",
       "}}\n",
       "\n",
       "                        })                };                });            </script>        </div>"
      ]
     },
     "metadata": {},
     "output_type": "display_data"
    }
   ],
   "source": [
    "fig = px.line(ofour.gallos)\n",
    "fig.show()"
   ]
  },
  {
   "cell_type": "code",
   "execution_count": null,
   "id": "5bd4f741",
   "metadata": {},
   "outputs": [],
   "source": []
  }
 ],
 "metadata": {
  "kernelspec": {
   "display_name": "iron",
   "language": "python",
   "name": "iron"
  },
  "language_info": {
   "codemirror_mode": {
    "name": "ipython",
    "version": 3
   },
   "file_extension": ".py",
   "mimetype": "text/x-python",
   "name": "python",
   "nbconvert_exporter": "python",
   "pygments_lexer": "ipython3",
   "version": "3.9.7"
  },
  "toc": {
   "base_numbering": 1,
   "nav_menu": {},
   "number_sections": true,
   "sideBar": true,
   "skip_h1_title": false,
   "title_cell": "Table of Contents",
   "title_sidebar": "Contents",
   "toc_cell": false,
   "toc_position": {},
   "toc_section_display": true,
   "toc_window_display": false
  }
 },
 "nbformat": 4,
 "nbformat_minor": 5
}
