{
 "cells": [
  {
   "cell_type": "code",
   "execution_count": 1,
   "id": "377976a2",
   "metadata": {},
   "outputs": [],
   "source": [
    "import requests\n",
    "import pandas as pd\n",
    "import os\n",
    "\n",
    "from matplotlib import pyplot as plt\n",
    "%matplotlib inline\n",
    "%config Inlinebackend.figure_format = 'retina'\n",
    "\n",
    "import seaborn as sns\n",
    "sns.set_context('poster')\n",
    "sns.set(rc={'figure.figsize': (16., 9.)})\n",
    "sns.set_style('whitegrid')\n",
    "\n",
    "import plotly.express as px\n",
    "import plotly.graph_objects as go"
   ]
  },
  {
   "cell_type": "code",
   "execution_count": 10,
   "id": "bd99b22f",
   "metadata": {},
   "outputs": [],
   "source": [
    "data = pd.read_csv(\"../mydata/cleandata/data.csv\")\n",
    "data.index=data.date\n",
    "data.drop('date',axis=1,inplace=True)"
   ]
  },
  {
   "cell_type": "code",
   "execution_count": 12,
   "id": "99b55862",
   "metadata": {},
   "outputs": [
    {
     "data": {
      "text/plain": [
       "product     object\n",
       "price      float64\n",
       "dtype: object"
      ]
     },
     "execution_count": 12,
     "metadata": {},
     "output_type": "execute_result"
    }
   ],
   "source": [
    "data.dtypes"
   ]
  },
  {
   "cell_type": "code",
   "execution_count": 3,
   "id": "9a5ad938",
   "metadata": {},
   "outputs": [],
   "source": [
    "def toprophet(food):\n",
    "    fooddicc = {}\n",
    "    date = []\n",
    "    price = []\n",
    "    for i, row in data.iterrows():\n",
    "        if row['product'] == f'{food}':\n",
    "            date.append(i)\n",
    "            price.append(row['price'])\n",
    "\n",
    "        fooddicc['product'] = f'{food}'\n",
    "        fooddicc['ds'] = date\n",
    "        fooddicc['y'] = price\n",
    "    foodframe = pd.DataFrame(fooddicc)\n",
    "    foodframe.drop(['product'], axis=1, inplace=True) # Deleting columns product and date to prepare them to plot a graph\n",
    "    \n",
    "    groupframe = pd.DataFrame(foodframe.groupby(foodframe.ds)[\"y\"].mean()) # Some dates are repeated, so I group by date\n",
    "    groupframe.sort_values(by='ds')\n",
    "    groupframe = groupframe.reset_index()\n",
    "    groupframe ['ds'] = pd.to_datetime(groupframe.ds)\n",
    "    return groupframe"
   ]
  },
  {
   "cell_type": "code",
   "execution_count": 4,
   "id": "e4c2fe13",
   "metadata": {},
   "outputs": [],
   "source": [
    "for i in set(data['product']):\n",
    "    prophet = toprophet(f'{i}')\n",
    "    if not os.path.exists(\"../mydata/per_item/for_prophet\"):\n",
    "        os.makedirs(\"../mydata/per_item/for_prophet\")\n",
    "    prophet.to_csv(f\"../mydata/per_item/for_prophet/prophet_{i}.csv\",index=False)"
   ]
  },
  {
   "cell_type": "code",
   "execution_count": null,
   "id": "e803766d",
   "metadata": {},
   "outputs": [],
   "source": []
  }
 ],
 "metadata": {
  "kernelspec": {
   "display_name": "iron",
   "language": "python",
   "name": "iron"
  },
  "language_info": {
   "codemirror_mode": {
    "name": "ipython",
    "version": 3
   },
   "file_extension": ".py",
   "mimetype": "text/x-python",
   "name": "python",
   "nbconvert_exporter": "python",
   "pygments_lexer": "ipython3",
   "version": "3.9.7"
  },
  "toc": {
   "base_numbering": 1,
   "nav_menu": {},
   "number_sections": true,
   "sideBar": true,
   "skip_h1_title": false,
   "title_cell": "Table of Contents",
   "title_sidebar": "Contents",
   "toc_cell": false,
   "toc_position": {},
   "toc_section_display": true,
   "toc_window_display": false
  }
 },
 "nbformat": 4,
 "nbformat_minor": 5
}
