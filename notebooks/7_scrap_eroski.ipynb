{
 "cells": [
  {
   "cell_type": "code",
   "execution_count": 43,
   "id": "7f3d8e31",
   "metadata": {},
   "outputs": [],
   "source": [
    "from selenium import webdriver\n",
    "from selenium.webdriver.chrome.options import Options\n",
    "from selenium.webdriver.common.keys import Keys\n",
    "import time\n",
    "import pandas as pd\n",
    "from selenium.webdriver.support.ui import Select\n",
    "from webdriver_manager.chrome import ChromeDriverManager\n",
    "import time\n",
    "import requests\n",
    "from bs4 import BeautifulSoup\n",
    "import os\n",
    "import time\n",
    "from datetime import datetime"
   ]
  },
  {
   "cell_type": "code",
   "execution_count": null,
   "id": "ef1a5a81",
   "metadata": {},
   "outputs": [],
   "source": []
  },
  {
   "cell_type": "code",
   "execution_count": 3,
   "id": "0536ad66",
   "metadata": {},
   "outputs": [],
   "source": [
    "opciones=Options()\n",
    "\n",
    "opciones.add_experimental_option('excludeSwitches', ['enable-automation'])\n",
    "opciones.add_experimental_option('useAutomationExtension', False)\n",
    "opciones.headless=False \n",
    "opciones.add_argument('--start-maximized')\n",
    "# opciones.add_argument('--incognito')     "
   ]
  },
  {
   "cell_type": "code",
   "execution_count": 55,
   "id": "48e12ec8",
   "metadata": {},
   "outputs": [],
   "source": [
    "e = ['cebolla','albaricoque']"
   ]
  },
  {
   "cell_type": "code",
   "execution_count": 62,
   "id": "02f1ed1c",
   "metadata": {},
   "outputs": [
    {
     "name": "stderr",
     "output_type": "stream",
     "text": [
      "/tmp/ipykernel_567/319373079.py:2: DeprecationWarning: executable_path has been deprecated, please pass in a Service object\n",
      "  driver = webdriver.Chrome(driver, options=opciones)\n",
      "/tmp/ipykernel_567/319373079.py:16: DeprecationWarning: find_element_by_* commands are deprecated. Please use find_element() instead\n",
      "  driver.find_element_by_css_selector('#onetrust-accept-btn-handler').click()\n",
      "/tmp/ipykernel_567/319373079.py:22: DeprecationWarning: find_element_by_* commands are deprecated. Please use find_element() instead\n",
      "  prices.append(driver.find_element_by_css_selector(f'div.product-item-lineal:nth-child({i}) > div:nth-child(1) > div:nth-child(3) > div:nth-child(1) > div:nth-child(4) > div:nth-child(2) > p:nth-child(1) > span:nth-child(2)').text)\n",
      "/tmp/ipykernel_567/319373079.py:30: DeprecationWarning: find_element_by_* commands are deprecated. Please use find_element() instead\n",
      "  prices.append(driver.find_element_by_css_selector(f'div.product-item-lineal:nth-child({i+1}) > div:nth-child(1) > div:nth-child(3) > div:nth-child(3) > div:nth-child(2) > span:nth-child(2) > span:nth-child(2)').text)\n",
      "/tmp/ipykernel_567/319373079.py:31: DeprecationWarning: find_element_by_* commands are deprecated. Please use find_element() instead\n",
      "  names.append(driver.find_element_by_css_selector(f'#productListZone > div:nth-child({i+1}) > div > div.product-description > div.description-text > h2:nth-child(3) > a').text)\n",
      "/tmp/ipykernel_567/319373079.py:23: DeprecationWarning: find_element_by_* commands are deprecated. Please use find_element() instead\n",
      "  names.append(driver.find_element_by_css_selector(f'#productListZone > div:nth-child({i+1}) > div > div.product-description > div.description-text > h2:nth-child(3) > a').text)\n"
     ]
    }
   ],
   "source": [
    "driver = \"../driver/chromedriver.exe\"\n",
    "driver = webdriver.Chrome(driver, options=opciones)\n",
    "supermarket = \"eroski\"\n",
    "prices = []\n",
    "prod = []\n",
    "sup = []\n",
    "links = []\n",
    "names = []\n",
    "newprice = []\n",
    "frame = {}\n",
    "for f in e:\n",
    "    url = f\"https://supermercado.eroski.es/es/search/results/?q={f}&suggestionsFilter=false\"\n",
    "    driver.get(url)\n",
    "    time.sleep(1)\n",
    "    try: #cookies\n",
    "        driver.find_element_by_css_selector('#onetrust-accept-btn-handler').click()\n",
    "    except:\n",
    "        pass\n",
    "    time.sleep(.7)\n",
    "    for i in range(1,15):\n",
    "        try:\n",
    "            prices.append(driver.find_element_by_css_selector(f'div.product-item-lineal:nth-child({i}) > div:nth-child(1) > div:nth-child(3) > div:nth-child(1) > div:nth-child(4) > div:nth-child(2) > p:nth-child(1) > span:nth-child(2)').text)\n",
    "            names.append(driver.find_element_by_css_selector(f'#productListZone > div:nth-child({i+1}) > div > div.product-description > div.description-text > h2:nth-child(3) > a').text)\n",
    "            prod.append(f)\n",
    "            sup.append(supermarket)\n",
    "            links.append(url)\n",
    "    \n",
    "        except:\n",
    "            try:\n",
    "                prices.append(driver.find_element_by_css_selector(f'div.product-item-lineal:nth-child({i+1}) > div:nth-child(1) > div:nth-child(3) > div:nth-child(3) > div:nth-child(2) > span:nth-child(2) > span:nth-child(2)').text)\n",
    "                names.append(driver.find_element_by_css_selector(f'#productListZone > div:nth-child({i+1}) > div > div.product-description > div.description-text > h2:nth-child(3) > a').text)\n",
    "                prod.append(f)\n",
    "                sup.append(supermarket)\n",
    "                links.append(url)\n",
    "            except:\n",
    "                pass\n",
    "\n",
    "frame['price'] = prices\n",
    "frame['product'] = prod\n",
    "frame['supermarket'] = sup\n",
    "frame['link'] = links\n",
    "frame['name'] = names\n",
    "\n",
    "scrap = pd.DataFrame(frame)\n",
    "for i, row in scrap.iterrows():\n",
    "    if row['price'] == '':\n",
    "        newprice.append(np.nan)\n",
    "    else:\n",
    "        newprice.append(row['price'])\n",
    "scrap['price'] = newprice\n",
    "scrap.dropna(how='any',inplace=True)\n",
    "scrap['price'] = [float((i.replace(\",\",\".\").replace(\"€\",\"\").strip())) for i in scrap['price']]\n",
    "\n",
    "\n",
    "if not os.path.exists(f\"../mydata/scraps_{supermarket}\"):\n",
    "    os.makedirs(f\"../mydata/scraps_{supermarket}\")\n",
    "    now = str(datetime.now())[:19].replace(\":\",\"_\")\n",
    "    scrap.to_csv(f'../mydata/scraps_{supermarket}/{now}.csv')"
   ]
  }
 ],
 "metadata": {
  "kernelspec": {
   "display_name": "iron",
   "language": "python",
   "name": "iron"
  },
  "language_info": {
   "codemirror_mode": {
    "name": "ipython",
    "version": 3
   },
   "file_extension": ".py",
   "mimetype": "text/x-python",
   "name": "python",
   "nbconvert_exporter": "python",
   "pygments_lexer": "ipython3",
   "version": "3.9.7"
  },
  "toc": {
   "base_numbering": 1,
   "nav_menu": {},
   "number_sections": true,
   "sideBar": true,
   "skip_h1_title": false,
   "title_cell": "Table of Contents",
   "title_sidebar": "Contents",
   "toc_cell": false,
   "toc_position": {},
   "toc_section_display": true,
   "toc_window_display": false
  }
 },
 "nbformat": 4,
 "nbformat_minor": 5
}
