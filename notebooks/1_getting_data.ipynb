{
 "cells": [
  {
   "cell_type": "code",
   "execution_count": 2,
   "id": "d5b7715c",
   "metadata": {},
   "outputs": [],
   "source": [
    "import requests\n",
    "import pandas as pd\n",
    "import os\n",
    "import numpy as np\n",
    "\n",
    "from matplotlib import pyplot as plt\n",
    "%matplotlib inline\n",
    "%config Inlinebackend.figure_format = 'retina'\n",
    "\n",
    "import seaborn as sns\n",
    "sns.set_context('poster')\n",
    "sns.set(rc={'figure.figsize': (16., 9.)})\n",
    "sns.set_style('whitegrid')\n",
    "\n",
    "import plotly.express as px\n",
    "import plotly.graph_objects as go"
   ]
  },
  {
   "cell_type": "code",
   "execution_count": 3,
   "id": "1521b223",
   "metadata": {},
   "outputs": [],
   "source": [
    "API = \"https://agridata.ec.europa.eu/extensions/DataPortal/API_Documentation.html\""
   ]
  },
  {
   "cell_type": "code",
   "execution_count": 4,
   "id": "e36cb9fa",
   "metadata": {},
   "outputs": [],
   "source": [
    "foods = [\"beef\",\"pigmeat\",\"sheepAndGoat\",\"rawMilk\",\"dairy\",\"fruitAndVegetable\",\"cereal\",\"rice\",\"oilseeds\",\"sugar\",\"oliveOil\",\"wine\"]"
   ]
  },
  {
   "cell_type": "code",
   "execution_count": 4,
   "id": "37f08b5e",
   "metadata": {},
   "outputs": [],
   "source": [
    "data={}\n",
    "date = []\n",
    "price = []\n",
    "prod = []\n",
    "var = []\n",
    "veg = []\n",
    "for food in foods:\n",
    "    url = f\"https://www.ec.europa.eu/agrifood/api/{food}/prices?memberStateCodes=ES&beginDate=01/01/2001\"\n",
    "    resp = requests.get(url).json()\n",
    "\n",
    "    for i in resp:\n",
    "        try:\n",
    "            date.append(i['beginDate'])\n",
    "        except: #Rice doesn't have beginDate but has ym which means year month\n",
    "            date.append(i['ym'])\n",
    "        price.append(float(i['price'][1:].replace(\",\",\".\")))\n",
    "        try:\n",
    "            var.append(i['productName'])\n",
    "        except:\n",
    "            var.append(\"unknown\")\n",
    "        try:\n",
    "            veg.append(i['product'])\n",
    "        except:\n",
    "            veg.append('unknown')\n",
    "        prod.append(food)\n",
    "    data['product'] = prod\n",
    "    data['date'] = date\n",
    "    data['price'] = price\n",
    "    data['variety'] = var\n",
    "    data['veg'] = veg"
   ]
  },
  {
   "cell_type": "code",
   "execution_count": 5,
   "id": "cf2bda5c",
   "metadata": {},
   "outputs": [],
   "source": [
    "data = pd.DataFrame(data)\n",
    "data.date = pd.to_datetime(data.date)\n",
    "data.index = data.date\n",
    "data = data.sort_index()"
   ]
  },
  {
   "cell_type": "code",
   "execution_count": 1,
   "id": "565c1ea9",
   "metadata": {},
   "outputs": [
    {
     "ename": "NameError",
     "evalue": "name 'os' is not defined",
     "output_type": "error",
     "traceback": [
      "\u001b[0;31m---------------------------------------------------------------------------\u001b[0m",
      "\u001b[0;31mNameError\u001b[0m                                 Traceback (most recent call last)",
      "\u001b[0;32m/tmp/ipykernel_340/2946135152.py\u001b[0m in \u001b[0;36m<module>\u001b[0;34m\u001b[0m\n\u001b[0;32m----> 1\u001b[0;31m \u001b[0;32mif\u001b[0m \u001b[0;32mnot\u001b[0m \u001b[0mos\u001b[0m\u001b[0;34m.\u001b[0m\u001b[0mpath\u001b[0m\u001b[0;34m.\u001b[0m\u001b[0mexists\u001b[0m\u001b[0;34m(\u001b[0m\u001b[0;34m\"../mydata\"\u001b[0m\u001b[0;34m)\u001b[0m\u001b[0;34m:\u001b[0m\u001b[0;34m\u001b[0m\u001b[0;34m\u001b[0m\u001b[0m\n\u001b[0m\u001b[1;32m      2\u001b[0m     \u001b[0mos\u001b[0m\u001b[0;34m.\u001b[0m\u001b[0mmakedirs\u001b[0m\u001b[0;34m(\u001b[0m\u001b[0;34m\"../mydata\"\u001b[0m\u001b[0;34m)\u001b[0m\u001b[0;34m\u001b[0m\u001b[0;34m\u001b[0m\u001b[0m\n\u001b[1;32m      3\u001b[0m \u001b[0mresp\u001b[0m\u001b[0;34m.\u001b[0m\u001b[0mto_csv\u001b[0m\u001b[0;34m(\u001b[0m\u001b[0;34m\"../mydata/api_raw.csv\"\u001b[0m\u001b[0;34m)\u001b[0m\u001b[0;34m\u001b[0m\u001b[0;34m\u001b[0m\u001b[0m\n\u001b[1;32m      4\u001b[0m \u001b[0mresp\u001b[0m\u001b[0;34m\u001b[0m\u001b[0;34m\u001b[0m\u001b[0m\n",
      "\u001b[0;31mNameError\u001b[0m: name 'os' is not defined"
     ]
    }
   ],
   "source": [
    "if not os.path.exists(\"../mydata\"):\n",
    "    os.makedirs(\"../mydata\")\n",
    "    now = str(datetime.now())[:19].replace(\":\",\"_\")\n",
    "resp.to_csv(f\"../mydata/api_raw_{now}.csv\")"
   ]
  },
  {
   "cell_type": "code",
   "execution_count": 8,
   "id": "1d39327b",
   "metadata": {},
   "outputs": [],
   "source": [
    "o = []\n",
    "for i, row in data.iterrows():\n",
    "    if row['variety'] != 'unknown':\n",
    "        o.append(row['variety'].replace(\" \",\"_\").lower())\n",
    "        \n",
    "    elif row['veg'] != 'unknown':\n",
    "        o.append(row['veg'].replace(\" \",\"_\").lower())\n",
    "\n",
    "    else:\n",
    "        o.append(row['product'].replace(\" \",\"_\").lower())\n",
    "data ['product'] = o"
   ]
  },
  {
   "cell_type": "code",
   "execution_count": 9,
   "id": "60ff7115",
   "metadata": {},
   "outputs": [],
   "source": [
    "price = []\n",
    "for i, row in data.iterrows():\n",
    "    if row['price'] != 0.00 or row['price'] != 0.0:\n",
    "        price.append(row['price'])\n",
    "    else:\n",
    "        price.append(np.nan)\n",
    "data['price'] = price\n",
    "data.dropna(how='any',inplace=True)"
   ]
  },
  {
   "cell_type": "code",
   "execution_count": 10,
   "id": "84b2f17d",
   "metadata": {},
   "outputs": [],
   "source": [
    "names = {'abricots':'albaricoque',\n",
    " 'apples':'manzana',\n",
    " 'asparagus':'espárrago',\n",
    " 'beans':'judías',\n",
    " 'beef':'ternera',\n",
    " 'butter':'mantequilla',\n",
    " 'cabbages':'col',\n",
    " 'carrots':'zanahoria',\n",
    " 'cauliflowers':'coliflor',\n",
    " 'cherries':'cereza',\n",
    " 'clementines':'clementina',\n",
    " 'courgettes':'calabacín',\n",
    " 'crude_olive-pomace_oil_(from_5_to_10%)':'aceite de orujo de oliva crudo de 5 a 10%',\n",
    " 'crude_soya_bean_oil':'salsa de soja',\n",
    " 'crude_sunflower_oil':'aceite de girasol',\n",
    " 'cucumbers': 'pepino',\n",
    " 'durum_wheat':'harina de trigo candeal',\n",
    " 'edam':'queso edam',\n",
    " 'egg_plants,_aubergines':'berenjena',\n",
    " 'emmental':'queso emmental',\n",
    " 'extra_virgin_olive_oil_(up_to_0.8%)':'aceite de oliva virgen extra (hasta 0.8%)',\n",
    " 'feed_barley':'cebada',\n",
    " 'garlic':'ajo',\n",
    " 'lampante_olive_oil_(2%)':'aceite de oliva virgen lampante',\n",
    " 'leeks':'puerro',\n",
    " 'lemons':'limón',\n",
    " 'lettuces':'lechuga',\n",
    " 'maize':'maíz',\n",
    " 'malting_barley':'malta',\n",
    " 'mandarins':'mandarina común',\n",
    " 'melons':'melón',\n",
    " 'milling_wheat':'harina de trigo',\n",
    " 'mushrooms,_cultivated':'champiñón',\n",
    " 'nectarines':'nectarina',\n",
    " 'olive-pomace_oil_(up_to_1%)':'aceite de orujo de oliva (hasta 1%)',\n",
    " 'onions':'cebolla',\n",
    " 'oranges':'naranja',\n",
    " 'organic_raw_milk':'leche entera orgánica',\n",
    " 'peaches':'melocotón',\n",
    " 'pears':'pera',\n",
    " 'peppers':'pimiento',\n",
    " 'pigmeat':'cerdo',\n",
    " 'plums':'ciruela',\n",
    " 'rapeseed':'colza',\n",
    " 'raw_milk':'leche entera',\n",
    " 'refined_olive-pomace_oil_(up_to_0.3%)':'aceite de orujo de oliva refinado (hasta 3%)',\n",
    " 'refined_olive_oil_(up_to_0.3%)':'aceite de oliva refinado (hasta 3%)',\n",
    " 'rice':'arroz',\n",
    " 'satsumas':'mandarina satsuma',\n",
    " 'sheepandgoat':'cabra y oveja',\n",
    " 'smp':'leche semidesnatada en polvo',\n",
    " 'soya_meal':'harina de soja',\n",
    " 'strawberries':'fresa',\n",
    " 'sugar':'azúcar',\n",
    " 'sunflower_seed':'pipas de girasol',\n",
    " 'sunflower_seed_meal':'harina de pipas de girasol',\n",
    " 'table_grapes':'uva',\n",
    " 'tomatoes':'tomate',\n",
    " 'virgin_olive_oil_(up_to_2%)':'aceite de oliva virgen (hasta 2%)',\n",
    " 'water_melons':'sandía',\n",
    " 'wheypowder':'suero de leche',\n",
    " 'wine':'vino',\n",
    " 'wmp':'leche entera en polvo'}"
   ]
  },
  {
   "cell_type": "code",
   "execution_count": 11,
   "id": "6e428fdb",
   "metadata": {},
   "outputs": [],
   "source": [
    "data['product'] = data['product'].map(names)"
   ]
  },
  {
   "cell_type": "code",
   "execution_count": 12,
   "id": "d9f07d26",
   "metadata": {},
   "outputs": [],
   "source": [
    "data.drop(['date','variety','veg'], axis=1, inplace=True)"
   ]
  },
  {
   "cell_type": "code",
   "execution_count": 13,
   "id": "ccc09ccc",
   "metadata": {},
   "outputs": [
    {
     "data": {
      "text/html": [
       "<div>\n",
       "<style scoped>\n",
       "    .dataframe tbody tr th:only-of-type {\n",
       "        vertical-align: middle;\n",
       "    }\n",
       "\n",
       "    .dataframe tbody tr th {\n",
       "        vertical-align: top;\n",
       "    }\n",
       "\n",
       "    .dataframe thead th {\n",
       "        text-align: right;\n",
       "    }\n",
       "</style>\n",
       "<table border=\"1\" class=\"dataframe\">\n",
       "  <thead>\n",
       "    <tr style=\"text-align: right;\">\n",
       "      <th></th>\n",
       "      <th>product</th>\n",
       "      <th>price</th>\n",
       "    </tr>\n",
       "    <tr>\n",
       "      <th>date</th>\n",
       "      <th></th>\n",
       "      <th></th>\n",
       "    </tr>\n",
       "  </thead>\n",
       "  <tbody>\n",
       "    <tr>\n",
       "      <th>2001-01-01</th>\n",
       "      <td>arroz</td>\n",
       "      <td>300.44</td>\n",
       "    </tr>\n",
       "    <tr>\n",
       "      <th>2001-01-01</th>\n",
       "      <td>ternera</td>\n",
       "      <td>122.90</td>\n",
       "    </tr>\n",
       "    <tr>\n",
       "      <th>2001-01-01</th>\n",
       "      <td>cerdo</td>\n",
       "      <td>156.08</td>\n",
       "    </tr>\n",
       "    <tr>\n",
       "      <th>2001-01-01</th>\n",
       "      <td>cerdo</td>\n",
       "      <td>156.08</td>\n",
       "    </tr>\n",
       "    <tr>\n",
       "      <th>2001-01-01</th>\n",
       "      <td>ternera</td>\n",
       "      <td>277.25</td>\n",
       "    </tr>\n",
       "  </tbody>\n",
       "</table>\n",
       "</div>"
      ],
      "text/plain": [
       "            product   price\n",
       "date                       \n",
       "2001-01-01    arroz  300.44\n",
       "2001-01-01  ternera  122.90\n",
       "2001-01-01    cerdo  156.08\n",
       "2001-01-01    cerdo  156.08\n",
       "2001-01-01  ternera  277.25"
      ]
     },
     "execution_count": 13,
     "metadata": {},
     "output_type": "execute_result"
    }
   ],
   "source": [
    "data.head()"
   ]
  },
  {
   "cell_type": "code",
   "execution_count": 14,
   "id": "479e0868",
   "metadata": {},
   "outputs": [],
   "source": [
    "if not os.path.exists(\"../mydata\"):\n",
    "    os.makedirs(\"../mydata\")\n",
    "data.to_csv(\"../mydata/data.csv\")"
   ]
  }
 ],
 "metadata": {
  "kernelspec": {
   "display_name": "iron",
   "language": "python",
   "name": "iron"
  },
  "language_info": {
   "codemirror_mode": {
    "name": "ipython",
    "version": 3
   },
   "file_extension": ".py",
   "mimetype": "text/x-python",
   "name": "python",
   "nbconvert_exporter": "python",
   "pygments_lexer": "ipython3",
   "version": "3.9.7"
  },
  "toc": {
   "base_numbering": 1,
   "nav_menu": {},
   "number_sections": true,
   "sideBar": true,
   "skip_h1_title": false,
   "title_cell": "Table of Contents",
   "title_sidebar": "Contents",
   "toc_cell": false,
   "toc_position": {},
   "toc_section_display": true,
   "toc_window_display": false
  }
 },
 "nbformat": 4,
 "nbformat_minor": 5
}
